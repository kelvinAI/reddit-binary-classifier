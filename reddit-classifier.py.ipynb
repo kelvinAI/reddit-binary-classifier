{
 "cells": [
  {
   "cell_type": "markdown",
   "metadata": {
    "colab_type": "text",
    "id": "zFt3xGmamo9Y"
   },
   "source": [
    "# Reddit Classifier"
   ]
  },
  {
   "cell_type": "markdown",
   "metadata": {
    "colab_type": "text",
    "id": "N061248Lmo9b",
    "toc": true
   },
   "source": [
    "<h1>Contents<span class=\"tocSkip\"></span></h1>\n",
    "<div class=\"toc\"><ul class=\"toc-item\"><li><span><a href=\"#Problem-Statement:\" data-toc-modified-id=\"Problem-Statement:-1\"><span class=\"toc-item-num\">1&nbsp;&nbsp;</span>Problem Statement:</a></span></li><li><span><a href=\"#Executive-summary\" data-toc-modified-id=\"Executive-summary-2\"><span class=\"toc-item-num\">2&nbsp;&nbsp;</span>Executive summary</a></span></li><li><span><a href=\"#Scraping-for-data\" data-toc-modified-id=\"Scraping-for-data-3\"><span class=\"toc-item-num\">3&nbsp;&nbsp;</span>Scraping for data</a></span></li><li><span><a href=\"#Read-the-csv-file\" data-toc-modified-id=\"Read-the-csv-file-4\"><span class=\"toc-item-num\">4&nbsp;&nbsp;</span>Read the csv file</a></span></li><li><span><a href=\"#EDA:-Exploring-the-dataset\" data-toc-modified-id=\"EDA:-Exploring-the-dataset-5\"><span class=\"toc-item-num\">5&nbsp;&nbsp;</span>EDA: Exploring the dataset</a></span><ul class=\"toc-item\"><li><span><a href=\"#Word-Cloud-visualization-for-dataset\" data-toc-modified-id=\"Word-Cloud-visualization-for-dataset-5.1\"><span class=\"toc-item-num\">5.1&nbsp;&nbsp;</span>Word Cloud visualization for dataset</a></span></li></ul></li><li><span><a href=\"#Feature-Engineering-:-Train-test-split\" data-toc-modified-id=\"Feature-Engineering-:-Train-test-split-6\"><span class=\"toc-item-num\">6&nbsp;&nbsp;</span>Feature Engineering : Train test split</a></span><ul class=\"toc-item\"><li><span><a href=\"#Creating-X-and-y\" data-toc-modified-id=\"Creating-X-and-y-6.1\"><span class=\"toc-item-num\">6.1&nbsp;&nbsp;</span>Creating X and y</a></span></li><li><span><a href=\"#Baseline-accuracy\" data-toc-modified-id=\"Baseline-accuracy-6.2\"><span class=\"toc-item-num\">6.2&nbsp;&nbsp;</span>Baseline accuracy</a></span></li></ul></li><li><span><a href=\"#NLP-Pipeline\" data-toc-modified-id=\"NLP-Pipeline-7\"><span class=\"toc-item-num\">7&nbsp;&nbsp;</span>NLP Pipeline</a></span><ul class=\"toc-item\"><li><span><a href=\"#Tokenizing,-Stemming/Lemming-and-Vectorization\" data-toc-modified-id=\"Tokenizing,-Stemming/Lemming-and-Vectorization-7.1\"><span class=\"toc-item-num\">7.1&nbsp;&nbsp;</span>Tokenizing, Stemming/Lemming and Vectorization</a></span></li><li><span><a href=\"#Model-1-:-Count-Vectorizer---Logistic-Regression\" data-toc-modified-id=\"Model-1-:-Count-Vectorizer---Logistic-Regression-7.2\"><span class=\"toc-item-num\">7.2&nbsp;&nbsp;</span>Model 1 : Count Vectorizer - Logistic Regression</a></span></li><li><span><a href=\"#Model-2-:-Count-Vectorizer---Lemmatizer---Logistic-Regression\" data-toc-modified-id=\"Model-2-:-Count-Vectorizer---Lemmatizer---Logistic-Regression-7.3\"><span class=\"toc-item-num\">7.3&nbsp;&nbsp;</span>Model 2 : Count Vectorizer - Lemmatizer - Logistic Regression</a></span><ul class=\"toc-item\"><li><span><a href=\"#Scores-and-best-parameters-obtained-from-Grid-Search-based-on-this-dataset-is:\" data-toc-modified-id=\"Scores-and-best-parameters-obtained-from-Grid-Search-based-on-this-dataset-is:-7.3.1\"><span class=\"toc-item-num\">7.3.1&nbsp;&nbsp;</span>Scores and best parameters obtained from Grid Search based on this dataset is:</a></span></li></ul></li><li><span><a href=\"#Model-3-:-Count-Vectorizer---Porter-Stemmer---Logistic-Regression\" data-toc-modified-id=\"Model-3-:-Count-Vectorizer---Porter-Stemmer---Logistic-Regression-7.4\"><span class=\"toc-item-num\">7.4&nbsp;&nbsp;</span>Model 3 : Count Vectorizer - Porter Stemmer - Logistic Regression</a></span></li><li><span><a href=\"#Model-4-:-Count-Vectorizer---Lemmatizer---Multinomial-Naive-Bayes\" data-toc-modified-id=\"Model-4-:-Count-Vectorizer---Lemmatizer---Multinomial-Naive-Bayes-7.5\"><span class=\"toc-item-num\">7.5&nbsp;&nbsp;</span>Model 4 : Count Vectorizer - Lemmatizer - Multinomial Naive Bayes</a></span></li><li><span><a href=\"#Model-5-:-TF-IDF---Lemmatizer---Multinomial-Naive-Bayes\" data-toc-modified-id=\"Model-5-:-TF-IDF---Lemmatizer---Multinomial-Naive-Bayes-7.6\"><span class=\"toc-item-num\">7.6&nbsp;&nbsp;</span>Model 5 : TF-IDF - Lemmatizer - Multinomial Naive Bayes</a></span></li><li><span><a href=\"#Model-6-:-TF-IDF---Lemmatizer---Multinomial-Naive-Bayes-Model-2\" data-toc-modified-id=\"Model-6-:-TF-IDF---Lemmatizer---Multinomial-Naive-Bayes-Model-2-7.7\"><span class=\"toc-item-num\">7.7&nbsp;&nbsp;</span>Model 6 : TF-IDF - Lemmatizer - Multinomial Naive Bayes Model 2</a></span><ul class=\"toc-item\"><li><span><a href=\"#Intepreting-Model-4\" data-toc-modified-id=\"Intepreting-Model-4-7.7.1\"><span class=\"toc-item-num\">7.7.1&nbsp;&nbsp;</span>Intepreting Model 4</a></span></li></ul></li><li><span><a href=\"#Model-5-:-Gradient-Boosting-Classifier\" data-toc-modified-id=\"Model-5-:-Gradient-Boosting-Classifier-7.8\"><span class=\"toc-item-num\">7.8&nbsp;&nbsp;</span>Model 5 : Gradient Boosting Classifier</a></span></li></ul></li><li><span><a href=\"#Model-Benchmarks\" data-toc-modified-id=\"Model-Benchmarks-8\"><span class=\"toc-item-num\">8&nbsp;&nbsp;</span>Model Benchmarks</a></span><ul class=\"toc-item\"><li><span><a href=\"#Optimizing-for-Recall\" data-toc-modified-id=\"Optimizing-for-Recall-8.1\"><span class=\"toc-item-num\">8.1&nbsp;&nbsp;</span>Optimizing for Recall</a></span></li><li><span><a href=\"#Plotting-the-AUC-ROC-Curve-of-the-best-model\" data-toc-modified-id=\"Plotting-the-AUC-ROC-Curve-of-the-best-model-8.2\"><span class=\"toc-item-num\">8.2&nbsp;&nbsp;</span>Plotting the AUC ROC Curve of the best model</a></span></li><li><span><a href=\"#Plotting-the-distribution-of-probabilities\" data-toc-modified-id=\"Plotting-the-distribution-of-probabilities-8.3\"><span class=\"toc-item-num\">8.3&nbsp;&nbsp;</span>Plotting the distribution of probabilities</a></span></li></ul></li><li><span><a href=\"#Visualizing-the-most-frequent-words-in-each-subreddit\" data-toc-modified-id=\"Visualizing-the-most-frequent-words-in-each-subreddit-9\"><span class=\"toc-item-num\">9&nbsp;&nbsp;</span>Visualizing the most frequent words in each subreddit</a></span></li><li><span><a href=\"#Export-the-best-Model\" data-toc-modified-id=\"Export-the-best-Model-10\"><span class=\"toc-item-num\">10&nbsp;&nbsp;</span>Export the best Model</a></span></li><li><span><a href=\"#Running-the-final-model-on-Test-set\" data-toc-modified-id=\"Running-the-final-model-on-Test-set-11\"><span class=\"toc-item-num\">11&nbsp;&nbsp;</span>Running the final model on Test set</a></span></li><li><span><a href=\"#Conclusion\" data-toc-modified-id=\"Conclusion-12\"><span class=\"toc-item-num\">12&nbsp;&nbsp;</span>Conclusion</a></span></li></ul></div>"
   ]
  },
  {
   "cell_type": "markdown",
   "metadata": {
    "colab_type": "text",
    "id": "zBhUMwJpmo9c"
   },
   "source": [
    "## Problem Statement:\n",
    "\n",
    "The participation rate at a local church have been declining over the years. The church committee would like to reconnect with the Christian community by emailing event updates to existing and occasional churchgoers. The committee have approached us to build a system that is able to identify Christians from their online posts as they do not want to hard sell on atheists.\n"
   ]
  },
  {
   "cell_type": "markdown",
   "metadata": {
    "colab_type": "text",
    "id": "Dyf-F_75mo9d"
   },
   "source": [
    "## Executive summary\n",
    "This is a classification problem where we will build a model that is able to identify Christians from atheists based on their online posts. \n",
    "As reddit has a big community for both Christians and atheists, we will scape reddit for the two topics and train a binary classifier that will classify which group a poster is from based on their text input\n"
   ]
  },
  {
   "cell_type": "markdown",
   "metadata": {
    "colab_type": "text",
    "id": "3O8o2R6Dmo9e"
   },
   "source": [
    "## Scraping for data"
   ]
  },
  {
   "cell_type": "code",
   "execution_count": 1,
   "metadata": {
    "colab": {},
    "colab_type": "code",
    "id": "0Qq8-72rmo9r"
   },
   "outputs": [],
   "source": [
    "# !!!! Set the topic and filename here!\n",
    "\n",
    "#AskDocs and LegalAdvice\n",
    "# reddit_topics= ['AskDocs','legaladvice']\n",
    "# filename = 'reddit_legal_doc.csv'\n",
    "\n",
    "reddit_topics= ['Christianity','atheism']\n",
    "filename='reddit_atheism_christianity.csv'"
   ]
  },
  {
   "cell_type": "code",
   "execution_count": 2,
   "metadata": {
    "colab": {},
    "colab_type": "code",
    "id": "93CZG4WBmo9f"
   },
   "outputs": [],
   "source": [
    "import requests\n",
    "import pandas as pd\n",
    "import numpy as np"
   ]
  },
  {
   "cell_type": "code",
   "execution_count": 3,
   "metadata": {
    "colab": {},
    "colab_type": "code",
    "id": "dNPhwsAlmo9i"
   },
   "outputs": [],
   "source": [
    "from collections import defaultdict\n",
    "\n",
    "def extract_content(response, topic):\n",
    "    # 0th index refers to title appended with selftext\n",
    "    rslt = defaultdict(list)\n",
    "    for post in response.json()['data']['children']:\n",
    "        rslt['content'].append(post['data']['title'] + ' ' + post['data']['selftext'])\n",
    "        rslt['topic'].append(topic)\n",
    "        rslt['id'].append(post['data']['name'])\n",
    "        \n",
    "    return rslt\n",
    "\n",
    "def scrape_topic(topic,depth=12):\n",
    "    '''\n",
    "    Scrape the reddit topic for all the posts\n",
    "    \n",
    "    '''\n",
    "    base_url = 'https://www.reddit.com/r/'\n",
    "    url = base_url + topic + '.json?limit=100'\n",
    "    last_entry_name = ''\n",
    "    payload = None\n",
    "    \n",
    "    \n",
    "    for i in range(depth):\n",
    "        if last_entry_name == None:\n",
    "            break\n",
    "        if last_entry_name != '':\n",
    "            url = base_url + topic + '.json?limit=100&after=' + last_entry_name\n",
    "    \n",
    "        res = requests.get(url, headers={'User-agent': 'Pony Inc 1.0'})\n",
    "        print(f\"request url: {url} for {topic} at depth:{i}\")\n",
    "        \n",
    "        last_entry_name = res.json()['data']['after']\n",
    "        print(f\"Last entry name : {last_entry_name} \")\n",
    "        content = extract_content(res,topic)\n",
    "        if not payload:\n",
    "            payload = content\n",
    "        else:\n",
    "            for k,v in payload.items():\n",
    "                payload[k] += content[k]\n",
    "        if i < depth-1:\n",
    "            sleep_duration = random.randint(2,15)\n",
    "            time.sleep(sleep_duration)\n",
    "        print(f'Scraping {topic}, {i} pages in..')\n",
    "    return {'topic': topic, 'data': payload }\n",
    "    "
   ]
  },
  {
   "cell_type": "code",
   "execution_count": 4,
   "metadata": {
    "colab": {},
    "colab_type": "code",
    "id": "J8AZvWLgmo9l"
   },
   "outputs": [],
   "source": [
    "import concurrent.futures as cf\n",
    "import random, time\n",
    "\n",
    "\n",
    "def get_reddit_data(topics):\n",
    "    '''\n",
    "    Main function to scrape reddit data into a pandas dataframe.\n",
    "    Args: topics\n",
    "     - An array object of topics in reddit to scrape from\n",
    "    '''\n",
    "    rdf = pd.DataFrame()\n",
    "    with cf.ThreadPoolExecutor(max_workers=5) as executor:\n",
    "        for future in executor.map(scrape_topic, topics):\n",
    "            if rdf.empty:\n",
    "                rdf = pd.DataFrame(future['data'])\n",
    "            else:\n",
    "                new = pd.DataFrame(future['data'])\n",
    "                rdf = pd.concat([rdf,new],ignore_index=True)\n",
    "            \n",
    "    return rdf\n",
    "        \n",
    "      "
   ]
  },
  {
   "cell_type": "code",
   "execution_count": 5,
   "metadata": {
    "colab": {
     "base_uri": "https://localhost:8080/",
     "height": 1000
    },
    "colab_type": "code",
    "executionInfo": {
     "elapsed": 114812,
     "status": "ok",
     "timestamp": 1571936022831,
     "user": {
      "displayName": "Kelvin Kong",
      "photoUrl": "https://lh3.googleusercontent.com/a-/AAuE7mCWzqK8egU3Fl4e--AYVitUzxXw3LWzcoiIBaWNii0=s64",
      "userId": "08932784774640725738"
     },
     "user_tz": -480
    },
    "id": "iUHYPU7emo9x",
    "outputId": "4b128bcb-b1c3-4335-cddd-30b84c651c61"
   },
   "outputs": [
    {
     "name": "stdout",
     "output_type": "stream",
     "text": [
      "request url: https://www.reddit.com/r/Christianity.json?limit=100 for Christianity at depth:0\n",
      "Last entry name : t3_dmbta1 \n",
      "request url: https://www.reddit.com/r/atheism.json?limit=100 for atheism at depth:0\n",
      "Last entry name : t3_dmbc5g \n",
      "Scraping Christianity, 0 pages in..\n",
      "Scraping atheism, 0 pages in..\n",
      "request url: https://www.reddit.com/r/Christianity.json?limit=100&after=t3_dmbta1 for Christianity at depth:1\n",
      "Last entry name : t3_dm7yq8 \n",
      "request url: https://www.reddit.com/r/atheism.json?limit=100&after=t3_dmbc5g for atheism at depth:1\n",
      "Last entry name : t3_dlkdnk \n",
      "Scraping Christianity, 1 pages in..\n",
      "request url: https://www.reddit.com/r/Christianity.json?limit=100&after=t3_dm7yq8 for Christianity at depth:2\n",
      "Last entry name : t3_dlotnu \n",
      "Scraping Christianity, 2 pages in..\n",
      "Scraping atheism, 1 pages in..\n",
      "request url: https://www.reddit.com/r/Christianity.json?limit=100&after=t3_dlotnu for Christianity at depth:3\n",
      "Last entry name : t3_dlaqg3 \n",
      "request url: https://www.reddit.com/r/atheism.json?limit=100&after=t3_dlkdnk for atheism at depth:2\n",
      "Last entry name : t3_dkutcc \n",
      "Scraping Christianity, 3 pages in..\n",
      "Scraping atheism, 2 pages in..\n",
      "request url: https://www.reddit.com/r/Christianity.json?limit=100&after=t3_dlaqg3 for Christianity at depth:4\n",
      "Last entry name : t3_dle71i \n",
      "request url: https://www.reddit.com/r/atheism.json?limit=100&after=t3_dkutcc for atheism at depth:3\n",
      "Last entry name : t3_dkangi \n",
      "Scraping Christianity, 4 pages in..\n",
      "request url: https://www.reddit.com/r/Christianity.json?limit=100&after=t3_dle71i for Christianity at depth:5\n",
      "Last entry name : t3_dkyde6 \n",
      "Scraping atheism, 3 pages in..\n",
      "Scraping Christianity, 5 pages in..\n",
      "request url: https://www.reddit.com/r/atheism.json?limit=100&after=t3_dkangi for atheism at depth:4\n",
      "Last entry name : t3_djs8pb \n",
      "request url: https://www.reddit.com/r/Christianity.json?limit=100&after=t3_dkyde6 for Christianity at depth:6\n",
      "Last entry name : t3_dkkhqq \n",
      "Scraping Christianity, 6 pages in..\n",
      "request url: https://www.reddit.com/r/Christianity.json?limit=100&after=t3_dkkhqq for Christianity at depth:7\n",
      "Last entry name : t3_dk44js \n",
      "Scraping atheism, 4 pages in..\n",
      "request url: https://www.reddit.com/r/atheism.json?limit=100&after=t3_djs8pb for atheism at depth:5\n",
      "Last entry name : t3_dj6i2p \n",
      "Scraping atheism, 5 pages in..\n",
      "request url: https://www.reddit.com/r/atheism.json?limit=100&after=t3_dj6i2p for atheism at depth:6\n",
      "Last entry name : t3_diek9t \n",
      "Scraping Christianity, 7 pages in..\n",
      "Scraping atheism, 6 pages in..\n",
      "request url: https://www.reddit.com/r/Christianity.json?limit=100&after=t3_dk44js for Christianity at depth:8\n",
      "Last entry name : t3_djx7m5 \n",
      "request url: https://www.reddit.com/r/atheism.json?limit=100&after=t3_diek9t for atheism at depth:7\n",
      "Last entry name : t3_dhw2as \n",
      "Scraping Christianity, 8 pages in..\n",
      "request url: https://www.reddit.com/r/Christianity.json?limit=100&after=t3_djx7m5 for Christianity at depth:9\n",
      "Last entry name : None \n",
      "Scraping atheism, 7 pages in..\n",
      "request url: https://www.reddit.com/r/atheism.json?limit=100&after=t3_dhw2as for atheism at depth:8\n",
      "Last entry name : t3_dhejvs \n",
      "Scraping Christianity, 9 pages in..\n",
      "Scraping atheism, 8 pages in..\n",
      "request url: https://www.reddit.com/r/atheism.json?limit=100&after=t3_dhejvs for atheism at depth:9\n",
      "Last entry name : None \n",
      "Scraping atheism, 9 pages in..\n",
      "              content   id\n",
      "topic                     \n",
      "Christianity      969  969\n",
      "atheism           932  932\n"
     ]
    }
   ],
   "source": [
    "import os.path\n",
    "\n",
    "rdf = get_reddit_data(reddit_topics)\n",
    "print(rdf.groupby(by='topic').count())\n",
    "\n",
    "# filename = 'reddit_scrape_bio_chem.csv'\n",
    "# filename = 'reddit_scrape_docs_legal.csv'\n",
    "\n",
    "\n",
    "use_header=True\n",
    "\n",
    "if os.path.exists(filename):\n",
    "    use_header = False\n",
    "\n",
    "# Append the data into a csv file\n",
    "rdf.to_csv(filename,mode='a',header=use_header, index=False)"
   ]
  },
  {
   "cell_type": "markdown",
   "metadata": {
    "colab_type": "text",
    "id": "Zd4lL8CCmo91"
   },
   "source": [
    "## Read the csv file"
   ]
  },
  {
   "cell_type": "code",
   "execution_count": 6,
   "metadata": {
    "colab": {},
    "colab_type": "code",
    "id": "bsidojCImo92"
   },
   "outputs": [],
   "source": [
    "reddit_df = pd.read_csv(filename)"
   ]
  },
  {
   "cell_type": "code",
   "execution_count": 7,
   "metadata": {
    "colab": {
     "base_uri": "https://localhost:8080/",
     "height": 402
    },
    "colab_type": "code",
    "executionInfo": {
     "elapsed": 114766,
     "status": "ok",
     "timestamp": 1571936022842,
     "user": {
      "displayName": "Kelvin Kong",
      "photoUrl": "https://lh3.googleusercontent.com/a-/AAuE7mCWzqK8egU3Fl4e--AYVitUzxXw3LWzcoiIBaWNii0=s64",
      "userId": "08932784774640725738"
     },
     "user_tz": -480
    },
    "id": "v2uJTEhwmo95",
    "outputId": "0e667f5a-66dd-40fd-b300-912fd715f7ce"
   },
   "outputs": [
    {
     "data": {
      "text/html": [
       "<div>\n",
       "<style scoped>\n",
       "    .dataframe tbody tr th:only-of-type {\n",
       "        vertical-align: middle;\n",
       "    }\n",
       "\n",
       "    .dataframe tbody tr th {\n",
       "        vertical-align: top;\n",
       "    }\n",
       "\n",
       "    .dataframe thead th {\n",
       "        text-align: right;\n",
       "    }\n",
       "</style>\n",
       "<table border=\"1\" class=\"dataframe\">\n",
       "  <thead>\n",
       "    <tr style=\"text-align: right;\">\n",
       "      <th></th>\n",
       "      <th>content</th>\n",
       "      <th>topic</th>\n",
       "      <th>id</th>\n",
       "    </tr>\n",
       "  </thead>\n",
       "  <tbody>\n",
       "    <tr>\n",
       "      <td>0</td>\n",
       "      <td>Mere Disagreement is Not a Personal Attack Thi...</td>\n",
       "      <td>Christianity</td>\n",
       "      <td>t3_dl986s</td>\n",
       "    </tr>\n",
       "    <tr>\n",
       "      <td>1</td>\n",
       "      <td>Chinese authorities raided church, forcibly re...</td>\n",
       "      <td>Christianity</td>\n",
       "      <td>t3_dl0lgm</td>\n",
       "    </tr>\n",
       "    <tr>\n",
       "      <td>2</td>\n",
       "      <td>Just learned that a prominent atheist redditor...</td>\n",
       "      <td>Christianity</td>\n",
       "      <td>t3_dla8rq</td>\n",
       "    </tr>\n",
       "    <tr>\n",
       "      <td>3</td>\n",
       "      <td>Jesus loves you and wants you to be joyful Joh...</td>\n",
       "      <td>Christianity</td>\n",
       "      <td>t3_dl7z2c</td>\n",
       "    </tr>\n",
       "    <tr>\n",
       "      <td>4</td>\n",
       "      <td>I’m an atheist, but want to be a Christian. Ca...</td>\n",
       "      <td>Christianity</td>\n",
       "      <td>t3_dl8rp2</td>\n",
       "    </tr>\n",
       "    <tr>\n",
       "      <td>...</td>\n",
       "      <td>...</td>\n",
       "      <td>...</td>\n",
       "      <td>...</td>\n",
       "    </tr>\n",
       "    <tr>\n",
       "      <td>4348</td>\n",
       "      <td>Why is it so difficult for Christians to accep...</td>\n",
       "      <td>atheism</td>\n",
       "      <td>t3_dgyg8m</td>\n",
       "    </tr>\n",
       "    <tr>\n",
       "      <td>4349</td>\n",
       "      <td>Atheism and Recovery from Addiction... Since m...</td>\n",
       "      <td>atheism</td>\n",
       "      <td>t3_dha7pn</td>\n",
       "    </tr>\n",
       "    <tr>\n",
       "      <td>4350</td>\n",
       "      <td>Awkward atheist experiences in medical field. ...</td>\n",
       "      <td>atheism</td>\n",
       "      <td>t3_dh2p5b</td>\n",
       "    </tr>\n",
       "    <tr>\n",
       "      <td>4351</td>\n",
       "      <td>Do you find that people get more upset over de...</td>\n",
       "      <td>atheism</td>\n",
       "      <td>t3_dh9qff</td>\n",
       "    </tr>\n",
       "    <tr>\n",
       "      <td>4352</td>\n",
       "      <td>Had my first Athiest single parent moment toda...</td>\n",
       "      <td>atheism</td>\n",
       "      <td>t3_dgy7if</td>\n",
       "    </tr>\n",
       "  </tbody>\n",
       "</table>\n",
       "<p>4353 rows × 3 columns</p>\n",
       "</div>"
      ],
      "text/plain": [
       "                                                content         topic  \\\n",
       "0     Mere Disagreement is Not a Personal Attack Thi...  Christianity   \n",
       "1     Chinese authorities raided church, forcibly re...  Christianity   \n",
       "2     Just learned that a prominent atheist redditor...  Christianity   \n",
       "3     Jesus loves you and wants you to be joyful Joh...  Christianity   \n",
       "4     I’m an atheist, but want to be a Christian. Ca...  Christianity   \n",
       "...                                                 ...           ...   \n",
       "4348  Why is it so difficult for Christians to accep...       atheism   \n",
       "4349  Atheism and Recovery from Addiction... Since m...       atheism   \n",
       "4350  Awkward atheist experiences in medical field. ...       atheism   \n",
       "4351  Do you find that people get more upset over de...       atheism   \n",
       "4352  Had my first Athiest single parent moment toda...       atheism   \n",
       "\n",
       "             id  \n",
       "0     t3_dl986s  \n",
       "1     t3_dl0lgm  \n",
       "2     t3_dla8rq  \n",
       "3     t3_dl7z2c  \n",
       "4     t3_dl8rp2  \n",
       "...         ...  \n",
       "4348  t3_dgyg8m  \n",
       "4349  t3_dha7pn  \n",
       "4350  t3_dh2p5b  \n",
       "4351  t3_dh9qff  \n",
       "4352  t3_dgy7if  \n",
       "\n",
       "[4353 rows x 3 columns]"
      ]
     },
     "execution_count": 7,
     "metadata": {},
     "output_type": "execute_result"
    }
   ],
   "source": [
    "reddit_df"
   ]
  },
  {
   "cell_type": "code",
   "execution_count": 8,
   "metadata": {
    "colab": {},
    "colab_type": "code",
    "id": "qBitCn2Dmo9-"
   },
   "outputs": [],
   "source": [
    "# Remove any duplicates if there are any\n",
    "reddit_df = reddit_df[~reddit_df.duplicated(subset='id')]"
   ]
  },
  {
   "cell_type": "code",
   "execution_count": 9,
   "metadata": {
    "colab": {},
    "colab_type": "code",
    "id": "iVTgTfs0mo-B"
   },
   "outputs": [],
   "source": [
    "# Override the existing file\n",
    "reddit_df.to_csv(filename,mode='w',header=True, index=False)"
   ]
  },
  {
   "cell_type": "code",
   "execution_count": 10,
   "metadata": {
    "colab": {},
    "colab_type": "code",
    "id": "3HxnM4g9mo-D"
   },
   "outputs": [],
   "source": [
    "# Remove id column\n",
    "reddit_df = reddit_df[['content','topic']]"
   ]
  },
  {
   "cell_type": "code",
   "execution_count": 11,
   "metadata": {
    "colab": {
     "base_uri": "https://localhost:8080/",
     "height": 34
    },
    "colab_type": "code",
    "executionInfo": {
     "elapsed": 114673,
     "status": "ok",
     "timestamp": 1571936022846,
     "user": {
      "displayName": "Kelvin Kong",
      "photoUrl": "https://lh3.googleusercontent.com/a-/AAuE7mCWzqK8egU3Fl4e--AYVitUzxXw3LWzcoiIBaWNii0=s64",
      "userId": "08932784774640725738"
     },
     "user_tz": -480
    },
    "id": "OaQgC3s_mo-G",
    "outputId": "ddaafcfe-a113-4a93-90d0-98e6974b796b"
   },
   "outputs": [
    {
     "data": {
      "text/plain": [
       "(2542, 2)"
      ]
     },
     "execution_count": 11,
     "metadata": {},
     "output_type": "execute_result"
    }
   ],
   "source": [
    "# Get the shape of the dataframe\n",
    "reddit_df.shape"
   ]
  },
  {
   "cell_type": "code",
   "execution_count": 12,
   "metadata": {
    "colab": {
     "base_uri": "https://localhost:8080/",
     "height": 136
    },
    "colab_type": "code",
    "executionInfo": {
     "elapsed": 114605,
     "status": "ok",
     "timestamp": 1571936022847,
     "user": {
      "displayName": "Kelvin Kong",
      "photoUrl": "https://lh3.googleusercontent.com/a-/AAuE7mCWzqK8egU3Fl4e--AYVitUzxXw3LWzcoiIBaWNii0=s64",
      "userId": "08932784774640725738"
     },
     "user_tz": -480
    },
    "id": "8YGtHydOmo-J",
    "outputId": "5d1a72b6-f082-4746-fcc3-b0e1d07c1cf9"
   },
   "outputs": [
    {
     "data": {
      "text/html": [
       "<div>\n",
       "<style scoped>\n",
       "    .dataframe tbody tr th:only-of-type {\n",
       "        vertical-align: middle;\n",
       "    }\n",
       "\n",
       "    .dataframe tbody tr th {\n",
       "        vertical-align: top;\n",
       "    }\n",
       "\n",
       "    .dataframe thead th {\n",
       "        text-align: right;\n",
       "    }\n",
       "</style>\n",
       "<table border=\"1\" class=\"dataframe\">\n",
       "  <thead>\n",
       "    <tr style=\"text-align: right;\">\n",
       "      <th></th>\n",
       "      <th>content</th>\n",
       "    </tr>\n",
       "    <tr>\n",
       "      <th>topic</th>\n",
       "      <th></th>\n",
       "    </tr>\n",
       "  </thead>\n",
       "  <tbody>\n",
       "    <tr>\n",
       "      <td>Christianity</td>\n",
       "      <td>1370</td>\n",
       "    </tr>\n",
       "    <tr>\n",
       "      <td>atheism</td>\n",
       "      <td>1172</td>\n",
       "    </tr>\n",
       "  </tbody>\n",
       "</table>\n",
       "</div>"
      ],
      "text/plain": [
       "              content\n",
       "topic                \n",
       "Christianity     1370\n",
       "atheism          1172"
      ]
     },
     "execution_count": 12,
     "metadata": {},
     "output_type": "execute_result"
    }
   ],
   "source": [
    "# Show data from each class\n",
    "reddit_df.groupby(by='topic').count()"
   ]
  },
  {
   "cell_type": "markdown",
   "metadata": {
    "colab_type": "text",
    "id": "HqdKGk9-mo-M"
   },
   "source": [
    "There is a slight imbalance of the observations between the two classes, thus we will stratify the topic when splitting the data."
   ]
  },
  {
   "cell_type": "markdown",
   "metadata": {
    "colab_type": "text",
    "id": "Z4HwBMQRmo-N"
   },
   "source": [
    "## EDA: Exploring the dataset"
   ]
  },
  {
   "cell_type": "code",
   "execution_count": 13,
   "metadata": {
    "colab": {
     "base_uri": "https://localhost:8080/",
     "height": 118
    },
    "colab_type": "code",
    "executionInfo": {
     "elapsed": 114575,
     "status": "ok",
     "timestamp": 1571936022848,
     "user": {
      "displayName": "Kelvin Kong",
      "photoUrl": "https://lh3.googleusercontent.com/a-/AAuE7mCWzqK8egU3Fl4e--AYVitUzxXw3LWzcoiIBaWNii0=s64",
      "userId": "08932784774640725738"
     },
     "user_tz": -480
    },
    "id": "rDvQkY4nmo-O",
    "outputId": "51f06db6-94f6-441a-ffb4-2b185cf509f5"
   },
   "outputs": [
    {
     "name": "stderr",
     "output_type": "stream",
     "text": [
      "[nltk_data] Downloading package punkt to\n",
      "[nltk_data]     C:\\Users\\User\\AppData\\Roaming\\nltk_data...\n",
      "[nltk_data]   Package punkt is already up-to-date!\n",
      "[nltk_data] Downloading package stopwords to\n",
      "[nltk_data]     C:\\Users\\User\\AppData\\Roaming\\nltk_data...\n",
      "[nltk_data]   Package stopwords is already up-to-date!\n",
      "[nltk_data] Downloading package wordnet to\n",
      "[nltk_data]     C:\\Users\\User\\AppData\\Roaming\\nltk_data...\n",
      "[nltk_data]   Package wordnet is already up-to-date!\n"
     ]
    }
   ],
   "source": [
    "from skimage import color\n",
    "from skimage import io\n",
    "from PIL import Image\n",
    "from wordcloud import WordCloud, STOPWORDS, ImageColorGenerator\n",
    "from matplotlib import pyplot as plt\n",
    "import nltk\n",
    "nltk.download('punkt')\n",
    "nltk.download('stopwords')\n",
    "nltk.download('wordnet')\n",
    "from nltk.corpus import stopwords\n",
    "# Buid a WordNetLemmatizer class to be fed into the CountVectorizer's pipeline\n",
    "\n",
    "def get_wordcloud(series,max_words=30, mask_img='jesus_2.jpg'):\n",
    "    mask = color.rgb2gray(io.imread(mask_img))\n",
    "    transformed_mask = np.array([ [ 0 if x < 1 else 255 for x in row ] for row in mask  ], dtype=int)\n",
    "    \n",
    "    wcloud = WordCloud(stopwords= set(stopwords.words(\"english\")), max_words=max_words, background_color='white' , mask = transformed_mask\n",
    "                  ).generate(series.str.cat(sep=' '))\n",
    "\n",
    "    fig, ax = plt.subplots(figsize=(12, 12))\n",
    "    ax.imshow(wcloud, interpolation='bilinear')\n",
    "    plt.axis('off');\n",
    "    "
   ]
  },
  {
   "cell_type": "markdown",
   "metadata": {
    "colab_type": "text",
    "id": "IWIdqYbXmo-Q"
   },
   "source": [
    "### Word Cloud visualization for dataset\n"
   ]
  },
  {
   "cell_type": "code",
   "execution_count": 14,
   "metadata": {
    "colab": {
     "base_uri": "https://localhost:8080/",
     "height": 34
    },
    "colab_type": "code",
    "executionInfo": {
     "elapsed": 920,
     "status": "ok",
     "timestamp": 1571939298129,
     "user": {
      "displayName": "Kelvin Kong",
      "photoUrl": "https://lh3.googleusercontent.com/a-/AAuE7mCWzqK8egU3Fl4e--AYVitUzxXw3LWzcoiIBaWNii0=s64",
      "userId": "08932784774640725738"
     },
     "user_tz": -480
    },
    "id": "k4-935b04M_7",
    "outputId": "f5e1c955-aa95-42e3-b172-aec33ff7e4b3"
   },
   "outputs": [
    {
     "name": "stdout",
     "output_type": "stream",
     "text": [
      "Word cloud for Christianity\n"
     ]
    }
   ],
   "source": [
    "print(f'Word cloud for {reddit_topics[0]}')"
   ]
  },
  {
   "cell_type": "code",
   "execution_count": 15,
   "metadata": {
    "colab": {
     "base_uri": "https://localhost:8080/",
     "height": 562
    },
    "colab_type": "code",
    "executionInfo": {
     "elapsed": 116643,
     "status": "ok",
     "timestamp": 1571936024950,
     "user": {
      "displayName": "Kelvin Kong",
      "photoUrl": "https://lh3.googleusercontent.com/a-/AAuE7mCWzqK8egU3Fl4e--AYVitUzxXw3LWzcoiIBaWNii0=s64",
      "userId": "08932784774640725738"
     },
     "user_tz": -480
    },
    "id": "NgvZ7Sf3mo-R",
    "outputId": "0253eae1-9f9d-4eb4-e59a-7c7ad7b31e63",
    "scrolled": false
   },
   "outputs": [
    {
     "data": {
      "image/png": "[encoded data removed]",
      "text/plain": [
       "<Figure size 864x864 with 1 Axes>"
      ]
     },
     "metadata": {
      "needs_background": "light"
     },
     "output_type": "display_data"
    }
   ],
   "source": [
    "get_wordcloud(reddit_df[reddit_df['topic'] == reddit_df['topic'].unique()[0]]['content'],max_words=25)"
   ]
  },
  {
   "cell_type": "code",
   "execution_count": 16,
   "metadata": {
    "colab": {
     "base_uri": "https://localhost:8080/",
     "height": 34
    },
    "colab_type": "code",
    "executionInfo": {
     "elapsed": 905,
     "status": "ok",
     "timestamp": 1571939329941,
     "user": {
      "displayName": "Kelvin Kong",
      "photoUrl": "https://lh3.googleusercontent.com/a-/AAuE7mCWzqK8egU3Fl4e--AYVitUzxXw3LWzcoiIBaWNii0=s64",
      "userId": "08932784774640725738"
     },
     "user_tz": -480
    },
    "id": "-YQmU28G4oSo",
    "outputId": "086a6067-2b24-4ff5-b8b5-c1a8de8f0138"
   },
   "outputs": [
    {
     "name": "stdout",
     "output_type": "stream",
     "text": [
      "Word cloud for atheism\n"
     ]
    }
   ],
   "source": [
    "print(f'Word cloud for {reddit_topics[1]}')"
   ]
  },
  {
   "cell_type": "code",
   "execution_count": 17,
   "metadata": {
    "colab": {
     "base_uri": "https://localhost:8080/",
     "height": 562
    },
    "colab_type": "code",
    "executionInfo": {
     "elapsed": 117913,
     "status": "ok",
     "timestamp": 1571936026260,
     "user": {
      "displayName": "Kelvin Kong",
      "photoUrl": "https://lh3.googleusercontent.com/a-/AAuE7mCWzqK8egU3Fl4e--AYVitUzxXw3LWzcoiIBaWNii0=s64",
      "userId": "08932784774640725738"
     },
     "user_tz": -480
    },
    "id": "I5q8sP4Umo-U",
    "outputId": "f3d3018d-6593-4452-ceba-099d150a5dde"
   },
   "outputs": [
    {
     "data": {
      "image/png": "[encoded data removed]",
      "text/plain": [
       "<Figure size 864x864 with 1 Axes>"
      ]
     },
     "metadata": {
      "needs_background": "light"
     },
     "output_type": "display_data"
    }
   ],
   "source": [
    "get_wordcloud(reddit_df[reddit_df['topic'] == reddit_df['topic'].unique()[1]]['content'])"
   ]
  },
  {
   "cell_type": "markdown",
   "metadata": {
    "colab_type": "text",
    "id": "_yvFdJStmo-b"
   },
   "source": [
    "## Feature Engineering : Train test split"
   ]
  },
  {
   "cell_type": "markdown",
   "metadata": {
    "colab_type": "text",
    "id": "NxTUyLzwmo-b"
   },
   "source": [
    "### Creating X and y"
   ]
  },
  {
   "cell_type": "code",
   "execution_count": 18,
   "metadata": {
    "colab": {},
    "colab_type": "code",
    "id": "C3blE5himo-c"
   },
   "outputs": [],
   "source": [
    "# One hot encode the target class\n",
    "if filename=='reddit_legal_doc.csv':\n",
    "    y = reddit_df['topic'].map(lambda x : 1 if x == 'AskDocs' else 0 )\n",
    "if filename == 'reddit_atheism_christianity.csv':\n",
    "    y = reddit_df['topic'].map(lambda x : 1 if x == 'Christianity' else 0 )\n"
   ]
  },
  {
   "cell_type": "code",
   "execution_count": 19,
   "metadata": {
    "colab": {},
    "colab_type": "code",
    "id": "jFRkJU0Vmo-f"
   },
   "outputs": [],
   "source": [
    "# Create X\n",
    "X = reddit_df['content']"
   ]
  },
  {
   "cell_type": "code",
   "execution_count": 20,
   "metadata": {
    "colab": {},
    "colab_type": "code",
    "id": "28ziSrvzmo-l"
   },
   "outputs": [],
   "source": [
    "from sklearn.model_selection import train_test_split\n",
    "X_train_1, X_test, y_train_1, y_test = train_test_split(X, y, test_size=0.2, random_state=42, stratify=y)"
   ]
  },
  {
   "cell_type": "code",
   "execution_count": 21,
   "metadata": {
    "colab": {
     "base_uri": "https://localhost:8080/",
     "height": 34
    },
    "colab_type": "code",
    "executionInfo": {
     "elapsed": 117819,
     "status": "ok",
     "timestamp": 1571936026265,
     "user": {
      "displayName": "Kelvin Kong",
      "photoUrl": "https://lh3.googleusercontent.com/a-/AAuE7mCWzqK8egU3Fl4e--AYVitUzxXw3LWzcoiIBaWNii0=s64",
      "userId": "08932784774640725738"
     },
     "user_tz": -480
    },
    "id": "nS-hVKbGmo-r",
    "outputId": "3d5aab8e-6fd4-4895-9b7e-05138d981c79"
   },
   "outputs": [
    {
     "name": "stdout",
     "output_type": "stream",
     "text": [
      "X_train_1:(2033,) y_train:(2033,) X_test:(509,) y_test:(509,)\n"
     ]
    }
   ],
   "source": [
    "print(f'X_train_1:{X_train_1.shape} y_train:{y_train_1.shape} X_test:{X_test.shape} y_test:{y_test.shape}')"
   ]
  },
  {
   "cell_type": "code",
   "execution_count": 22,
   "metadata": {
    "colab": {
     "base_uri": "https://localhost:8080/",
     "height": 67
    },
    "colab_type": "code",
    "executionInfo": {
     "elapsed": 117803,
     "status": "ok",
     "timestamp": 1571936026267,
     "user": {
      "displayName": "Kelvin Kong",
      "photoUrl": "https://lh3.googleusercontent.com/a-/AAuE7mCWzqK8egU3Fl4e--AYVitUzxXw3LWzcoiIBaWNii0=s64",
      "userId": "08932784774640725738"
     },
     "user_tz": -480
    },
    "id": "Y0Fw7am5mo-u",
    "outputId": "8a0c76d4-6dce-4e58-eac4-ed288fac254a"
   },
   "outputs": [
    {
     "name": "stdout",
     "output_type": "stream",
     "text": [
      "X_train:(1626,) y_train:(1626,)\n",
      "X_val:(407,) y_val:(407,) \n",
      "X_test:(509,) y_test:(509,)\n"
     ]
    }
   ],
   "source": [
    "# Futher split X_train to obtain validation set\n",
    "from sklearn.model_selection import train_test_split\n",
    "X_train, X_val, y_train, y_val = train_test_split(X_train_1, y_train_1, test_size=0.2, random_state=42, stratify=y_train_1)\n",
    "print(f'X_train:{X_train.shape} y_train:{y_train.shape}\\nX_val:{X_val.shape} y_val:{y_val.shape} \\\n",
    "\\nX_test:{X_test.shape} y_test:{y_test.shape}')"
   ]
  },
  {
   "cell_type": "code",
   "execution_count": 23,
   "metadata": {
    "colab": {
     "base_uri": "https://localhost:8080/",
     "height": 218
    },
    "colab_type": "code",
    "executionInfo": {
     "elapsed": 117784,
     "status": "ok",
     "timestamp": 1571936026268,
     "user": {
      "displayName": "Kelvin Kong",
      "photoUrl": "https://lh3.googleusercontent.com/a-/AAuE7mCWzqK8egU3Fl4e--AYVitUzxXw3LWzcoiIBaWNii0=s64",
      "userId": "08932784774640725738"
     },
     "user_tz": -480
    },
    "id": "o2Y9N334mo-x",
    "outputId": "458afb07-afa1-46df-b302-64fa50ebf1df",
    "scrolled": false
   },
   "outputs": [
    {
     "name": "stdout",
     "output_type": "stream",
     "text": [
      "y_train distribution:\n",
      "1    0.53936\n",
      "0    0.46064\n",
      "Name: topic, dtype: float64\n",
      "y_val distribution:\n",
      "1    0.538084\n",
      "0    0.461916\n",
      "Name: topic, dtype: float64\n",
      "y_test distribution:\n",
      "1    0.53831\n",
      "0    0.46169\n",
      "Name: topic, dtype: float64\n"
     ]
    }
   ],
   "source": [
    "# Check the distributions of y_train, y_val, y_test\n",
    "print(f'y_train distribution:\\n{y_train.value_counts(normalize=True)}')\n",
    "print(f'y_val distribution:\\n{y_val.value_counts(normalize=True)}')\n",
    "print(f'y_test distribution:\\n{y_test.value_counts(normalize=True)}')\n",
    "# It appears that the distribution of target classes are equal in all three classes"
   ]
  },
  {
   "cell_type": "markdown",
   "metadata": {
    "colab_type": "text",
    "id": "H-a1uoEJmo-0"
   },
   "source": [
    "### Baseline accuracy"
   ]
  },
  {
   "cell_type": "code",
   "execution_count": 24,
   "metadata": {
    "colab": {
     "base_uri": "https://localhost:8080/",
     "height": 0
    },
    "colab_type": "code",
    "executionInfo": {
     "elapsed": 117771,
     "status": "ok",
     "timestamp": 1571936026269,
     "user": {
      "displayName": "Kelvin Kong",
      "photoUrl": "https://lh3.googleusercontent.com/a-/AAuE7mCWzqK8egU3Fl4e--AYVitUzxXw3LWzcoiIBaWNii0=s64",
      "userId": "08932784774640725738"
     },
     "user_tz": -480
    },
    "id": "I-7_J_IYmo-2",
    "outputId": "608f23c9-ea1a-40f5-d36f-299bba3a76ff",
    "scrolled": false
   },
   "outputs": [
    {
     "data": {
      "text/plain": [
       "Christianity    0.538946\n",
       "atheism         0.461054\n",
       "Name: topic, dtype: float64"
      ]
     },
     "execution_count": 24,
     "metadata": {},
     "output_type": "execute_result"
    }
   ],
   "source": [
    "reddit_df['topic'].value_counts(normalize=True)"
   ]
  },
  {
   "cell_type": "markdown",
   "metadata": {
    "colab_type": "text",
    "id": "BTEUyLWcmo-5"
   },
   "source": [
    "## NLP Pipeline"
   ]
  },
  {
   "cell_type": "markdown",
   "metadata": {
    "colab_type": "text",
    "id": "zYssPLkGmo-6"
   },
   "source": [
    "### Tokenizing, Stemming/Lemming and Vectorization"
   ]
  },
  {
   "cell_type": "markdown",
   "metadata": {
    "colab_type": "text",
    "id": "I_gJRfzomo-7"
   },
   "source": [
    "We will embed the NLP pre-processing steps right into sklearn's count vectorizer and ti-df vectorizer"
   ]
  },
  {
   "cell_type": "code",
   "execution_count": 25,
   "metadata": {
    "colab": {},
    "colab_type": "code",
    "id": "yWf-rW8Gmo-8"
   },
   "outputs": [],
   "source": [
    "from sklearn.pipeline import Pipeline\n",
    "from sklearn.feature_extraction.text import CountVectorizer, TfidfVectorizer\n",
    "cvec = CountVectorizer()\n",
    "\n",
    "from sklearn.linear_model import LogisticRegression\n",
    "logreg = LogisticRegression()\n",
    "\n",
    "from sklearn.model_selection import GridSearchCV"
   ]
  },
  {
   "cell_type": "code",
   "execution_count": 26,
   "metadata": {
    "colab": {},
    "colab_type": "code",
    "id": "VOop7L01mo--"
   },
   "outputs": [],
   "source": [
    "# Create an array that will keep track of all models created in this notebook\n",
    "models_collection = dict()"
   ]
  },
  {
   "cell_type": "code",
   "execution_count": 27,
   "metadata": {
    "colab": {},
    "colab_type": "code",
    "id": "XboCDEFumo_A"
   },
   "outputs": [],
   "source": [
    "from sklearn.metrics import confusion_matrix\n",
    "from sklearn.metrics import roc_auc_score, roc_curve\n",
    "from matplotlib import pyplot as plt\n",
    "from sklearn.metrics import roc_auc_score\n",
    "\n",
    "def add_model_to_scoreboard(model_name, model):\n",
    "#     models_collection.add((model_name, model))\n",
    "    if models_collection.get(model_name):\n",
    "        print(f\"Warning, {model_name} is replaced.\")\n",
    "    models_collection[model_name] = model\n",
    "\n",
    "    \n",
    "def get_f1(conf):\n",
    "    tn, fp, fn, tp = conf.ravel()\n",
    "    precision= tp/(tp+fp)\n",
    "    sensitivity = tp/(tp+fn)\n",
    "    return 2*((precision*sensitivity)/(precision+sensitivity))\n",
    "    \n",
    "def get_precision(conf):\n",
    "    tn, fp, fn, tp = conf.ravel()\n",
    "    return tp/(tp+fp)\n",
    "\n",
    "def get_sensitivity(conf):\n",
    "    tn, fp, fn, tp = conf.ravel()\n",
    "    return tp / ( tp + fn )\n",
    "    \n",
    "def get_model_scoreboard(optimize_by='F1', model_dic = models_collection, X=X_val, y=y_val ):\n",
    "    '''\n",
    "    Returns dictionary containing a pandas dataframe of the models in this notebook sorted by scores (F1 by default),\n",
    "    and the best model\n",
    "    '''\n",
    "    \n",
    "        \n",
    "    training_scores =[]\n",
    "    val_scores=[]\n",
    "    model_names = []\n",
    "    auc_roc_scores = [] \n",
    "    f1_scores = []\n",
    "    precision_scores = []\n",
    "    sensitivity_scores = []\n",
    "    best_model_trained = dict()\n",
    "    \n",
    "    for model_name, model in model_dic.items():\n",
    "        if type(model) == GridSearchCV:\n",
    "            best_model = model.best_estimator_\n",
    "            best_model.fit(X_train, y_train)\n",
    "        else:\n",
    "            best_model = model\n",
    "        best_model_trained[model_name] = best_model\n",
    "        training_scores.append(best_model.score(X_train,y_train))\n",
    "        val_scores.append(best_model.score(X,y))\n",
    "        model_names.append(model_name)\n",
    "        \n",
    "        \n",
    "        # ROC Scores\n",
    "        pos_preds = best_model.predict_proba(X)[:,1]\n",
    "        roc_auc = roc_auc_score(y, pos_preds)\n",
    "        auc_roc_scores.append(roc_auc)\n",
    "        \n",
    "        # F1 Scores\n",
    "        #Confusion Matrix\n",
    "        conf = confusion_matrix(y, best_model.predict(X))\n",
    "        f1_scores.append(get_f1(conf))\n",
    "        \n",
    "        precision_scores.append(get_precision(conf))\n",
    "        sensitivity_scores.append(get_sensitivity(conf))\n",
    "        \n",
    "    models = pd.DataFrame({'Model': model_names, 'Training Score': training_scores, 'Validation Score': val_scores,\n",
    "                          'Auc Roc': auc_roc_scores, 'Sensitivity/Recall': sensitivity_scores, \n",
    "                           'Precision': precision_scores , 'F1': f1_scores  })\n",
    "    models.sort_values(by=optimize_by, ascending=False, inplace=True)\n",
    "    best_estimator_name = models.iloc[0]['Model']\n",
    "    return {'df':models, 'best_estimator_': best_model_trained[best_estimator_name], 'best_estimator_name': best_estimator_name }\n",
    "\n",
    "\n",
    "\n",
    "\n",
    "\n",
    "def get_scores(model, X=X_val, y=y_val):\n",
    "    '''\n",
    "    Takes a GridSearchCV model as in input, uses the best parameters in that model to generate a new model and \n",
    "    fit on the entire training set. \n",
    "    Scores shown refers to the scores on validation set.\n",
    "    '''\n",
    "\n",
    "    train_score = model.score(X_train,y_train)\n",
    "    val_score = model.score(X,y)\n",
    "    print(f'Training Score: {train_score}')\n",
    "    print(f'Validation Score: {val_score}')\n",
    "    \n",
    "    #Confusion Matrix\n",
    "    conf = confusion_matrix(y, model.predict(X))\n",
    "    print(f\"Confusion Matrix:\\n{conf}\")\n",
    "    tn, fp , fn , tp = conf.ravel()\n",
    "    specificity = tn / (tn + fp)\n",
    "    sensitivity = tp / (tp + fn)\n",
    "    print(f\"Specificity: {specificity}\")\n",
    "    print(f\"Sensitivity: {sensitivity}\")\n",
    "    \n",
    "    precision = tp/(tp+fp)\n",
    "    print(f\"Precision: {precision}\")\n",
    "    \n",
    "    preds = model.predict_proba(X)\n",
    "    preds = [ x[1] for x in preds]\n",
    "\n",
    "    scores_df = pd.DataFrame({'y': y , 'y_pred': preds })\n",
    "    \n",
    "    \n",
    "    roc_auc = roc_auc_score(y, scores_df['y_pred'])\n",
    "    print(f\"Area under ROC curve: {roc_auc}\")\n",
    "    \n",
    "    #f1 score\n",
    "    f1 = get_f1(conf)\n",
    "    print(f\"F1 score: {f1}\")\n",
    "    \n",
    "    return {'confusion':conf, 'train':train_score,'val':val_score, 'specificity': specificity, 'sensitivity' : sensitivity,\n",
    "            'precision':precision, 'roc_auc_score': roc_auc, 'f1': f1}\n",
    "    "
   ]
  },
  {
   "cell_type": "code",
   "execution_count": 28,
   "metadata": {
    "colab": {},
    "colab_type": "code",
    "id": "C0FHa_e3mo_D"
   },
   "outputs": [],
   "source": [
    "from sklearn.metrics import roc_curve\n",
    "def get_roc_curve(model):\n",
    "    '''\n",
    "    Plots a ROC graph of a given model\n",
    "    '''\n",
    "    pos_preds = model.predict_proba(X_val)[:,1]\n",
    "    fpr, tpr, thresholds = roc_curve(y_val, pos_preds, pos_label=1)\n",
    "    \n",
    "    plt.figure(figsize=(14,8))\n",
    "    # Plot ROC curve\n",
    "    plt.plot(fpr,tpr, label='ROC Curve')\n",
    "    plt.plot([0,1],[0,1], linestyle='--', label='baseline')\n",
    "\n",
    "    # Label axes.\n",
    "    plt.title(f\"ROC Curve with AUC = {round(roc_auc_score(y_val, pos_preds),3)}\", fontsize=22)\n",
    "    plt.ylabel('Sensitivity (True Positive Rate)', fontsize=18)\n",
    "    plt.xlabel('1 - Specificity (False Positive Rate)', fontsize=18)\n",
    "\n",
    "    # Create legend.\n",
    "    plt.legend(fontsize=16);\n"
   ]
  },
  {
   "cell_type": "code",
   "execution_count": 29,
   "metadata": {
    "colab": {},
    "colab_type": "code",
    "id": "uJQHd4timo_G"
   },
   "outputs": [],
   "source": [
    "def get_probability_dist(model):\n",
    "    '''\n",
    "    Plots the Probability distribution graph for a given model\n",
    "    '''\n",
    "    preds = model.predict_proba(X_val)\n",
    "    preds = [ x[1] for x in preds]\n",
    "\n",
    "    scores_df = pd.DataFrame({'y': y_val , 'y_pred': preds })\n",
    "    # Showing the distribution of y_pred when y == 1\n",
    "    scores_df[scores_df['y'] == 1]\n",
    "\n",
    "    fig,ax = plt.subplots(figsize=(15,9))\n",
    "    # When outcome = 1 \n",
    "    ax.hist(data=scores_df[scores_df['y'] == 1], x='y_pred', color='g', alpha=0.5, label=\"Outcome = 1\", bins=25);\n",
    "\n",
    "    #When outcome = 0\n",
    "    ax.hist(data=scores_df[scores_df['y'] == 0], x='y_pred', color='r', alpha=0.5, label=\"Outcome = 0\", bins=25);\n",
    "    ax.legend(fontsize=20)\n",
    "    \n",
    "    ax.vlines(x=0.5, ymin=0, ymax = scores_df.shape[0]*0.15, color='b',linestyle ='--')\n",
    "    \n",
    "    \n",
    "    ax.set_title(\"Distribution of Probabilities\")\n",
    "    ax.set_xlabel(\"Predicted Probabilities \")\n",
    "    ax.set_ylabel(\"Frequency\")\n",
    "    return ax"
   ]
  },
  {
   "cell_type": "code",
   "execution_count": 30,
   "metadata": {
    "colab": {},
    "colab_type": "code",
    "id": "2_78Ccmymo_K"
   },
   "outputs": [],
   "source": [
    "# Instantiate stemmer.\n",
    "from nltk.stem.porter import PorterStemmer\n",
    "\n",
    "from nltk import word_tokenize\n",
    "from nltk.stem import WordNetLemmatizer\n",
    "\n",
    "from nltk.tokenize import RegexpTokenizer\n",
    "\n",
    "class LemmaTokenizer(object):\n",
    "    def __init__(self):\n",
    "        self.wnl = WordNetLemmatizer()\n",
    "    def __call__(self, doc):\n",
    "        return [ self.wnl.lemmatize(t) for t in word_tokenize(doc) ]\n",
    "    \n",
    "class PorterTokenizer(object):\n",
    "    def __init__(self):\n",
    "        self.porter = PorterStemmer()\n",
    "    def __call__(self, doc):\n",
    "        return [ self.porter.stem(t) for t in word_tokenize(doc) ]\n",
    "    \n",
    "class RegexTokenizer(object):\n",
    "    \n",
    "    def __init__(self):\n",
    "        self.tokenizer = RegexpTokenizer(r'\\w+')\n",
    "        \n",
    "    def __call__(self, doc):\n",
    "        return self.tokenizer.tokenize(doc) \n",
    "    "
   ]
  },
  {
   "cell_type": "code",
   "execution_count": 31,
   "metadata": {
    "colab": {},
    "colab_type": "code",
    "id": "4bf1vIfGmo_M"
   },
   "outputs": [],
   "source": [
    "def get_best_params(model, param_filter=None ):\n",
    "    if not param_filter:\n",
    "        param_filter = [ param for param in model.best_params_.keys() if param != 'cvec__stop_words']\n",
    "    return [  f\"{k} : {v}\" for k,v in  model.best_params_.items() if k in param_filter ]"
   ]
  },
  {
   "cell_type": "code",
   "execution_count": 32,
   "metadata": {
    "colab": {},
    "colab_type": "code",
    "id": "XY2KPXEAmo_O"
   },
   "outputs": [],
   "source": [
    "# Create porter tokenized stop words\n",
    "pt = PorterTokenizer()\n",
    "porter_tokenized_stopwords = list(set(pt.__call__(\" \".join([s for s in stopwords.words(\"english\") + reddit_topics ])))) \n",
    "\n",
    "# Obtain the list of stopwords from NLTK english corpora and also include the words in the topic itself as a stopword.\n",
    "# The stopwords will be tokenized and stemmed (including the two topic words) and removed before training "
   ]
  },
  {
   "cell_type": "code",
   "execution_count": 33,
   "metadata": {
    "colab": {},
    "colab_type": "code",
    "id": "va03q3LHmo_S"
   },
   "outputs": [],
   "source": [
    "# Create lemma tokenized stop words\n",
    "lt = LemmaTokenizer()\n",
    "lemma_tokenized_stopwords = list(set([lt.__call__(x)[0] for x in stopwords.words(\"english\") + reddit_topics ] )) \n",
    "# The stopwords will be tokenized and lemmatized (including the two topic words) and removed before training "
   ]
  },
  {
   "cell_type": "code",
   "execution_count": 34,
   "metadata": {
    "colab": {},
    "colab_type": "code",
    "id": "Z6S7bk-Gmo_U"
   },
   "outputs": [],
   "source": [
    "rt = RegexTokenizer()\n",
    "regex_tokenized_stopwords = list(set([rt.__call__(x)[0] for x in stopwords.words(\"english\") + reddit_topics ] )) "
   ]
  },
  {
   "cell_type": "markdown",
   "metadata": {
    "colab_type": "text",
    "id": "H3vOj-fSmo_W"
   },
   "source": [
    "### Model 1 : Count Vectorizer - Logistic Regression"
   ]
  },
  {
   "cell_type": "markdown",
   "metadata": {
    "colab_type": "text",
    "id": "loxb03Hjmo_X"
   },
   "source": [
    "For the first model, the pipeline will consist of a simple count vectorizer with a logistic regression classifier"
   ]
  },
  {
   "cell_type": "code",
   "execution_count": 35,
   "metadata": {
    "colab": {},
    "colab_type": "code",
    "id": "TJ3ZVRoomo_Y",
    "scrolled": true
   },
   "outputs": [],
   "source": [
    "cvec_logreg_pipeline = Pipeline(steps=[('cvec', cvec),('logreg',logreg)])\n",
    "# Show the parameters\n",
    "# cvec_logreg_pipeline.get_params()"
   ]
  },
  {
   "cell_type": "code",
   "execution_count": 36,
   "metadata": {
    "colab": {
     "base_uri": "https://localhost:8080/",
     "height": 34
    },
    "colab_type": "code",
    "executionInfo": {
     "elapsed": 12901,
     "status": "ok",
     "timestamp": 1571939584679,
     "user": {
      "displayName": "Kelvin Kong",
      "photoUrl": "https://lh3.googleusercontent.com/a-/AAuE7mCWzqK8egU3Fl4e--AYVitUzxXw3LWzcoiIBaWNii0=s64",
      "userId": "08932784774640725738"
     },
     "user_tz": -480
    },
    "id": "OSeE3nPQmo_c",
    "outputId": "f98ce139-f9db-4833-e317-895c9075d51e"
   },
   "outputs": [],
   "source": [
    "cvec_logreg_params = { 'cvec__tokenizer' : [RegexTokenizer()],\n",
    "    'cvec__stop_words': [regex_tokenized_stopwords + [top.lower() for top in reddit_topics ]] , 'cvec__max_df':[0.7], 'cvec__ngram_range':[(1,3)],\n",
    "                      'logreg__solver':['liblinear'], 'logreg__C': [0.4, 0.7]\n",
    "}\n",
    "\n",
    "\n",
    "cvec_logreg_gscv = GridSearchCV(cvec_logreg_pipeline, cvec_logreg_params, cv=5)\n",
    "cvec_logreg_gscv.fit(X_train,y_train);\n",
    "\n",
    "add_model_to_scoreboard('Count Vectorizer - Logistic Regression Model', cvec_logreg_gscv)"
   ]
  },
  {
   "cell_type": "markdown",
   "metadata": {
    "colab_type": "text",
    "id": "Wi3eLfjjmo_i"
   },
   "source": [
    "### Model 2 : Count Vectorizer - Lemmatizer - Logistic Regression"
   ]
  },
  {
   "cell_type": "code",
   "execution_count": 37,
   "metadata": {
    "colab": {
     "base_uri": "https://localhost:8080/",
     "height": 34
    },
    "colab_type": "code",
    "executionInfo": {
     "elapsed": 74715,
     "status": "ok",
     "timestamp": 1571939661420,
     "user": {
      "displayName": "Kelvin Kong",
      "photoUrl": "https://lh3.googleusercontent.com/a-/AAuE7mCWzqK8egU3Fl4e--AYVitUzxXw3LWzcoiIBaWNii0=s64",
      "userId": "08932784774640725738"
     },
     "user_tz": -480
    },
    "id": "ApDXz0QAmo_l",
    "outputId": "72cc82f1-2c90-44c7-ec4e-f617d7bf5f9e"
   },
   "outputs": [],
   "source": [
    "cvec_lemma_logreg_params = {'cvec__tokenizer': [LemmaTokenizer()],\n",
    "    'cvec__stop_words':[lemma_tokenized_stopwords + [top.lower() for top in reddit_topics ] ], 'cvec__max_df':[0.8], 'cvec__ngram_range':[(1,3)],\n",
    "                      'logreg__solver':['liblinear'],'logreg__C':[0.3, 0.5], 'logreg__penalty':['l1','l2']\n",
    "}\n",
    "\n",
    "cvec_lemma_logreg_gscv = GridSearchCV(cvec_logreg_pipeline, cvec_lemma_logreg_params, cv=5)\n",
    "cvec_lemma_logreg_gscv.fit(X_train,y_train);\n",
    "\n",
    "add_model_to_scoreboard('Count Vectorizer- Lemmatizer - Logistic Regression Model', cvec_lemma_logreg_gscv)"
   ]
  },
  {
   "cell_type": "markdown",
   "metadata": {
    "colab_type": "text",
    "id": "qmtsBC8Dmo_p"
   },
   "source": [
    "#### Scores and best parameters obtained from Grid Search based on this dataset is:"
   ]
  },
  {
   "cell_type": "code",
   "execution_count": 38,
   "metadata": {
    "colab": {
     "base_uri": "https://localhost:8080/",
     "height": 118
    },
    "colab_type": "code",
    "executionInfo": {
     "elapsed": 203577,
     "status": "ok",
     "timestamp": 1571936112300,
     "user": {
      "displayName": "Kelvin Kong",
      "photoUrl": "https://lh3.googleusercontent.com/a-/AAuE7mCWzqK8egU3Fl4e--AYVitUzxXw3LWzcoiIBaWNii0=s64",
      "userId": "08932784774640725738"
     },
     "user_tz": -480
    },
    "id": "Y-sSAwZomo_r",
    "outputId": "d639ae65-0c73-4f69-abfb-ef7dc7093e17"
   },
   "outputs": [
    {
     "data": {
      "text/plain": [
       "['cvec__max_df : 0.8',\n",
       " 'cvec__ngram_range : (1, 3)',\n",
       " 'cvec__tokenizer : <__main__.LemmaTokenizer object at 0x0000023176CD8F48>',\n",
       " 'logreg__C : 0.3',\n",
       " 'logreg__penalty : l2',\n",
       " 'logreg__solver : liblinear']"
      ]
     },
     "execution_count": 38,
     "metadata": {},
     "output_type": "execute_result"
    }
   ],
   "source": [
    "get_best_params(cvec_lemma_logreg_gscv)"
   ]
  },
  {
   "cell_type": "markdown",
   "metadata": {
    "colab_type": "text",
    "id": "mtfcyC4vmo_v"
   },
   "source": [
    "### Model 3 : Count Vectorizer - Porter Stemmer - Logistic Regression"
   ]
  },
  {
   "cell_type": "code",
   "execution_count": 39,
   "metadata": {
    "colab": {
     "base_uri": "https://localhost:8080/",
     "height": 34
    },
    "colab_type": "code",
    "executionInfo": {
     "elapsed": 34063,
     "status": "ok",
     "timestamp": 1571939716042,
     "user": {
      "displayName": "Kelvin Kong",
      "photoUrl": "https://lh3.googleusercontent.com/a-/AAuE7mCWzqK8egU3Fl4e--AYVitUzxXw3LWzcoiIBaWNii0=s64",
      "userId": "08932784774640725738"
     },
     "user_tz": -480
    },
    "id": "fEZkP2Acmo_x",
    "outputId": "cb083b2f-befd-492c-e21f-2c48330c6c70"
   },
   "outputs": [],
   "source": [
    "cvec_porter_logreg_params = { 'cvec__tokenizer' : [PorterTokenizer()],\n",
    "    'cvec__stop_words':[porter_tokenized_stopwords + ['becau'] + [top.lower() for top in reddit_topics ] ] , 'cvec__max_df':[0.7], 'cvec__ngram_range':[(1,3)],\n",
    "                      'logreg__solver':['liblinear']\n",
    "}\n",
    "\n",
    "cvec_porter_logreg_gscv = GridSearchCV(cvec_logreg_pipeline, cvec_porter_logreg_params, cv=5)\n",
    "cvec_porter_logreg_gscv.fit(X_train,y_train);\n",
    "\n",
    "add_model_to_scoreboard('Count Vectorizer- PorterStemmer - Logistic Regression Model', cvec_porter_logreg_gscv)"
   ]
  },
  {
   "cell_type": "markdown",
   "metadata": {
    "colab_type": "text",
    "id": "SWmX748Pmo_3"
   },
   "source": [
    "### Model 4 : Count Vectorizer - Lemmatizer - Multinomial Naive Bayes"
   ]
  },
  {
   "cell_type": "code",
   "execution_count": 40,
   "metadata": {
    "colab": {},
    "colab_type": "code",
    "id": "H4R9rOWnmo_4"
   },
   "outputs": [],
   "source": [
    "from sklearn.naive_bayes import MultinomialNB\n",
    "mnb = MultinomialNB()"
   ]
  },
  {
   "cell_type": "code",
   "execution_count": 41,
   "metadata": {
    "colab": {},
    "colab_type": "code",
    "id": "6smg3WVAmo_9"
   },
   "outputs": [],
   "source": [
    "cvec_nb_pipeline = Pipeline(steps=[('cvec', cvec),('mnb',mnb)])\n",
    "# Show the parameters\n",
    "# cvec_nb_pipeline.get_params()"
   ]
  },
  {
   "cell_type": "code",
   "execution_count": 42,
   "metadata": {
    "colab": {},
    "colab_type": "code",
    "id": "xAfpxIyimo__"
   },
   "outputs": [],
   "source": [
    "cvec_lemma_nb_params = { 'cvec__tokenizer':[LemmaTokenizer()], 'cvec__stop_words':[lemma_tokenized_stopwords + [top.lower() for top in reddit_topics ]],\n",
    "     'cvec__max_df':[0.7, 1.0 ], 'cvec__ngram_range':[(1,3)]           \n",
    "}\n",
    "\n",
    "cvec_lemma_nb_gs = GridSearchCV(cvec_nb_pipeline, cvec_lemma_nb_params, cv=5 )\n",
    "cvec_lemma_nb_gs.fit(X_train,y_train)\n",
    "\n",
    "add_model_to_scoreboard('Count Vectorizer - Lemmatizer - MultinomialNB', cvec_lemma_nb_gs)"
   ]
  },
  {
   "cell_type": "markdown",
   "metadata": {
    "colab_type": "text",
    "id": "_jabu5LumpAC"
   },
   "source": [
    "### Model 5 : TF-IDF - Lemmatizer - Multinomial Naive Bayes"
   ]
  },
  {
   "cell_type": "code",
   "execution_count": 43,
   "metadata": {
    "colab": {},
    "colab_type": "code",
    "id": "4F2OoR1impAC"
   },
   "outputs": [],
   "source": [
    "# Instantiate tf-idf vectorizer\n",
    "tvec = TfidfVectorizer()"
   ]
  },
  {
   "cell_type": "code",
   "execution_count": 44,
   "metadata": {
    "colab": {},
    "colab_type": "code",
    "id": "5yg96-SlmpAE"
   },
   "outputs": [],
   "source": [
    "tfidf_lemmatizer_nb_pipeline = Pipeline(steps=[('tvec', tvec),('mnb',mnb)])\n",
    "# tfidf_lemmatizer_nb_pipeline.get_params()"
   ]
  },
  {
   "cell_type": "code",
   "execution_count": 45,
   "metadata": {
    "colab": {},
    "colab_type": "code",
    "id": "H693q_XmmpAJ"
   },
   "outputs": [],
   "source": [
    "# Create grid search parameters\n",
    "tfidf_lemmatizer_nb_params = {\n",
    "    'tvec__tokenizer':[LemmaTokenizer()], 'tvec__stop_words': [lemma_tokenized_stopwords + [top.lower() for top in reddit_topics ] ],\n",
    "    'tvec__min_df':[1], 'tvec__max_df':[1.0],'tvec__ngram_range':[(1,2)], \n",
    "    'tvec__max_features':[3000]\n",
    "}\n",
    "\n",
    "# Create grid search for tfidf lemmatizer\n",
    "tfidf_lemmatizer_nb_gs = GridSearchCV(tfidf_lemmatizer_nb_pipeline, tfidf_lemmatizer_nb_params, cv=5 )\n",
    "tfidf_lemmatizer_nb_gs.fit(X_train,y_train)\n",
    "add_model_to_scoreboard('Tf-Idf - Lemmatizer - MultinomialNB', tfidf_lemmatizer_nb_gs)"
   ]
  },
  {
   "cell_type": "markdown",
   "metadata": {
    "colab_type": "text",
    "id": "n9uvCqE4mpAL"
   },
   "source": [
    "Notes:\n",
    "- tvec_max_features \n",
    "    - 8000 > None , 5000\n",
    "    - 3000 > 1000\n",
    "- tvec__min_df\n",
    "    - 1 > 50, 10\n",
    "- tvec__max_df\n",
    "    - 1.0 > 0.7\n",
    "- tvec__ngrams:\n",
    "    - (1,2) > (1,3)"
   ]
  },
  {
   "cell_type": "markdown",
   "metadata": {
    "colab_type": "text",
    "id": "Yz8qD5CympAN"
   },
   "source": [
    "### Model 6 : TF-IDF - Lemmatizer - Multinomial Naive Bayes Model 2"
   ]
  },
  {
   "cell_type": "code",
   "execution_count": 46,
   "metadata": {
    "colab": {},
    "colab_type": "code",
    "id": "6sNAMg4ampAO"
   },
   "outputs": [],
   "source": [
    "# Create grid search parameters\n",
    "tfidf_lemmatizer_nb_params2 = {\n",
    "    'tvec__tokenizer':[LemmaTokenizer()], 'tvec__stop_words': [lemma_tokenized_stopwords + [top.lower() for top in reddit_topics ]],\n",
    "    'tvec__min_df':[3, 5 ], 'tvec__max_df':[ 0.8 ],'tvec__ngram_range':[(1,2)], \n",
    "    'tvec__max_features':[3000], 'mnb__alpha': [1.0]\n",
    "}\n",
    "\n",
    "# Create grid search for tfidf lemmatizer\n",
    "tfidf_lemmatizer_nb_gs2 = GridSearchCV(tfidf_lemmatizer_nb_pipeline, tfidf_lemmatizer_nb_params2, cv=5 )\n",
    "tfidf_lemmatizer_nb_gs2.fit(X_train,y_train)\n",
    "add_model_to_scoreboard('Tf-Idf - Lemmatizer - MultinomialNB - 2 ', tfidf_lemmatizer_nb_gs2)"
   ]
  },
  {
   "cell_type": "markdown",
   "metadata": {
    "colab_type": "text",
    "id": "EvPz6mIvmpAR"
   },
   "source": [
    "#### Intepreting Model 4"
   ]
  },
  {
   "cell_type": "markdown",
   "metadata": {
    "colab_type": "text",
    "id": "8mH6_zNBmpAS"
   },
   "source": [
    "### Model 5 : Gradient Boosting Classifier"
   ]
  },
  {
   "cell_type": "code",
   "execution_count": 47,
   "metadata": {
    "colab": {},
    "colab_type": "code",
    "id": "ScnsYPr-mpAS"
   },
   "outputs": [],
   "source": [
    "# Try a Boosting model\n",
    "from sklearn.ensemble import GradientBoostingClassifier\n",
    "gboost = GradientBoostingClassifier()\n",
    "tfidf_lemmatizer_gb_pipeline = Pipeline(steps=[('tvec', tvec),('gb', gboost)])\n",
    "# tfidf_lemmatizer_gb_pipeline.get_params()"
   ]
  },
  {
   "cell_type": "code",
   "execution_count": 48,
   "metadata": {
    "colab": {},
    "colab_type": "code",
    "id": "B4qz_ITnmpAU"
   },
   "outputs": [],
   "source": [
    "tfidf_lemmatizer_gb_params={\n",
    "    'tvec__tokenizer':[LemmaTokenizer()], 'tvec__stop_words': [lemma_tokenized_stopwords + [top.lower() for top in reddit_topics ]],\n",
    "    'tvec__min_df':[3 ], 'tvec__max_df':[ 0.8 ],'tvec__ngram_range':[(1,2)], \n",
    "    'tvec__max_features':[3000],\n",
    "    'gb__learning_rate':[0.1], 'gb__n_estimators':[200], 'gb__max_leaf_nodes': [None], 'gb__min_samples_leaf':[10,50]\n",
    "}\n",
    "\n",
    "tfidf_lemmatizer_gb_gs = GridSearchCV(tfidf_lemmatizer_gb_pipeline, tfidf_lemmatizer_gb_params, cv=5 ).fit(X_train,y_train)\n",
    "add_model_to_scoreboard('Tf-Idf - Lemmatizer - GradientBoosting', tfidf_lemmatizer_gb_gs)"
   ]
  },
  {
   "cell_type": "markdown",
   "metadata": {
    "colab_type": "text",
    "id": "2a4_nZi8mpAW"
   },
   "source": [
    "## Model Benchmarks"
   ]
  },
  {
   "cell_type": "code",
   "execution_count": 49,
   "metadata": {
    "colab": {
     "base_uri": "https://localhost:8080/",
     "height": 254
    },
    "colab_type": "code",
    "executionInfo": {
     "elapsed": 60952,
     "status": "ok",
     "timestamp": 1571937756548,
     "user": {
      "displayName": "Kelvin Kong",
      "photoUrl": "https://lh3.googleusercontent.com/a-/AAuE7mCWzqK8egU3Fl4e--AYVitUzxXw3LWzcoiIBaWNii0=s64",
      "userId": "08932784774640725738"
     },
     "user_tz": -480
    },
    "id": "tzpX0sGympAX",
    "outputId": "35b3d2d4-b097-45da-f3a3-416288760c1b"
   },
   "outputs": [
    {
     "data": {
      "text/html": [
       "<div>\n",
       "<style scoped>\n",
       "    .dataframe tbody tr th:only-of-type {\n",
       "        vertical-align: middle;\n",
       "    }\n",
       "\n",
       "    .dataframe tbody tr th {\n",
       "        vertical-align: top;\n",
       "    }\n",
       "\n",
       "    .dataframe thead th {\n",
       "        text-align: right;\n",
       "    }\n",
       "</style>\n",
       "<table border=\"1\" class=\"dataframe\">\n",
       "  <thead>\n",
       "    <tr style=\"text-align: right;\">\n",
       "      <th></th>\n",
       "      <th>Model</th>\n",
       "      <th>Training Score</th>\n",
       "      <th>Validation Score</th>\n",
       "      <th>Auc Roc</th>\n",
       "      <th>Sensitivity/Recall</th>\n",
       "      <th>Precision</th>\n",
       "      <th>F1</th>\n",
       "    </tr>\n",
       "  </thead>\n",
       "  <tbody>\n",
       "    <tr>\n",
       "      <td>3</td>\n",
       "      <td>Count Vectorizer - Lemmatizer - MultinomialNB</td>\n",
       "      <td>0.998155</td>\n",
       "      <td>0.766585</td>\n",
       "      <td>0.803617</td>\n",
       "      <td>0.913242</td>\n",
       "      <td>0.724638</td>\n",
       "      <td>0.808081</td>\n",
       "    </tr>\n",
       "    <tr>\n",
       "      <td>5</td>\n",
       "      <td>Tf-Idf - Lemmatizer - MultinomialNB - 2</td>\n",
       "      <td>0.901599</td>\n",
       "      <td>0.820639</td>\n",
       "      <td>0.896592</td>\n",
       "      <td>0.863014</td>\n",
       "      <td>0.814655</td>\n",
       "      <td>0.838137</td>\n",
       "    </tr>\n",
       "    <tr>\n",
       "      <td>4</td>\n",
       "      <td>Tf-Idf - Lemmatizer - MultinomialNB</td>\n",
       "      <td>0.903444</td>\n",
       "      <td>0.818182</td>\n",
       "      <td>0.896034</td>\n",
       "      <td>0.858447</td>\n",
       "      <td>0.813853</td>\n",
       "      <td>0.835556</td>\n",
       "    </tr>\n",
       "    <tr>\n",
       "      <td>0</td>\n",
       "      <td>Count Vectorizer - Logistic Regression Model</td>\n",
       "      <td>0.998770</td>\n",
       "      <td>0.808354</td>\n",
       "      <td>0.876591</td>\n",
       "      <td>0.853881</td>\n",
       "      <td>0.802575</td>\n",
       "      <td>0.827434</td>\n",
       "    </tr>\n",
       "    <tr>\n",
       "      <td>1</td>\n",
       "      <td>Count Vectorizer- Lemmatizer - Logistic Regres...</td>\n",
       "      <td>0.997540</td>\n",
       "      <td>0.805897</td>\n",
       "      <td>0.876105</td>\n",
       "      <td>0.844749</td>\n",
       "      <td>0.804348</td>\n",
       "      <td>0.824053</td>\n",
       "    </tr>\n",
       "    <tr>\n",
       "      <td>2</td>\n",
       "      <td>Count Vectorizer- PorterStemmer - Logistic Reg...</td>\n",
       "      <td>0.999385</td>\n",
       "      <td>0.805897</td>\n",
       "      <td>0.862674</td>\n",
       "      <td>0.835616</td>\n",
       "      <td>0.809735</td>\n",
       "      <td>0.822472</td>\n",
       "    </tr>\n",
       "    <tr>\n",
       "      <td>6</td>\n",
       "      <td>Tf-Idf - Lemmatizer - GradientBoosting</td>\n",
       "      <td>0.912054</td>\n",
       "      <td>0.783784</td>\n",
       "      <td>0.863038</td>\n",
       "      <td>0.808219</td>\n",
       "      <td>0.793722</td>\n",
       "      <td>0.800905</td>\n",
       "    </tr>\n",
       "  </tbody>\n",
       "</table>\n",
       "</div>"
      ],
      "text/plain": [
       "                                               Model  Training Score  \\\n",
       "3      Count Vectorizer - Lemmatizer - MultinomialNB        0.998155   \n",
       "5           Tf-Idf - Lemmatizer - MultinomialNB - 2         0.901599   \n",
       "4                Tf-Idf - Lemmatizer - MultinomialNB        0.903444   \n",
       "0       Count Vectorizer - Logistic Regression Model        0.998770   \n",
       "1  Count Vectorizer- Lemmatizer - Logistic Regres...        0.997540   \n",
       "2  Count Vectorizer- PorterStemmer - Logistic Reg...        0.999385   \n",
       "6             Tf-Idf - Lemmatizer - GradientBoosting        0.912054   \n",
       "\n",
       "   Validation Score   Auc Roc  Sensitivity/Recall  Precision        F1  \n",
       "3          0.766585  0.803617            0.913242   0.724638  0.808081  \n",
       "5          0.820639  0.896592            0.863014   0.814655  0.838137  \n",
       "4          0.818182  0.896034            0.858447   0.813853  0.835556  \n",
       "0          0.808354  0.876591            0.853881   0.802575  0.827434  \n",
       "1          0.805897  0.876105            0.844749   0.804348  0.824053  \n",
       "2          0.805897  0.862674            0.835616   0.809735  0.822472  \n",
       "6          0.783784  0.863038            0.808219   0.793722  0.800905  "
      ]
     },
     "execution_count": 49,
     "metadata": {},
     "output_type": "execute_result"
    }
   ],
   "source": [
    "scoreboard= get_model_scoreboard(optimize_by='Sensitivity/Recall')\n",
    "scoreboard['df']"
   ]
  },
  {
   "cell_type": "markdown",
   "metadata": {
    "colab_type": "text",
    "id": "Yz9GAKbD6Oaq"
   },
   "source": [
    "### Optimizing for Recall\n",
    "In our case, the cost of the False Negatives(Classifying Christians as atheists, won't receive church updates) is higher than of False Positives (Classifying atheists as Christians, will wrongly receive updates ), as we do not mind emailing the brochurs by mistake to a few atheists, but we do not want to miss out any existing Christians as their numbers are already dwindling. Thus, it make sense for us to optimize the model based on Sensitivity/Recall, as shown in the sorted table above. \n"
   ]
  },
  {
   "cell_type": "markdown",
   "metadata": {
    "colab_type": "text",
    "id": "EDbo2kFQmpAY"
   },
   "source": [
    "### Plotting the AUC ROC Curve of the best model"
   ]
  },
  {
   "cell_type": "code",
   "execution_count": 50,
   "metadata": {
    "colab": {
     "base_uri": "https://localhost:8080/",
     "height": 527
    },
    "colab_type": "code",
    "executionInfo": {
     "elapsed": 2169,
     "status": "ok",
     "timestamp": 1571937770682,
     "user": {
      "displayName": "Kelvin Kong",
      "photoUrl": "https://lh3.googleusercontent.com/a-/AAuE7mCWzqK8egU3Fl4e--AYVitUzxXw3LWzcoiIBaWNii0=s64",
      "userId": "08932784774640725738"
     },
     "user_tz": -480
    },
    "id": "fi5uQV7NmpAa",
    "outputId": "0d44d749-beab-47dc-df4d-479163058e44",
    "scrolled": false
   },
   "outputs": [
    {
     "data": {
      "image/png": "[encoded data removed]",
      "text/plain": [
       "<Figure size 1008x576 with 1 Axes>"
      ]
     },
     "metadata": {
      "needs_background": "light"
     },
     "output_type": "display_data"
    }
   ],
   "source": [
    "get_roc_curve(scoreboard['best_estimator_'])"
   ]
  },
  {
   "cell_type": "markdown",
   "metadata": {
    "colab_type": "text",
    "id": "dbZ03foN_jVH"
   },
   "source": [
    "As the choosen model was optimized for Sensitivity, it did not have a very good Area Under Curve for ROC score."
   ]
  },
  {
   "cell_type": "markdown",
   "metadata": {
    "colab_type": "text",
    "id": "Q_gl8UGGmpAc"
   },
   "source": [
    "### Plotting the distribution of probabilities"
   ]
  },
  {
   "cell_type": "code",
   "execution_count": 51,
   "metadata": {
    "colab": {
     "base_uri": "https://localhost:8080/",
     "height": 584
    },
    "colab_type": "code",
    "executionInfo": {
     "elapsed": 2903,
     "status": "ok",
     "timestamp": 1571937771507,
     "user": {
      "displayName": "Kelvin Kong",
      "photoUrl": "https://lh3.googleusercontent.com/a-/AAuE7mCWzqK8egU3Fl4e--AYVitUzxXw3LWzcoiIBaWNii0=s64",
      "userId": "08932784774640725738"
     },
     "user_tz": -480
    },
    "id": "UExD42_ympAc",
    "outputId": "29da8a45-20fc-422d-ca97-d507fa317f4d",
    "scrolled": false
   },
   "outputs": [
    {
     "data": {
      "text/plain": [
       "<matplotlib.axes._subplots.AxesSubplot at 0x23103335a48>"
      ]
     },
     "execution_count": 51,
     "metadata": {},
     "output_type": "execute_result"
    },
    {
     "data": {
      "image/png": "[encoded data removed]",
      "text/plain": [
       "<Figure size 1080x648 with 1 Axes>"
      ]
     },
     "metadata": {
      "needs_background": "light"
     },
     "output_type": "display_data"
    }
   ],
   "source": [
    "get_probability_dist(scoreboard['best_estimator_'])"
   ]
  },
  {
   "cell_type": "markdown",
   "metadata": {
    "colab_type": "text",
    "id": "0-lYbI2v_7V6"
   },
   "source": [
    "As the model was optimized for sensitivity, we could see that there are more False Positives than there are False Negatives in the probability distribution. It fits our requirements where False Negatives are minimized. We choose not to lower the default threshold of 0.5 as the model is good enough as it is (we do not want to further increase False positives)\n"
   ]
  },
  {
   "cell_type": "markdown",
   "metadata": {
    "colab_type": "text",
    "id": "NtQYWXM7mpAf"
   },
   "source": [
    "## Visualizing the most frequent words in each subreddit"
   ]
  },
  {
   "cell_type": "code",
   "execution_count": 52,
   "metadata": {
    "colab": {
     "base_uri": "https://localhost:8080/",
     "height": 513
    },
    "colab_type": "code",
    "executionInfo": {
     "elapsed": 3271,
     "status": "ok",
     "timestamp": 1571937771940,
     "user": {
      "displayName": "Kelvin Kong",
      "photoUrl": "https://lh3.googleusercontent.com/a-/AAuE7mCWzqK8egU3Fl4e--AYVitUzxXw3LWzcoiIBaWNii0=s64",
      "userId": "08932784774640725738"
     },
     "user_tz": -480
    },
    "id": "gTUcrgsjmpAf",
    "outputId": "f48881bd-b76d-425c-d86e-65e04ee9a666"
   },
   "outputs": [
    {
     "data": {
      "image/png": "[encoded data removed]",
      "text/plain": [
       "<Figure size 936x576 with 1 Axes>"
      ]
     },
     "metadata": {
      "needs_background": "light"
     },
     "output_type": "display_data"
    }
   ],
   "source": [
    "# To visualize the Count Vectorizer\n",
    "def get_top_words(subreddit):\n",
    "    cvec = CountVectorizer(stop_words= stopwords.words(\"english\") , max_df=0.7, max_features=80)\n",
    "    X_train_cvec_transformed = cvec.fit_transform(reddit_df[reddit_df['topic'] == subreddit ]['content'])\n",
    "    X_train_cvec_pd = pd.DataFrame(X_train_cvec_transformed.toarray(), columns=cvec.get_feature_names())\n",
    "    X_train_cvec_pd = X_train_cvec_pd[[col for col in X_train_cvec_pd.columns if col not in set(stopwords.words(\"english\")) ]]\n",
    "    X_train_cvec_pd = X_train_cvec_pd[X_train_cvec_pd.sum().sort_values(ascending=False).index]\n",
    "\n",
    "    plt.figure(figsize=(13,8))\n",
    "    X_train_cvec_pd.iloc[:,:15].sum().plot.barh()\n",
    "    plt.title(f'Word Frequency Chart for subreddit : {subreddit}')\n",
    "    plt.xlabel(\"Word\")\n",
    "    plt.ylabel(\"Frequency\");\n",
    "    \n",
    "\n",
    "get_top_words( reddit_topics[0])"
   ]
  },
  {
   "cell_type": "markdown",
   "metadata": {
    "colab_type": "text",
    "id": "024Es_kcBkB2"
   },
   "source": [
    "From the bar chart above we could see that life, love, jesus , bible are among the most distinguising words used by Christians. Most frequent words like god, like, people, would, one,  christian, church, also appear frequently in the atheism category as shown below"
   ]
  },
  {
   "cell_type": "code",
   "execution_count": 53,
   "metadata": {
    "colab": {
     "base_uri": "https://localhost:8080/",
     "height": 513
    },
    "colab_type": "code",
    "executionInfo": {
     "elapsed": 3661,
     "status": "ok",
     "timestamp": 1571937772355,
     "user": {
      "displayName": "Kelvin Kong",
      "photoUrl": "https://lh3.googleusercontent.com/a-/AAuE7mCWzqK8egU3Fl4e--AYVitUzxXw3LWzcoiIBaWNii0=s64",
      "userId": "08932784774640725738"
     },
     "user_tz": -480
    },
    "id": "hgw9L9xnmpAh",
    "outputId": "a06fb1c2-2037-4fc7-b1ae-aa52a28e212c"
   },
   "outputs": [
    {
     "data": {
      "image/png": "[encoded data removed]",
      "text/plain": [
       "<Figure size 936x576 with 1 Axes>"
      ]
     },
     "metadata": {
      "needs_background": "light"
     },
     "output_type": "display_data"
    }
   ],
   "source": [
    "get_top_words( reddit_topics[1])"
   ]
  },
  {
   "cell_type": "markdown",
   "metadata": {
    "colab_type": "text",
    "id": "Yz3sO38xBEyD"
   },
   "source": [
    "From the chart above we can see the most frequent words used by the atheist community. Aside from common words like 'god, people, like' , most distinguising words used by atheists are religion, religious, atheist, think and really."
   ]
  },
  {
   "cell_type": "markdown",
   "metadata": {
    "colab_type": "text",
    "id": "3vUT9gl-mpAj"
   },
   "source": [
    "## Export the best Model"
   ]
  },
  {
   "cell_type": "code",
   "execution_count": 54,
   "metadata": {
    "colab": {
     "base_uri": "https://localhost:8080/",
     "height": 34
    },
    "colab_type": "code",
    "executionInfo": {
     "elapsed": 9442,
     "status": "ok",
     "timestamp": 1571937778165,
     "user": {
      "displayName": "Kelvin Kong",
      "photoUrl": "https://lh3.googleusercontent.com/a-/AAuE7mCWzqK8egU3Fl4e--AYVitUzxXw3LWzcoiIBaWNii0=s64",
      "userId": "08932784774640725738"
     },
     "user_tz": -480
    },
    "id": "pnAvrF1impAk",
    "outputId": "a35999d1-de74-4c5c-af43-90c330407ad3"
   },
   "outputs": [
    {
     "data": {
      "text/plain": [
       "['reddit_atheism_christianity_best_model.pkl']"
      ]
     },
     "execution_count": 54,
     "metadata": {},
     "output_type": "execute_result"
    }
   ],
   "source": [
    "import joblib\n",
    "\n",
    "joblib.dump(scoreboard['best_estimator_'], filename.split('.')[0] + '_best_model.pkl' , compress = 1)"
   ]
  },
  {
   "cell_type": "markdown",
   "metadata": {
    "colab_type": "text",
    "id": "uhhba-b4mpAr"
   },
   "source": [
    "## Running the final model on Test set"
   ]
  },
  {
   "cell_type": "code",
   "execution_count": 55,
   "metadata": {
    "colab": {},
    "colab_type": "code",
    "id": "WPiEEIBompAs"
   },
   "outputs": [],
   "source": [
    "final_model = scoreboard['best_estimator_']\n",
    "## Final model is the best model trained on the entire X_train and y_train with no cross validations\n"
   ]
  },
  {
   "cell_type": "code",
   "execution_count": 56,
   "metadata": {
    "colab": {
     "base_uri": "https://localhost:8080/",
     "height": 77
    },
    "colab_type": "code",
    "executionInfo": {
     "elapsed": 14573,
     "status": "ok",
     "timestamp": 1571937783327,
     "user": {
      "displayName": "Kelvin Kong",
      "photoUrl": "https://lh3.googleusercontent.com/a-/AAuE7mCWzqK8egU3Fl4e--AYVitUzxXw3LWzcoiIBaWNii0=s64",
      "userId": "08932784774640725738"
     },
     "user_tz": -480
    },
    "id": "LR43RPEWmpAw",
    "outputId": "be863bc1-f916-4cc3-adf5-32ba8e5d4510"
   },
   "outputs": [
    {
     "data": {
      "text/html": [
       "<div>\n",
       "<style scoped>\n",
       "    .dataframe tbody tr th:only-of-type {\n",
       "        vertical-align: middle;\n",
       "    }\n",
       "\n",
       "    .dataframe tbody tr th {\n",
       "        vertical-align: top;\n",
       "    }\n",
       "\n",
       "    .dataframe thead th {\n",
       "        text-align: right;\n",
       "    }\n",
       "</style>\n",
       "<table border=\"1\" class=\"dataframe\">\n",
       "  <thead>\n",
       "    <tr style=\"text-align: right;\">\n",
       "      <th></th>\n",
       "      <th>Model</th>\n",
       "      <th>Training Score</th>\n",
       "      <th>Validation Score</th>\n",
       "      <th>Auc Roc</th>\n",
       "      <th>Sensitivity/Recall</th>\n",
       "      <th>Precision</th>\n",
       "      <th>F1</th>\n",
       "    </tr>\n",
       "  </thead>\n",
       "  <tbody>\n",
       "    <tr>\n",
       "      <td>0</td>\n",
       "      <td>final_model</td>\n",
       "      <td>0.998155</td>\n",
       "      <td>0.766585</td>\n",
       "      <td>0.803617</td>\n",
       "      <td>0.913242</td>\n",
       "      <td>0.724638</td>\n",
       "      <td>0.808081</td>\n",
       "    </tr>\n",
       "  </tbody>\n",
       "</table>\n",
       "</div>"
      ],
      "text/plain": [
       "         Model  Training Score  Validation Score   Auc Roc  \\\n",
       "0  final_model        0.998155          0.766585  0.803617   \n",
       "\n",
       "   Sensitivity/Recall  Precision        F1  \n",
       "0            0.913242   0.724638  0.808081  "
      ]
     },
     "execution_count": 56,
     "metadata": {},
     "output_type": "execute_result"
    }
   ],
   "source": [
    "# Final model scores on the validation set\n",
    "best_model_scores = get_model_scoreboard(model_dic={'final_model':final_model})\n",
    "best_model_scores['df']"
   ]
  },
  {
   "cell_type": "code",
   "execution_count": 57,
   "metadata": {
    "colab": {
     "base_uri": "https://localhost:8080/",
     "height": 77
    },
    "colab_type": "code",
    "executionInfo": {
     "elapsed": 20076,
     "status": "ok",
     "timestamp": 1571937788846,
     "user": {
      "displayName": "Kelvin Kong",
      "photoUrl": "https://lh3.googleusercontent.com/a-/AAuE7mCWzqK8egU3Fl4e--AYVitUzxXw3LWzcoiIBaWNii0=s64",
      "userId": "08932784774640725738"
     },
     "user_tz": -480
    },
    "id": "PxLblOtJmpA5",
    "outputId": "905b57b9-fccd-4610-89ba-e135be745521"
   },
   "outputs": [
    {
     "data": {
      "text/html": [
       "<div>\n",
       "<style scoped>\n",
       "    .dataframe tbody tr th:only-of-type {\n",
       "        vertical-align: middle;\n",
       "    }\n",
       "\n",
       "    .dataframe tbody tr th {\n",
       "        vertical-align: top;\n",
       "    }\n",
       "\n",
       "    .dataframe thead th {\n",
       "        text-align: right;\n",
       "    }\n",
       "</style>\n",
       "<table border=\"1\" class=\"dataframe\">\n",
       "  <thead>\n",
       "    <tr style=\"text-align: right;\">\n",
       "      <th></th>\n",
       "      <th>Model</th>\n",
       "      <th>Training Score</th>\n",
       "      <th>Validation Score</th>\n",
       "      <th>Auc Roc</th>\n",
       "      <th>Sensitivity/Recall</th>\n",
       "      <th>Precision</th>\n",
       "      <th>F1</th>\n",
       "    </tr>\n",
       "  </thead>\n",
       "  <tbody>\n",
       "    <tr>\n",
       "      <td>0</td>\n",
       "      <td>final_model</td>\n",
       "      <td>0.998155</td>\n",
       "      <td>0.722986</td>\n",
       "      <td>0.785541</td>\n",
       "      <td>0.90146</td>\n",
       "      <td>0.684211</td>\n",
       "      <td>0.777953</td>\n",
       "    </tr>\n",
       "  </tbody>\n",
       "</table>\n",
       "</div>"
      ],
      "text/plain": [
       "         Model  Training Score  Validation Score   Auc Roc  \\\n",
       "0  final_model        0.998155          0.722986  0.785541   \n",
       "\n",
       "   Sensitivity/Recall  Precision        F1  \n",
       "0             0.90146   0.684211  0.777953  "
      ]
     },
     "execution_count": 57,
     "metadata": {},
     "output_type": "execute_result"
    }
   ],
   "source": [
    "# Final model scores on the Test set\n",
    "best_model_scores = get_model_scoreboard(model_dic={'final_model':final_model}, X=X_test, y=y_test)\n",
    "best_model_scores['df']"
   ]
  },
  {
   "cell_type": "markdown",
   "metadata": {
    "colab_type": "text",
    "id": "KUUYaG0fDQh4"
   },
   "source": [
    "On the final test set, our model is able to perform with a sensitivity score of 0.92, which is a reasonably high score."
   ]
  },
  {
   "cell_type": "markdown",
   "metadata": {
    "colab_type": "text",
    "id": "LiAd_KJTmpA-"
   },
   "source": [
    "## Conclusion"
   ]
  },
  {
   "cell_type": "code",
   "execution_count": 58,
   "metadata": {
    "colab": {
     "base_uri": "https://localhost:8080/",
     "height": 50
    },
    "colab_type": "code",
    "executionInfo": {
     "elapsed": 902,
     "status": "ok",
     "timestamp": 1571937880149,
     "user": {
      "displayName": "Kelvin Kong",
      "photoUrl": "https://lh3.googleusercontent.com/a-/AAuE7mCWzqK8egU3Fl4e--AYVitUzxXw3LWzcoiIBaWNii0=s64",
      "userId": "08932784774640725738"
     },
     "user_tz": -480
    },
    "id": "Q5ELRqbampA_",
    "outputId": "21ea8c98-ccb5-4dd8-ac3b-8365666dc966"
   },
   "outputs": [
    {
     "name": "stdout",
     "output_type": "stream",
     "text": [
      "The best performing model is Count Vectorizer - Lemmatizer - MultinomialNB \n",
      "with a F1 score of 0.8080808080808081 and sensitivity of 0.91324200913242 on the Test Set.\n"
     ]
    }
   ],
   "source": [
    "print(f\"The best performing model is {scoreboard['best_estimator_name']} \\nwith a F1 score of {scoreboard['df'].iloc[0]['F1']} \\\n",
    "and sensitivity of {scoreboard['df'].iloc[0]['Sensitivity/Recall']} on the Test Set.\")"
   ]
  }
 ],
 "metadata": {
  "colab": {
   "collapsed_sections": [
    "H-a1uoEJmo-0",
    "EvPz6mIvmpAR"
   ],
   "name": "reddit-classifier.py.ipynb",
   "provenance": [],
   "toc_visible": true
  },
  "kernelspec": {
   "display_name": "Python 3",
   "language": "python",
   "name": "python3"
  },
  "language_info": {
   "codemirror_mode": {
    "name": "ipython",
    "version": 3
   },
   "file_extension": ".py",
   "mimetype": "text/x-python",
   "name": "python",
   "nbconvert_exporter": "python",
   "pygments_lexer": "ipython3",
   "version": "3.7.4"
  },
  "toc": {
   "base_numbering": 1,
   "nav_menu": {},
   "number_sections": true,
   "sideBar": true,
   "skip_h1_title": true,
   "title_cell": "Contents",
   "title_sidebar": "Contents",
   "toc_cell": true,
   "toc_position": {
    "height": "calc(100% - 180px)",
    "left": "10px",
    "top": "150px",
    "width": "386.4px"
   },
   "toc_section_display": true,
   "toc_window_display": true
  },
  "varInspector": {
   "cols": {
    "lenName": 16,
    "lenType": 16,
    "lenVar": 40
   },
   "kernels_config": {
    "python": {
     "delete_cmd_postfix": "",
     "delete_cmd_prefix": "del ",
     "library": "var_list.py",
     "varRefreshCmd": "print(var_dic_list())"
    },
    "r": {
     "delete_cmd_postfix": ") ",
     "delete_cmd_prefix": "rm(",
     "library": "var_list.r",
     "varRefreshCmd": "cat(var_dic_list()) "
    }
   },
   "oldHeight": 193.20000000000002,
   "position": {
    "height": "40px",
    "left": "1063px",
    "right": "20px",
    "top": "75px",
    "width": "417.8px"
   },
   "types_to_exclude": [
    "module",
    "function",
    "builtin_function_or_method",
    "instance",
    "_Feature"
   ],
   "varInspector_section_display": "none",
   "window_display": false
  }
 },
 "nbformat": 4,
 "nbformat_minor": 1
}
