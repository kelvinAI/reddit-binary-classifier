{
 "cells": [
  {
   "cell_type": "markdown",
   "metadata": {},
   "source": [
    "# Reddit Classifier"
   ]
  },
  {
   "cell_type": "markdown",
   "metadata": {
    "toc": true
   },
   "source": [
    "<h1>Contents<span class=\"tocSkip\"></span></h1>\n",
    "<div class=\"toc\"><ul class=\"toc-item\"><li><span><a href=\"#Problem-Statement:\" data-toc-modified-id=\"Problem-Statement:-1\"><span class=\"toc-item-num\">1&nbsp;&nbsp;</span>Problem Statement:</a></span></li><li><span><a href=\"#Executive-summary\" data-toc-modified-id=\"Executive-summary-2\"><span class=\"toc-item-num\">2&nbsp;&nbsp;</span>Executive summary</a></span></li><li><span><a href=\"#Scraping-for-data\" data-toc-modified-id=\"Scraping-for-data-3\"><span class=\"toc-item-num\">3&nbsp;&nbsp;</span>Scraping for data</a></span></li><li><span><a href=\"#Read-the-csv-file\" data-toc-modified-id=\"Read-the-csv-file-4\"><span class=\"toc-item-num\">4&nbsp;&nbsp;</span>Read the csv file</a></span></li><li><span><a href=\"#EDA:-Exploring-the-dataset\" data-toc-modified-id=\"EDA:-Exploring-the-dataset-5\"><span class=\"toc-item-num\">5&nbsp;&nbsp;</span>EDA: Exploring the dataset</a></span><ul class=\"toc-item\"><li><span><a href=\"#Word-cloud-for-first-category\" data-toc-modified-id=\"Word-cloud-for-first-category-5.1\"><span class=\"toc-item-num\">5.1&nbsp;&nbsp;</span>Word cloud for first category</a></span></li><li><span><a href=\"#Word-cloud-for-second-category\" data-toc-modified-id=\"Word-cloud-for-second-category-5.2\"><span class=\"toc-item-num\">5.2&nbsp;&nbsp;</span>Word cloud for second category</a></span></li></ul></li><li><span><a href=\"#Feature-Engineering-:-Train-test-split\" data-toc-modified-id=\"Feature-Engineering-:-Train-test-split-6\"><span class=\"toc-item-num\">6&nbsp;&nbsp;</span>Feature Engineering : Train test split</a></span><ul class=\"toc-item\"><li><span><a href=\"#Creating-X-and-y\" data-toc-modified-id=\"Creating-X-and-y-6.1\"><span class=\"toc-item-num\">6.1&nbsp;&nbsp;</span>Creating X and y</a></span></li><li><span><a href=\"#Baseline-accuracy\" data-toc-modified-id=\"Baseline-accuracy-6.2\"><span class=\"toc-item-num\">6.2&nbsp;&nbsp;</span>Baseline accuracy</a></span></li></ul></li><li><span><a href=\"#NLP-Pipeline\" data-toc-modified-id=\"NLP-Pipeline-7\"><span class=\"toc-item-num\">7&nbsp;&nbsp;</span>NLP Pipeline</a></span><ul class=\"toc-item\"><li><span><a href=\"#Tokenizing,-Stemming/Lemming-and-Vectorization\" data-toc-modified-id=\"Tokenizing,-Stemming/Lemming-and-Vectorization-7.1\"><span class=\"toc-item-num\">7.1&nbsp;&nbsp;</span>Tokenizing, Stemming/Lemming and Vectorization</a></span></li><li><span><a href=\"#Model-1-:-Count-Vectorizer---Logistic-Regression\" data-toc-modified-id=\"Model-1-:-Count-Vectorizer---Logistic-Regression-7.2\"><span class=\"toc-item-num\">7.2&nbsp;&nbsp;</span>Model 1 : Count Vectorizer - Logistic Regression</a></span></li><li><span><a href=\"#Model-2-:-Count-Vectorizer---Lemmatizer---Logistic-Regression\" data-toc-modified-id=\"Model-2-:-Count-Vectorizer---Lemmatizer---Logistic-Regression-7.3\"><span class=\"toc-item-num\">7.3&nbsp;&nbsp;</span>Model 2 : Count Vectorizer - Lemmatizer - Logistic Regression</a></span><ul class=\"toc-item\"><li><span><a href=\"#Scores-and-best-parameters-obtained-from-Grid-Search-based-on-this-dataset-is:\" data-toc-modified-id=\"Scores-and-best-parameters-obtained-from-Grid-Search-based-on-this-dataset-is:-7.3.1\"><span class=\"toc-item-num\">7.3.1&nbsp;&nbsp;</span>Scores and best parameters obtained from Grid Search based on this dataset is:</a></span></li></ul></li><li><span><a href=\"#Model-3-:-Count-Vectorizer---Porter-Stemmer---Logistic-Regression\" data-toc-modified-id=\"Model-3-:-Count-Vectorizer---Porter-Stemmer---Logistic-Regression-7.4\"><span class=\"toc-item-num\">7.4&nbsp;&nbsp;</span>Model 3 : Count Vectorizer - Porter Stemmer - Logistic Regression</a></span></li><li><span><a href=\"#Model-4-:-Count-Vectorizer---Lemmatizer---Multinomial-Naive-Bayes\" data-toc-modified-id=\"Model-4-:-Count-Vectorizer---Lemmatizer---Multinomial-Naive-Bayes-7.5\"><span class=\"toc-item-num\">7.5&nbsp;&nbsp;</span>Model 4 : Count Vectorizer - Lemmatizer - Multinomial Naive Bayes</a></span></li><li><span><a href=\"#Model-5-:-TF-IDF---Lemmatizer---Multinomial-Naive-Bayes\" data-toc-modified-id=\"Model-5-:-TF-IDF---Lemmatizer---Multinomial-Naive-Bayes-7.6\"><span class=\"toc-item-num\">7.6&nbsp;&nbsp;</span>Model 5 : TF-IDF - Lemmatizer - Multinomial Naive Bayes</a></span></li><li><span><a href=\"#Model-6-:-TF-IDF---Lemmatizer---Multinomial-Naive-Bayes-Model-2\" data-toc-modified-id=\"Model-6-:-TF-IDF---Lemmatizer---Multinomial-Naive-Bayes-Model-2-7.7\"><span class=\"toc-item-num\">7.7&nbsp;&nbsp;</span>Model 6 : TF-IDF - Lemmatizer - Multinomial Naive Bayes Model 2</a></span><ul class=\"toc-item\"><li><span><a href=\"#Intepreting-Model-4\" data-toc-modified-id=\"Intepreting-Model-4-7.7.1\"><span class=\"toc-item-num\">7.7.1&nbsp;&nbsp;</span>Intepreting Model 4</a></span></li></ul></li><li><span><a href=\"#Model-5-:-Gradient-Boosting-Classifier\" data-toc-modified-id=\"Model-5-:-Gradient-Boosting-Classifier-7.8\"><span class=\"toc-item-num\">7.8&nbsp;&nbsp;</span>Model 5 : Gradient Boosting Classifier</a></span></li></ul></li><li><span><a href=\"#Model-Benchmarks\" data-toc-modified-id=\"Model-Benchmarks-8\"><span class=\"toc-item-num\">8&nbsp;&nbsp;</span>Model Benchmarks</a></span><ul class=\"toc-item\"><li><span><a href=\"#Plotting-the-AUC-ROC-Curve-of-the-best-model\" data-toc-modified-id=\"Plotting-the-AUC-ROC-Curve-of-the-best-model-8.1\"><span class=\"toc-item-num\">8.1&nbsp;&nbsp;</span>Plotting the AUC ROC Curve of the best model</a></span></li><li><span><a href=\"#Plotting-the-distribution-of-probabilities\" data-toc-modified-id=\"Plotting-the-distribution-of-probabilities-8.2\"><span class=\"toc-item-num\">8.2&nbsp;&nbsp;</span>Plotting the distribution of probabilities</a></span></li></ul></li><li><span><a href=\"#Visualizing-the-most-frequent-words-in-each-subreddit\" data-toc-modified-id=\"Visualizing-the-most-frequent-words-in-each-subreddit-9\"><span class=\"toc-item-num\">9&nbsp;&nbsp;</span>Visualizing the most frequent words in each subreddit</a></span></li><li><span><a href=\"#Export-the-best-Model\" data-toc-modified-id=\"Export-the-best-Model-10\"><span class=\"toc-item-num\">10&nbsp;&nbsp;</span>Export the best Model</a></span></li><li><span><a href=\"#Running-the-final-model-on-Test-set\" data-toc-modified-id=\"Running-the-final-model-on-Test-set-11\"><span class=\"toc-item-num\">11&nbsp;&nbsp;</span>Running the final model on Test set</a></span></li><li><span><a href=\"#Conclusion\" data-toc-modified-id=\"Conclusion-12\"><span class=\"toc-item-num\">12&nbsp;&nbsp;</span>Conclusion</a></span></li></ul></div>"
   ]
  },
  {
   "cell_type": "markdown",
   "metadata": {},
   "source": [
    "## Problem Statement:\n",
    "\n",
    "KPI / Business "
   ]
  },
  {
   "cell_type": "markdown",
   "metadata": {},
   "source": [
    "## Executive summary\n",
    "Scape the Reddit website for two topics, and build a binary classifier that will classify which topic the text originate from"
   ]
  },
  {
   "cell_type": "markdown",
   "metadata": {},
   "source": [
    "## Scraping for data"
   ]
  },
  {
   "cell_type": "code",
   "execution_count": 4,
   "metadata": {},
   "outputs": [],
   "source": [
    "# !!!! Set the topic and filename here!\n",
    "reddit_topics= ['AskDocs','legaladvice']\n",
    "filename = 'reddit_legal_doc.csv'"
   ]
  },
  {
   "cell_type": "code",
   "execution_count": 1,
   "metadata": {},
   "outputs": [],
   "source": [
    "import requests\n",
    "import pandas as pd\n",
    "import numpy as np"
   ]
  },
  {
   "cell_type": "code",
   "execution_count": 2,
   "metadata": {},
   "outputs": [],
   "source": [
    "from collections import defaultdict\n",
    "\n",
    "def extract_content(response, topic):\n",
    "    # 0th index refers to title appended with selftext\n",
    "    rslt = defaultdict(list)\n",
    "    for post in response.json()['data']['children']:\n",
    "        rslt['content'].append(post['data']['title'] + ' ' + post['data']['selftext'])\n",
    "        rslt['topic'].append(topic)\n",
    "        rslt['id'].append(post['data']['name'])\n",
    "        \n",
    "    return rslt\n",
    "\n",
    "def scrape_topic(topic,depth=12):\n",
    "    '''\n",
    "    Scrape the reddit topic for all the posts\n",
    "    \n",
    "    '''\n",
    "    base_url = 'https://www.reddit.com/r/'\n",
    "    url = base_url + topic + '.json?limit=100'\n",
    "    last_entry_name = ''\n",
    "    payload = None\n",
    "    \n",
    "    \n",
    "    for i in range(depth):\n",
    "        if last_entry_name == None:\n",
    "            break\n",
    "        if last_entry_name != '':\n",
    "            url = base_url + topic + '.json?limit=100&after=' + last_entry_name\n",
    "    \n",
    "        res = requests.get(url, headers={'User-agent': 'Pony Inc 1.0'})\n",
    "        print(f\"request url: {url} for {topic} at depth:{i}\")\n",
    "        \n",
    "        last_entry_name = res.json()['data']['after']\n",
    "        print(f\"Last entry name : {last_entry_name} \")\n",
    "        content = extract_content(res,topic)\n",
    "        if not payload:\n",
    "            payload = content\n",
    "        else:\n",
    "            for k,v in payload.items():\n",
    "                payload[k] += content[k]\n",
    "        if i < depth-1:\n",
    "            sleep_duration = random.randint(2,15)\n",
    "            time.sleep(sleep_duration)\n",
    "        print(f'Scraping {topic}, {i} pages in..')\n",
    "    return {'topic': topic, 'data': payload }\n",
    "    "
   ]
  },
  {
   "cell_type": "code",
   "execution_count": 3,
   "metadata": {},
   "outputs": [],
   "source": [
    "import concurrent.futures as cf\n",
    "import random, time\n",
    "\n",
    "\n",
    "def get_reddit_data(topics):\n",
    "    '''\n",
    "    Main function to scrape reddit data into a pandas dataframe.\n",
    "    Args: topics\n",
    "     - An array object of topics in reddit to scrape from\n",
    "    '''\n",
    "    rdf = pd.DataFrame()\n",
    "    with cf.ThreadPoolExecutor(max_workers=5) as executor:\n",
    "        for future in executor.map(scrape_topic, topics):\n",
    "            if rdf.empty:\n",
    "                rdf = pd.DataFrame(future['data'])\n",
    "            else:\n",
    "                new = pd.DataFrame(future['data'])\n",
    "                rdf = pd.concat([rdf,new],ignore_index=True)\n",
    "            \n",
    "    return rdf\n",
    "        \n",
    "      "
   ]
  },
  {
   "cell_type": "code",
   "execution_count": 5,
   "metadata": {},
   "outputs": [
    {
     "name": "stdout",
     "output_type": "stream",
     "text": [
      "request url: https://www.reddit.com/r/AskDocs.json?limit=100 for AskDocs at depth:0\n",
      "Last entry name : t3_dmae27 \n",
      "request url: https://www.reddit.com/r/legaladvice.json?limit=100 for legaladvice at depth:0\n",
      "Last entry name : t3_dlyc5s \n",
      "Scraping legaladvice, 0 pages in..\n",
      "request url: https://www.reddit.com/r/legaladvice.json?limit=100&after=t3_dlyc5s for legaladvice at depth:1\n",
      "Last entry name : t3_dm2d9s \n",
      "Scraping AskDocs, 0 pages in..\n",
      "request url: https://www.reddit.com/r/AskDocs.json?limit=100&after=t3_dmae27 for AskDocs at depth:1\n",
      "Last entry name : t3_dm93nk \n",
      "Scraping legaladvice, 1 pages in..\n",
      "Scraping AskDocs, 1 pages in..\n",
      "request url: https://www.reddit.com/r/AskDocs.json?limit=100&after=t3_dm93nk for AskDocs at depth:2\n",
      "Last entry name : t3_dm1i7h \n",
      "request url: https://www.reddit.com/r/legaladvice.json?limit=100&after=t3_dm2d9s for legaladvice at depth:2\n",
      "Last entry name : t3_dm4km1 \n",
      "Scraping AskDocs, 2 pages in..\n",
      "Scraping legaladvice, 2 pages in..\n",
      "request url: https://www.reddit.com/r/AskDocs.json?limit=100&after=t3_dm1i7h for AskDocs at depth:3\n",
      "Last entry name : t3_dlzav1 \n",
      "request url: https://www.reddit.com/r/legaladvice.json?limit=100&after=t3_dm4km1 for legaladvice at depth:3\n",
      "Last entry name : t3_dm79qp \n",
      "Scraping AskDocs, 3 pages in..\n",
      "request url: https://www.reddit.com/r/AskDocs.json?limit=100&after=t3_dlzav1 for AskDocs at depth:4\n",
      "Last entry name : t3_dltxyl \n",
      "Scraping legaladvice, 3 pages in..\n",
      "request url: https://www.reddit.com/r/legaladvice.json?limit=100&after=t3_dm79qp for legaladvice at depth:4\n",
      "Last entry name : t3_dmax1d \n",
      "Scraping legaladvice, 4 pages in..\n",
      "Scraping AskDocs, 4 pages in..\n",
      "request url: https://www.reddit.com/r/AskDocs.json?limit=100&after=t3_dltxyl for AskDocs at depth:5\n",
      "Last entry name : t3_dlkcp2 \n",
      "request url: https://www.reddit.com/r/legaladvice.json?limit=100&after=t3_dmax1d for legaladvice at depth:5\n",
      "Last entry name : t3_dm7ole \n",
      "Scraping legaladvice, 5 pages in..\n",
      "request url: https://www.reddit.com/r/legaladvice.json?limit=100&after=t3_dm7ole for legaladvice at depth:6\n",
      "Last entry name : t3_dlt2m0 \n",
      "Scraping AskDocs, 5 pages in..\n",
      "request url: https://www.reddit.com/r/AskDocs.json?limit=100&after=t3_dlkcp2 for AskDocs at depth:6\n",
      "Last entry name : t3_dljwl1 \n",
      "Scraping legaladvice, 6 pages in..\n",
      "request url: https://www.reddit.com/r/legaladvice.json?limit=100&after=t3_dlt2m0 for legaladvice at depth:7\n",
      "Last entry name : t3_dlr2y5 \n",
      "Scraping AskDocs, 6 pages in..\n",
      "request url: https://www.reddit.com/r/AskDocs.json?limit=100&after=t3_dljwl1 for AskDocs at depth:7\n",
      "Last entry name : None \n",
      "Scraping legaladvice, 7 pages in..\n",
      "request url: https://www.reddit.com/r/legaladvice.json?limit=100&after=t3_dlr2y5 for legaladvice at depth:8\n",
      "Last entry name : t3_dlt8j3 \n",
      "Scraping AskDocs, 7 pages in..\n",
      "Scraping legaladvice, 8 pages in..\n",
      "request url: https://www.reddit.com/r/legaladvice.json?limit=100&after=t3_dlt8j3 for legaladvice at depth:9\n",
      "Last entry name : None \n",
      "Scraping legaladvice, 9 pages in..\n",
      "             content   id\n",
      "topic                    \n",
      "AskDocs          754  754\n",
      "legaladvice      991  991\n"
     ]
    }
   ],
   "source": [
    "import os.path\n",
    "\n",
    "rdf = get_reddit_data(reddit_topics)\n",
    "print(rdf.groupby(by='topic').count())\n",
    "\n",
    "# filename = 'reddit_scrape_bio_chem.csv'\n",
    "# filename = 'reddit_scrape_docs_legal.csv'\n",
    "\n",
    "\n",
    "use_header=True\n",
    "\n",
    "if os.path.exists(filename):\n",
    "    use_header = False\n",
    "\n",
    "# Append the data into a csv file\n",
    "rdf.to_csv(filename,mode='a',header=use_header, index=False)"
   ]
  },
  {
   "cell_type": "markdown",
   "metadata": {},
   "source": [
    "## Read the csv file"
   ]
  },
  {
   "cell_type": "code",
   "execution_count": 6,
   "metadata": {},
   "outputs": [],
   "source": [
    "reddit_df = pd.read_csv(filename)"
   ]
  },
  {
   "cell_type": "code",
   "execution_count": 7,
   "metadata": {},
   "outputs": [
    {
     "data": {
      "text/html": [
       "<div>\n",
       "<style scoped>\n",
       "    .dataframe tbody tr th:only-of-type {\n",
       "        vertical-align: middle;\n",
       "    }\n",
       "\n",
       "    .dataframe tbody tr th {\n",
       "        vertical-align: top;\n",
       "    }\n",
       "\n",
       "    .dataframe thead th {\n",
       "        text-align: right;\n",
       "    }\n",
       "</style>\n",
       "<table border=\"1\" class=\"dataframe\">\n",
       "  <thead>\n",
       "    <tr style=\"text-align: right;\">\n",
       "      <th></th>\n",
       "      <th>content</th>\n",
       "      <th>topic</th>\n",
       "      <th>id</th>\n",
       "    </tr>\n",
       "  </thead>\n",
       "  <tbody>\n",
       "    <tr>\n",
       "      <td>0</td>\n",
       "      <td>Weekly Discussion/General Questions Thread - O...</td>\n",
       "      <td>AskDocs</td>\n",
       "      <td>t3_dhnk4v</td>\n",
       "    </tr>\n",
       "    <tr>\n",
       "      <td>1</td>\n",
       "      <td>(F18) Hit my head off a nail in the wall repea...</td>\n",
       "      <td>AskDocs</td>\n",
       "      <td>t3_dktyay</td>\n",
       "    </tr>\n",
       "    <tr>\n",
       "      <td>2</td>\n",
       "      <td>[29F] Fell on ribs a month ago, xray showed no...</td>\n",
       "      <td>AskDocs</td>\n",
       "      <td>t3_dl06ul</td>\n",
       "    </tr>\n",
       "    <tr>\n",
       "      <td>3</td>\n",
       "      <td>What happened to me last night ?25M\\nWeight 73...</td>\n",
       "      <td>AskDocs</td>\n",
       "      <td>t3_dkudly</td>\n",
       "    </tr>\n",
       "    <tr>\n",
       "      <td>4</td>\n",
       "      <td>Back injury advise.26\\nMale\\n5\" 11\\n85kg\\nCauc...</td>\n",
       "      <td>AskDocs</td>\n",
       "      <td>t3_dl0nns</td>\n",
       "    </tr>\n",
       "    <tr>\n",
       "      <td>...</td>\n",
       "      <td>...</td>\n",
       "      <td>...</td>\n",
       "      <td>...</td>\n",
       "    </tr>\n",
       "    <tr>\n",
       "      <td>3500</td>\n",
       "      <td>Repossession I had my car repossessed last Wed...</td>\n",
       "      <td>legaladvice</td>\n",
       "      <td>t3_dlo74e</td>\n",
       "    </tr>\n",
       "    <tr>\n",
       "      <td>3501</td>\n",
       "      <td>Lied on Security Clearance Application About C...</td>\n",
       "      <td>legaladvice</td>\n",
       "      <td>t3_dlo61v</td>\n",
       "    </tr>\n",
       "    <tr>\n",
       "      <td>3502</td>\n",
       "      <td>Employee accidentally e-mailed sensitive info ...</td>\n",
       "      <td>legaladvice</td>\n",
       "      <td>t3_dlo4mg</td>\n",
       "    </tr>\n",
       "    <tr>\n",
       "      <td>3503</td>\n",
       "      <td>Collections Agency - Pre-Paid Magazine Subscri...</td>\n",
       "      <td>legaladvice</td>\n",
       "      <td>t3_dlo2oc</td>\n",
       "    </tr>\n",
       "    <tr>\n",
       "      <td>3504</td>\n",
       "      <td>Mold in newly purchased condo My aunt moved in...</td>\n",
       "      <td>legaladvice</td>\n",
       "      <td>t3_dlo2f1</td>\n",
       "    </tr>\n",
       "  </tbody>\n",
       "</table>\n",
       "<p>3505 rows × 3 columns</p>\n",
       "</div>"
      ],
      "text/plain": [
       "                                                content        topic  \\\n",
       "0     Weekly Discussion/General Questions Thread - O...      AskDocs   \n",
       "1     (F18) Hit my head off a nail in the wall repea...      AskDocs   \n",
       "2     [29F] Fell on ribs a month ago, xray showed no...      AskDocs   \n",
       "3     What happened to me last night ?25M\\nWeight 73...      AskDocs   \n",
       "4     Back injury advise.26\\nMale\\n5\" 11\\n85kg\\nCauc...      AskDocs   \n",
       "...                                                 ...          ...   \n",
       "3500  Repossession I had my car repossessed last Wed...  legaladvice   \n",
       "3501  Lied on Security Clearance Application About C...  legaladvice   \n",
       "3502  Employee accidentally e-mailed sensitive info ...  legaladvice   \n",
       "3503  Collections Agency - Pre-Paid Magazine Subscri...  legaladvice   \n",
       "3504  Mold in newly purchased condo My aunt moved in...  legaladvice   \n",
       "\n",
       "             id  \n",
       "0     t3_dhnk4v  \n",
       "1     t3_dktyay  \n",
       "2     t3_dl06ul  \n",
       "3     t3_dkudly  \n",
       "4     t3_dl0nns  \n",
       "...         ...  \n",
       "3500  t3_dlo74e  \n",
       "3501  t3_dlo61v  \n",
       "3502  t3_dlo4mg  \n",
       "3503  t3_dlo2oc  \n",
       "3504  t3_dlo2f1  \n",
       "\n",
       "[3505 rows x 3 columns]"
      ]
     },
     "execution_count": 7,
     "metadata": {},
     "output_type": "execute_result"
    }
   ],
   "source": [
    "reddit_df"
   ]
  },
  {
   "cell_type": "code",
   "execution_count": 8,
   "metadata": {},
   "outputs": [],
   "source": [
    "# Remove any duplicates if there are any\n",
    "reddit_df = reddit_df[~reddit_df.duplicated(subset='id')]"
   ]
  },
  {
   "cell_type": "code",
   "execution_count": 9,
   "metadata": {},
   "outputs": [],
   "source": [
    "# Override the existing file\n",
    "reddit_df.to_csv(filename,mode='w',header=True, index=False)"
   ]
  },
  {
   "cell_type": "code",
   "execution_count": 10,
   "metadata": {},
   "outputs": [],
   "source": [
    "# Remove id column\n",
    "reddit_df = reddit_df[['content','topic']]"
   ]
  },
  {
   "cell_type": "code",
   "execution_count": 11,
   "metadata": {},
   "outputs": [
    {
     "data": {
      "text/plain": [
       "(3502, 2)"
      ]
     },
     "execution_count": 11,
     "metadata": {},
     "output_type": "execute_result"
    }
   ],
   "source": [
    "# Get the shape of the dataframe\n",
    "reddit_df.shape"
   ]
  },
  {
   "cell_type": "code",
   "execution_count": 12,
   "metadata": {},
   "outputs": [
    {
     "data": {
      "text/html": [
       "<div>\n",
       "<style scoped>\n",
       "    .dataframe tbody tr th:only-of-type {\n",
       "        vertical-align: middle;\n",
       "    }\n",
       "\n",
       "    .dataframe tbody tr th {\n",
       "        vertical-align: top;\n",
       "    }\n",
       "\n",
       "    .dataframe thead th {\n",
       "        text-align: right;\n",
       "    }\n",
       "</style>\n",
       "<table border=\"1\" class=\"dataframe\">\n",
       "  <thead>\n",
       "    <tr style=\"text-align: right;\">\n",
       "      <th></th>\n",
       "      <th>content</th>\n",
       "    </tr>\n",
       "    <tr>\n",
       "      <th>topic</th>\n",
       "      <th></th>\n",
       "    </tr>\n",
       "  </thead>\n",
       "  <tbody>\n",
       "    <tr>\n",
       "      <td>AskDocs</td>\n",
       "      <td>1523</td>\n",
       "    </tr>\n",
       "    <tr>\n",
       "      <td>legaladvice</td>\n",
       "      <td>1979</td>\n",
       "    </tr>\n",
       "  </tbody>\n",
       "</table>\n",
       "</div>"
      ],
      "text/plain": [
       "             content\n",
       "topic               \n",
       "AskDocs         1523\n",
       "legaladvice     1979"
      ]
     },
     "execution_count": 12,
     "metadata": {},
     "output_type": "execute_result"
    }
   ],
   "source": [
    "# Show data from each class\n",
    "reddit_df.groupby(by='topic').count()"
   ]
  },
  {
   "cell_type": "markdown",
   "metadata": {},
   "source": [
    "There is a slight imbalance of the observations between the two classes, thus we will stratify the topic when splitting the data."
   ]
  },
  {
   "cell_type": "markdown",
   "metadata": {},
   "source": [
    "## EDA: Exploring the dataset"
   ]
  },
  {
   "cell_type": "code",
   "execution_count": 13,
   "metadata": {},
   "outputs": [],
   "source": [
    "from skimage import color\n",
    "from skimage import io\n",
    "from PIL import Image\n",
    "from wordcloud import WordCloud, STOPWORDS, ImageColorGenerator\n",
    "from matplotlib import pyplot as plt\n",
    "import nltk\n",
    "# nltk.download('punkt')\n",
    "from nltk.corpus import stopwords\n",
    "# Buid a WordNetLemmatizer class to be fed into the CountVectorizer's pipeline\n",
    "\n",
    "def get_wordcloud(series,max_words=30, mask_img='jesus_2.jpg'):\n",
    "    mask = color.rgb2gray(io.imread(mask_img))\n",
    "    transformed_mask = np.array([ [ 0 if x < 1 else 255 for x in row ] for row in mask  ], dtype=int)\n",
    "    \n",
    "    wcloud = WordCloud(stopwords= set(stopwords.words(\"english\")), max_words=max_words, background_color='white' , mask = transformed_mask\n",
    "                  ).generate(series.str.cat(sep=' '))\n",
    "\n",
    "    fig, ax = plt.subplots(figsize=(12, 12))\n",
    "    ax.imshow(wcloud, interpolation='bilinear')\n",
    "    plt.axis('off');\n",
    "    "
   ]
  },
  {
   "cell_type": "markdown",
   "metadata": {},
   "source": [
    "### Word cloud for first category"
   ]
  },
  {
   "cell_type": "code",
   "execution_count": 14,
   "metadata": {
    "scrolled": false
   },
   "outputs": [
    {
     "data": {
      "image/png": "[encoded data removed]",
      "text/plain": [
       "<Figure size 864x864 with 1 Axes>"
      ]
     },
     "metadata": {
      "needs_background": "light"
     },
     "output_type": "display_data"
    }
   ],
   "source": [
    "get_wordcloud(reddit_df[reddit_df['topic'] == reddit_df['topic'].unique()[0]]['content'],max_words=25)"
   ]
  },
  {
   "cell_type": "markdown",
   "metadata": {},
   "source": [
    "### Word cloud for second category"
   ]
  },
  {
   "cell_type": "code",
   "execution_count": 15,
   "metadata": {},
   "outputs": [
    {
     "data": {
      "image/png": "[encoded data removed]",
      "text/plain": [
       "<Figure size 864x864 with 1 Axes>"
      ]
     },
     "metadata": {
      "needs_background": "light"
     },
     "output_type": "display_data"
    }
   ],
   "source": [
    "get_wordcloud(reddit_df[reddit_df['topic'] == reddit_df['topic'].unique()[1]]['content'])"
   ]
  },
  {
   "cell_type": "markdown",
   "metadata": {},
   "source": [
    "## Feature Engineering : Train test split"
   ]
  },
  {
   "cell_type": "markdown",
   "metadata": {},
   "source": [
    "### Creating X and y"
   ]
  },
  {
   "cell_type": "code",
   "execution_count": 19,
   "metadata": {},
   "outputs": [],
   "source": [
    "# One hot encode the target class\n",
    "if filename=='reddit_legal_doc.csv':\n",
    "    y = reddit_df['topic'].map(lambda x : 1 if x == 'AskDocs' else 0 )\n",
    "if filename == 'reddit_atheism_christianity.csv':\n",
    "    y = reddit_df['topic'].map(lambda x : 1 if x == 'Christianity' else 0 )\n"
   ]
  },
  {
   "cell_type": "code",
   "execution_count": 20,
   "metadata": {},
   "outputs": [],
   "source": [
    "# Create X\n",
    "X = reddit_df['content']"
   ]
  },
  {
   "cell_type": "code",
   "execution_count": 21,
   "metadata": {},
   "outputs": [],
   "source": [
    "from sklearn.model_selection import train_test_split\n",
    "X_train_1, X_test, y_train_1, y_test = train_test_split(X, y, test_size=0.2, random_state=42, stratify=y)"
   ]
  },
  {
   "cell_type": "code",
   "execution_count": 22,
   "metadata": {},
   "outputs": [
    {
     "name": "stdout",
     "output_type": "stream",
     "text": [
      "X_train_1:(2801,) y_train:(2801,) X_test:(701,) y_test:(701,)\n"
     ]
    }
   ],
   "source": [
    "print(f'X_train_1:{X_train_1.shape} y_train:{y_train_1.shape} X_test:{X_test.shape} y_test:{y_test.shape}')"
   ]
  },
  {
   "cell_type": "code",
   "execution_count": 23,
   "metadata": {},
   "outputs": [
    {
     "name": "stdout",
     "output_type": "stream",
     "text": [
      "X_train:(2240,) y_train:(2240,)\n",
      "X_val:(561,) y_val:(561,) \n",
      "X_test:(701,) y_test:(701,)\n"
     ]
    }
   ],
   "source": [
    "# Futher split X_train to obtain validation set\n",
    "from sklearn.model_selection import train_test_split\n",
    "X_train, X_val, y_train, y_val = train_test_split(X_train_1, y_train_1, test_size=0.2, random_state=42, stratify=y_train_1)\n",
    "print(f'X_train:{X_train.shape} y_train:{y_train.shape}\\nX_val:{X_val.shape} y_val:{y_val.shape} \\\n",
    "\\nX_test:{X_test.shape} y_test:{y_test.shape}')"
   ]
  },
  {
   "cell_type": "code",
   "execution_count": 24,
   "metadata": {
    "scrolled": false
   },
   "outputs": [
    {
     "name": "stdout",
     "output_type": "stream",
     "text": [
      "y_train distribution:\n",
      "0    0.565179\n",
      "1    0.434821\n",
      "Name: topic, dtype: float64\n",
      "y_val distribution:\n",
      "0    0.565062\n",
      "1    0.434938\n",
      "Name: topic, dtype: float64\n",
      "y_test distribution:\n",
      "0    0.564907\n",
      "1    0.435093\n",
      "Name: topic, dtype: float64\n"
     ]
    }
   ],
   "source": [
    "# Check the distributions of y_train, y_val, y_test\n",
    "print(f'y_train distribution:\\n{y_train.value_counts(normalize=True)}')\n",
    "print(f'y_val distribution:\\n{y_val.value_counts(normalize=True)}')\n",
    "print(f'y_test distribution:\\n{y_test.value_counts(normalize=True)}')\n",
    "# It appears that the distribution of target classes are equal in all three classes"
   ]
  },
  {
   "cell_type": "markdown",
   "metadata": {},
   "source": [
    "### Baseline accuracy"
   ]
  },
  {
   "cell_type": "code",
   "execution_count": 25,
   "metadata": {
    "scrolled": false
   },
   "outputs": [
    {
     "data": {
      "text/plain": [
       "legaladvice    0.565106\n",
       "AskDocs        0.434894\n",
       "Name: topic, dtype: float64"
      ]
     },
     "execution_count": 25,
     "metadata": {},
     "output_type": "execute_result"
    }
   ],
   "source": [
    "reddit_df['topic'].value_counts(normalize=True)"
   ]
  },
  {
   "cell_type": "markdown",
   "metadata": {},
   "source": [
    "## NLP Pipeline"
   ]
  },
  {
   "cell_type": "markdown",
   "metadata": {},
   "source": [
    "### Tokenizing, Stemming/Lemming and Vectorization"
   ]
  },
  {
   "cell_type": "markdown",
   "metadata": {},
   "source": [
    "We will embed the NLP pre-processing steps right into sklearn's count vectorizer and ti-df vectorizer"
   ]
  },
  {
   "cell_type": "code",
   "execution_count": 36,
   "metadata": {},
   "outputs": [],
   "source": [
    "from sklearn.pipeline import Pipeline\n",
    "from sklearn.feature_extraction.text import CountVectorizer, TfidfVectorizer\n",
    "cvec = CountVectorizer()\n",
    "\n",
    "from sklearn.linear_model import LogisticRegression\n",
    "logreg = LogisticRegression()\n",
    "\n",
    "from sklearn.model_selection import GridSearchCV"
   ]
  },
  {
   "cell_type": "code",
   "execution_count": 37,
   "metadata": {},
   "outputs": [],
   "source": [
    "# Create an array that will keep track of all models created in this notebook\n",
    "models_collection = dict()"
   ]
  },
  {
   "cell_type": "code",
   "execution_count": 38,
   "metadata": {},
   "outputs": [],
   "source": [
    "from sklearn.metrics import confusion_matrix\n",
    "from sklearn.metrics import roc_auc_score, roc_curve\n",
    "from matplotlib import pyplot as plt\n",
    "from sklearn.metrics import roc_auc_score\n",
    "\n",
    "def add_model_to_scoreboard(model_name, model):\n",
    "#     models_collection.add((model_name, model))\n",
    "    if models_collection.get(model_name):\n",
    "        print(f\"Warning, {model_name} is replaced.\")\n",
    "    models_collection[model_name] = model\n",
    "\n",
    "    \n",
    "def get_f1(conf):\n",
    "    tn, fp, fn, tp = conf.ravel()\n",
    "    precision= tp/(tp+fp)\n",
    "    sensitivity = tp/(tp+fn)\n",
    "    return 2*((precision*sensitivity)/(precision+sensitivity))\n",
    "    \n",
    "def get_precision(conf):\n",
    "    tn, fp, fn, tp = conf.ravel()\n",
    "    return tp/(tp+fp)\n",
    "\n",
    "def get_sensitivity(conf):\n",
    "    tn, fp, fn, tp = conf.ravel()\n",
    "    return tp / ( tp + fn )\n",
    "    \n",
    "def get_model_scoreboard(optimize_by='F1', model_dic = models_collection, X=X_val, y=y_val ):\n",
    "    '''\n",
    "    Returns dictionary containing a pandas dataframe of the models in this notebook sorted by scores (F1 by default),\n",
    "    and the best model\n",
    "    '''\n",
    "        \n",
    "    training_scores =[]\n",
    "    val_scores=[]\n",
    "    model_names = []\n",
    "    auc_roc_scores = [] \n",
    "    f1_scores = []\n",
    "    precision_scores = []\n",
    "    sensitivity_scores = []\n",
    "    best_model_trained = dict()\n",
    "    \n",
    "    for model_name, model in model_dic.items():\n",
    "        if type(model) == GridSearchCV:\n",
    "            best_model = model.best_estimator_\n",
    "            best_model.fit(X_train, y_train)\n",
    "        else:\n",
    "            best_model = model\n",
    "        best_model_trained[model_name] = best_model\n",
    "        training_scores.append(best_model.score(X_train,y_train))\n",
    "        val_scores.append(best_model.score(X,y))\n",
    "        model_names.append(model_name)\n",
    "        \n",
    "        \n",
    "        # ROC Scores\n",
    "        pos_preds = best_model.predict_proba(X)[:,1]\n",
    "        roc_auc = roc_auc_score(y, pos_preds)\n",
    "        auc_roc_scores.append(roc_auc)\n",
    "        \n",
    "        # F1 Scores\n",
    "        #Confusion Matrix\n",
    "        conf = confusion_matrix(y, best_model.predict(X))\n",
    "        f1_scores.append(get_f1(conf))\n",
    "        \n",
    "        precision_scores.append(get_precision(conf))\n",
    "        sensitivity_scores.append(get_sensitivity(conf))\n",
    "        \n",
    "    models = pd.DataFrame({'Model': model_names, 'Training Score': training_scores, 'Validation Score': val_scores,\n",
    "                          'Auc Roc': auc_roc_scores, 'Sensitivity/Recall': sensitivity_scores, \n",
    "                           'Precision': precision_scores , 'F1': f1_scores  })\n",
    "    models.sort_values(by=optimize_by, ascending=False, inplace=True)\n",
    "    best_estimator_name = models.iloc[0]['Model']\n",
    "    return {'df':models, 'best_estimator_': best_model_trained[best_estimator_name], 'best_estimator_name': best_estimator_name }\n",
    "\n",
    "\n",
    "\n",
    "\n",
    "\n",
    "def get_scores(model, X=X_val, y=y_val):\n",
    "    '''\n",
    "    Takes a GridSearchCV model as in input, uses the best parameters in that model to generate a new model and \n",
    "    fit on the entire training set. \n",
    "    Scores shown refers to the scores on validation set.\n",
    "    '''\n",
    "\n",
    "    train_score = model.score(X_train,y_train)\n",
    "    val_score = model.score(X,y)\n",
    "    print(f'Training Score: {train_score}')\n",
    "    print(f'Validation Score: {val_score}')\n",
    "    \n",
    "    #Confusion Matrix\n",
    "    conf = confusion_matrix(y, model.predict(X))\n",
    "    print(f\"Confusion Matrix:\\n{conf}\")\n",
    "    tn, fp , fn , tp = conf.ravel()\n",
    "    specificity = tn / (tn + fp)\n",
    "    sensitivity = tp / (tp + fn)\n",
    "    print(f\"Specificity: {specificity}\")\n",
    "    print(f\"Sensitivity: {sensitivity}\")\n",
    "    \n",
    "    precision = tp/(tp+fp)\n",
    "    print(f\"Precision: {precision}\")\n",
    "    \n",
    "    preds = model.predict_proba(X)\n",
    "    preds = [ x[1] for x in preds]\n",
    "\n",
    "    scores_df = pd.DataFrame({'y': y , 'y_pred': preds })\n",
    "    \n",
    "    \n",
    "    roc_auc = roc_auc_score(y, scores_df['y_pred'])\n",
    "    print(f\"Area under ROC curve: {roc_auc}\")\n",
    "    \n",
    "    #f1 score\n",
    "    f1 = get_f1(conf)\n",
    "    print(f\"F1 score: {f1}\")\n",
    "    \n",
    "    return {'confusion':conf, 'train':train_score,'val':val_score, 'specificity': specificity, 'sensitivity' : sensitivity,\n",
    "            'precision':precision, 'roc_auc_score': roc_auc, 'f1': f1}\n",
    "    "
   ]
  },
  {
   "cell_type": "code",
   "execution_count": 39,
   "metadata": {},
   "outputs": [],
   "source": [
    "from sklearn.metrics import roc_curve\n",
    "def get_roc_curve(model):\n",
    "    '''\n",
    "    Plots a ROC graph of a given model\n",
    "    '''\n",
    "    pos_preds = model.predict_proba(X_val)[:,1]\n",
    "    fpr, tpr, thresholds = roc_curve(y_val, pos_preds, pos_label=1)\n",
    "    \n",
    "    plt.figure(figsize=(14,8))\n",
    "    # Plot ROC curve\n",
    "    plt.plot(fpr,tpr, label='ROC Curve')\n",
    "    plt.plot([0,1],[0,1], linestyle='--', label='baseline')\n",
    "\n",
    "    # Label axes.\n",
    "    plt.title(f\"ROC Curve with AUC = {round(roc_auc_score(y_val, pos_preds),3)}\", fontsize=22)\n",
    "    plt.ylabel('Sensitivity (True Positive Rate)', fontsize=18)\n",
    "    plt.xlabel('1 - Specificity (False Positive Rate)', fontsize=18)\n",
    "\n",
    "    # Create legend.\n",
    "    plt.legend(fontsize=16);\n"
   ]
  },
  {
   "cell_type": "code",
   "execution_count": 40,
   "metadata": {},
   "outputs": [],
   "source": [
    "def get_probability_dist(model):\n",
    "    preds = model.predict_proba(X_val)\n",
    "    preds = [ x[1] for x in preds]\n",
    "\n",
    "    scores_df = pd.DataFrame({'y': y_val , 'y_pred': preds })\n",
    "    # Showing the distribution of y_pred when y == 1\n",
    "    scores_df[scores_df['y'] == 1]\n",
    "\n",
    "    fig,ax = plt.subplots(figsize=(15,9))\n",
    "    # When outcome = 1 \n",
    "    ax.hist(data=scores_df[scores_df['y'] == 1], x='y_pred', color='g', alpha=0.5, label=\"Outcome = 1\", bins=25);\n",
    "\n",
    "    #When outcome = 0\n",
    "    ax.hist(data=scores_df[scores_df['y'] == 0], x='y_pred', color='r', alpha=0.5, label=\"Outcome = 0\", bins=25);\n",
    "    ax.legend(fontsize=20)\n",
    "    \n",
    "    ax.vlines(x=0.5, ymin=0, ymax = scores_df.shape[0]*0.15, color='b',linestyle ='--')\n",
    "    \n",
    "    \n",
    "    ax.set_title(\"Distribution of Probalities\")\n",
    "    ax.set_xlabel(\"Predicted Probabilities \")\n",
    "    ax.set_ylabel(\"Frequency\")\n",
    "    return ax"
   ]
  },
  {
   "cell_type": "code",
   "execution_count": 41,
   "metadata": {},
   "outputs": [],
   "source": [
    "# Instantiate stemmer.\n",
    "from nltk.stem.porter import PorterStemmer\n",
    "\n",
    "from nltk import word_tokenize\n",
    "from nltk.stem import WordNetLemmatizer\n",
    "\n",
    "from nltk.tokenize import RegexpTokenizer\n",
    "\n",
    "class LemmaTokenizer(object):\n",
    "    def __init__(self):\n",
    "        self.wnl = WordNetLemmatizer()\n",
    "    def __call__(self, doc):\n",
    "        return [ self.wnl.lemmatize(t) for t in word_tokenize(doc) ]\n",
    "    \n",
    "class PorterTokenizer(object):\n",
    "    def __init__(self):\n",
    "        self.porter = PorterStemmer()\n",
    "    def __call__(self, doc):\n",
    "        return [ self.porter.stem(t) for t in word_tokenize(doc) ]\n",
    "    \n",
    "class RegexTokenizer(object):\n",
    "    \n",
    "    def __init__(self):\n",
    "        self.tokenizer = RegexpTokenizer(r'\\w+')\n",
    "        \n",
    "    def __call__(self, doc):\n",
    "        return self.tokenizer.tokenize(doc) \n",
    "    "
   ]
  },
  {
   "cell_type": "code",
   "execution_count": 42,
   "metadata": {},
   "outputs": [],
   "source": [
    "def get_best_params(model, param_filter=None ):\n",
    "    if not param_filter:\n",
    "        param_filter = [ param for param in model.best_params_.keys() if param != 'cvec__stop_words']\n",
    "    return [  f\"{k} : {v}\" for k,v in  model.best_params_.items() if k in param_filter ]"
   ]
  },
  {
   "cell_type": "code",
   "execution_count": 43,
   "metadata": {},
   "outputs": [],
   "source": [
    "# Create porter tokenized stop words\n",
    "pt = PorterTokenizer()\n",
    "porter_tokenized_stopwords = list(set(pt.__call__(\" \".join([s for s in stopwords.words(\"english\") + reddit_topics ])))) \n",
    "\n",
    "# Obtain the list of stopwords from NLTK english corpora and also include the words in the topic itself as a stopword.\n",
    "# The stopwords will be tokenized and stemmed (including the two topic words) and removed before training "
   ]
  },
  {
   "cell_type": "code",
   "execution_count": 44,
   "metadata": {},
   "outputs": [],
   "source": [
    "# Create lemma tokenized stop words\n",
    "lt = LemmaTokenizer()\n",
    "lemma_tokenized_stopwords = list(set([lt.__call__(x)[0] for x in stopwords.words(\"english\") + reddit_topics ] )) \n",
    "# The stopwords will be tokenized and lemmatized (including the two topic words) and removed before training "
   ]
  },
  {
   "cell_type": "code",
   "execution_count": 45,
   "metadata": {},
   "outputs": [],
   "source": [
    "rt = RegexTokenizer()\n",
    "regex_tokenized_stopwords = list(set([rt.__call__(x)[0] for x in stopwords.words(\"english\") + reddit_topics ] )) "
   ]
  },
  {
   "cell_type": "markdown",
   "metadata": {},
   "source": [
    "### Model 1 : Count Vectorizer - Logistic Regression"
   ]
  },
  {
   "cell_type": "markdown",
   "metadata": {},
   "source": [
    "For the first model, the pipeline will consist of a simple count vectorizer with a logistic regression classifier"
   ]
  },
  {
   "cell_type": "code",
   "execution_count": 46,
   "metadata": {
    "scrolled": true
   },
   "outputs": [],
   "source": [
    "cvec_logreg_pipeline = Pipeline(steps=[('cvec', cvec),('logreg',logreg)])\n",
    "# Show the parameters\n",
    "# cvec_logreg_pipeline.get_params()"
   ]
  },
  {
   "cell_type": "code",
   "execution_count": 74,
   "metadata": {},
   "outputs": [
    {
     "name": "stdout",
     "output_type": "stream",
     "text": [
      "Warning, Count Vectorizer - Logistic Regression Model is replaced.\n"
     ]
    }
   ],
   "source": [
    "cvec_logreg_params = { 'cvec__tokenizer' : [RegexTokenizer()],\n",
    "    'cvec__stop_words': [regex_tokenized_stopwords + [top.lower() for top in reddit_topics ]] , 'cvec__max_df':[0.7], 'cvec__ngram_range':[(1,3)],\n",
    "                      'logreg__solver':['liblinear'], 'logreg__C': [0.4, 0.7]\n",
    "}\n",
    "\n",
    "\n",
    "cvec_logreg_gscv = GridSearchCV(cvec_logreg_pipeline, cvec_logreg_params, cv=5)\n",
    "cvec_logreg_gscv.fit(X_train,y_train);\n",
    "\n",
    "add_model_to_scoreboard('Count Vectorizer - Logistic Regression Model', cvec_logreg_gscv)"
   ]
  },
  {
   "cell_type": "markdown",
   "metadata": {},
   "source": [
    "### Model 2 : Count Vectorizer - Lemmatizer - Logistic Regression"
   ]
  },
  {
   "cell_type": "code",
   "execution_count": 71,
   "metadata": {},
   "outputs": [
    {
     "name": "stderr",
     "output_type": "stream",
     "text": [
      "C:\\Users\\User\\Anaconda3\\envs\\dsi\\lib\\site-packages\\sklearn\\feature_extraction\\text.py:300: UserWarning: Your stop_words may be inconsistent with your preprocessing. Tokenizing the stop words generated tokens ['askdocs'] not in stop_words.\n",
      "  'stop_words.' % sorted(inconsistent))\n",
      "C:\\Users\\User\\Anaconda3\\envs\\dsi\\lib\\site-packages\\sklearn\\feature_extraction\\text.py:300: UserWarning: Your stop_words may be inconsistent with your preprocessing. Tokenizing the stop words generated tokens ['askdocs'] not in stop_words.\n",
      "  'stop_words.' % sorted(inconsistent))\n",
      "C:\\Users\\User\\Anaconda3\\envs\\dsi\\lib\\site-packages\\sklearn\\feature_extraction\\text.py:300: UserWarning: Your stop_words may be inconsistent with your preprocessing. Tokenizing the stop words generated tokens ['askdocs'] not in stop_words.\n",
      "  'stop_words.' % sorted(inconsistent))\n",
      "C:\\Users\\User\\Anaconda3\\envs\\dsi\\lib\\site-packages\\sklearn\\feature_extraction\\text.py:300: UserWarning: Your stop_words may be inconsistent with your preprocessing. Tokenizing the stop words generated tokens ['askdocs'] not in stop_words.\n",
      "  'stop_words.' % sorted(inconsistent))\n",
      "C:\\Users\\User\\Anaconda3\\envs\\dsi\\lib\\site-packages\\sklearn\\feature_extraction\\text.py:300: UserWarning: Your stop_words may be inconsistent with your preprocessing. Tokenizing the stop words generated tokens ['askdocs'] not in stop_words.\n",
      "  'stop_words.' % sorted(inconsistent))\n",
      "C:\\Users\\User\\Anaconda3\\envs\\dsi\\lib\\site-packages\\sklearn\\feature_extraction\\text.py:300: UserWarning: Your stop_words may be inconsistent with your preprocessing. Tokenizing the stop words generated tokens ['askdocs'] not in stop_words.\n",
      "  'stop_words.' % sorted(inconsistent))\n",
      "C:\\Users\\User\\Anaconda3\\envs\\dsi\\lib\\site-packages\\sklearn\\feature_extraction\\text.py:300: UserWarning: Your stop_words may be inconsistent with your preprocessing. Tokenizing the stop words generated tokens ['askdocs'] not in stop_words.\n",
      "  'stop_words.' % sorted(inconsistent))\n",
      "C:\\Users\\User\\Anaconda3\\envs\\dsi\\lib\\site-packages\\sklearn\\feature_extraction\\text.py:300: UserWarning: Your stop_words may be inconsistent with your preprocessing. Tokenizing the stop words generated tokens ['askdocs'] not in stop_words.\n",
      "  'stop_words.' % sorted(inconsistent))\n",
      "C:\\Users\\User\\Anaconda3\\envs\\dsi\\lib\\site-packages\\sklearn\\feature_extraction\\text.py:300: UserWarning: Your stop_words may be inconsistent with your preprocessing. Tokenizing the stop words generated tokens ['askdocs'] not in stop_words.\n",
      "  'stop_words.' % sorted(inconsistent))\n",
      "C:\\Users\\User\\Anaconda3\\envs\\dsi\\lib\\site-packages\\sklearn\\feature_extraction\\text.py:300: UserWarning: Your stop_words may be inconsistent with your preprocessing. Tokenizing the stop words generated tokens ['askdocs'] not in stop_words.\n",
      "  'stop_words.' % sorted(inconsistent))\n",
      "C:\\Users\\User\\Anaconda3\\envs\\dsi\\lib\\site-packages\\sklearn\\feature_extraction\\text.py:300: UserWarning: Your stop_words may be inconsistent with your preprocessing. Tokenizing the stop words generated tokens ['askdocs'] not in stop_words.\n",
      "  'stop_words.' % sorted(inconsistent))\n",
      "C:\\Users\\User\\Anaconda3\\envs\\dsi\\lib\\site-packages\\sklearn\\feature_extraction\\text.py:300: UserWarning: Your stop_words may be inconsistent with your preprocessing. Tokenizing the stop words generated tokens ['askdocs'] not in stop_words.\n",
      "  'stop_words.' % sorted(inconsistent))\n",
      "C:\\Users\\User\\Anaconda3\\envs\\dsi\\lib\\site-packages\\sklearn\\feature_extraction\\text.py:300: UserWarning: Your stop_words may be inconsistent with your preprocessing. Tokenizing the stop words generated tokens ['askdocs'] not in stop_words.\n",
      "  'stop_words.' % sorted(inconsistent))\n",
      "C:\\Users\\User\\Anaconda3\\envs\\dsi\\lib\\site-packages\\sklearn\\feature_extraction\\text.py:300: UserWarning: Your stop_words may be inconsistent with your preprocessing. Tokenizing the stop words generated tokens ['askdocs'] not in stop_words.\n",
      "  'stop_words.' % sorted(inconsistent))\n",
      "C:\\Users\\User\\Anaconda3\\envs\\dsi\\lib\\site-packages\\sklearn\\feature_extraction\\text.py:300: UserWarning: Your stop_words may be inconsistent with your preprocessing. Tokenizing the stop words generated tokens ['askdocs'] not in stop_words.\n",
      "  'stop_words.' % sorted(inconsistent))\n",
      "C:\\Users\\User\\Anaconda3\\envs\\dsi\\lib\\site-packages\\sklearn\\feature_extraction\\text.py:300: UserWarning: Your stop_words may be inconsistent with your preprocessing. Tokenizing the stop words generated tokens ['askdocs'] not in stop_words.\n",
      "  'stop_words.' % sorted(inconsistent))\n",
      "C:\\Users\\User\\Anaconda3\\envs\\dsi\\lib\\site-packages\\sklearn\\feature_extraction\\text.py:300: UserWarning: Your stop_words may be inconsistent with your preprocessing. Tokenizing the stop words generated tokens ['askdocs'] not in stop_words.\n",
      "  'stop_words.' % sorted(inconsistent))\n",
      "C:\\Users\\User\\Anaconda3\\envs\\dsi\\lib\\site-packages\\sklearn\\feature_extraction\\text.py:300: UserWarning: Your stop_words may be inconsistent with your preprocessing. Tokenizing the stop words generated tokens ['askdocs'] not in stop_words.\n",
      "  'stop_words.' % sorted(inconsistent))\n",
      "C:\\Users\\User\\Anaconda3\\envs\\dsi\\lib\\site-packages\\sklearn\\feature_extraction\\text.py:300: UserWarning: Your stop_words may be inconsistent with your preprocessing. Tokenizing the stop words generated tokens ['askdocs'] not in stop_words.\n",
      "  'stop_words.' % sorted(inconsistent))\n",
      "C:\\Users\\User\\Anaconda3\\envs\\dsi\\lib\\site-packages\\sklearn\\feature_extraction\\text.py:300: UserWarning: Your stop_words may be inconsistent with your preprocessing. Tokenizing the stop words generated tokens ['askdocs'] not in stop_words.\n",
      "  'stop_words.' % sorted(inconsistent))\n",
      "C:\\Users\\User\\Anaconda3\\envs\\dsi\\lib\\site-packages\\sklearn\\feature_extraction\\text.py:300: UserWarning: Your stop_words may be inconsistent with your preprocessing. Tokenizing the stop words generated tokens ['askdocs'] not in stop_words.\n",
      "  'stop_words.' % sorted(inconsistent))\n"
     ]
    },
    {
     "name": "stdout",
     "output_type": "stream",
     "text": [
      "Warning, Count Vectorizer- Lemmatizer - Logistic Regression Model is replaced.\n"
     ]
    }
   ],
   "source": [
    "cvec_lemma_logreg_params = {'cvec__tokenizer': [LemmaTokenizer()],\n",
    "    'cvec__stop_words':[lemma_tokenized_stopwords + ['christianity'] ], 'cvec__max_df':[0.8], 'cvec__ngram_range':[(1,3)],\n",
    "                      'logreg__solver':['liblinear'],'logreg__C':[0.3, 0.5], 'logreg__penalty':['l1','l2']\n",
    "}\n",
    "\n",
    "cvec_lemma_logreg_gscv = GridSearchCV(cvec_logreg_pipeline, cvec_lemma_logreg_params, cv=5)\n",
    "cvec_lemma_logreg_gscv.fit(X_train,y_train);\n",
    "\n",
    "add_model_to_scoreboard('Count Vectorizer- Lemmatizer - Logistic Regression Model', cvec_lemma_logreg_gscv)"
   ]
  },
  {
   "cell_type": "markdown",
   "metadata": {},
   "source": [
    "#### Scores and best parameters obtained from Grid Search based on this dataset is:"
   ]
  },
  {
   "cell_type": "code",
   "execution_count": 49,
   "metadata": {},
   "outputs": [
    {
     "data": {
      "text/plain": [
       "['cvec__max_df : 0.8',\n",
       " 'cvec__ngram_range : (1, 3)',\n",
       " 'cvec__tokenizer : <__main__.LemmaTokenizer object at 0x0000020CF930F088>',\n",
       " 'logreg__C : 0.3',\n",
       " 'logreg__penalty : l2',\n",
       " 'logreg__solver : liblinear']"
      ]
     },
     "execution_count": 49,
     "metadata": {},
     "output_type": "execute_result"
    }
   ],
   "source": [
    "get_best_params(cvec_lemma_logreg_gscv)"
   ]
  },
  {
   "cell_type": "markdown",
   "metadata": {},
   "source": [
    "### Model 3 : Count Vectorizer - Porter Stemmer - Logistic Regression"
   ]
  },
  {
   "cell_type": "code",
   "execution_count": 72,
   "metadata": {},
   "outputs": [
    {
     "name": "stderr",
     "output_type": "stream",
     "text": [
      "C:\\Users\\User\\Anaconda3\\envs\\dsi\\lib\\site-packages\\sklearn\\feature_extraction\\text.py:300: UserWarning: Your stop_words may be inconsistent with your preprocessing. Tokenizing the stop words generated tokens ['legaladv'] not in stop_words.\n",
      "  'stop_words.' % sorted(inconsistent))\n",
      "C:\\Users\\User\\Anaconda3\\envs\\dsi\\lib\\site-packages\\sklearn\\feature_extraction\\text.py:300: UserWarning: Your stop_words may be inconsistent with your preprocessing. Tokenizing the stop words generated tokens ['legaladv'] not in stop_words.\n",
      "  'stop_words.' % sorted(inconsistent))\n",
      "C:\\Users\\User\\Anaconda3\\envs\\dsi\\lib\\site-packages\\sklearn\\feature_extraction\\text.py:300: UserWarning: Your stop_words may be inconsistent with your preprocessing. Tokenizing the stop words generated tokens ['legaladv'] not in stop_words.\n",
      "  'stop_words.' % sorted(inconsistent))\n",
      "C:\\Users\\User\\Anaconda3\\envs\\dsi\\lib\\site-packages\\sklearn\\feature_extraction\\text.py:300: UserWarning: Your stop_words may be inconsistent with your preprocessing. Tokenizing the stop words generated tokens ['legaladv'] not in stop_words.\n",
      "  'stop_words.' % sorted(inconsistent))\n",
      "C:\\Users\\User\\Anaconda3\\envs\\dsi\\lib\\site-packages\\sklearn\\feature_extraction\\text.py:300: UserWarning: Your stop_words may be inconsistent with your preprocessing. Tokenizing the stop words generated tokens ['legaladv'] not in stop_words.\n",
      "  'stop_words.' % sorted(inconsistent))\n",
      "C:\\Users\\User\\Anaconda3\\envs\\dsi\\lib\\site-packages\\sklearn\\feature_extraction\\text.py:300: UserWarning: Your stop_words may be inconsistent with your preprocessing. Tokenizing the stop words generated tokens ['legaladv'] not in stop_words.\n",
      "  'stop_words.' % sorted(inconsistent))\n"
     ]
    },
    {
     "name": "stdout",
     "output_type": "stream",
     "text": [
      "Warning, Count Vectorizer- PorterStemmer - Logistic Regression Model is replaced.\n"
     ]
    }
   ],
   "source": [
    "cvec_porter_logreg_params = { 'cvec__tokenizer' : [PorterTokenizer()],\n",
    "    'cvec__stop_words':[porter_tokenized_stopwords + ['becau'] ] , 'cvec__max_df':[0.7], 'cvec__ngram_range':[(1,3)],\n",
    "                      'logreg__solver':['liblinear']\n",
    "}\n",
    "\n",
    "cvec_porter_logreg_gscv = GridSearchCV(cvec_logreg_pipeline, cvec_porter_logreg_params, cv=5)\n",
    "cvec_porter_logreg_gscv.fit(X_train,y_train);\n",
    "\n",
    "add_model_to_scoreboard('Count Vectorizer- PorterStemmer - Logistic Regression Model', cvec_porter_logreg_gscv)"
   ]
  },
  {
   "cell_type": "markdown",
   "metadata": {},
   "source": [
    "### Model 4 : Count Vectorizer - Lemmatizer - Multinomial Naive Bayes"
   ]
  },
  {
   "cell_type": "code",
   "execution_count": 51,
   "metadata": {},
   "outputs": [],
   "source": [
    "from sklearn.naive_bayes import MultinomialNB\n",
    "mnb = MultinomialNB()"
   ]
  },
  {
   "cell_type": "code",
   "execution_count": 52,
   "metadata": {},
   "outputs": [],
   "source": [
    "cvec_nb_pipeline = Pipeline(steps=[('cvec', cvec),('mnb',mnb)])\n",
    "# Show the parameters\n",
    "# cvec_nb_pipeline.get_params()"
   ]
  },
  {
   "cell_type": "code",
   "execution_count": 53,
   "metadata": {},
   "outputs": [
    {
     "name": "stderr",
     "output_type": "stream",
     "text": [
      "C:\\Users\\User\\Anaconda3\\envs\\dsi\\lib\\site-packages\\sklearn\\feature_extraction\\text.py:300: UserWarning: Your stop_words may be inconsistent with your preprocessing. Tokenizing the stop words generated tokens ['askdocs'] not in stop_words.\n",
      "  'stop_words.' % sorted(inconsistent))\n",
      "C:\\Users\\User\\Anaconda3\\envs\\dsi\\lib\\site-packages\\sklearn\\feature_extraction\\text.py:300: UserWarning: Your stop_words may be inconsistent with your preprocessing. Tokenizing the stop words generated tokens ['askdocs'] not in stop_words.\n",
      "  'stop_words.' % sorted(inconsistent))\n",
      "C:\\Users\\User\\Anaconda3\\envs\\dsi\\lib\\site-packages\\sklearn\\feature_extraction\\text.py:300: UserWarning: Your stop_words may be inconsistent with your preprocessing. Tokenizing the stop words generated tokens ['askdocs'] not in stop_words.\n",
      "  'stop_words.' % sorted(inconsistent))\n",
      "C:\\Users\\User\\Anaconda3\\envs\\dsi\\lib\\site-packages\\sklearn\\feature_extraction\\text.py:300: UserWarning: Your stop_words may be inconsistent with your preprocessing. Tokenizing the stop words generated tokens ['askdocs'] not in stop_words.\n",
      "  'stop_words.' % sorted(inconsistent))\n",
      "C:\\Users\\User\\Anaconda3\\envs\\dsi\\lib\\site-packages\\sklearn\\feature_extraction\\text.py:300: UserWarning: Your stop_words may be inconsistent with your preprocessing. Tokenizing the stop words generated tokens ['askdocs'] not in stop_words.\n",
      "  'stop_words.' % sorted(inconsistent))\n",
      "C:\\Users\\User\\Anaconda3\\envs\\dsi\\lib\\site-packages\\sklearn\\feature_extraction\\text.py:300: UserWarning: Your stop_words may be inconsistent with your preprocessing. Tokenizing the stop words generated tokens ['askdocs'] not in stop_words.\n",
      "  'stop_words.' % sorted(inconsistent))\n",
      "C:\\Users\\User\\Anaconda3\\envs\\dsi\\lib\\site-packages\\sklearn\\feature_extraction\\text.py:300: UserWarning: Your stop_words may be inconsistent with your preprocessing. Tokenizing the stop words generated tokens ['askdocs'] not in stop_words.\n",
      "  'stop_words.' % sorted(inconsistent))\n",
      "C:\\Users\\User\\Anaconda3\\envs\\dsi\\lib\\site-packages\\sklearn\\feature_extraction\\text.py:300: UserWarning: Your stop_words may be inconsistent with your preprocessing. Tokenizing the stop words generated tokens ['askdocs'] not in stop_words.\n",
      "  'stop_words.' % sorted(inconsistent))\n",
      "C:\\Users\\User\\Anaconda3\\envs\\dsi\\lib\\site-packages\\sklearn\\feature_extraction\\text.py:300: UserWarning: Your stop_words may be inconsistent with your preprocessing. Tokenizing the stop words generated tokens ['askdocs'] not in stop_words.\n",
      "  'stop_words.' % sorted(inconsistent))\n",
      "C:\\Users\\User\\Anaconda3\\envs\\dsi\\lib\\site-packages\\sklearn\\feature_extraction\\text.py:300: UserWarning: Your stop_words may be inconsistent with your preprocessing. Tokenizing the stop words generated tokens ['askdocs'] not in stop_words.\n",
      "  'stop_words.' % sorted(inconsistent))\n",
      "C:\\Users\\User\\Anaconda3\\envs\\dsi\\lib\\site-packages\\sklearn\\feature_extraction\\text.py:300: UserWarning: Your stop_words may be inconsistent with your preprocessing. Tokenizing the stop words generated tokens ['askdocs'] not in stop_words.\n",
      "  'stop_words.' % sorted(inconsistent))\n"
     ]
    }
   ],
   "source": [
    "cvec_lemma_nb_params = { 'cvec__tokenizer':[LemmaTokenizer()], 'cvec__stop_words':[lemma_tokenized_stopwords + ['christianity']],\n",
    "     'cvec__max_df':[0.7, 1.0 ], 'cvec__ngram_range':[(1,3)]           \n",
    "}\n",
    "\n",
    "cvec_lemma_nb_gs = GridSearchCV(cvec_nb_pipeline, cvec_lemma_nb_params, cv=5 )\n",
    "cvec_lemma_nb_gs.fit(X_train,y_train)\n",
    "\n",
    "add_model_to_scoreboard('Count Vectorizer - Lemmatizer - MultinomialNB', cvec_lemma_nb_gs)"
   ]
  },
  {
   "cell_type": "markdown",
   "metadata": {},
   "source": [
    "### Model 5 : TF-IDF - Lemmatizer - Multinomial Naive Bayes"
   ]
  },
  {
   "cell_type": "code",
   "execution_count": 54,
   "metadata": {},
   "outputs": [],
   "source": [
    "# Instantiate tf-idf vectorizer\n",
    "tvec = TfidfVectorizer()"
   ]
  },
  {
   "cell_type": "code",
   "execution_count": 55,
   "metadata": {},
   "outputs": [],
   "source": [
    "tfidf_lemmatizer_nb_pipeline = Pipeline(steps=[('tvec', tvec),('mnb',mnb)])\n",
    "# tfidf_lemmatizer_nb_pipeline.get_params()"
   ]
  },
  {
   "cell_type": "code",
   "execution_count": 56,
   "metadata": {},
   "outputs": [
    {
     "name": "stderr",
     "output_type": "stream",
     "text": [
      "C:\\Users\\User\\Anaconda3\\envs\\dsi\\lib\\site-packages\\sklearn\\feature_extraction\\text.py:300: UserWarning: Your stop_words may be inconsistent with your preprocessing. Tokenizing the stop words generated tokens ['askdocs'] not in stop_words.\n",
      "  'stop_words.' % sorted(inconsistent))\n",
      "C:\\Users\\User\\Anaconda3\\envs\\dsi\\lib\\site-packages\\sklearn\\feature_extraction\\text.py:300: UserWarning: Your stop_words may be inconsistent with your preprocessing. Tokenizing the stop words generated tokens ['askdocs'] not in stop_words.\n",
      "  'stop_words.' % sorted(inconsistent))\n",
      "C:\\Users\\User\\Anaconda3\\envs\\dsi\\lib\\site-packages\\sklearn\\feature_extraction\\text.py:300: UserWarning: Your stop_words may be inconsistent with your preprocessing. Tokenizing the stop words generated tokens ['askdocs'] not in stop_words.\n",
      "  'stop_words.' % sorted(inconsistent))\n",
      "C:\\Users\\User\\Anaconda3\\envs\\dsi\\lib\\site-packages\\sklearn\\feature_extraction\\text.py:300: UserWarning: Your stop_words may be inconsistent with your preprocessing. Tokenizing the stop words generated tokens ['askdocs'] not in stop_words.\n",
      "  'stop_words.' % sorted(inconsistent))\n",
      "C:\\Users\\User\\Anaconda3\\envs\\dsi\\lib\\site-packages\\sklearn\\feature_extraction\\text.py:300: UserWarning: Your stop_words may be inconsistent with your preprocessing. Tokenizing the stop words generated tokens ['askdocs'] not in stop_words.\n",
      "  'stop_words.' % sorted(inconsistent))\n",
      "C:\\Users\\User\\Anaconda3\\envs\\dsi\\lib\\site-packages\\sklearn\\feature_extraction\\text.py:300: UserWarning: Your stop_words may be inconsistent with your preprocessing. Tokenizing the stop words generated tokens ['askdocs'] not in stop_words.\n",
      "  'stop_words.' % sorted(inconsistent))\n"
     ]
    }
   ],
   "source": [
    "# Create grid search parameters\n",
    "tfidf_lemmatizer_nb_params = {\n",
    "    'tvec__tokenizer':[LemmaTokenizer()], 'tvec__stop_words': [lemma_tokenized_stopwords + ['christianity'] ],\n",
    "    'tvec__min_df':[1], 'tvec__max_df':[1.0],'tvec__ngram_range':[(1,2)], \n",
    "    'tvec__max_features':[3000]\n",
    "}\n",
    "\n",
    "# Create grid search for tfidf lemmatizer\n",
    "tfidf_lemmatizer_nb_gs = GridSearchCV(tfidf_lemmatizer_nb_pipeline, tfidf_lemmatizer_nb_params, cv=5 )\n",
    "tfidf_lemmatizer_nb_gs.fit(X_train,y_train)\n",
    "add_model_to_scoreboard('Tf-Idf - Lemmatizer - MultinomialNB', tfidf_lemmatizer_nb_gs)"
   ]
  },
  {
   "cell_type": "markdown",
   "metadata": {},
   "source": [
    "Notes:\n",
    "- tvec_max_features \n",
    "    - 8000 > None , 5000\n",
    "    - 3000 > 1000\n",
    "- tvec__min_df\n",
    "    - 1 > 50, 10\n",
    "- tvec__max_df\n",
    "    - 1.0 > 0.7\n",
    "- tvec__ngrams:\n",
    "    - (1,2) > (1,3)"
   ]
  },
  {
   "cell_type": "markdown",
   "metadata": {},
   "source": [
    "### Model 6 : TF-IDF - Lemmatizer - Multinomial Naive Bayes Model 2"
   ]
  },
  {
   "cell_type": "code",
   "execution_count": 57,
   "metadata": {},
   "outputs": [
    {
     "name": "stderr",
     "output_type": "stream",
     "text": [
      "C:\\Users\\User\\Anaconda3\\envs\\dsi\\lib\\site-packages\\sklearn\\feature_extraction\\text.py:300: UserWarning: Your stop_words may be inconsistent with your preprocessing. Tokenizing the stop words generated tokens ['askdocs'] not in stop_words.\n",
      "  'stop_words.' % sorted(inconsistent))\n",
      "C:\\Users\\User\\Anaconda3\\envs\\dsi\\lib\\site-packages\\sklearn\\feature_extraction\\text.py:300: UserWarning: Your stop_words may be inconsistent with your preprocessing. Tokenizing the stop words generated tokens ['askdocs'] not in stop_words.\n",
      "  'stop_words.' % sorted(inconsistent))\n",
      "C:\\Users\\User\\Anaconda3\\envs\\dsi\\lib\\site-packages\\sklearn\\feature_extraction\\text.py:300: UserWarning: Your stop_words may be inconsistent with your preprocessing. Tokenizing the stop words generated tokens ['askdocs'] not in stop_words.\n",
      "  'stop_words.' % sorted(inconsistent))\n",
      "C:\\Users\\User\\Anaconda3\\envs\\dsi\\lib\\site-packages\\sklearn\\feature_extraction\\text.py:300: UserWarning: Your stop_words may be inconsistent with your preprocessing. Tokenizing the stop words generated tokens ['askdocs'] not in stop_words.\n",
      "  'stop_words.' % sorted(inconsistent))\n",
      "C:\\Users\\User\\Anaconda3\\envs\\dsi\\lib\\site-packages\\sklearn\\feature_extraction\\text.py:300: UserWarning: Your stop_words may be inconsistent with your preprocessing. Tokenizing the stop words generated tokens ['askdocs'] not in stop_words.\n",
      "  'stop_words.' % sorted(inconsistent))\n",
      "C:\\Users\\User\\Anaconda3\\envs\\dsi\\lib\\site-packages\\sklearn\\feature_extraction\\text.py:300: UserWarning: Your stop_words may be inconsistent with your preprocessing. Tokenizing the stop words generated tokens ['askdocs'] not in stop_words.\n",
      "  'stop_words.' % sorted(inconsistent))\n",
      "C:\\Users\\User\\Anaconda3\\envs\\dsi\\lib\\site-packages\\sklearn\\feature_extraction\\text.py:300: UserWarning: Your stop_words may be inconsistent with your preprocessing. Tokenizing the stop words generated tokens ['askdocs'] not in stop_words.\n",
      "  'stop_words.' % sorted(inconsistent))\n",
      "C:\\Users\\User\\Anaconda3\\envs\\dsi\\lib\\site-packages\\sklearn\\feature_extraction\\text.py:300: UserWarning: Your stop_words may be inconsistent with your preprocessing. Tokenizing the stop words generated tokens ['askdocs'] not in stop_words.\n",
      "  'stop_words.' % sorted(inconsistent))\n",
      "C:\\Users\\User\\Anaconda3\\envs\\dsi\\lib\\site-packages\\sklearn\\feature_extraction\\text.py:300: UserWarning: Your stop_words may be inconsistent with your preprocessing. Tokenizing the stop words generated tokens ['askdocs'] not in stop_words.\n",
      "  'stop_words.' % sorted(inconsistent))\n",
      "C:\\Users\\User\\Anaconda3\\envs\\dsi\\lib\\site-packages\\sklearn\\feature_extraction\\text.py:300: UserWarning: Your stop_words may be inconsistent with your preprocessing. Tokenizing the stop words generated tokens ['askdocs'] not in stop_words.\n",
      "  'stop_words.' % sorted(inconsistent))\n",
      "C:\\Users\\User\\Anaconda3\\envs\\dsi\\lib\\site-packages\\sklearn\\feature_extraction\\text.py:300: UserWarning: Your stop_words may be inconsistent with your preprocessing. Tokenizing the stop words generated tokens ['askdocs'] not in stop_words.\n",
      "  'stop_words.' % sorted(inconsistent))\n"
     ]
    }
   ],
   "source": [
    "# Create grid search parameters\n",
    "tfidf_lemmatizer_nb_params2 = {\n",
    "    'tvec__tokenizer':[LemmaTokenizer()], 'tvec__stop_words': [lemma_tokenized_stopwords + ['christianity']],\n",
    "    'tvec__min_df':[3, 5 ], 'tvec__max_df':[ 0.8 ],'tvec__ngram_range':[(1,2)], \n",
    "    'tvec__max_features':[3000], 'mnb__alpha': [1.0]\n",
    "}\n",
    "\n",
    "# Create grid search for tfidf lemmatizer\n",
    "tfidf_lemmatizer_nb_gs2 = GridSearchCV(tfidf_lemmatizer_nb_pipeline, tfidf_lemmatizer_nb_params2, cv=5 )\n",
    "tfidf_lemmatizer_nb_gs2.fit(X_train,y_train)\n",
    "add_model_to_scoreboard('Tf-Idf - Lemmatizer - MultinomialNB - 2 ', tfidf_lemmatizer_nb_gs2)"
   ]
  },
  {
   "cell_type": "markdown",
   "metadata": {},
   "source": [
    "#### Intepreting Model 4"
   ]
  },
  {
   "cell_type": "markdown",
   "metadata": {},
   "source": [
    "### Model 5 : Gradient Boosting Classifier"
   ]
  },
  {
   "cell_type": "code",
   "execution_count": 58,
   "metadata": {},
   "outputs": [],
   "source": [
    "# Try a Boosting model\n",
    "from sklearn.ensemble import GradientBoostingClassifier\n",
    "gboost = GradientBoostingClassifier()\n",
    "tfidf_lemmatizer_gb_pipeline = Pipeline(steps=[('tvec', tvec),('gb', gboost)])\n",
    "# tfidf_lemmatizer_gb_pipeline.get_params()"
   ]
  },
  {
   "cell_type": "code",
   "execution_count": 59,
   "metadata": {},
   "outputs": [
    {
     "name": "stderr",
     "output_type": "stream",
     "text": [
      "C:\\Users\\User\\Anaconda3\\envs\\dsi\\lib\\site-packages\\sklearn\\feature_extraction\\text.py:300: UserWarning: Your stop_words may be inconsistent with your preprocessing. Tokenizing the stop words generated tokens ['askdocs'] not in stop_words.\n",
      "  'stop_words.' % sorted(inconsistent))\n",
      "C:\\Users\\User\\Anaconda3\\envs\\dsi\\lib\\site-packages\\sklearn\\feature_extraction\\text.py:300: UserWarning: Your stop_words may be inconsistent with your preprocessing. Tokenizing the stop words generated tokens ['askdocs'] not in stop_words.\n",
      "  'stop_words.' % sorted(inconsistent))\n",
      "C:\\Users\\User\\Anaconda3\\envs\\dsi\\lib\\site-packages\\sklearn\\feature_extraction\\text.py:300: UserWarning: Your stop_words may be inconsistent with your preprocessing. Tokenizing the stop words generated tokens ['askdocs'] not in stop_words.\n",
      "  'stop_words.' % sorted(inconsistent))\n",
      "C:\\Users\\User\\Anaconda3\\envs\\dsi\\lib\\site-packages\\sklearn\\feature_extraction\\text.py:300: UserWarning: Your stop_words may be inconsistent with your preprocessing. Tokenizing the stop words generated tokens ['askdocs'] not in stop_words.\n",
      "  'stop_words.' % sorted(inconsistent))\n",
      "C:\\Users\\User\\Anaconda3\\envs\\dsi\\lib\\site-packages\\sklearn\\feature_extraction\\text.py:300: UserWarning: Your stop_words may be inconsistent with your preprocessing. Tokenizing the stop words generated tokens ['askdocs'] not in stop_words.\n",
      "  'stop_words.' % sorted(inconsistent))\n",
      "C:\\Users\\User\\Anaconda3\\envs\\dsi\\lib\\site-packages\\sklearn\\feature_extraction\\text.py:300: UserWarning: Your stop_words may be inconsistent with your preprocessing. Tokenizing the stop words generated tokens ['askdocs'] not in stop_words.\n",
      "  'stop_words.' % sorted(inconsistent))\n",
      "C:\\Users\\User\\Anaconda3\\envs\\dsi\\lib\\site-packages\\sklearn\\feature_extraction\\text.py:300: UserWarning: Your stop_words may be inconsistent with your preprocessing. Tokenizing the stop words generated tokens ['askdocs'] not in stop_words.\n",
      "  'stop_words.' % sorted(inconsistent))\n",
      "C:\\Users\\User\\Anaconda3\\envs\\dsi\\lib\\site-packages\\sklearn\\feature_extraction\\text.py:300: UserWarning: Your stop_words may be inconsistent with your preprocessing. Tokenizing the stop words generated tokens ['askdocs'] not in stop_words.\n",
      "  'stop_words.' % sorted(inconsistent))\n",
      "C:\\Users\\User\\Anaconda3\\envs\\dsi\\lib\\site-packages\\sklearn\\feature_extraction\\text.py:300: UserWarning: Your stop_words may be inconsistent with your preprocessing. Tokenizing the stop words generated tokens ['askdocs'] not in stop_words.\n",
      "  'stop_words.' % sorted(inconsistent))\n",
      "C:\\Users\\User\\Anaconda3\\envs\\dsi\\lib\\site-packages\\sklearn\\feature_extraction\\text.py:300: UserWarning: Your stop_words may be inconsistent with your preprocessing. Tokenizing the stop words generated tokens ['askdocs'] not in stop_words.\n",
      "  'stop_words.' % sorted(inconsistent))\n",
      "C:\\Users\\User\\Anaconda3\\envs\\dsi\\lib\\site-packages\\sklearn\\feature_extraction\\text.py:300: UserWarning: Your stop_words may be inconsistent with your preprocessing. Tokenizing the stop words generated tokens ['askdocs'] not in stop_words.\n",
      "  'stop_words.' % sorted(inconsistent))\n"
     ]
    }
   ],
   "source": [
    "tfidf_lemmatizer_gb_params={\n",
    "    'tvec__tokenizer':[LemmaTokenizer()], 'tvec__stop_words': [lemma_tokenized_stopwords + ['christianity']],\n",
    "    'tvec__min_df':[3 ], 'tvec__max_df':[ 0.8 ],'tvec__ngram_range':[(1,2)], \n",
    "    'tvec__max_features':[3000],\n",
    "    'gb__learning_rate':[0.1], 'gb__n_estimators':[200], 'gb__max_leaf_nodes': [None], 'gb__min_samples_leaf':[10,50]\n",
    "}\n",
    "\n",
    "tfidf_lemmatizer_gb_gs = GridSearchCV(tfidf_lemmatizer_gb_pipeline, tfidf_lemmatizer_gb_params, cv=5 ).fit(X_train,y_train)\n",
    "add_model_to_scoreboard('Tf-Idf - Lemmatizer - GradientBoosting', tfidf_lemmatizer_gb_gs)"
   ]
  },
  {
   "cell_type": "markdown",
   "metadata": {},
   "source": [
    "## Model Benchmarks"
   ]
  },
  {
   "cell_type": "code",
   "execution_count": 73,
   "metadata": {},
   "outputs": [
    {
     "data": {
      "text/html": [
       "<div>\n",
       "<style scoped>\n",
       "    .dataframe tbody tr th:only-of-type {\n",
       "        vertical-align: middle;\n",
       "    }\n",
       "\n",
       "    .dataframe tbody tr th {\n",
       "        vertical-align: top;\n",
       "    }\n",
       "\n",
       "    .dataframe thead th {\n",
       "        text-align: right;\n",
       "    }\n",
       "</style>\n",
       "<table border=\"1\" class=\"dataframe\">\n",
       "  <thead>\n",
       "    <tr style=\"text-align: right;\">\n",
       "      <th></th>\n",
       "      <th>Model</th>\n",
       "      <th>Training Score</th>\n",
       "      <th>Validation Score</th>\n",
       "      <th>Auc Roc</th>\n",
       "      <th>Sensitivity/Recall</th>\n",
       "      <th>Precision</th>\n",
       "      <th>F1</th>\n",
       "    </tr>\n",
       "  </thead>\n",
       "  <tbody>\n",
       "    <tr>\n",
       "      <td>3</td>\n",
       "      <td>Count Vectorizer - Lemmatizer - MultinomialNB</td>\n",
       "      <td>1.000000</td>\n",
       "      <td>0.985740</td>\n",
       "      <td>0.998306</td>\n",
       "      <td>0.979508</td>\n",
       "      <td>0.987603</td>\n",
       "      <td>0.983539</td>\n",
       "    </tr>\n",
       "    <tr>\n",
       "      <td>5</td>\n",
       "      <td>Tf-Idf - Lemmatizer - MultinomialNB - 2</td>\n",
       "      <td>0.993304</td>\n",
       "      <td>0.983957</td>\n",
       "      <td>0.998565</td>\n",
       "      <td>0.975410</td>\n",
       "      <td>0.987552</td>\n",
       "      <td>0.981443</td>\n",
       "    </tr>\n",
       "    <tr>\n",
       "      <td>4</td>\n",
       "      <td>Tf-Idf - Lemmatizer - MultinomialNB</td>\n",
       "      <td>0.992857</td>\n",
       "      <td>0.982175</td>\n",
       "      <td>0.998591</td>\n",
       "      <td>0.971311</td>\n",
       "      <td>0.987500</td>\n",
       "      <td>0.979339</td>\n",
       "    </tr>\n",
       "    <tr>\n",
       "      <td>0</td>\n",
       "      <td>Count Vectorizer - Logistic Regression Model</td>\n",
       "      <td>1.000000</td>\n",
       "      <td>0.982175</td>\n",
       "      <td>0.996458</td>\n",
       "      <td>0.963115</td>\n",
       "      <td>0.995763</td>\n",
       "      <td>0.979167</td>\n",
       "    </tr>\n",
       "    <tr>\n",
       "      <td>1</td>\n",
       "      <td>Count Vectorizer- Lemmatizer - Logistic Regres...</td>\n",
       "      <td>1.000000</td>\n",
       "      <td>0.982175</td>\n",
       "      <td>0.996367</td>\n",
       "      <td>0.963115</td>\n",
       "      <td>0.995763</td>\n",
       "      <td>0.979167</td>\n",
       "    </tr>\n",
       "    <tr>\n",
       "      <td>2</td>\n",
       "      <td>Count Vectorizer- PorterStemmer - Logistic Reg...</td>\n",
       "      <td>1.000000</td>\n",
       "      <td>0.982175</td>\n",
       "      <td>0.997156</td>\n",
       "      <td>0.963115</td>\n",
       "      <td>0.995763</td>\n",
       "      <td>0.979167</td>\n",
       "    </tr>\n",
       "    <tr>\n",
       "      <td>6</td>\n",
       "      <td>Tf-Idf - Lemmatizer - GradientBoosting</td>\n",
       "      <td>0.995982</td>\n",
       "      <td>0.966132</td>\n",
       "      <td>0.996522</td>\n",
       "      <td>0.946721</td>\n",
       "      <td>0.974684</td>\n",
       "      <td>0.960499</td>\n",
       "    </tr>\n",
       "  </tbody>\n",
       "</table>\n",
       "</div>"
      ],
      "text/plain": [
       "                                               Model  Training Score  \\\n",
       "3      Count Vectorizer - Lemmatizer - MultinomialNB        1.000000   \n",
       "5           Tf-Idf - Lemmatizer - MultinomialNB - 2         0.993304   \n",
       "4                Tf-Idf - Lemmatizer - MultinomialNB        0.992857   \n",
       "0       Count Vectorizer - Logistic Regression Model        1.000000   \n",
       "1  Count Vectorizer- Lemmatizer - Logistic Regres...        1.000000   \n",
       "2  Count Vectorizer- PorterStemmer - Logistic Reg...        1.000000   \n",
       "6             Tf-Idf - Lemmatizer - GradientBoosting        0.995982   \n",
       "\n",
       "   Validation Score   Auc Roc  Sensitivity/Recall  Precision        F1  \n",
       "3          0.985740  0.998306            0.979508   0.987603  0.983539  \n",
       "5          0.983957  0.998565            0.975410   0.987552  0.981443  \n",
       "4          0.982175  0.998591            0.971311   0.987500  0.979339  \n",
       "0          0.982175  0.996458            0.963115   0.995763  0.979167  \n",
       "1          0.982175  0.996367            0.963115   0.995763  0.979167  \n",
       "2          0.982175  0.997156            0.963115   0.995763  0.979167  \n",
       "6          0.966132  0.996522            0.946721   0.974684  0.960499  "
      ]
     },
     "execution_count": 73,
     "metadata": {},
     "output_type": "execute_result"
    }
   ],
   "source": [
    "scoreboard= get_model_scoreboard()\n",
    "scoreboard['df']"
   ]
  },
  {
   "cell_type": "markdown",
   "metadata": {},
   "source": [
    "### Plotting the AUC ROC Curve of the best model"
   ]
  },
  {
   "cell_type": "code",
   "execution_count": 61,
   "metadata": {
    "scrolled": false
   },
   "outputs": [
    {
     "data": {
      "image/png": "[encoded data removed]",
      "text/plain": [
       "<Figure size 1008x576 with 1 Axes>"
      ]
     },
     "metadata": {
      "needs_background": "light"
     },
     "output_type": "display_data"
    }
   ],
   "source": [
    "get_roc_curve(scoreboard['best_estimator_'])"
   ]
  },
  {
   "cell_type": "markdown",
   "metadata": {},
   "source": [
    "### Plotting the distribution of probabilities"
   ]
  },
  {
   "cell_type": "code",
   "execution_count": 62,
   "metadata": {
    "scrolled": false
   },
   "outputs": [
    {
     "data": {
      "text/plain": [
       "<matplotlib.axes._subplots.AxesSubplot at 0x20c94126688>"
      ]
     },
     "execution_count": 62,
     "metadata": {},
     "output_type": "execute_result"
    },
    {
     "data": {
      "image/png": "[encoded data removed]",
      "text/plain": [
       "<Figure size 1080x648 with 1 Axes>"
      ]
     },
     "metadata": {
      "needs_background": "light"
     },
     "output_type": "display_data"
    }
   ],
   "source": [
    "get_probability_dist(scoreboard['best_estimator_'])"
   ]
  },
  {
   "cell_type": "markdown",
   "metadata": {},
   "source": [
    "## Visualizing the most frequent words in each subreddit"
   ]
  },
  {
   "cell_type": "code",
   "execution_count": 63,
   "metadata": {},
   "outputs": [
    {
     "data": {
      "image/png": "[encoded data removed]",
      "text/plain": [
       "<Figure size 936x576 with 1 Axes>"
      ]
     },
     "metadata": {
      "needs_background": "light"
     },
     "output_type": "display_data"
    }
   ],
   "source": [
    "# To visualize the Count Vectorizer\n",
    "def get_top_words(subreddit):\n",
    "    cvec = CountVectorizer(stop_words= stopwords.words(\"english\") , max_df=0.7, max_features=80)\n",
    "    X_train_cvec_transformed = cvec.fit_transform(reddit_df[reddit_df['topic'] == subreddit ]['content'])\n",
    "    X_train_cvec_pd = pd.DataFrame(X_train_cvec_transformed.toarray(), columns=cvec.get_feature_names())\n",
    "    X_train_cvec_pd = X_train_cvec_pd[[col for col in X_train_cvec_pd.columns if col not in set(stopwords.words(\"english\")) ]]\n",
    "    X_train_cvec_pd = X_train_cvec_pd[X_train_cvec_pd.sum().sort_values(ascending=False).index]\n",
    "\n",
    "    plt.figure(figsize=(13,8))\n",
    "    X_train_cvec_pd.iloc[:,:15].sum().plot.barh()\n",
    "    plt.title(f'Word Frequency Chart for subreddit : {subreddit}')\n",
    "    plt.xlabel(\"Word\")\n",
    "    plt.ylabel(\"Frequency\");\n",
    "    \n",
    "\n",
    "get_top_words( reddit_topics[0])"
   ]
  },
  {
   "cell_type": "code",
   "execution_count": 64,
   "metadata": {},
   "outputs": [
    {
     "data": {
      "image/png": "[encoded data removed]",
      "text/plain": [
       "<Figure size 936x576 with 1 Axes>"
      ]
     },
     "metadata": {
      "needs_background": "light"
     },
     "output_type": "display_data"
    }
   ],
   "source": [
    "get_top_words( reddit_topics[1])"
   ]
  },
  {
   "cell_type": "markdown",
   "metadata": {},
   "source": [
    "## Export the best Model"
   ]
  },
  {
   "cell_type": "code",
   "execution_count": 65,
   "metadata": {},
   "outputs": [
    {
     "data": {
      "text/plain": [
       "['reddit_legal_doc_best_model.pkl']"
      ]
     },
     "execution_count": 65,
     "metadata": {},
     "output_type": "execute_result"
    }
   ],
   "source": [
    "import joblib\n",
    "\n",
    "# joblib.dump(model, 'my_model.pkl') \n",
    "joblib.dump(scoreboard['best_estimator_'], filename.split('.')[0] + '_best_model.pkl' , compress = 1)"
   ]
  },
  {
   "cell_type": "markdown",
   "metadata": {},
   "source": [
    "## Running the final model on Test set"
   ]
  },
  {
   "cell_type": "code",
   "execution_count": 66,
   "metadata": {},
   "outputs": [],
   "source": [
    "final_model = scoreboard['best_estimator_']\n",
    "## Final model is the best model trained on the entire X_train and y_train with no cross validations\n"
   ]
  },
  {
   "cell_type": "code",
   "execution_count": 67,
   "metadata": {},
   "outputs": [
    {
     "data": {
      "text/html": [
       "<div>\n",
       "<style scoped>\n",
       "    .dataframe tbody tr th:only-of-type {\n",
       "        vertical-align: middle;\n",
       "    }\n",
       "\n",
       "    .dataframe tbody tr th {\n",
       "        vertical-align: top;\n",
       "    }\n",
       "\n",
       "    .dataframe thead th {\n",
       "        text-align: right;\n",
       "    }\n",
       "</style>\n",
       "<table border=\"1\" class=\"dataframe\">\n",
       "  <thead>\n",
       "    <tr style=\"text-align: right;\">\n",
       "      <th></th>\n",
       "      <th>Model</th>\n",
       "      <th>Training Score</th>\n",
       "      <th>Validation Score</th>\n",
       "      <th>Auc Roc</th>\n",
       "      <th>Sensitivity/Recall</th>\n",
       "      <th>Precision</th>\n",
       "      <th>F1</th>\n",
       "    </tr>\n",
       "  </thead>\n",
       "  <tbody>\n",
       "    <tr>\n",
       "      <td>0</td>\n",
       "      <td>final_model</td>\n",
       "      <td>1.0</td>\n",
       "      <td>0.98574</td>\n",
       "      <td>0.998306</td>\n",
       "      <td>0.979508</td>\n",
       "      <td>0.987603</td>\n",
       "      <td>0.983539</td>\n",
       "    </tr>\n",
       "  </tbody>\n",
       "</table>\n",
       "</div>"
      ],
      "text/plain": [
       "         Model  Training Score  Validation Score   Auc Roc  \\\n",
       "0  final_model             1.0           0.98574  0.998306   \n",
       "\n",
       "   Sensitivity/Recall  Precision        F1  \n",
       "0            0.979508   0.987603  0.983539  "
      ]
     },
     "execution_count": 67,
     "metadata": {},
     "output_type": "execute_result"
    }
   ],
   "source": [
    "# Final model scores on the validation set\n",
    "best_model_scores = get_model_scoreboard(model_dic={'final_model':final_model})\n",
    "best_model_scores['df']"
   ]
  },
  {
   "cell_type": "code",
   "execution_count": 68,
   "metadata": {},
   "outputs": [
    {
     "data": {
      "text/html": [
       "<div>\n",
       "<style scoped>\n",
       "    .dataframe tbody tr th:only-of-type {\n",
       "        vertical-align: middle;\n",
       "    }\n",
       "\n",
       "    .dataframe tbody tr th {\n",
       "        vertical-align: top;\n",
       "    }\n",
       "\n",
       "    .dataframe thead th {\n",
       "        text-align: right;\n",
       "    }\n",
       "</style>\n",
       "<table border=\"1\" class=\"dataframe\">\n",
       "  <thead>\n",
       "    <tr style=\"text-align: right;\">\n",
       "      <th></th>\n",
       "      <th>Model</th>\n",
       "      <th>Training Score</th>\n",
       "      <th>Validation Score</th>\n",
       "      <th>Auc Roc</th>\n",
       "      <th>Sensitivity/Recall</th>\n",
       "      <th>Precision</th>\n",
       "      <th>F1</th>\n",
       "    </tr>\n",
       "  </thead>\n",
       "  <tbody>\n",
       "    <tr>\n",
       "      <td>0</td>\n",
       "      <td>final_model</td>\n",
       "      <td>1.0</td>\n",
       "      <td>0.992867</td>\n",
       "      <td>0.999396</td>\n",
       "      <td>0.990164</td>\n",
       "      <td>0.993421</td>\n",
       "      <td>0.99179</td>\n",
       "    </tr>\n",
       "  </tbody>\n",
       "</table>\n",
       "</div>"
      ],
      "text/plain": [
       "         Model  Training Score  Validation Score   Auc Roc  \\\n",
       "0  final_model             1.0          0.992867  0.999396   \n",
       "\n",
       "   Sensitivity/Recall  Precision       F1  \n",
       "0            0.990164   0.993421  0.99179  "
      ]
     },
     "execution_count": 68,
     "metadata": {},
     "output_type": "execute_result"
    }
   ],
   "source": [
    "# Final model scores on the Test set\n",
    "best_model_scores = get_model_scoreboard(model_dic={'final_model':final_model}, X=X_test, y=y_test)\n",
    "best_model_scores['df']"
   ]
  },
  {
   "cell_type": "markdown",
   "metadata": {},
   "source": [
    "## Conclusion"
   ]
  },
  {
   "cell_type": "code",
   "execution_count": 69,
   "metadata": {},
   "outputs": [
    {
     "name": "stdout",
     "output_type": "stream",
     "text": [
      "The best performing model is Count Vectorizer - Lemmatizer - MultinomialNB \n",
      "with a F1 score of 0.9835390946502057 on the Test Set.\n"
     ]
    }
   ],
   "source": [
    "print(f\"The best performing model is {scoreboard['best_estimator_name']} \\nwith a F1 score of {scoreboard['df'].iloc[0]['F1']} \\\n",
    "on the Test Set.\")"
   ]
  }
 ],
 "metadata": {
  "kernelspec": {
   "display_name": "Python 3",
   "language": "python",
   "name": "python3"
  },
  "language_info": {
   "codemirror_mode": {
    "name": "ipython",
    "version": 3
   },
   "file_extension": ".py",
   "mimetype": "text/x-python",
   "name": "python",
   "nbconvert_exporter": "python",
   "pygments_lexer": "ipython3",
   "version": "3.7.4"
  },
  "toc": {
   "base_numbering": 1,
   "nav_menu": {},
   "number_sections": true,
   "sideBar": true,
   "skip_h1_title": true,
   "title_cell": "Contents",
   "title_sidebar": "Contents",
   "toc_cell": true,
   "toc_position": {
    "height": "calc(100% - 180px)",
    "left": "10px",
    "top": "150px",
    "width": "317.8px"
   },
   "toc_section_display": true,
   "toc_window_display": true
  },
  "varInspector": {
   "cols": {
    "lenName": 16,
    "lenType": 16,
    "lenVar": 40
   },
   "kernels_config": {
    "python": {
     "delete_cmd_postfix": "",
     "delete_cmd_prefix": "del ",
     "library": "var_list.py",
     "varRefreshCmd": "print(var_dic_list())"
    },
    "r": {
     "delete_cmd_postfix": ") ",
     "delete_cmd_prefix": "rm(",
     "library": "var_list.r",
     "varRefreshCmd": "cat(var_dic_list()) "
    }
   },
   "oldHeight": 193.20000000000002,
   "position": {
    "height": "40px",
    "left": "1063px",
    "right": "20px",
    "top": "75px",
    "width": "417.8px"
   },
   "types_to_exclude": [
    "module",
    "function",
    "builtin_function_or_method",
    "instance",
    "_Feature"
   ],
   "varInspector_section_display": "none",
   "window_display": false
  }
 },
 "nbformat": 4,
 "nbformat_minor": 2
}
