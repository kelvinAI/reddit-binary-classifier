{
 "cells": [
  {
   "cell_type": "markdown",
   "metadata": {},
   "source": [
    "# Reddit Classifier"
   ]
  },
  {
   "cell_type": "markdown",
   "metadata": {
    "toc": true
   },
   "source": [
    "<h1>Contents<span class=\"tocSkip\"></span></h1>\n",
    "<div class=\"toc\"><ul class=\"toc-item\"><li><span><a href=\"#Problem-Statement:\" data-toc-modified-id=\"Problem-Statement:-1\"><span class=\"toc-item-num\">1&nbsp;&nbsp;</span>Problem Statement:</a></span></li><li><span><a href=\"#Executive-summary\" data-toc-modified-id=\"Executive-summary-2\"><span class=\"toc-item-num\">2&nbsp;&nbsp;</span>Executive summary</a></span></li><li><span><a href=\"#Scraping-for-data\" data-toc-modified-id=\"Scraping-for-data-3\"><span class=\"toc-item-num\">3&nbsp;&nbsp;</span>Scraping for data</a></span></li><li><span><a href=\"#Read-the-csv-file\" data-toc-modified-id=\"Read-the-csv-file-4\"><span class=\"toc-item-num\">4&nbsp;&nbsp;</span>Read the csv file</a></span><ul class=\"toc-item\"><li><span><a href=\"#Train-test-split\" data-toc-modified-id=\"Train-test-split-4.1\"><span class=\"toc-item-num\">4.1&nbsp;&nbsp;</span>Train test split</a></span></li></ul></li><li><span><a href=\"#EDA:-Exploring-the-dataset\" data-toc-modified-id=\"EDA:-Exploring-the-dataset-5\"><span class=\"toc-item-num\">5&nbsp;&nbsp;</span>EDA: Exploring the dataset</a></span><ul class=\"toc-item\"><li><span><a href=\"#Word-cloud-for-first-category\" data-toc-modified-id=\"Word-cloud-for-first-category-5.1\"><span class=\"toc-item-num\">5.1&nbsp;&nbsp;</span>Word cloud for first category</a></span></li><li><span><a href=\"#Word-cloud-for-second-category\" data-toc-modified-id=\"Word-cloud-for-second-category-5.2\"><span class=\"toc-item-num\">5.2&nbsp;&nbsp;</span>Word cloud for second category</a></span></li><li><span><a href=\"#Baseline-accuracy\" data-toc-modified-id=\"Baseline-accuracy-5.3\"><span class=\"toc-item-num\">5.3&nbsp;&nbsp;</span>Baseline accuracy</a></span></li></ul></li><li><span><a href=\"#NLP-Pipeline\" data-toc-modified-id=\"NLP-Pipeline-6\"><span class=\"toc-item-num\">6&nbsp;&nbsp;</span>NLP Pipeline</a></span><ul class=\"toc-item\"><li><span><a href=\"#Tokenizing,-Stemming/Lemming-and-Vectorization\" data-toc-modified-id=\"Tokenizing,-Stemming/Lemming-and-Vectorization-6.1\"><span class=\"toc-item-num\">6.1&nbsp;&nbsp;</span>Tokenizing, Stemming/Lemming and Vectorization</a></span></li><li><span><a href=\"#Model-1-:-Count-Vectorizer---Lemmatizer---Logistic-Regression\" data-toc-modified-id=\"Model-1-:-Count-Vectorizer---Lemmatizer---Logistic-Regression-6.2\"><span class=\"toc-item-num\">6.2&nbsp;&nbsp;</span>Model 1 : Count Vectorizer - Lemmatizer - Logistic Regression</a></span><ul class=\"toc-item\"><li><span><a href=\"#Scores-and-best-parameters-obtained-from-Grid-Search-based-on-this-dataset-is:\" data-toc-modified-id=\"Scores-and-best-parameters-obtained-from-Grid-Search-based-on-this-dataset-is:-6.2.1\"><span class=\"toc-item-num\">6.2.1&nbsp;&nbsp;</span>Scores and best parameters obtained from Grid Search based on this dataset is:</a></span></li></ul></li><li><span><a href=\"#Model-2-:-Count-Vectorizer---Porter-Stemmer---Logistic-Regression\" data-toc-modified-id=\"Model-2-:-Count-Vectorizer---Porter-Stemmer---Logistic-Regression-6.3\"><span class=\"toc-item-num\">6.3&nbsp;&nbsp;</span>Model 2 : Count Vectorizer - Porter Stemmer - Logistic Regression</a></span></li><li><span><a href=\"#Model-3-:-Count-Vectorizer---Lemmatizer---Multinomial-Naive-Bayes\" data-toc-modified-id=\"Model-3-:-Count-Vectorizer---Lemmatizer---Multinomial-Naive-Bayes-6.4\"><span class=\"toc-item-num\">6.4&nbsp;&nbsp;</span>Model 3 : Count Vectorizer - Lemmatizer - Multinomial Naive Bayes</a></span></li><li><span><a href=\"#Model-4-:-TF-IDF---Lemmatizer---Multinomial-Naive-Bayes\" data-toc-modified-id=\"Model-4-:-TF-IDF---Lemmatizer---Multinomial-Naive-Bayes-6.5\"><span class=\"toc-item-num\">6.5&nbsp;&nbsp;</span>Model 4 : TF-IDF - Lemmatizer - Multinomial Naive Bayes</a></span></li></ul></li></ul></div>"
   ]
  },
  {
   "cell_type": "markdown",
   "metadata": {},
   "source": [
    "## Problem Statement:\n",
    "\n",
    "KPI / Business "
   ]
  },
  {
   "cell_type": "markdown",
   "metadata": {},
   "source": [
    "## Executive summary\n",
    "Scape the Reddit website for two topics, and build a binary classifier that will classify which topic the text originate from"
   ]
  },
  {
   "cell_type": "markdown",
   "metadata": {},
   "source": [
    "## Scraping for data"
   ]
  },
  {
   "cell_type": "code",
   "execution_count": 1,
   "metadata": {},
   "outputs": [],
   "source": [
    "import requests\n",
    "import pandas as pd\n",
    "import numpy as np"
   ]
  },
  {
   "cell_type": "code",
   "execution_count": 2,
   "metadata": {},
   "outputs": [],
   "source": [
    "from collections import defaultdict\n",
    "\n",
    "def extract_content(response, topic):\n",
    "    # 0th index refers to title appended with selftext\n",
    "    rslt = defaultdict(list)\n",
    "    for post in response.json()['data']['children']:\n",
    "        rslt['content'].append(post['data']['title'] + ' ' + post['data']['selftext'])\n",
    "        rslt['topic'].append(topic)\n",
    "        rslt['id'].append(post['data']['name'])\n",
    "        \n",
    "    return rslt\n",
    "\n",
    "def scrape_topic(topic,depth=12):\n",
    "    '''\n",
    "    Scrape the reddit topic for all the posts\n",
    "    \n",
    "    '''\n",
    "    base_url = 'https://www.reddit.com/r/'\n",
    "    url = base_url + topic + '.json?limit=100'\n",
    "    last_entry_name = ''\n",
    "    payload = None\n",
    "    \n",
    "    \n",
    "    for i in range(depth):\n",
    "        if last_entry_name == None:\n",
    "            break\n",
    "        if last_entry_name != '':\n",
    "            url = base_url + topic + '.json?limit=100&after=' + last_entry_name\n",
    "    \n",
    "        res = requests.get(url, headers={'User-agent': 'Pony Inc 1.0'})\n",
    "        print(f\"request url: {url} for {topic} at depth:{i}\")\n",
    "        \n",
    "        last_entry_name = res.json()['data']['after']\n",
    "        print(f\"Last entry name : {last_entry_name} \")\n",
    "        content = extract_content(res,topic)\n",
    "        if not payload:\n",
    "            payload = content\n",
    "        else:\n",
    "            for k,v in payload.items():\n",
    "                payload[k] += content[k]\n",
    "        if i < depth-1:\n",
    "            sleep_duration = random.randint(2,15)\n",
    "            time.sleep(sleep_duration)\n",
    "        print(f'Scraping {topic}, {i} pages in..')\n",
    "    return {'topic': topic, 'data': payload }\n",
    "    "
   ]
  },
  {
   "cell_type": "code",
   "execution_count": 3,
   "metadata": {},
   "outputs": [],
   "source": [
    "import concurrent.futures as cf\n",
    "import random, time\n",
    "\n",
    "\n",
    "def get_reddit_data(topics):\n",
    "    '''\n",
    "    Main function to scrape reddit data into a pandas dataframe.\n",
    "    Args: topics\n",
    "     - An array object of topics in reddit to scrape from\n",
    "    '''\n",
    "    rdf = pd.DataFrame()\n",
    "    with cf.ThreadPoolExecutor(max_workers=5) as executor:\n",
    "        for future in executor.map(scrape_topic, topics):\n",
    "            if rdf.empty:\n",
    "                rdf = pd.DataFrame(future['data'])\n",
    "            else:\n",
    "                new = pd.DataFrame(future['data'])\n",
    "                rdf = pd.concat([rdf,new],ignore_index=True)\n",
    "            \n",
    "    return rdf\n",
    "        \n",
    "      "
   ]
  },
  {
   "cell_type": "code",
   "execution_count": 26,
   "metadata": {},
   "outputs": [],
   "source": [
    "reddit_topics= ['Christianity','atheism']"
   ]
  },
  {
   "cell_type": "code",
   "execution_count": 202,
   "metadata": {},
   "outputs": [
    {
     "name": "stdout",
     "output_type": "stream",
     "text": [
      "request url: https://www.reddit.com/r/atheism.json?limit=100 for atheism at depth:0\n",
      "Last entry name : t3_dku95h \n",
      "request url: https://www.reddit.com/r/Christianity.json?limit=100 for Christianity at depth:0\n",
      "Last entry name : t3_dkywjy \n",
      "Scraping atheism, 0 pages in..\n",
      "request url: https://www.reddit.com/r/atheism.json?limit=100&after=t3_dku95h for atheism at depth:1\n",
      "Last entry name : t3_djvom6 \n",
      "Scraping atheism, 1 pages in..\n",
      "request url: https://www.reddit.com/r/atheism.json?limit=100&after=t3_djvom6 for atheism at depth:2\n",
      "Last entry name : t3_djfvlv \n",
      "Scraping Christianity, 0 pages in..\n",
      "request url: https://www.reddit.com/r/Christianity.json?limit=100&after=t3_dkywjy for Christianity at depth:1\n",
      "Last entry name : t3_dkuclo \n",
      "Scraping Christianity, 1 pages in..\n",
      "Scraping atheism, 2 pages in..\n",
      "request url: https://www.reddit.com/r/Christianity.json?limit=100&after=t3_dkuclo for Christianity at depth:2\n",
      "Last entry name : t3_dkjh6k \n",
      "request url: https://www.reddit.com/r/atheism.json?limit=100&after=t3_djfvlv for atheism at depth:3\n",
      "Last entry name : t3_disnb8 \n",
      "Scraping Christianity, 2 pages in..\n",
      "Scraping atheism, 3 pages in..\n",
      "request url: https://www.reddit.com/r/Christianity.json?limit=100&after=t3_dkjh6k for Christianity at depth:3\n",
      "Last entry name : t3_dkd16m \n",
      "request url: https://www.reddit.com/r/atheism.json?limit=100&after=t3_disnb8 for atheism at depth:4\n",
      "Last entry name : t3_dih8ch \n",
      "Scraping Christianity, 3 pages in..\n",
      "request url: https://www.reddit.com/r/Christianity.json?limit=100&after=t3_dkd16m for Christianity at depth:4\n",
      "Last entry name : t3_dk3vzw \n",
      "Scraping Christianity, 4 pages in..\n",
      "request url: https://www.reddit.com/r/Christianity.json?limit=100&after=t3_dk3vzw for Christianity at depth:5\n",
      "Last entry name : t3_djr1vv \n",
      "Scraping atheism, 4 pages in..\n",
      "request url: https://www.reddit.com/r/atheism.json?limit=100&after=t3_dih8ch for atheism at depth:5\n",
      "Last entry name : t3_dhtfnp \n",
      "Scraping Christianity, 5 pages in..\n",
      "request url: https://www.reddit.com/r/Christianity.json?limit=100&after=t3_djr1vv for Christianity at depth:6\n",
      "Last entry name : t3_dj0c11 \n",
      "Scraping atheism, 5 pages in..\n",
      "request url: https://www.reddit.com/r/atheism.json?limit=100&after=t3_dhtfnp for atheism at depth:6\n",
      "Last entry name : t3_dhd6ls \n",
      "Scraping Christianity, 6 pages in..\n",
      "request url: https://www.reddit.com/r/Christianity.json?limit=100&after=t3_dj0c11 for Christianity at depth:7\n",
      "Last entry name : t3_ditald \n",
      "Scraping Christianity, 7 pages in..\n",
      "Scraping atheism, 6 pages in..\n",
      "request url: https://www.reddit.com/r/Christianity.json?limit=100&after=t3_ditald for Christianity at depth:8\n",
      "Last entry name : t3_dilh4v \n",
      "request url: https://www.reddit.com/r/atheism.json?limit=100&after=t3_dhd6ls for atheism at depth:7\n",
      "Last entry name : t3_dgyu4t \n",
      "Scraping atheism, 7 pages in..\n",
      "request url: https://www.reddit.com/r/atheism.json?limit=100&after=t3_dgyu4t for atheism at depth:8\n",
      "Last entry name : t3_dg11z0 \n",
      "Scraping atheism, 8 pages in..\n",
      "Scraping Christianity, 8 pages in..\n",
      "request url: https://www.reddit.com/r/atheism.json?limit=100&after=t3_dg11z0 for atheism at depth:9\n",
      "Last entry name : None \n",
      "request url: https://www.reddit.com/r/Christianity.json?limit=100&after=t3_dilh4v for Christianity at depth:9\n",
      "Last entry name : None \n",
      "Scraping atheism, 9 pages in..\n",
      "Scraping Christianity, 9 pages in..\n",
      "              content   id\n",
      "topic                     \n",
      "Christianity      955  955\n",
      "atheism           931  931\n"
     ]
    }
   ],
   "source": [
    "import os.path\n",
    "\n",
    "rdf = get_reddit_data(reddit_topics)\n",
    "print(rdf.groupby(by='topic').count())\n",
    "\n",
    "# filename = 'reddit_scrape_bio_chem.csv'\n",
    "# filename = 'reddit_scrape_docs_legal.csv'\n",
    "filename = 'reddit_atheism_christianity.csv'\n",
    "\n",
    "use_header=True\n",
    "\n",
    "if os.path.exists(filename):\n",
    "    use_header = False\n",
    "\n",
    "# Save the data into a csv file\n",
    "rdf.to_csv(filename,mode='a',header=use_header, index=False)"
   ]
  },
  {
   "cell_type": "markdown",
   "metadata": {},
   "source": [
    "## Read the csv file"
   ]
  },
  {
   "cell_type": "code",
   "execution_count": 6,
   "metadata": {},
   "outputs": [],
   "source": [
    "reddit_df = pd.read_csv(filename)"
   ]
  },
  {
   "cell_type": "code",
   "execution_count": 7,
   "metadata": {},
   "outputs": [
    {
     "data": {
      "text/html": [
       "<div>\n",
       "<style scoped>\n",
       "    .dataframe tbody tr th:only-of-type {\n",
       "        vertical-align: middle;\n",
       "    }\n",
       "\n",
       "    .dataframe tbody tr th {\n",
       "        vertical-align: top;\n",
       "    }\n",
       "\n",
       "    .dataframe thead th {\n",
       "        text-align: right;\n",
       "    }\n",
       "</style>\n",
       "<table border=\"1\" class=\"dataframe\">\n",
       "  <thead>\n",
       "    <tr style=\"text-align: right;\">\n",
       "      <th></th>\n",
       "      <th>content</th>\n",
       "      <th>topic</th>\n",
       "      <th>id</th>\n",
       "    </tr>\n",
       "  </thead>\n",
       "  <tbody>\n",
       "    <tr>\n",
       "      <td>0</td>\n",
       "      <td>Mere Disagreement is Not a Personal Attack Thi...</td>\n",
       "      <td>Christianity</td>\n",
       "      <td>t3_dl986s</td>\n",
       "    </tr>\n",
       "    <tr>\n",
       "      <td>1</td>\n",
       "      <td>Chinese authorities raided church, forcibly re...</td>\n",
       "      <td>Christianity</td>\n",
       "      <td>t3_dl0lgm</td>\n",
       "    </tr>\n",
       "    <tr>\n",
       "      <td>2</td>\n",
       "      <td>Just learned that a prominent atheist redditor...</td>\n",
       "      <td>Christianity</td>\n",
       "      <td>t3_dla8rq</td>\n",
       "    </tr>\n",
       "    <tr>\n",
       "      <td>3</td>\n",
       "      <td>Jesus loves you and wants you to be joyful Joh...</td>\n",
       "      <td>Christianity</td>\n",
       "      <td>t3_dl7z2c</td>\n",
       "    </tr>\n",
       "    <tr>\n",
       "      <td>4</td>\n",
       "      <td>I’m an atheist, but want to be a Christian. Ca...</td>\n",
       "      <td>Christianity</td>\n",
       "      <td>t3_dl8rp2</td>\n",
       "    </tr>\n",
       "    <tr>\n",
       "      <td>...</td>\n",
       "      <td>...</td>\n",
       "      <td>...</td>\n",
       "      <td>...</td>\n",
       "    </tr>\n",
       "    <tr>\n",
       "      <td>1881</td>\n",
       "      <td>Origin of the earth I'm just wondering how dif...</td>\n",
       "      <td>atheism</td>\n",
       "      <td>t3_dg8uct</td>\n",
       "    </tr>\n",
       "    <tr>\n",
       "      <td>1882</td>\n",
       "      <td>I'm trying to come out as atheist So I come fr...</td>\n",
       "      <td>atheism</td>\n",
       "      <td>t3_dfrwnw</td>\n",
       "    </tr>\n",
       "    <tr>\n",
       "      <td>1883</td>\n",
       "      <td>A possible flaw in Islam Much like the \"the ea...</td>\n",
       "      <td>atheism</td>\n",
       "      <td>t3_dfz5oz</td>\n",
       "    </tr>\n",
       "    <tr>\n",
       "      <td>1884</td>\n",
       "      <td>So I think my pastor is... well... like the ot...</td>\n",
       "      <td>atheism</td>\n",
       "      <td>t3_dfjilz</td>\n",
       "    </tr>\n",
       "    <tr>\n",
       "      <td>1885</td>\n",
       "      <td>Trump pastor Franklin Graham blames gay relati...</td>\n",
       "      <td>atheism</td>\n",
       "      <td>t3_dfilyc</td>\n",
       "    </tr>\n",
       "  </tbody>\n",
       "</table>\n",
       "<p>1886 rows × 3 columns</p>\n",
       "</div>"
      ],
      "text/plain": [
       "                                                content         topic  \\\n",
       "0     Mere Disagreement is Not a Personal Attack Thi...  Christianity   \n",
       "1     Chinese authorities raided church, forcibly re...  Christianity   \n",
       "2     Just learned that a prominent atheist redditor...  Christianity   \n",
       "3     Jesus loves you and wants you to be joyful Joh...  Christianity   \n",
       "4     I’m an atheist, but want to be a Christian. Ca...  Christianity   \n",
       "...                                                 ...           ...   \n",
       "1881  Origin of the earth I'm just wondering how dif...       atheism   \n",
       "1882  I'm trying to come out as atheist So I come fr...       atheism   \n",
       "1883  A possible flaw in Islam Much like the \"the ea...       atheism   \n",
       "1884  So I think my pastor is... well... like the ot...       atheism   \n",
       "1885  Trump pastor Franklin Graham blames gay relati...       atheism   \n",
       "\n",
       "             id  \n",
       "0     t3_dl986s  \n",
       "1     t3_dl0lgm  \n",
       "2     t3_dla8rq  \n",
       "3     t3_dl7z2c  \n",
       "4     t3_dl8rp2  \n",
       "...         ...  \n",
       "1881  t3_dg8uct  \n",
       "1882  t3_dfrwnw  \n",
       "1883  t3_dfz5oz  \n",
       "1884  t3_dfjilz  \n",
       "1885  t3_dfilyc  \n",
       "\n",
       "[1886 rows x 3 columns]"
      ]
     },
     "execution_count": 7,
     "metadata": {},
     "output_type": "execute_result"
    }
   ],
   "source": [
    "reddit_df"
   ]
  },
  {
   "cell_type": "code",
   "execution_count": 8,
   "metadata": {},
   "outputs": [],
   "source": [
    "# Remove any duplicates if there are any\n",
    "reddit_df = reddit_df[~reddit_df.duplicated(subset='id')]"
   ]
  },
  {
   "cell_type": "code",
   "execution_count": 9,
   "metadata": {},
   "outputs": [],
   "source": [
    "# Remove id column\n",
    "reddit_df = reddit_df[['content','topic']]"
   ]
  },
  {
   "cell_type": "code",
   "execution_count": 10,
   "metadata": {},
   "outputs": [
    {
     "data": {
      "text/plain": [
       "(1886, 2)"
      ]
     },
     "execution_count": 10,
     "metadata": {},
     "output_type": "execute_result"
    }
   ],
   "source": [
    "# Get the shape of the dataframe\n",
    "reddit_df.shape"
   ]
  },
  {
   "cell_type": "code",
   "execution_count": 11,
   "metadata": {},
   "outputs": [
    {
     "data": {
      "text/html": [
       "<div>\n",
       "<style scoped>\n",
       "    .dataframe tbody tr th:only-of-type {\n",
       "        vertical-align: middle;\n",
       "    }\n",
       "\n",
       "    .dataframe tbody tr th {\n",
       "        vertical-align: top;\n",
       "    }\n",
       "\n",
       "    .dataframe thead th {\n",
       "        text-align: right;\n",
       "    }\n",
       "</style>\n",
       "<table border=\"1\" class=\"dataframe\">\n",
       "  <thead>\n",
       "    <tr style=\"text-align: right;\">\n",
       "      <th></th>\n",
       "      <th>content</th>\n",
       "    </tr>\n",
       "    <tr>\n",
       "      <th>topic</th>\n",
       "      <th></th>\n",
       "    </tr>\n",
       "  </thead>\n",
       "  <tbody>\n",
       "    <tr>\n",
       "      <td>Christianity</td>\n",
       "      <td>955</td>\n",
       "    </tr>\n",
       "    <tr>\n",
       "      <td>atheism</td>\n",
       "      <td>931</td>\n",
       "    </tr>\n",
       "  </tbody>\n",
       "</table>\n",
       "</div>"
      ],
      "text/plain": [
       "              content\n",
       "topic                \n",
       "Christianity      955\n",
       "atheism           931"
      ]
     },
     "execution_count": 11,
     "metadata": {},
     "output_type": "execute_result"
    }
   ],
   "source": [
    "# Show data from each class\n",
    "reddit_df.groupby(by='topic').count()"
   ]
  },
  {
   "cell_type": "markdown",
   "metadata": {},
   "source": [
    "There is a slight imbalance of the observations between the two classes, thus we need to stratify the content when splitting the data during train test split as well as k-fold cross validation."
   ]
  },
  {
   "cell_type": "code",
   "execution_count": 12,
   "metadata": {},
   "outputs": [],
   "source": [
    "# One hot encode the target class\n",
    "if filename=='reddit_scrape_docs_legal.csv':\n",
    "    y = reddit_df['topic'].map(lambda x : 1 if x == 'AskDocs' else 0 )\n",
    "if filename == 'reddit_atheism_christianity.csv':\n",
    "    y = reddit_df['topic'].map(lambda x : 1 if x == 'Christianity' else 0 )\n"
   ]
  },
  {
   "cell_type": "code",
   "execution_count": 13,
   "metadata": {},
   "outputs": [],
   "source": [
    "# Create X\n",
    "X = reddit_df['content']"
   ]
  },
  {
   "cell_type": "markdown",
   "metadata": {},
   "source": [
    "### Train test split"
   ]
  },
  {
   "cell_type": "code",
   "execution_count": 14,
   "metadata": {},
   "outputs": [],
   "source": [
    "from sklearn.model_selection import train_test_split\n",
    "X_train_1, X_test, y_train_1, y_test = train_test_split(X, y, test_size=0.2, random_state=42, stratify=y)"
   ]
  },
  {
   "cell_type": "code",
   "execution_count": 15,
   "metadata": {},
   "outputs": [
    {
     "name": "stdout",
     "output_type": "stream",
     "text": [
      "X_train_1:(1508,) y_train:(1508,) X_test:(378,) y_test:(378,)\n"
     ]
    }
   ],
   "source": [
    "print(f'X_train_1:{X_train_1.shape} y_train:{y_train_1.shape} X_test:{X_test.shape} y_test:{y_test.shape}')"
   ]
  },
  {
   "cell_type": "code",
   "execution_count": 16,
   "metadata": {},
   "outputs": [
    {
     "name": "stdout",
     "output_type": "stream",
     "text": [
      "X_train:(1206,) y_train:(1206,)\n",
      "X_val:(302,) y_val:(302,) \n",
      "X_test:(378,) y_test:(378,)\n"
     ]
    }
   ],
   "source": [
    "# Futher split X_train to obtain validation set\n",
    "from sklearn.model_selection import train_test_split\n",
    "X_train, X_val, y_train, y_val = train_test_split(X_train_1, y_train_1, test_size=0.2, random_state=42, stratify=y_train_1)\n",
    "print(f'X_train:{X_train.shape} y_train:{y_train.shape}\\nX_val:{X_val.shape} y_val:{y_val.shape} \\\n",
    "\\nX_test:{X_test.shape} y_test:{y_test.shape}')"
   ]
  },
  {
   "cell_type": "code",
   "execution_count": 17,
   "metadata": {
    "scrolled": false
   },
   "outputs": [
    {
     "name": "stdout",
     "output_type": "stream",
     "text": [
      "y_train distribution:\n",
      "1    0.506633\n",
      "0    0.493367\n",
      "Name: topic, dtype: float64\n",
      "y_val distribution:\n",
      "1    0.506623\n",
      "0    0.493377\n",
      "Name: topic, dtype: float64\n",
      "y_test distribution:\n",
      "1    0.505291\n",
      "0    0.494709\n",
      "Name: topic, dtype: float64\n"
     ]
    }
   ],
   "source": [
    "# Check the distributions of y_train, y_val, y_test\n",
    "print(f'y_train distribution:\\n{y_train.value_counts(normalize=True)}')\n",
    "print(f'y_val distribution:\\n{y_val.value_counts(normalize=True)}')\n",
    "print(f'y_test distribution:\\n{y_test.value_counts(normalize=True)}')\n",
    "# It appears that the distribution of target classes are equal in all three classes"
   ]
  },
  {
   "cell_type": "code",
   "execution_count": 197,
   "metadata": {},
   "outputs": [],
   "source": [
    "from skimage import color\n",
    "from skimage import io\n",
    "from PIL import Image\n",
    "from wordcloud import WordCloud, STOPWORDS, ImageColorGenerator\n",
    "from matplotlib import pyplot as plt\n",
    "import nltk\n",
    "# nltk.download('punkt')\n",
    "from nltk.corpus import stopwords\n",
    "# Buid a WordNetLemmatizer class to be fed into the CountVectorizer's pipeline\n",
    "\n",
    "def get_wordcloud(series,max_words=30, mask_img='jesus_2.jpg'):\n",
    "    mask = color.rgb2gray(io.imread(mask_img))\n",
    "    transformed_mask = np.array([ [ 0 if x < 1 else 255 for x in row ] for row in mask  ], dtype=int)\n",
    "    \n",
    "    wcloud = WordCloud(stopwords= set(stopwords.words(\"english\")), max_words=max_words, background_color='white' , mask = transformed_mask\n",
    "                  ).generate(series.str.cat(sep=' '))\n",
    "\n",
    "    fig, ax = plt.subplots(figsize=(12, 12))\n",
    "    ax.imshow(wcloud, interpolation='bilinear')\n",
    "    plt.axis('off');\n",
    "    "
   ]
  },
  {
   "cell_type": "markdown",
   "metadata": {},
   "source": [
    "## EDA: Exploring the dataset"
   ]
  },
  {
   "cell_type": "markdown",
   "metadata": {},
   "source": [
    "### Word cloud for first category"
   ]
  },
  {
   "cell_type": "code",
   "execution_count": 203,
   "metadata": {
    "scrolled": false
   },
   "outputs": [
    {
     "data": {
      "image/png": "[encoded data removed]",
      "text/plain": [
       "<Figure size 864x864 with 1 Axes>"
      ]
     },
     "metadata": {
      "needs_background": "light"
     },
     "output_type": "display_data"
    }
   ],
   "source": [
    "get_wordcloud(reddit_df[reddit_df['topic'] == reddit_df['topic'].unique()[0]]['content'],max_words=25)"
   ]
  },
  {
   "cell_type": "markdown",
   "metadata": {},
   "source": [
    "### Word cloud for second category"
   ]
  },
  {
   "cell_type": "code",
   "execution_count": 202,
   "metadata": {},
   "outputs": [
    {
     "data": {
      "image/png": "[encoded data removed]",
      "text/plain": [
       "<Figure size 864x864 with 1 Axes>"
      ]
     },
     "metadata": {
      "needs_background": "light"
     },
     "output_type": "display_data"
    }
   ],
   "source": [
    "get_wordcloud(reddit_df[reddit_df['topic'] == reddit_df['topic'].unique()[1]]['content'])"
   ]
  },
  {
   "cell_type": "markdown",
   "metadata": {},
   "source": [
    "### Baseline accuracy"
   ]
  },
  {
   "cell_type": "code",
   "execution_count": 18,
   "metadata": {
    "scrolled": true
   },
   "outputs": [
    {
     "data": {
      "text/plain": [
       "Christianity    0.506363\n",
       "atheism         0.493637\n",
       "Name: topic, dtype: float64"
      ]
     },
     "execution_count": 18,
     "metadata": {},
     "output_type": "execute_result"
    }
   ],
   "source": [
    "reddit_df['topic'].value_counts(normalize=True)"
   ]
  },
  {
   "cell_type": "markdown",
   "metadata": {},
   "source": [
    "## NLP Pipeline"
   ]
  },
  {
   "cell_type": "markdown",
   "metadata": {},
   "source": [
    "### Tokenizing, Stemming/Lemming and Vectorization"
   ]
  },
  {
   "cell_type": "markdown",
   "metadata": {},
   "source": [
    "We will embed the NLP pre-processing steps right into sklearn's count vectorizer and ti-df vectorizer"
   ]
  },
  {
   "cell_type": "code",
   "execution_count": 19,
   "metadata": {},
   "outputs": [],
   "source": [
    "from sklearn.pipeline import Pipeline\n",
    "from sklearn.feature_extraction.text import CountVectorizer, TfidfVectorizer\n",
    "cvec = CountVectorizer()\n",
    "\n",
    "from sklearn.linear_model import LogisticRegression\n",
    "logreg = LogisticRegression()\n",
    "\n",
    "from sklearn.model_selection import GridSearchCV"
   ]
  },
  {
   "cell_type": "code",
   "execution_count": 20,
   "metadata": {},
   "outputs": [],
   "source": [
    "# Create an array that will keep track of all models created in this notebook\n",
    "models_collection = dict()"
   ]
  },
  {
   "cell_type": "code",
   "execution_count": 209,
   "metadata": {},
   "outputs": [],
   "source": [
    "from sklearn.metrics import confusion_matrix\n",
    "from sklearn.metrics import roc_auc_score, roc_curve\n",
    "from matplotlib import pyplot as plt\n",
    "from sklearn.metrics import roc_auc_score\n",
    "\n",
    "def add_model_to_scoreboard(model_name, model):\n",
    "#     models_collection.add((model_name, model))\n",
    "    if models_collection.get(model_name):\n",
    "        print(f\"Warning, {model_name} is replaced.\")\n",
    "    models_collection[model_name] = model\n",
    "\n",
    "    \n",
    "def get_f1(conf):\n",
    "    tn, fp, fn, tp = conf.ravel()\n",
    "    precision= tp/(tp+fp)\n",
    "    sensitivity = tp/(tp+fn)\n",
    "    return 2*((precision*sensitivity)/(precision+sensitivity))\n",
    "    \n",
    "def get_model_scoreboard():\n",
    "    training_scores =[]\n",
    "    val_scores=[]\n",
    "    model_names = []\n",
    "    auc_roc_scores = [] \n",
    "    f1_scores = []\n",
    "    \n",
    "    for model_name, model in models_collection.items():\n",
    "        training_scores.append(model.score(X_train,y_train))\n",
    "        val_scores.append(model.score(X_val,y_val))\n",
    "        model_names.append(model_name)\n",
    "        \n",
    "        \n",
    "        # ROC Scores\n",
    "        pos_preds = model.predict_proba(X_val)[:,1]\n",
    "        roc_auc = roc_auc_score(y_val, pos_preds)\n",
    "        auc_roc_scores.append(roc_auc)\n",
    "        \n",
    "        # F1 Scores\n",
    "        #Confusion Matrix\n",
    "        conf = confusion_matrix(y_val, model.predict(X_val))\n",
    "        f1_scores.append(get_f1(conf))\n",
    "        \n",
    "    models = pd.DataFrame({'Model': model_names, 'Training Score': training_scores, 'Validation Score': val_scores,\n",
    "                          'auc roc': auc_roc_scores,'f1': f1_scores })\n",
    "    models.sort_values(by='Validation Score', ascending=False, inplace=True)\n",
    "    best_estimator_name = models.iloc[0]['Model']\n",
    "    return {'df':models, 'best_estimator_': models_collection[best_estimator_name] }\n",
    "\n",
    "\n",
    "\n",
    "\n",
    "\n",
    "def get_scores(model):\n",
    "    train_score = model.score(X_train,y_train)\n",
    "    val_score = model.score(X_val,y_val)\n",
    "    print(f'Training Score: {train_score}')\n",
    "    print(f'Validation Score: {val_score}')\n",
    "    \n",
    "    #Confusion Matrix\n",
    "    conf = confusion_matrix(y_val, model.predict(X_val))\n",
    "    print(f\"Confusion Matrix:\\n{conf}\")\n",
    "    tn, fp , fn , tp = conf.ravel()\n",
    "    specificity = tn / (tn + fp)\n",
    "    sensitivity = tp / (tp + fn)\n",
    "    print(f\"Specificity: {specificity}\")\n",
    "    print(f\"Sensitivity: {sensitivity}\")\n",
    "    \n",
    "    preds = model.predict_proba(X_val)\n",
    "    preds = [ x[1] for x in preds]\n",
    "\n",
    "    scores_df = pd.DataFrame({'y': y_val , 'y_pred': preds })\n",
    "    \n",
    "    \n",
    "    roc_auc = roc_auc_score(y_val, scores_df['y_pred'])\n",
    "    print(f\"Area under ROC curve: {roc_auc}\")\n",
    "    \n",
    "    #f1 score\n",
    "    f1 = get_f1(conf)\n",
    "    print(f\"F1 score: {f1}\")\n",
    "    \n",
    "    return {'confusion':conf, 'train':train_score,'val':val_score, 'specificity': specificity, 'sensitivity' : sensitivity,\n",
    "           'roc_auc_score': roc_auc, 'f1': f1}\n",
    "    "
   ]
  },
  {
   "cell_type": "code",
   "execution_count": 185,
   "metadata": {},
   "outputs": [],
   "source": [
    "from sklearn.metrics import roc_curve\n",
    "def get_roc_curve(model):\n",
    "    pos_preds = model.predict_proba(X_val)[:,1]\n",
    "    fpr, tpr, thresholds = roc_curve(y_val, pos_preds, pos_label=1)\n",
    "    \n",
    "    plt.figure(figsize=(14,8))\n",
    "    # Plot ROC curve\n",
    "    plt.plot(fpr,tpr, label='ROC Curve')\n",
    "    plt.plot([0,1],[0,1], linestyle='--', label='baseline')\n",
    "\n",
    "    # Label axes.\n",
    "    plt.title(f\"ROC Curve with AUC = {round(roc_auc_score(y_val, pos_preds),3)}\", fontsize=22)\n",
    "    plt.ylabel('Sensitivity (True Positive Rate)', fontsize=18)\n",
    "    plt.xlabel('1 - Specificity (False Positive Rate)', fontsize=18)\n",
    "\n",
    "    # Create legend.\n",
    "    plt.legend(fontsize=16);\n"
   ]
  },
  {
   "cell_type": "code",
   "execution_count": 151,
   "metadata": {},
   "outputs": [],
   "source": [
    "def get_probability_dist(model):\n",
    "    preds = model.predict_proba(X_val)\n",
    "    preds = [ x[1] for x in preds]\n",
    "\n",
    "    scores_df = pd.DataFrame({'y': y_val , 'y_pred': preds })\n",
    "    # Showing the distribution of y_pred when y == 1\n",
    "    scores_df[scores_df['y'] == 1]\n",
    "\n",
    "    fig,ax = plt.subplots(figsize=(15,9))\n",
    "    # When outcome = 1 \n",
    "    ax.hist(data=scores_df[scores_df['y'] == 1], x='y_pred', color='g', alpha=0.5, label=\"Outcome = 1\", bins=25);\n",
    "\n",
    "    #When outcome = 0\n",
    "    ax.hist(data=scores_df[scores_df['y'] == 0], x='y_pred', color='r', alpha=0.5, label=\"Outcome = 0\", bins=25);\n",
    "    ax.legend(fontsize=20)\n",
    "    \n",
    "    ax.vlines(x=0.5, ymin=0, ymax = scores_df.shape[0]*0.15, color='b',linestyle ='--')\n",
    "    \n",
    "    \n",
    "    ax.set_title(\"Distribution of Probalities\")\n",
    "    ax.set_xlabel(\"Predicted Probabilities \")\n",
    "    ax.set_ylabel(\"Frequency\")\n",
    "    return ax"
   ]
  },
  {
   "cell_type": "code",
   "execution_count": 22,
   "metadata": {},
   "outputs": [],
   "source": [
    "\n",
    "\n",
    "# Instantiate stemmer.\n",
    "from nltk.stem.porter import PorterStemmer\n",
    "\n",
    "from nltk import word_tokenize\n",
    "from nltk.stem import WordNetLemmatizer\n",
    "\n",
    "class LemmaTokenizer(object):\n",
    "    def __init__(self):\n",
    "        self.wnl = WordNetLemmatizer()\n",
    "    def __call__(self, doc):\n",
    "        return [ self.wnl.lemmatize(t) for t in word_tokenize(doc)]\n",
    "    \n",
    "class PorterTokenizer(object):\n",
    "    def __init__(self):\n",
    "        self.porter = PorterStemmer()\n",
    "    def __call__(self, doc):\n",
    "        return [ self.porter.stem(t) for t in word_tokenize(doc)]"
   ]
  },
  {
   "cell_type": "code",
   "execution_count": 46,
   "metadata": {},
   "outputs": [],
   "source": [
    "def list_best_params(model, param_filter=None ):\n",
    "    if not param_filter:\n",
    "        param_filter = [ param for param in model.best_params_.keys() if param != 'cvec__stop_words']\n",
    "    return [  f\"{k} : {v}\" for k,v in  model.best_params_.items() if k in param_filter ]"
   ]
  },
  {
   "cell_type": "code",
   "execution_count": 27,
   "metadata": {},
   "outputs": [],
   "source": [
    "# Create porter tokenized stop words\n",
    "pt = PorterTokenizer()\n",
    "porter_tokenized_stopwords = list(set(pt.__call__(\" \".join([s for s in stopwords.words(\"english\") + reddit_topics ])))) "
   ]
  },
  {
   "cell_type": "code",
   "execution_count": 28,
   "metadata": {},
   "outputs": [],
   "source": [
    "# Create lemma tokenized stop words\n",
    "lt = LemmaTokenizer()\n",
    "lemma_tokenized_stopwords = list(set([pt.__call__(x)[0] for x in stopwords.words(\"english\") + reddit_topics ] )) "
   ]
  },
  {
   "cell_type": "markdown",
   "metadata": {},
   "source": [
    "### Model 1 : Count Vectorizer - Lemmatizer - Logistic Regression"
   ]
  },
  {
   "cell_type": "code",
   "execution_count": 29,
   "metadata": {},
   "outputs": [],
   "source": [
    "cvec_logreg_pipeline = Pipeline(steps=[('cvec', cvec),('logreg',logreg)])\n",
    "# Show the parameters\n",
    "# cvec_logreg_pipeline.get_params()"
   ]
  },
  {
   "cell_type": "code",
   "execution_count": 30,
   "metadata": {},
   "outputs": [],
   "source": [
    "cvec_lemma_logreg_params = {'cvec__tokenizer': [LemmaTokenizer()],\n",
    "    'cvec__stop_words':[lemma_tokenized_stopwords], 'cvec__max_df':[0.7, 1.0], 'cvec__ngram_range':[(1,3)],\n",
    "                      'logreg__solver':['liblinear'],'logreg__C':[1,10], 'logreg__penalty':['l1','l2']\n",
    "}\n",
    "\n",
    "cvec_lemma_logreg_gscv = GridSearchCV(cvec_logreg_pipeline, cvec_lemma_logreg_params, cv=5)\n",
    "cvec_lemma_logreg_gscv.fit(X_train,y_train);\n",
    "\n",
    "add_model_to_scoreboard('Count Vectorizer- Lemmatizer - Logistic Regression Model', cvec_lemma_logreg_gscv)"
   ]
  },
  {
   "cell_type": "markdown",
   "metadata": {},
   "source": [
    "#### Scores and best parameters obtained from Grid Search based on this dataset is:"
   ]
  },
  {
   "cell_type": "code",
   "execution_count": 210,
   "metadata": {
    "scrolled": false
   },
   "outputs": [
    {
     "name": "stdout",
     "output_type": "stream",
     "text": [
      "Training Score: 0.9991708126036484\n",
      "Validation Score: 0.7947019867549668\n",
      "Confusion Matrix:\n",
      "[[116  33]\n",
      " [ 29 124]]\n",
      "Specificity: 0.7785234899328859\n",
      "Sensitivity: 0.8104575163398693\n",
      "Area under ROC curve: 0.8786024476904856\n",
      "F1 score: 0.7999999999999999\n"
     ]
    },
    {
     "data": {
      "text/plain": [
       "{'confusion': array([[116,  33],\n",
       "        [ 29, 124]], dtype=int64),\n",
       " 'train': 0.9991708126036484,\n",
       " 'val': 0.7947019867549668,\n",
       " 'specificity': 0.7785234899328859,\n",
       " 'sensitivity': 0.8104575163398693,\n",
       " 'roc_auc_score': 0.8786024476904856,\n",
       " 'f1': 0.7999999999999999}"
      ]
     },
     "execution_count": 210,
     "metadata": {},
     "output_type": "execute_result"
    }
   ],
   "source": [
    "get_scores(cvec_lemma_logreg_gscv)"
   ]
  },
  {
   "cell_type": "code",
   "execution_count": 195,
   "metadata": {},
   "outputs": [],
   "source": [
    "scoreboard = get_model_scoreboard()\n",
    "scoreboard['df']"
   ]
  },
  {
   "cell_type": "code",
   "execution_count": 204,
   "metadata": {},
   "outputs": [
    {
     "data": {
      "image/png": "[encoded data removed]",
      "text/plain": [
       "<Figure size 1008x576 with 1 Axes>"
      ]
     },
     "metadata": {
      "needs_background": "light"
     },
     "output_type": "display_data"
    }
   ],
   "source": [
    "get_roc_curve(cvec_lemma_logreg_gscv)"
   ]
  },
  {
   "cell_type": "markdown",
   "metadata": {},
   "source": [
    "### Model 2 : Count Vectorizer - Porter Stemmer - Logistic Regression"
   ]
  },
  {
   "cell_type": "code",
   "execution_count": 312,
   "metadata": {},
   "outputs": [
    {
     "name": "stderr",
     "output_type": "stream",
     "text": [
      "C:\\Users\\User\\Anaconda3\\envs\\dsi\\lib\\site-packages\\sklearn\\feature_extraction\\text.py:300: UserWarning: Your stop_words may be inconsistent with your preprocessing. Tokenizing the stop words generated tokens ['becau'] not in stop_words.\n",
      "  'stop_words.' % sorted(inconsistent))\n",
      "C:\\Users\\User\\Anaconda3\\envs\\dsi\\lib\\site-packages\\sklearn\\feature_extraction\\text.py:300: UserWarning: Your stop_words may be inconsistent with your preprocessing. Tokenizing the stop words generated tokens ['becau'] not in stop_words.\n",
      "  'stop_words.' % sorted(inconsistent))\n",
      "C:\\Users\\User\\Anaconda3\\envs\\dsi\\lib\\site-packages\\sklearn\\feature_extraction\\text.py:300: UserWarning: Your stop_words may be inconsistent with your preprocessing. Tokenizing the stop words generated tokens ['becau'] not in stop_words.\n",
      "  'stop_words.' % sorted(inconsistent))\n",
      "C:\\Users\\User\\Anaconda3\\envs\\dsi\\lib\\site-packages\\sklearn\\feature_extraction\\text.py:300: UserWarning: Your stop_words may be inconsistent with your preprocessing. Tokenizing the stop words generated tokens ['becau'] not in stop_words.\n",
      "  'stop_words.' % sorted(inconsistent))\n",
      "C:\\Users\\User\\Anaconda3\\envs\\dsi\\lib\\site-packages\\sklearn\\feature_extraction\\text.py:300: UserWarning: Your stop_words may be inconsistent with your preprocessing. Tokenizing the stop words generated tokens ['becau'] not in stop_words.\n",
      "  'stop_words.' % sorted(inconsistent))\n",
      "C:\\Users\\User\\Anaconda3\\envs\\dsi\\lib\\site-packages\\sklearn\\feature_extraction\\text.py:300: UserWarning: Your stop_words may be inconsistent with your preprocessing. Tokenizing the stop words generated tokens ['becau'] not in stop_words.\n",
      "  'stop_words.' % sorted(inconsistent))\n",
      "C:\\Users\\User\\Anaconda3\\envs\\dsi\\lib\\site-packages\\sklearn\\feature_extraction\\text.py:300: UserWarning: Your stop_words may be inconsistent with your preprocessing. Tokenizing the stop words generated tokens ['becau'] not in stop_words.\n",
      "  'stop_words.' % sorted(inconsistent))\n",
      "C:\\Users\\User\\Anaconda3\\envs\\dsi\\lib\\site-packages\\sklearn\\feature_extraction\\text.py:300: UserWarning: Your stop_words may be inconsistent with your preprocessing. Tokenizing the stop words generated tokens ['becau'] not in stop_words.\n",
      "  'stop_words.' % sorted(inconsistent))\n",
      "C:\\Users\\User\\Anaconda3\\envs\\dsi\\lib\\site-packages\\sklearn\\feature_extraction\\text.py:300: UserWarning: Your stop_words may be inconsistent with your preprocessing. Tokenizing the stop words generated tokens ['becau'] not in stop_words.\n",
      "  'stop_words.' % sorted(inconsistent))\n",
      "C:\\Users\\User\\Anaconda3\\envs\\dsi\\lib\\site-packages\\sklearn\\feature_extraction\\text.py:300: UserWarning: Your stop_words may be inconsistent with your preprocessing. Tokenizing the stop words generated tokens ['becau'] not in stop_words.\n",
      "  'stop_words.' % sorted(inconsistent))\n",
      "C:\\Users\\User\\Anaconda3\\envs\\dsi\\lib\\site-packages\\sklearn\\feature_extraction\\text.py:300: UserWarning: Your stop_words may be inconsistent with your preprocessing. Tokenizing the stop words generated tokens ['becau'] not in stop_words.\n",
      "  'stop_words.' % sorted(inconsistent))\n"
     ]
    }
   ],
   "source": [
    "cvec_logreg_params = { 'cvec__tokenizer' : [PorterTokenizer()],\n",
    "    'cvec__stop_words':[porter_tokenized_stopwords], 'cvec__max_df':[0.7, 1.0], 'cvec__ngram_range':[(1,3)],\n",
    "                      'logreg__solver':['liblinear']\n",
    "}\n",
    "\n",
    "\n",
    "cvec_logreg_gscv = GridSearchCV(cvec_logreg_pipeline, cvec_logreg_params, cv=5)\n",
    "cvec_logreg_gscv.fit(X_train,y_train);\n",
    "\n",
    "add_model_to_scoreboard('Count Vectorizer- PorterStemmer - Logistic Regression Model', cvec_logreg_gscv)"
   ]
  },
  {
   "cell_type": "code",
   "execution_count": 335,
   "metadata": {},
   "outputs": [
    {
     "name": "stdout",
     "output_type": "stream",
     "text": [
      "Training Score: 0.9991708126036484\n",
      "Testing Score: 0.7777777777777778\n"
     ]
    }
   ],
   "source": [
    "get_scores(cvec_logreg_gscv)"
   ]
  },
  {
   "cell_type": "markdown",
   "metadata": {},
   "source": [
    "### Model 3 : Count Vectorizer - Lemmatizer - Multinomial Naive Bayes"
   ]
  },
  {
   "cell_type": "code",
   "execution_count": 362,
   "metadata": {},
   "outputs": [],
   "source": [
    "from sklearn.naive_bayes import MultinomialNB\n",
    "mnb = MultinomialNB()"
   ]
  },
  {
   "cell_type": "code",
   "execution_count": 363,
   "metadata": {},
   "outputs": [],
   "source": [
    "cvec_nb_pipeline = Pipeline(steps=[('cvec', cvec),('mnb',mnb)])\n",
    "# Show the parameters\n",
    "# cvec_nb_pipeline.get_params()"
   ]
  },
  {
   "cell_type": "code",
   "execution_count": null,
   "metadata": {},
   "outputs": [],
   "source": [
    "cvec_lemma_nb_params = { 'cvec__tokenizer':[LemmaTokenizer()], 'cvec__stop_words':[lemma_tokenized_stopwords],\n",
    "     'cvec__max_df':[0.7, 1.0 ], 'cvec__ngram_range':[(1,3)]           \n",
    "}\n",
    "\n",
    "cvec_lemma_nb_gs = GridSearchCV(cvec_nb_pipeline, cvec_lemma_nb_params, cv=5 )\n",
    "cvec_lemma_nb_gs.fit(X_train,y_train)\n",
    "\n",
    "add_model_to_scoreboard('Count Vectorizer - Lemmatizer - MultinomialNB', cvec_lemma_nb_gs)"
   ]
  },
  {
   "cell_type": "code",
   "execution_count": 380,
   "metadata": {},
   "outputs": [
    {
     "data": {
      "text/html": [
       "<div>\n",
       "<style scoped>\n",
       "    .dataframe tbody tr th:only-of-type {\n",
       "        vertical-align: middle;\n",
       "    }\n",
       "\n",
       "    .dataframe tbody tr th {\n",
       "        vertical-align: top;\n",
       "    }\n",
       "\n",
       "    .dataframe thead th {\n",
       "        text-align: right;\n",
       "    }\n",
       "</style>\n",
       "<table border=\"1\" class=\"dataframe\">\n",
       "  <thead>\n",
       "    <tr style=\"text-align: right;\">\n",
       "      <th></th>\n",
       "      <th>Model</th>\n",
       "      <th>Training Score</th>\n",
       "      <th>Validation Score</th>\n",
       "    </tr>\n",
       "  </thead>\n",
       "  <tbody>\n",
       "    <tr>\n",
       "      <td>2</td>\n",
       "      <td>Count Vectorizer - Lemmatizer - MultinomialNB</td>\n",
       "      <td>0.997512</td>\n",
       "      <td>0.791391</td>\n",
       "    </tr>\n",
       "    <tr>\n",
       "      <td>1</td>\n",
       "      <td>Count Vectorizer- PorterStemmer - Logistic Reg...</td>\n",
       "      <td>0.999171</td>\n",
       "      <td>0.784768</td>\n",
       "    </tr>\n",
       "    <tr>\n",
       "      <td>0</td>\n",
       "      <td>Count Vectorizer- Lemmatizer - Logistic Regres...</td>\n",
       "      <td>0.999171</td>\n",
       "      <td>0.774834</td>\n",
       "    </tr>\n",
       "  </tbody>\n",
       "</table>\n",
       "</div>"
      ],
      "text/plain": [
       "                                               Model  Training Score  \\\n",
       "2      Count Vectorizer - Lemmatizer - MultinomialNB        0.997512   \n",
       "1  Count Vectorizer- PorterStemmer - Logistic Reg...        0.999171   \n",
       "0  Count Vectorizer- Lemmatizer - Logistic Regres...        0.999171   \n",
       "\n",
       "   Validation Score  \n",
       "2          0.791391  \n",
       "1          0.784768  \n",
       "0          0.774834  "
      ]
     },
     "execution_count": 380,
     "metadata": {},
     "output_type": "execute_result"
    }
   ],
   "source": [
    "get_model_scoreboard()['df']"
   ]
  },
  {
   "cell_type": "code",
   "execution_count": 370,
   "metadata": {},
   "outputs": [
    {
     "data": {
      "text/plain": [
       "GridSearchCV(cv=5, error_score='raise-deprecating',\n",
       "             estimator=Pipeline(memory=None,\n",
       "                                steps=[('cvec',\n",
       "                                        CountVectorizer(analyzer='word',\n",
       "                                                        binary=False,\n",
       "                                                        decode_error='strict',\n",
       "                                                        dtype=<class 'numpy.int64'>,\n",
       "                                                        encoding='utf-8',\n",
       "                                                        input='content',\n",
       "                                                        lowercase=True,\n",
       "                                                        max_df=1.0,\n",
       "                                                        max_features=None,\n",
       "                                                        min_df=1,\n",
       "                                                        ngram_range=(1, 1),\n",
       "                                                        preprocessor=None,\n",
       "                                                        stop_words=None,\n",
       "                                                        strip_accents=None,\n",
       "                                                        tok...\n",
       "                         'cvec__stop_words': [['doe', 'under', 'while', 'no',\n",
       "                                               'o', 'were', 'between', 'hasn',\n",
       "                                               'both', 'your', 'is', 'herself',\n",
       "                                               'out', 'yourselv', 'have', 'whi',\n",
       "                                               'in', 'd', 'didn', 'you', 'did',\n",
       "                                               'an', 'there', 'those', 'own',\n",
       "                                               'thi', 'for', 'ourselv', 'a',\n",
       "                                               'mightn', ...]],\n",
       "                         'cvec__tokenizer': [<__main__.LemmaTokenizer object at 0x00000286E07F83C8>]},\n",
       "             pre_dispatch='2*n_jobs', refit=True, return_train_score=False,\n",
       "             scoring=None, verbose=0)"
      ]
     },
     "execution_count": 370,
     "metadata": {},
     "output_type": "execute_result"
    }
   ],
   "source": [
    "get_model_scoreboard()['best_estimator_']"
   ]
  },
  {
   "cell_type": "markdown",
   "metadata": {},
   "source": [
    "### Model 4 : TF-IDF - Lemmatizer - Multinomial Naive Bayes"
   ]
  },
  {
   "cell_type": "code",
   "execution_count": 388,
   "metadata": {},
   "outputs": [],
   "source": [
    "# Instantiate tf-idf vectorizer\n",
    "tvec = TfidfVectorizer()"
   ]
  },
  {
   "cell_type": "markdown",
   "metadata": {},
   "source": [
    "There are 10711 features created by the tf-idf vectorizer. We will tune the max_features hyperparameter and investigate it's effect on the performance "
   ]
  },
  {
   "cell_type": "code",
   "execution_count": 417,
   "metadata": {},
   "outputs": [],
   "source": [
    "tfidf_lemmatizer_nb_pipeline = Pipeline(steps=[('tvec', tvec),('mnb',mnb)])\n",
    "# tfidf_lemmatizer_nb_pipeline.get_params()"
   ]
  },
  {
   "cell_type": "code",
   "execution_count": 411,
   "metadata": {},
   "outputs": [
    {
     "name": "stdout",
     "output_type": "stream",
     "text": [
      "Warning, Tf-Idf - Lemmatizer - MultinomialNB is replaced.\n"
     ]
    }
   ],
   "source": [
    "# Create grid search parameters\n",
    "tfidf_lemmatizer_nb_params = {\n",
    "    'tvec__tokenizer':[LemmaTokenizer()], 'tvec__stop_words': [lemma_tokenized_stopwords],\n",
    "    'tvec__min_df':[1, 10 ], 'tvec__max_df':[0.7, 1.0],'tvec__ngram_range':[(1,2),(1,3)], \n",
    "    'tvec__max_features':[1000, 3000, 5000]\n",
    "}\n",
    "\n",
    "# Create grid search for tfidf lemmatizer\n",
    "tfidf_lemmatizer_nb_gs = GridSearchCV(tfidf_lemmatizer_nb_pipeline, tfidf_lemmatizer_nb_params, cv=5 )\n",
    "tfidf_lemmatizer_nb_gs.fit(X_train,y_train)\n",
    "add_model_to_scoreboard('Tf-Idf - Lemmatizer - MultinomialNB', tfidf_lemmatizer_nb_gs)"
   ]
  },
  {
   "cell_type": "markdown",
   "metadata": {},
   "source": [
    "Notes:\n",
    "- tvec_max_features \n",
    "    - 8000 > None , 5000\n",
    "    - 3000 > 1000\n",
    "- tvec__min_df\n",
    "    - 1 > 50, 10\n",
    "- tvec__max_df\n",
    "    - 1.0 > 0.7\n",
    "- tvec__ngrams:\n",
    "    - (1,2) > (1,3)"
   ]
  },
  {
   "cell_type": "code",
   "execution_count": 442,
   "metadata": {},
   "outputs": [
    {
     "name": "stdout",
     "output_type": "stream",
     "text": [
      "Warning, Tf-Idf - Lemmatizer - MultinomialNB - 2  is replaced.\n"
     ]
    }
   ],
   "source": [
    "# Create grid search parameters\n",
    "tfidf_lemmatizer_nb_params2 = {\n",
    "    'tvec__tokenizer':[LemmaTokenizer()], 'tvec__stop_words': [lemma_tokenized_stopwords],\n",
    "    'tvec__min_df':[3, 5 ], 'tvec__max_df':[ 0.8 ],'tvec__ngram_range':[(1,2)], \n",
    "    'tvec__max_features':[3000]\n",
    "}\n",
    "\n",
    "# Create grid search for tfidf lemmatizer\n",
    "tfidf_lemmatizer_nb_gs2 = GridSearchCV(tfidf_lemmatizer_nb_pipeline, tfidf_lemmatizer_nb_params2, cv=5 )\n",
    "tfidf_lemmatizer_nb_gs2.fit(X_train,y_train)\n",
    "add_model_to_scoreboard('Tf-Idf - Lemmatizer - MultinomialNB - 2 ', tfidf_lemmatizer_nb_gs2)"
   ]
  },
  {
   "cell_type": "code",
   "execution_count": 448,
   "metadata": {},
   "outputs": [
    {
     "data": {
      "text/html": [
       "<div>\n",
       "<style scoped>\n",
       "    .dataframe tbody tr th:only-of-type {\n",
       "        vertical-align: middle;\n",
       "    }\n",
       "\n",
       "    .dataframe tbody tr th {\n",
       "        vertical-align: top;\n",
       "    }\n",
       "\n",
       "    .dataframe thead th {\n",
       "        text-align: right;\n",
       "    }\n",
       "</style>\n",
       "<table border=\"1\" class=\"dataframe\">\n",
       "  <thead>\n",
       "    <tr style=\"text-align: right;\">\n",
       "      <th></th>\n",
       "      <th>Model</th>\n",
       "      <th>Training Score</th>\n",
       "      <th>Validation Score</th>\n",
       "    </tr>\n",
       "  </thead>\n",
       "  <tbody>\n",
       "    <tr>\n",
       "      <td>3</td>\n",
       "      <td>Tf-Idf - Lemmatizer - MultinomialNB</td>\n",
       "      <td>0.922886</td>\n",
       "      <td>0.834437</td>\n",
       "    </tr>\n",
       "    <tr>\n",
       "      <td>4</td>\n",
       "      <td>Tf-Idf - Lemmatizer - MultinomialNB - 2</td>\n",
       "      <td>0.923715</td>\n",
       "      <td>0.831126</td>\n",
       "    </tr>\n",
       "    <tr>\n",
       "      <td>2</td>\n",
       "      <td>Count Vectorizer - Lemmatizer - MultinomialNB</td>\n",
       "      <td>0.997512</td>\n",
       "      <td>0.791391</td>\n",
       "    </tr>\n",
       "    <tr>\n",
       "      <td>1</td>\n",
       "      <td>Count Vectorizer- PorterStemmer - Logistic Reg...</td>\n",
       "      <td>0.999171</td>\n",
       "      <td>0.784768</td>\n",
       "    </tr>\n",
       "    <tr>\n",
       "      <td>0</td>\n",
       "      <td>Count Vectorizer- Lemmatizer - Logistic Regres...</td>\n",
       "      <td>0.999171</td>\n",
       "      <td>0.774834</td>\n",
       "    </tr>\n",
       "  </tbody>\n",
       "</table>\n",
       "</div>"
      ],
      "text/plain": [
       "                                               Model  Training Score  \\\n",
       "3                Tf-Idf - Lemmatizer - MultinomialNB        0.922886   \n",
       "4           Tf-Idf - Lemmatizer - MultinomialNB - 2         0.923715   \n",
       "2      Count Vectorizer - Lemmatizer - MultinomialNB        0.997512   \n",
       "1  Count Vectorizer- PorterStemmer - Logistic Reg...        0.999171   \n",
       "0  Count Vectorizer- Lemmatizer - Logistic Regres...        0.999171   \n",
       "\n",
       "   Validation Score  \n",
       "3          0.834437  \n",
       "4          0.831126  \n",
       "2          0.791391  \n",
       "1          0.784768  \n",
       "0          0.774834  "
      ]
     },
     "execution_count": 448,
     "metadata": {},
     "output_type": "execute_result"
    }
   ],
   "source": [
    "scoreboard= get_model_scoreboard()['df']"
   ]
  },
  {
   "cell_type": "code",
   "execution_count": 449,
   "metadata": {},
   "outputs": [],
   "source": [
    "# Try a Boosting model\n",
    "from sklearn.ensemble import GradientBoostingClassifier\n",
    "gboost = GradientBoostingClassifier()\n",
    "tfidf_lemmatizer_gb_pipeline = Pipeline(steps=[('tvec', tvec),('gb', gboost)])\n",
    "# tfidf_lemmatizer_gb_pipeline.get_params()"
   ]
  },
  {
   "cell_type": "code",
   "execution_count": 459,
   "metadata": {},
   "outputs": [
    {
     "name": "stdout",
     "output_type": "stream",
     "text": [
      "Warning, Tf-Idf - Lemmatizer - GradientBoosting is replaced.\n"
     ]
    }
   ],
   "source": [
    "tfidf_lemmatizer_gb_params={\n",
    "    'tvec__tokenizer':[LemmaTokenizer()], 'tvec__stop_words': [lemma_tokenized_stopwords],\n",
    "    'tvec__min_df':[3 ], 'tvec__max_df':[ 0.8 ],'tvec__ngram_range':[(1,2)], \n",
    "    'tvec__max_features':[3000],\n",
    "    'gb__learning_rate':[0.1], 'gb__n_estimators':[200], 'gb__max_leaf_nodes': [None], 'gb__min_samples_leaf':[10,50]\n",
    "}\n",
    "\n",
    "tfidf_lemmatizer_gb_gs = GridSearchCV(tfidf_lemmatizer_gb_pipeline, tfidf_lemmatizer_gb_params, cv=5 ).fit(X_train,y_train)\n",
    "add_model_to_scoreboard('Tf-Idf - Lemmatizer - GradientBoosting', tfidf_lemmatizer_gb_gs)"
   ]
  },
  {
   "cell_type": "code",
   "execution_count": 460,
   "metadata": {},
   "outputs": [],
   "source": [
    "scoreboard= get_model_scoreboard()"
   ]
  },
  {
   "cell_type": "code",
   "execution_count": 461,
   "metadata": {},
   "outputs": [
    {
     "data": {
      "text/html": [
       "<div>\n",
       "<style scoped>\n",
       "    .dataframe tbody tr th:only-of-type {\n",
       "        vertical-align: middle;\n",
       "    }\n",
       "\n",
       "    .dataframe tbody tr th {\n",
       "        vertical-align: top;\n",
       "    }\n",
       "\n",
       "    .dataframe thead th {\n",
       "        text-align: right;\n",
       "    }\n",
       "</style>\n",
       "<table border=\"1\" class=\"dataframe\">\n",
       "  <thead>\n",
       "    <tr style=\"text-align: right;\">\n",
       "      <th></th>\n",
       "      <th>Model</th>\n",
       "      <th>Training Score</th>\n",
       "      <th>Validation Score</th>\n",
       "    </tr>\n",
       "  </thead>\n",
       "  <tbody>\n",
       "    <tr>\n",
       "      <td>3</td>\n",
       "      <td>Tf-Idf - Lemmatizer - MultinomialNB</td>\n",
       "      <td>0.922886</td>\n",
       "      <td>0.834437</td>\n",
       "    </tr>\n",
       "    <tr>\n",
       "      <td>4</td>\n",
       "      <td>Tf-Idf - Lemmatizer - MultinomialNB - 2</td>\n",
       "      <td>0.923715</td>\n",
       "      <td>0.831126</td>\n",
       "    </tr>\n",
       "    <tr>\n",
       "      <td>2</td>\n",
       "      <td>Count Vectorizer - Lemmatizer - MultinomialNB</td>\n",
       "      <td>0.997512</td>\n",
       "      <td>0.791391</td>\n",
       "    </tr>\n",
       "    <tr>\n",
       "      <td>1</td>\n",
       "      <td>Count Vectorizer- PorterStemmer - Logistic Reg...</td>\n",
       "      <td>0.999171</td>\n",
       "      <td>0.784768</td>\n",
       "    </tr>\n",
       "    <tr>\n",
       "      <td>5</td>\n",
       "      <td>Tf-Idf - Lemmatizer - GradientBoosting</td>\n",
       "      <td>0.933665</td>\n",
       "      <td>0.778146</td>\n",
       "    </tr>\n",
       "    <tr>\n",
       "      <td>0</td>\n",
       "      <td>Count Vectorizer- Lemmatizer - Logistic Regres...</td>\n",
       "      <td>0.999171</td>\n",
       "      <td>0.774834</td>\n",
       "    </tr>\n",
       "  </tbody>\n",
       "</table>\n",
       "</div>"
      ],
      "text/plain": [
       "                                               Model  Training Score  \\\n",
       "3                Tf-Idf - Lemmatizer - MultinomialNB        0.922886   \n",
       "4           Tf-Idf - Lemmatizer - MultinomialNB - 2         0.923715   \n",
       "2      Count Vectorizer - Lemmatizer - MultinomialNB        0.997512   \n",
       "1  Count Vectorizer- PorterStemmer - Logistic Reg...        0.999171   \n",
       "5             Tf-Idf - Lemmatizer - GradientBoosting        0.933665   \n",
       "0  Count Vectorizer- Lemmatizer - Logistic Regres...        0.999171   \n",
       "\n",
       "   Validation Score  \n",
       "3          0.834437  \n",
       "4          0.831126  \n",
       "2          0.791391  \n",
       "1          0.784768  \n",
       "5          0.778146  \n",
       "0          0.774834  "
      ]
     },
     "execution_count": 461,
     "metadata": {},
     "output_type": "execute_result"
    }
   ],
   "source": [
    "scoreboard['df']"
   ]
  },
  {
   "cell_type": "code",
   "execution_count": 404,
   "metadata": {
    "scrolled": true
   },
   "outputs": [
    {
     "data": {
      "text/html": [
       "<div>\n",
       "<style scoped>\n",
       "    .dataframe tbody tr th:only-of-type {\n",
       "        vertical-align: middle;\n",
       "    }\n",
       "\n",
       "    .dataframe tbody tr th {\n",
       "        vertical-align: top;\n",
       "    }\n",
       "\n",
       "    .dataframe thead th {\n",
       "        text-align: right;\n",
       "    }\n",
       "</style>\n",
       "<table border=\"1\" class=\"dataframe\">\n",
       "  <thead>\n",
       "    <tr style=\"text-align: right;\">\n",
       "      <th></th>\n",
       "      <th>000</th>\n",
       "      <th>01</th>\n",
       "      <th>01a</th>\n",
       "      <th>02</th>\n",
       "      <th>03</th>\n",
       "      <th>04</th>\n",
       "      <th>05</th>\n",
       "      <th>06</th>\n",
       "      <th>07</th>\n",
       "      <th>0800</th>\n",
       "      <th>...</th>\n",
       "      <th>zinger</th>\n",
       "      <th>zion</th>\n",
       "      <th>zoe</th>\n",
       "      <th>zone</th>\n",
       "      <th>zoroastrianism</th>\n",
       "      <th>zulu</th>\n",
       "      <th>zvi6kgh</th>\n",
       "      <th>zyrzy5nq</th>\n",
       "      <th>ḥiwi</th>\n",
       "      <th>ὄλεθρον</th>\n",
       "    </tr>\n",
       "  </thead>\n",
       "  <tbody>\n",
       "    <tr>\n",
       "      <td>0</td>\n",
       "      <td>0.0</td>\n",
       "      <td>0.0</td>\n",
       "      <td>0.0</td>\n",
       "      <td>0.0</td>\n",
       "      <td>0.0</td>\n",
       "      <td>0.0</td>\n",
       "      <td>0.0</td>\n",
       "      <td>0.0</td>\n",
       "      <td>0.0</td>\n",
       "      <td>0.0</td>\n",
       "      <td>...</td>\n",
       "      <td>0.000000</td>\n",
       "      <td>0.0</td>\n",
       "      <td>0.0</td>\n",
       "      <td>0.0</td>\n",
       "      <td>0.0</td>\n",
       "      <td>0.0</td>\n",
       "      <td>0.0</td>\n",
       "      <td>0.0</td>\n",
       "      <td>0.0</td>\n",
       "      <td>0.0</td>\n",
       "    </tr>\n",
       "    <tr>\n",
       "      <td>1</td>\n",
       "      <td>0.0</td>\n",
       "      <td>0.0</td>\n",
       "      <td>0.0</td>\n",
       "      <td>0.0</td>\n",
       "      <td>0.0</td>\n",
       "      <td>0.0</td>\n",
       "      <td>0.0</td>\n",
       "      <td>0.0</td>\n",
       "      <td>0.0</td>\n",
       "      <td>0.0</td>\n",
       "      <td>...</td>\n",
       "      <td>0.000000</td>\n",
       "      <td>0.0</td>\n",
       "      <td>0.0</td>\n",
       "      <td>0.0</td>\n",
       "      <td>0.0</td>\n",
       "      <td>0.0</td>\n",
       "      <td>0.0</td>\n",
       "      <td>0.0</td>\n",
       "      <td>0.0</td>\n",
       "      <td>0.0</td>\n",
       "    </tr>\n",
       "    <tr>\n",
       "      <td>2</td>\n",
       "      <td>0.0</td>\n",
       "      <td>0.0</td>\n",
       "      <td>0.0</td>\n",
       "      <td>0.0</td>\n",
       "      <td>0.0</td>\n",
       "      <td>0.0</td>\n",
       "      <td>0.0</td>\n",
       "      <td>0.0</td>\n",
       "      <td>0.0</td>\n",
       "      <td>0.0</td>\n",
       "      <td>...</td>\n",
       "      <td>0.000000</td>\n",
       "      <td>0.0</td>\n",
       "      <td>0.0</td>\n",
       "      <td>0.0</td>\n",
       "      <td>0.0</td>\n",
       "      <td>0.0</td>\n",
       "      <td>0.0</td>\n",
       "      <td>0.0</td>\n",
       "      <td>0.0</td>\n",
       "      <td>0.0</td>\n",
       "    </tr>\n",
       "    <tr>\n",
       "      <td>3</td>\n",
       "      <td>0.0</td>\n",
       "      <td>0.0</td>\n",
       "      <td>0.0</td>\n",
       "      <td>0.0</td>\n",
       "      <td>0.0</td>\n",
       "      <td>0.0</td>\n",
       "      <td>0.0</td>\n",
       "      <td>0.0</td>\n",
       "      <td>0.0</td>\n",
       "      <td>0.0</td>\n",
       "      <td>...</td>\n",
       "      <td>0.000000</td>\n",
       "      <td>0.0</td>\n",
       "      <td>0.0</td>\n",
       "      <td>0.0</td>\n",
       "      <td>0.0</td>\n",
       "      <td>0.0</td>\n",
       "      <td>0.0</td>\n",
       "      <td>0.0</td>\n",
       "      <td>0.0</td>\n",
       "      <td>0.0</td>\n",
       "    </tr>\n",
       "    <tr>\n",
       "      <td>4</td>\n",
       "      <td>0.0</td>\n",
       "      <td>0.0</td>\n",
       "      <td>0.0</td>\n",
       "      <td>0.0</td>\n",
       "      <td>0.0</td>\n",
       "      <td>0.0</td>\n",
       "      <td>0.0</td>\n",
       "      <td>0.0</td>\n",
       "      <td>0.0</td>\n",
       "      <td>0.0</td>\n",
       "      <td>...</td>\n",
       "      <td>0.000000</td>\n",
       "      <td>0.0</td>\n",
       "      <td>0.0</td>\n",
       "      <td>0.0</td>\n",
       "      <td>0.0</td>\n",
       "      <td>0.0</td>\n",
       "      <td>0.0</td>\n",
       "      <td>0.0</td>\n",
       "      <td>0.0</td>\n",
       "      <td>0.0</td>\n",
       "    </tr>\n",
       "    <tr>\n",
       "      <td>...</td>\n",
       "      <td>...</td>\n",
       "      <td>...</td>\n",
       "      <td>...</td>\n",
       "      <td>...</td>\n",
       "      <td>...</td>\n",
       "      <td>...</td>\n",
       "      <td>...</td>\n",
       "      <td>...</td>\n",
       "      <td>...</td>\n",
       "      <td>...</td>\n",
       "      <td>...</td>\n",
       "      <td>...</td>\n",
       "      <td>...</td>\n",
       "      <td>...</td>\n",
       "      <td>...</td>\n",
       "      <td>...</td>\n",
       "      <td>...</td>\n",
       "      <td>...</td>\n",
       "      <td>...</td>\n",
       "      <td>...</td>\n",
       "      <td>...</td>\n",
       "    </tr>\n",
       "    <tr>\n",
       "      <td>1201</td>\n",
       "      <td>0.0</td>\n",
       "      <td>0.0</td>\n",
       "      <td>0.0</td>\n",
       "      <td>0.0</td>\n",
       "      <td>0.0</td>\n",
       "      <td>0.0</td>\n",
       "      <td>0.0</td>\n",
       "      <td>0.0</td>\n",
       "      <td>0.0</td>\n",
       "      <td>0.0</td>\n",
       "      <td>...</td>\n",
       "      <td>0.000000</td>\n",
       "      <td>0.0</td>\n",
       "      <td>0.0</td>\n",
       "      <td>0.0</td>\n",
       "      <td>0.0</td>\n",
       "      <td>0.0</td>\n",
       "      <td>0.0</td>\n",
       "      <td>0.0</td>\n",
       "      <td>0.0</td>\n",
       "      <td>0.0</td>\n",
       "    </tr>\n",
       "    <tr>\n",
       "      <td>1202</td>\n",
       "      <td>0.0</td>\n",
       "      <td>0.0</td>\n",
       "      <td>0.0</td>\n",
       "      <td>0.0</td>\n",
       "      <td>0.0</td>\n",
       "      <td>0.0</td>\n",
       "      <td>0.0</td>\n",
       "      <td>0.0</td>\n",
       "      <td>0.0</td>\n",
       "      <td>0.0</td>\n",
       "      <td>...</td>\n",
       "      <td>0.000000</td>\n",
       "      <td>0.0</td>\n",
       "      <td>0.0</td>\n",
       "      <td>0.0</td>\n",
       "      <td>0.0</td>\n",
       "      <td>0.0</td>\n",
       "      <td>0.0</td>\n",
       "      <td>0.0</td>\n",
       "      <td>0.0</td>\n",
       "      <td>0.0</td>\n",
       "    </tr>\n",
       "    <tr>\n",
       "      <td>1203</td>\n",
       "      <td>0.0</td>\n",
       "      <td>0.0</td>\n",
       "      <td>0.0</td>\n",
       "      <td>0.0</td>\n",
       "      <td>0.0</td>\n",
       "      <td>0.0</td>\n",
       "      <td>0.0</td>\n",
       "      <td>0.0</td>\n",
       "      <td>0.0</td>\n",
       "      <td>0.0</td>\n",
       "      <td>...</td>\n",
       "      <td>0.000000</td>\n",
       "      <td>0.0</td>\n",
       "      <td>0.0</td>\n",
       "      <td>0.0</td>\n",
       "      <td>0.0</td>\n",
       "      <td>0.0</td>\n",
       "      <td>0.0</td>\n",
       "      <td>0.0</td>\n",
       "      <td>0.0</td>\n",
       "      <td>0.0</td>\n",
       "    </tr>\n",
       "    <tr>\n",
       "      <td>1204</td>\n",
       "      <td>0.0</td>\n",
       "      <td>0.0</td>\n",
       "      <td>0.0</td>\n",
       "      <td>0.0</td>\n",
       "      <td>0.0</td>\n",
       "      <td>0.0</td>\n",
       "      <td>0.0</td>\n",
       "      <td>0.0</td>\n",
       "      <td>0.0</td>\n",
       "      <td>0.0</td>\n",
       "      <td>...</td>\n",
       "      <td>0.000000</td>\n",
       "      <td>0.0</td>\n",
       "      <td>0.0</td>\n",
       "      <td>0.0</td>\n",
       "      <td>0.0</td>\n",
       "      <td>0.0</td>\n",
       "      <td>0.0</td>\n",
       "      <td>0.0</td>\n",
       "      <td>0.0</td>\n",
       "      <td>0.0</td>\n",
       "    </tr>\n",
       "    <tr>\n",
       "      <td>1205</td>\n",
       "      <td>0.0</td>\n",
       "      <td>0.0</td>\n",
       "      <td>0.0</td>\n",
       "      <td>0.0</td>\n",
       "      <td>0.0</td>\n",
       "      <td>0.0</td>\n",
       "      <td>0.0</td>\n",
       "      <td>0.0</td>\n",
       "      <td>0.0</td>\n",
       "      <td>0.0</td>\n",
       "      <td>...</td>\n",
       "      <td>0.173027</td>\n",
       "      <td>0.0</td>\n",
       "      <td>0.0</td>\n",
       "      <td>0.0</td>\n",
       "      <td>0.0</td>\n",
       "      <td>0.0</td>\n",
       "      <td>0.0</td>\n",
       "      <td>0.0</td>\n",
       "      <td>0.0</td>\n",
       "      <td>0.0</td>\n",
       "    </tr>\n",
       "  </tbody>\n",
       "</table>\n",
       "<p>1206 rows × 10711 columns</p>\n",
       "</div>"
      ],
      "text/plain": [
       "      000   01  01a   02   03   04   05   06   07  0800  ...    zinger  zion  \\\n",
       "0     0.0  0.0  0.0  0.0  0.0  0.0  0.0  0.0  0.0   0.0  ...  0.000000   0.0   \n",
       "1     0.0  0.0  0.0  0.0  0.0  0.0  0.0  0.0  0.0   0.0  ...  0.000000   0.0   \n",
       "2     0.0  0.0  0.0  0.0  0.0  0.0  0.0  0.0  0.0   0.0  ...  0.000000   0.0   \n",
       "3     0.0  0.0  0.0  0.0  0.0  0.0  0.0  0.0  0.0   0.0  ...  0.000000   0.0   \n",
       "4     0.0  0.0  0.0  0.0  0.0  0.0  0.0  0.0  0.0   0.0  ...  0.000000   0.0   \n",
       "...   ...  ...  ...  ...  ...  ...  ...  ...  ...   ...  ...       ...   ...   \n",
       "1201  0.0  0.0  0.0  0.0  0.0  0.0  0.0  0.0  0.0   0.0  ...  0.000000   0.0   \n",
       "1202  0.0  0.0  0.0  0.0  0.0  0.0  0.0  0.0  0.0   0.0  ...  0.000000   0.0   \n",
       "1203  0.0  0.0  0.0  0.0  0.0  0.0  0.0  0.0  0.0   0.0  ...  0.000000   0.0   \n",
       "1204  0.0  0.0  0.0  0.0  0.0  0.0  0.0  0.0  0.0   0.0  ...  0.000000   0.0   \n",
       "1205  0.0  0.0  0.0  0.0  0.0  0.0  0.0  0.0  0.0   0.0  ...  0.173027   0.0   \n",
       "\n",
       "      zoe  zone  zoroastrianism  zulu  zvi6kgh  zyrzy5nq  ḥiwi  ὄλεθρον  \n",
       "0     0.0   0.0             0.0   0.0      0.0       0.0   0.0      0.0  \n",
       "1     0.0   0.0             0.0   0.0      0.0       0.0   0.0      0.0  \n",
       "2     0.0   0.0             0.0   0.0      0.0       0.0   0.0      0.0  \n",
       "3     0.0   0.0             0.0   0.0      0.0       0.0   0.0      0.0  \n",
       "4     0.0   0.0             0.0   0.0      0.0       0.0   0.0      0.0  \n",
       "...   ...   ...             ...   ...      ...       ...   ...      ...  \n",
       "1201  0.0   0.0             0.0   0.0      0.0       0.0   0.0      0.0  \n",
       "1202  0.0   0.0             0.0   0.0      0.0       0.0   0.0      0.0  \n",
       "1203  0.0   0.0             0.0   0.0      0.0       0.0   0.0      0.0  \n",
       "1204  0.0   0.0             0.0   0.0      0.0       0.0   0.0      0.0  \n",
       "1205  0.0   0.0             0.0   0.0      0.0       0.0   0.0      0.0  \n",
       "\n",
       "[1206 rows x 10711 columns]"
      ]
     },
     "execution_count": 404,
     "metadata": {},
     "output_type": "execute_result"
    }
   ],
   "source": [
    "# To understand how Tf-Idf transforms the documents\n",
    "X_train_tvec_transformed = tvec.fit_transform(X_train)\n",
    "pd.DataFrame(X_train_tvec_transformed.toarray(), columns=tvec.get_feature_names())"
   ]
  },
  {
   "cell_type": "code",
   "execution_count": 430,
   "metadata": {},
   "outputs": [],
   "source": [
    "tvec = TfidfVectorizer(max_features=90)\n",
    "X_train_tvec_transformed = tvec.fit_transform(X_train)\n",
    "X_train_tvec_pd = pd.DataFrame(X_train_tvec_transformed.toarray(), columns=tvec.get_feature_names())\n",
    "X_train_tvec_pd = X_train_tvec_pd[[col for col in X_train_tvec_pd.columns if col not in set(stopwords.words(\"english\")) ]]"
   ]
  },
  {
   "cell_type": "code",
   "execution_count": 433,
   "metadata": {},
   "outputs": [
    {
     "data": {
      "text/html": [
       "<div>\n",
       "<style scoped>\n",
       "    .dataframe tbody tr th:only-of-type {\n",
       "        vertical-align: middle;\n",
       "    }\n",
       "\n",
       "    .dataframe tbody tr th {\n",
       "        vertical-align: top;\n",
       "    }\n",
       "\n",
       "    .dataframe thead th {\n",
       "        text-align: right;\n",
       "    }\n",
       "</style>\n",
       "<table border=\"1\" class=\"dataframe\">\n",
       "  <thead>\n",
       "    <tr style=\"text-align: right;\">\n",
       "      <th></th>\n",
       "      <th>believe</th>\n",
       "      <th>bible</th>\n",
       "      <th>christian</th>\n",
       "      <th>church</th>\n",
       "      <th>even</th>\n",
       "      <th>feel</th>\n",
       "      <th>get</th>\n",
       "      <th>god</th>\n",
       "      <th>jesus</th>\n",
       "      <th>know</th>\n",
       "      <th>life</th>\n",
       "      <th>like</th>\n",
       "      <th>one</th>\n",
       "      <th>people</th>\n",
       "      <th>really</th>\n",
       "      <th>think</th>\n",
       "      <th>time</th>\n",
       "      <th>want</th>\n",
       "      <th>would</th>\n",
       "    </tr>\n",
       "  </thead>\n",
       "  <tbody>\n",
       "    <tr>\n",
       "      <td>0</td>\n",
       "      <td>0.000000</td>\n",
       "      <td>0.000000</td>\n",
       "      <td>0.000000</td>\n",
       "      <td>0.492581</td>\n",
       "      <td>0.0</td>\n",
       "      <td>0.0</td>\n",
       "      <td>0.000000</td>\n",
       "      <td>0.00000</td>\n",
       "      <td>0.225402</td>\n",
       "      <td>0.061337</td>\n",
       "      <td>0.000000</td>\n",
       "      <td>0.110122</td>\n",
       "      <td>0.064515</td>\n",
       "      <td>0.00000</td>\n",
       "      <td>0.000000</td>\n",
       "      <td>0.0</td>\n",
       "      <td>0.146471</td>\n",
       "      <td>0.068672</td>\n",
       "      <td>0.061902</td>\n",
       "    </tr>\n",
       "    <tr>\n",
       "      <td>1</td>\n",
       "      <td>0.000000</td>\n",
       "      <td>0.000000</td>\n",
       "      <td>0.000000</td>\n",
       "      <td>0.000000</td>\n",
       "      <td>0.0</td>\n",
       "      <td>0.0</td>\n",
       "      <td>0.000000</td>\n",
       "      <td>0.00000</td>\n",
       "      <td>0.000000</td>\n",
       "      <td>0.000000</td>\n",
       "      <td>0.000000</td>\n",
       "      <td>0.000000</td>\n",
       "      <td>0.000000</td>\n",
       "      <td>0.00000</td>\n",
       "      <td>0.000000</td>\n",
       "      <td>0.0</td>\n",
       "      <td>0.000000</td>\n",
       "      <td>0.000000</td>\n",
       "      <td>0.000000</td>\n",
       "    </tr>\n",
       "    <tr>\n",
       "      <td>2</td>\n",
       "      <td>0.000000</td>\n",
       "      <td>0.000000</td>\n",
       "      <td>0.000000</td>\n",
       "      <td>0.000000</td>\n",
       "      <td>0.0</td>\n",
       "      <td>0.0</td>\n",
       "      <td>0.159223</td>\n",
       "      <td>0.00000</td>\n",
       "      <td>0.000000</td>\n",
       "      <td>0.000000</td>\n",
       "      <td>0.000000</td>\n",
       "      <td>0.000000</td>\n",
       "      <td>0.000000</td>\n",
       "      <td>0.00000</td>\n",
       "      <td>0.152958</td>\n",
       "      <td>0.0</td>\n",
       "      <td>0.000000</td>\n",
       "      <td>0.152677</td>\n",
       "      <td>0.000000</td>\n",
       "    </tr>\n",
       "    <tr>\n",
       "      <td>3</td>\n",
       "      <td>0.000000</td>\n",
       "      <td>0.000000</td>\n",
       "      <td>0.000000</td>\n",
       "      <td>0.000000</td>\n",
       "      <td>0.0</td>\n",
       "      <td>0.0</td>\n",
       "      <td>0.000000</td>\n",
       "      <td>0.00000</td>\n",
       "      <td>0.000000</td>\n",
       "      <td>0.000000</td>\n",
       "      <td>0.000000</td>\n",
       "      <td>0.000000</td>\n",
       "      <td>0.398965</td>\n",
       "      <td>0.00000</td>\n",
       "      <td>0.000000</td>\n",
       "      <td>0.0</td>\n",
       "      <td>0.000000</td>\n",
       "      <td>0.000000</td>\n",
       "      <td>0.000000</td>\n",
       "    </tr>\n",
       "    <tr>\n",
       "      <td>4</td>\n",
       "      <td>0.000000</td>\n",
       "      <td>0.000000</td>\n",
       "      <td>0.000000</td>\n",
       "      <td>0.000000</td>\n",
       "      <td>0.0</td>\n",
       "      <td>0.0</td>\n",
       "      <td>0.000000</td>\n",
       "      <td>0.00000</td>\n",
       "      <td>0.000000</td>\n",
       "      <td>0.000000</td>\n",
       "      <td>0.000000</td>\n",
       "      <td>0.000000</td>\n",
       "      <td>0.000000</td>\n",
       "      <td>0.00000</td>\n",
       "      <td>0.000000</td>\n",
       "      <td>0.0</td>\n",
       "      <td>0.000000</td>\n",
       "      <td>0.000000</td>\n",
       "      <td>0.000000</td>\n",
       "    </tr>\n",
       "    <tr>\n",
       "      <td>...</td>\n",
       "      <td>...</td>\n",
       "      <td>...</td>\n",
       "      <td>...</td>\n",
       "      <td>...</td>\n",
       "      <td>...</td>\n",
       "      <td>...</td>\n",
       "      <td>...</td>\n",
       "      <td>...</td>\n",
       "      <td>...</td>\n",
       "      <td>...</td>\n",
       "      <td>...</td>\n",
       "      <td>...</td>\n",
       "      <td>...</td>\n",
       "      <td>...</td>\n",
       "      <td>...</td>\n",
       "      <td>...</td>\n",
       "      <td>...</td>\n",
       "      <td>...</td>\n",
       "      <td>...</td>\n",
       "    </tr>\n",
       "    <tr>\n",
       "      <td>1201</td>\n",
       "      <td>0.000000</td>\n",
       "      <td>0.000000</td>\n",
       "      <td>0.000000</td>\n",
       "      <td>0.000000</td>\n",
       "      <td>0.0</td>\n",
       "      <td>0.0</td>\n",
       "      <td>0.468313</td>\n",
       "      <td>0.00000</td>\n",
       "      <td>0.000000</td>\n",
       "      <td>0.000000</td>\n",
       "      <td>0.153384</td>\n",
       "      <td>0.000000</td>\n",
       "      <td>0.000000</td>\n",
       "      <td>0.00000</td>\n",
       "      <td>0.000000</td>\n",
       "      <td>0.0</td>\n",
       "      <td>0.000000</td>\n",
       "      <td>0.000000</td>\n",
       "      <td>0.000000</td>\n",
       "    </tr>\n",
       "    <tr>\n",
       "      <td>1202</td>\n",
       "      <td>0.000000</td>\n",
       "      <td>0.000000</td>\n",
       "      <td>0.000000</td>\n",
       "      <td>0.000000</td>\n",
       "      <td>0.0</td>\n",
       "      <td>0.0</td>\n",
       "      <td>0.000000</td>\n",
       "      <td>0.00000</td>\n",
       "      <td>0.000000</td>\n",
       "      <td>0.000000</td>\n",
       "      <td>0.000000</td>\n",
       "      <td>0.000000</td>\n",
       "      <td>0.000000</td>\n",
       "      <td>0.00000</td>\n",
       "      <td>0.000000</td>\n",
       "      <td>0.0</td>\n",
       "      <td>0.000000</td>\n",
       "      <td>0.000000</td>\n",
       "      <td>0.000000</td>\n",
       "    </tr>\n",
       "    <tr>\n",
       "      <td>1203</td>\n",
       "      <td>0.077066</td>\n",
       "      <td>0.078983</td>\n",
       "      <td>0.501642</td>\n",
       "      <td>0.000000</td>\n",
       "      <td>0.0</td>\n",
       "      <td>0.0</td>\n",
       "      <td>0.000000</td>\n",
       "      <td>0.00000</td>\n",
       "      <td>0.000000</td>\n",
       "      <td>0.068581</td>\n",
       "      <td>0.000000</td>\n",
       "      <td>0.061564</td>\n",
       "      <td>0.000000</td>\n",
       "      <td>0.06572</td>\n",
       "      <td>0.000000</td>\n",
       "      <td>0.0</td>\n",
       "      <td>0.000000</td>\n",
       "      <td>0.000000</td>\n",
       "      <td>0.138425</td>\n",
       "    </tr>\n",
       "    <tr>\n",
       "      <td>1204</td>\n",
       "      <td>0.000000</td>\n",
       "      <td>0.000000</td>\n",
       "      <td>0.883263</td>\n",
       "      <td>0.000000</td>\n",
       "      <td>0.0</td>\n",
       "      <td>0.0</td>\n",
       "      <td>0.000000</td>\n",
       "      <td>0.00000</td>\n",
       "      <td>0.000000</td>\n",
       "      <td>0.000000</td>\n",
       "      <td>0.000000</td>\n",
       "      <td>0.000000</td>\n",
       "      <td>0.000000</td>\n",
       "      <td>0.00000</td>\n",
       "      <td>0.000000</td>\n",
       "      <td>0.0</td>\n",
       "      <td>0.000000</td>\n",
       "      <td>0.000000</td>\n",
       "      <td>0.000000</td>\n",
       "    </tr>\n",
       "    <tr>\n",
       "      <td>1205</td>\n",
       "      <td>0.000000</td>\n",
       "      <td>0.000000</td>\n",
       "      <td>0.128776</td>\n",
       "      <td>0.000000</td>\n",
       "      <td>0.0</td>\n",
       "      <td>0.0</td>\n",
       "      <td>0.000000</td>\n",
       "      <td>0.41511</td>\n",
       "      <td>0.150957</td>\n",
       "      <td>0.000000</td>\n",
       "      <td>0.000000</td>\n",
       "      <td>0.000000</td>\n",
       "      <td>0.000000</td>\n",
       "      <td>0.00000</td>\n",
       "      <td>0.000000</td>\n",
       "      <td>0.0</td>\n",
       "      <td>0.000000</td>\n",
       "      <td>0.000000</td>\n",
       "      <td>0.000000</td>\n",
       "    </tr>\n",
       "  </tbody>\n",
       "</table>\n",
       "<p>1206 rows × 19 columns</p>\n",
       "</div>"
      ],
      "text/plain": [
       "       believe     bible  christian    church  even  feel       get      god  \\\n",
       "0     0.000000  0.000000   0.000000  0.492581   0.0   0.0  0.000000  0.00000   \n",
       "1     0.000000  0.000000   0.000000  0.000000   0.0   0.0  0.000000  0.00000   \n",
       "2     0.000000  0.000000   0.000000  0.000000   0.0   0.0  0.159223  0.00000   \n",
       "3     0.000000  0.000000   0.000000  0.000000   0.0   0.0  0.000000  0.00000   \n",
       "4     0.000000  0.000000   0.000000  0.000000   0.0   0.0  0.000000  0.00000   \n",
       "...        ...       ...        ...       ...   ...   ...       ...      ...   \n",
       "1201  0.000000  0.000000   0.000000  0.000000   0.0   0.0  0.468313  0.00000   \n",
       "1202  0.000000  0.000000   0.000000  0.000000   0.0   0.0  0.000000  0.00000   \n",
       "1203  0.077066  0.078983   0.501642  0.000000   0.0   0.0  0.000000  0.00000   \n",
       "1204  0.000000  0.000000   0.883263  0.000000   0.0   0.0  0.000000  0.00000   \n",
       "1205  0.000000  0.000000   0.128776  0.000000   0.0   0.0  0.000000  0.41511   \n",
       "\n",
       "         jesus      know      life      like       one   people    really  \\\n",
       "0     0.225402  0.061337  0.000000  0.110122  0.064515  0.00000  0.000000   \n",
       "1     0.000000  0.000000  0.000000  0.000000  0.000000  0.00000  0.000000   \n",
       "2     0.000000  0.000000  0.000000  0.000000  0.000000  0.00000  0.152958   \n",
       "3     0.000000  0.000000  0.000000  0.000000  0.398965  0.00000  0.000000   \n",
       "4     0.000000  0.000000  0.000000  0.000000  0.000000  0.00000  0.000000   \n",
       "...        ...       ...       ...       ...       ...      ...       ...   \n",
       "1201  0.000000  0.000000  0.153384  0.000000  0.000000  0.00000  0.000000   \n",
       "1202  0.000000  0.000000  0.000000  0.000000  0.000000  0.00000  0.000000   \n",
       "1203  0.000000  0.068581  0.000000  0.061564  0.000000  0.06572  0.000000   \n",
       "1204  0.000000  0.000000  0.000000  0.000000  0.000000  0.00000  0.000000   \n",
       "1205  0.150957  0.000000  0.000000  0.000000  0.000000  0.00000  0.000000   \n",
       "\n",
       "      think      time      want     would  \n",
       "0       0.0  0.146471  0.068672  0.061902  \n",
       "1       0.0  0.000000  0.000000  0.000000  \n",
       "2       0.0  0.000000  0.152677  0.000000  \n",
       "3       0.0  0.000000  0.000000  0.000000  \n",
       "4       0.0  0.000000  0.000000  0.000000  \n",
       "...     ...       ...       ...       ...  \n",
       "1201    0.0  0.000000  0.000000  0.000000  \n",
       "1202    0.0  0.000000  0.000000  0.000000  \n",
       "1203    0.0  0.000000  0.000000  0.138425  \n",
       "1204    0.0  0.000000  0.000000  0.000000  \n",
       "1205    0.0  0.000000  0.000000  0.000000  \n",
       "\n",
       "[1206 rows x 19 columns]"
      ]
     },
     "execution_count": 433,
     "metadata": {},
     "output_type": "execute_result"
    }
   ],
   "source": [
    "X_train_tvec_pd"
   ]
  }
 ],
 "metadata": {
  "kernelspec": {
   "display_name": "Python 3",
   "language": "python",
   "name": "python3"
  },
  "language_info": {
   "codemirror_mode": {
    "name": "ipython",
    "version": 3
   },
   "file_extension": ".py",
   "mimetype": "text/x-python",
   "name": "python",
   "nbconvert_exporter": "python",
   "pygments_lexer": "ipython3",
   "version": "3.7.4"
  },
  "toc": {
   "base_numbering": 1,
   "nav_menu": {},
   "number_sections": true,
   "sideBar": true,
   "skip_h1_title": true,
   "title_cell": "Contents",
   "title_sidebar": "Contents",
   "toc_cell": true,
   "toc_position": {
    "height": "calc(100% - 180px)",
    "left": "10px",
    "top": "150px",
    "width": "304.2px"
   },
   "toc_section_display": true,
   "toc_window_display": true
  },
  "varInspector": {
   "cols": {
    "lenName": 16,
    "lenType": 16,
    "lenVar": 40
   },
   "kernels_config": {
    "python": {
     "delete_cmd_postfix": "",
     "delete_cmd_prefix": "del ",
     "library": "var_list.py",
     "varRefreshCmd": "print(var_dic_list())"
    },
    "r": {
     "delete_cmd_postfix": ") ",
     "delete_cmd_prefix": "rm(",
     "library": "var_list.r",
     "varRefreshCmd": "cat(var_dic_list()) "
    }
   },
   "oldHeight": 193.20000000000002,
   "position": {
    "height": "40px",
    "left": "1024px",
    "right": "20px",
    "top": "78px",
    "width": "417.8px"
   },
   "types_to_exclude": [
    "module",
    "function",
    "builtin_function_or_method",
    "instance",
    "_Feature"
   ],
   "varInspector_section_display": "none",
   "window_display": true
  }
 },
 "nbformat": 4,
 "nbformat_minor": 2
}
