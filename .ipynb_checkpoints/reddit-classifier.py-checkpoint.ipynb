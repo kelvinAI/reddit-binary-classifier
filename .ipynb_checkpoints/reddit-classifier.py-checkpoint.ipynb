{
 "cells": [
  {
   "cell_type": "markdown",
   "metadata": {},
   "source": [
    "# Reddit Classifier"
   ]
  },
  {
   "cell_type": "markdown",
   "metadata": {
    "toc": true
   },
   "source": [
    "<h1>Contents<span class=\"tocSkip\"></span></h1>\n",
    "<div class=\"toc\"><ul class=\"toc-item\"><li><span><a href=\"#Problem-Statement:\" data-toc-modified-id=\"Problem-Statement:-1\"><span class=\"toc-item-num\">1&nbsp;&nbsp;</span>Problem Statement:</a></span></li><li><span><a href=\"#Executive-summary\" data-toc-modified-id=\"Executive-summary-2\"><span class=\"toc-item-num\">2&nbsp;&nbsp;</span>Executive summary</a></span></li><li><span><a href=\"#Scraping-for-data\" data-toc-modified-id=\"Scraping-for-data-3\"><span class=\"toc-item-num\">3&nbsp;&nbsp;</span>Scraping for data</a></span></li><li><span><a href=\"#Read-the-csv-file\" data-toc-modified-id=\"Read-the-csv-file-4\"><span class=\"toc-item-num\">4&nbsp;&nbsp;</span>Read the csv file</a></span></li><li><span><a href=\"#EDA:-Exploring-the-dataset\" data-toc-modified-id=\"EDA:-Exploring-the-dataset-5\"><span class=\"toc-item-num\">5&nbsp;&nbsp;</span>EDA: Exploring the dataset</a></span><ul class=\"toc-item\"><li><span><a href=\"#Word-cloud-for-first-category\" data-toc-modified-id=\"Word-cloud-for-first-category-5.1\"><span class=\"toc-item-num\">5.1&nbsp;&nbsp;</span>Word cloud for first category</a></span></li><li><span><a href=\"#Word-cloud-for-second-category\" data-toc-modified-id=\"Word-cloud-for-second-category-5.2\"><span class=\"toc-item-num\">5.2&nbsp;&nbsp;</span>Word cloud for second category</a></span></li></ul></li><li><span><a href=\"#Feature-Engineering-:-Train-test-split\" data-toc-modified-id=\"Feature-Engineering-:-Train-test-split-6\"><span class=\"toc-item-num\">6&nbsp;&nbsp;</span>Feature Engineering : Train test split</a></span><ul class=\"toc-item\"><li><span><a href=\"#Creating-X-and-y\" data-toc-modified-id=\"Creating-X-and-y-6.1\"><span class=\"toc-item-num\">6.1&nbsp;&nbsp;</span>Creating X and y</a></span></li><li><span><a href=\"#Baseline-accuracy\" data-toc-modified-id=\"Baseline-accuracy-6.2\"><span class=\"toc-item-num\">6.2&nbsp;&nbsp;</span>Baseline accuracy</a></span></li></ul></li><li><span><a href=\"#NLP-Pipeline\" data-toc-modified-id=\"NLP-Pipeline-7\"><span class=\"toc-item-num\">7&nbsp;&nbsp;</span>NLP Pipeline</a></span><ul class=\"toc-item\"><li><span><a href=\"#Tokenizing,-Stemming/Lemming-and-Vectorization\" data-toc-modified-id=\"Tokenizing,-Stemming/Lemming-and-Vectorization-7.1\"><span class=\"toc-item-num\">7.1&nbsp;&nbsp;</span>Tokenizing, Stemming/Lemming and Vectorization</a></span></li><li><span><a href=\"#Model-1-:-Count-Vectorizer---Lemmatizer---Logistic-Regression\" data-toc-modified-id=\"Model-1-:-Count-Vectorizer---Lemmatizer---Logistic-Regression-7.2\"><span class=\"toc-item-num\">7.2&nbsp;&nbsp;</span>Model 1 : Count Vectorizer - Lemmatizer - Logistic Regression</a></span><ul class=\"toc-item\"><li><span><a href=\"#Scores-and-best-parameters-obtained-from-Grid-Search-based-on-this-dataset-is:\" data-toc-modified-id=\"Scores-and-best-parameters-obtained-from-Grid-Search-based-on-this-dataset-is:-7.2.1\"><span class=\"toc-item-num\">7.2.1&nbsp;&nbsp;</span>Scores and best parameters obtained from Grid Search based on this dataset is:</a></span></li></ul></li><li><span><a href=\"#Model-2-:-Count-Vectorizer---Porter-Stemmer---Logistic-Regression\" data-toc-modified-id=\"Model-2-:-Count-Vectorizer---Porter-Stemmer---Logistic-Regression-7.3\"><span class=\"toc-item-num\">7.3&nbsp;&nbsp;</span>Model 2 : Count Vectorizer - Porter Stemmer - Logistic Regression</a></span></li><li><span><a href=\"#Model-3-:-Count-Vectorizer---Lemmatizer---Multinomial-Naive-Bayes\" data-toc-modified-id=\"Model-3-:-Count-Vectorizer---Lemmatizer---Multinomial-Naive-Bayes-7.4\"><span class=\"toc-item-num\">7.4&nbsp;&nbsp;</span>Model 3 : Count Vectorizer - Lemmatizer - Multinomial Naive Bayes</a></span></li><li><span><a href=\"#Model-4-:-TF-IDF---Lemmatizer---Multinomial-Naive-Bayes\" data-toc-modified-id=\"Model-4-:-TF-IDF---Lemmatizer---Multinomial-Naive-Bayes-7.5\"><span class=\"toc-item-num\">7.5&nbsp;&nbsp;</span>Model 4 : TF-IDF - Lemmatizer - Multinomial Naive Bayes</a></span><ul class=\"toc-item\"><li><span><a href=\"#Intepreting-Model-4\" data-toc-modified-id=\"Intepreting-Model-4-7.5.1\"><span class=\"toc-item-num\">7.5.1&nbsp;&nbsp;</span>Intepreting Model 4</a></span></li></ul></li><li><span><a href=\"#Model-5-:-Gradient-Boosting-Classifier\" data-toc-modified-id=\"Model-5-:-Gradient-Boosting-Classifier-7.6\"><span class=\"toc-item-num\">7.6&nbsp;&nbsp;</span>Model 5 : Gradient Boosting Classifier</a></span></li></ul></li><li><span><a href=\"#Model-Benchmarks\" data-toc-modified-id=\"Model-Benchmarks-8\"><span class=\"toc-item-num\">8&nbsp;&nbsp;</span>Model Benchmarks</a></span><ul class=\"toc-item\"><li><span><a href=\"#Plotting-the-AUC-ROC-Curve-of-the-best-model\" data-toc-modified-id=\"Plotting-the-AUC-ROC-Curve-of-the-best-model-8.1\"><span class=\"toc-item-num\">8.1&nbsp;&nbsp;</span>Plotting the AUC ROC Curve of the best model</a></span></li><li><span><a href=\"#Plotting-the-distribution-of-probabilities\" data-toc-modified-id=\"Plotting-the-distribution-of-probabilities-8.2\"><span class=\"toc-item-num\">8.2&nbsp;&nbsp;</span>Plotting the distribution of probabilities</a></span></li></ul></li><li><span><a href=\"#Visualizing-the-tokens\" data-toc-modified-id=\"Visualizing-the-tokens-9\"><span class=\"toc-item-num\">9&nbsp;&nbsp;</span>Visualizing the tokens</a></span></li><li><span><a href=\"#Conclusion\" data-toc-modified-id=\"Conclusion-10\"><span class=\"toc-item-num\">10&nbsp;&nbsp;</span>Conclusion</a></span></li></ul></div>"
   ]
  },
  {
   "cell_type": "markdown",
   "metadata": {},
   "source": [
    "## Problem Statement:\n",
    "\n",
    "KPI / Business "
   ]
  },
  {
   "cell_type": "markdown",
   "metadata": {},
   "source": [
    "## Executive summary\n",
    "Scape the Reddit website for two topics, and build a binary classifier that will classify which topic the text originate from"
   ]
  },
  {
   "cell_type": "markdown",
   "metadata": {},
   "source": [
    "## Scraping for data"
   ]
  },
  {
   "cell_type": "code",
   "execution_count": 1,
   "metadata": {},
   "outputs": [],
   "source": [
    "import requests\n",
    "import pandas as pd\n",
    "import numpy as np"
   ]
  },
  {
   "cell_type": "code",
   "execution_count": 2,
   "metadata": {},
   "outputs": [],
   "source": [
    "from collections import defaultdict\n",
    "\n",
    "def extract_content(response, topic):\n",
    "    # 0th index refers to title appended with selftext\n",
    "    rslt = defaultdict(list)\n",
    "    for post in response.json()['data']['children']:\n",
    "        rslt['content'].append(post['data']['title'] + ' ' + post['data']['selftext'])\n",
    "        rslt['topic'].append(topic)\n",
    "        rslt['id'].append(post['data']['name'])\n",
    "        \n",
    "    return rslt\n",
    "\n",
    "def scrape_topic(topic,depth=12):\n",
    "    '''\n",
    "    Scrape the reddit topic for all the posts\n",
    "    \n",
    "    '''\n",
    "    base_url = 'https://www.reddit.com/r/'\n",
    "    url = base_url + topic + '.json?limit=100'\n",
    "    last_entry_name = ''\n",
    "    payload = None\n",
    "    \n",
    "    \n",
    "    for i in range(depth):\n",
    "        if last_entry_name == None:\n",
    "            break\n",
    "        if last_entry_name != '':\n",
    "            url = base_url + topic + '.json?limit=100&after=' + last_entry_name\n",
    "    \n",
    "        res = requests.get(url, headers={'User-agent': 'Pony Inc 1.0'})\n",
    "        print(f\"request url: {url} for {topic} at depth:{i}\")\n",
    "        \n",
    "        last_entry_name = res.json()['data']['after']\n",
    "        print(f\"Last entry name : {last_entry_name} \")\n",
    "        content = extract_content(res,topic)\n",
    "        if not payload:\n",
    "            payload = content\n",
    "        else:\n",
    "            for k,v in payload.items():\n",
    "                payload[k] += content[k]\n",
    "        if i < depth-1:\n",
    "            sleep_duration = random.randint(2,15)\n",
    "            time.sleep(sleep_duration)\n",
    "        print(f'Scraping {topic}, {i} pages in..')\n",
    "    return {'topic': topic, 'data': payload }\n",
    "    "
   ]
  },
  {
   "cell_type": "code",
   "execution_count": 3,
   "metadata": {},
   "outputs": [],
   "source": [
    "import concurrent.futures as cf\n",
    "import random, time\n",
    "\n",
    "\n",
    "def get_reddit_data(topics):\n",
    "    '''\n",
    "    Main function to scrape reddit data into a pandas dataframe.\n",
    "    Args: topics\n",
    "     - An array object of topics in reddit to scrape from\n",
    "    '''\n",
    "    rdf = pd.DataFrame()\n",
    "    with cf.ThreadPoolExecutor(max_workers=5) as executor:\n",
    "        for future in executor.map(scrape_topic, topics):\n",
    "            if rdf.empty:\n",
    "                rdf = pd.DataFrame(future['data'])\n",
    "            else:\n",
    "                new = pd.DataFrame(future['data'])\n",
    "                rdf = pd.concat([rdf,new],ignore_index=True)\n",
    "            \n",
    "    return rdf\n",
    "        \n",
    "      "
   ]
  },
  {
   "cell_type": "code",
   "execution_count": 4,
   "metadata": {},
   "outputs": [],
   "source": [
    "reddit_topics= ['Christianity','atheism']"
   ]
  },
  {
   "cell_type": "code",
   "execution_count": 5,
   "metadata": {},
   "outputs": [
    {
     "name": "stdout",
     "output_type": "stream",
     "text": [
      "request url: https://www.reddit.com/r/Christianity.json?limit=100 for Christianity at depth:0\n",
      "Last entry name : t3_dlros3 \n",
      "request url: https://www.reddit.com/r/atheism.json?limit=100 for atheism at depth:0\n",
      "Last entry name : t3_dm1ka5 \n",
      "Scraping Christianity, 0 pages in..\n",
      "Scraping atheism, 0 pages in..\n",
      "request url: https://www.reddit.com/r/Christianity.json?limit=100&after=t3_dlros3 for Christianity at depth:1\n",
      "Last entry name : t3_dlaqg3 \n",
      "request url: https://www.reddit.com/r/atheism.json?limit=100&after=t3_dm1ka5 for atheism at depth:1\n",
      "Last entry name : t3_dktdjk \n",
      "Scraping Christianity, 1 pages in..\n",
      "request url: https://www.reddit.com/r/Christianity.json?limit=100&after=t3_dlaqg3 for Christianity at depth:2\n",
      "Last entry name : t3_dl6fnt \n",
      "Scraping atheism, 1 pages in..\n",
      "request url: https://www.reddit.com/r/atheism.json?limit=100&after=t3_dktdjk for atheism at depth:2\n",
      "Last entry name : t3_dkangi \n",
      "Scraping atheism, 2 pages in..\n",
      "request url: https://www.reddit.com/r/atheism.json?limit=100&after=t3_dkangi for atheism at depth:3\n",
      "Last entry name : t3_djs8pb \n",
      "Scraping Christianity, 2 pages in..\n",
      "request url: https://www.reddit.com/r/Christianity.json?limit=100&after=t3_dl6fnt for Christianity at depth:3\n",
      "Last entry name : t3_dl17bp \n",
      "Scraping atheism, 3 pages in..\n",
      "request url: https://www.reddit.com/r/atheism.json?limit=100&after=t3_djs8pb for atheism at depth:4\n",
      "Last entry name : t3_dj6i2p \n",
      "Scraping Christianity, 3 pages in..\n",
      "Scraping atheism, 4 pages in..\n",
      "request url: https://www.reddit.com/r/Christianity.json?limit=100&after=t3_dl17bp for Christianity at depth:4\n",
      "Last entry name : t3_dks0ia \n",
      "request url: https://www.reddit.com/r/atheism.json?limit=100&after=t3_dj6i2p for atheism at depth:5\n",
      "Last entry name : t3_di9mre \n",
      "Scraping Christianity, 4 pages in..\n",
      "Scraping atheism, 5 pages in..\n",
      "request url: https://www.reddit.com/r/Christianity.json?limit=100&after=t3_dks0ia for Christianity at depth:5\n",
      "Last entry name : t3_dk0t4g \n",
      "request url: https://www.reddit.com/r/atheism.json?limit=100&after=t3_di9mre for atheism at depth:6\n",
      "Last entry name : t3_dhw9bc \n",
      "Scraping atheism, 6 pages in..\n",
      "Scraping Christianity, 5 pages in..\n",
      "request url: https://www.reddit.com/r/atheism.json?limit=100&after=t3_dhw9bc for atheism at depth:7\n",
      "Last entry name : t3_dhtat3 \n",
      "request url: https://www.reddit.com/r/Christianity.json?limit=100&after=t3_dk0t4g for Christianity at depth:6\n",
      "Last entry name : t3_djlsoe \n",
      "Scraping atheism, 7 pages in..\n",
      "request url: https://www.reddit.com/r/atheism.json?limit=100&after=t3_dhtat3 for atheism at depth:8\n",
      "Last entry name : t3_dh8y22 \n",
      "Scraping Christianity, 6 pages in..\n",
      "request url: https://www.reddit.com/r/Christianity.json?limit=100&after=t3_djlsoe for Christianity at depth:7\n",
      "Last entry name : t3_djl00p \n",
      "Scraping Christianity, 7 pages in..\n",
      "request url: https://www.reddit.com/r/Christianity.json?limit=100&after=t3_djl00p for Christianity at depth:8\n",
      "Last entry name : t3_dj53mm \n",
      "Scraping atheism, 8 pages in..\n",
      "request url: https://www.reddit.com/r/atheism.json?limit=100&after=t3_dh8y22 for atheism at depth:9\n",
      "Last entry name : None \n",
      "Scraping Christianity, 8 pages in..\n",
      "request url: https://www.reddit.com/r/Christianity.json?limit=100&after=t3_dj53mm for Christianity at depth:9\n",
      "Last entry name : None \n",
      "Scraping atheism, 9 pages in..\n",
      "Scraping Christianity, 9 pages in..\n",
      "              content   id\n",
      "topic                     \n",
      "Christianity      957  957\n",
      "atheism           931  931\n"
     ]
    }
   ],
   "source": [
    "import os.path\n",
    "\n",
    "rdf = get_reddit_data(reddit_topics)\n",
    "print(rdf.groupby(by='topic').count())\n",
    "\n",
    "# filename = 'reddit_scrape_bio_chem.csv'\n",
    "# filename = 'reddit_scrape_docs_legal.csv'\n",
    "filename = 'reddit_atheism_christianity.csv'\n",
    "\n",
    "use_header=True\n",
    "\n",
    "if os.path.exists(filename):\n",
    "    use_header = False\n",
    "\n",
    "# Save the data into a csv file\n",
    "rdf.to_csv(filename,mode='a',header=use_header, index=False)"
   ]
  },
  {
   "cell_type": "markdown",
   "metadata": {},
   "source": [
    "## Read the csv file"
   ]
  },
  {
   "cell_type": "code",
   "execution_count": 6,
   "metadata": {},
   "outputs": [],
   "source": [
    "reddit_df = pd.read_csv(filename)"
   ]
  },
  {
   "cell_type": "code",
   "execution_count": 7,
   "metadata": {},
   "outputs": [
    {
     "data": {
      "text/html": [
       "<div>\n",
       "<style scoped>\n",
       "    .dataframe tbody tr th:only-of-type {\n",
       "        vertical-align: middle;\n",
       "    }\n",
       "\n",
       "    .dataframe tbody tr th {\n",
       "        vertical-align: top;\n",
       "    }\n",
       "\n",
       "    .dataframe thead th {\n",
       "        text-align: right;\n",
       "    }\n",
       "</style>\n",
       "<table border=\"1\" class=\"dataframe\">\n",
       "  <thead>\n",
       "    <tr style=\"text-align: right;\">\n",
       "      <th></th>\n",
       "      <th>content</th>\n",
       "      <th>topic</th>\n",
       "      <th>id</th>\n",
       "    </tr>\n",
       "  </thead>\n",
       "  <tbody>\n",
       "    <tr>\n",
       "      <td>0</td>\n",
       "      <td>Mere Disagreement is Not a Personal Attack Thi...</td>\n",
       "      <td>Christianity</td>\n",
       "      <td>t3_dl986s</td>\n",
       "    </tr>\n",
       "    <tr>\n",
       "      <td>1</td>\n",
       "      <td>Chinese authorities raided church, forcibly re...</td>\n",
       "      <td>Christianity</td>\n",
       "      <td>t3_dl0lgm</td>\n",
       "    </tr>\n",
       "    <tr>\n",
       "      <td>2</td>\n",
       "      <td>Just learned that a prominent atheist redditor...</td>\n",
       "      <td>Christianity</td>\n",
       "      <td>t3_dla8rq</td>\n",
       "    </tr>\n",
       "    <tr>\n",
       "      <td>3</td>\n",
       "      <td>Jesus loves you and wants you to be joyful Joh...</td>\n",
       "      <td>Christianity</td>\n",
       "      <td>t3_dl7z2c</td>\n",
       "    </tr>\n",
       "    <tr>\n",
       "      <td>4</td>\n",
       "      <td>I’m an atheist, but want to be a Christian. Ca...</td>\n",
       "      <td>Christianity</td>\n",
       "      <td>t3_dl8rp2</td>\n",
       "    </tr>\n",
       "    <tr>\n",
       "      <td>...</td>\n",
       "      <td>...</td>\n",
       "      <td>...</td>\n",
       "      <td>...</td>\n",
       "    </tr>\n",
       "    <tr>\n",
       "      <td>3769</td>\n",
       "      <td>$1,425 Jesus Shoes Sell Out in One Minute But ...</td>\n",
       "      <td>atheism</td>\n",
       "      <td>t3_dgphwd</td>\n",
       "    </tr>\n",
       "    <tr>\n",
       "      <td>3770</td>\n",
       "      <td>Living with religious parents and afraid of be...</td>\n",
       "      <td>atheism</td>\n",
       "      <td>t3_dgmqgl</td>\n",
       "    </tr>\n",
       "    <tr>\n",
       "      <td>3771</td>\n",
       "      <td>Street Epistemology: Talking about why it's im...</td>\n",
       "      <td>atheism</td>\n",
       "      <td>t3_dgo2yg</td>\n",
       "    </tr>\n",
       "    <tr>\n",
       "      <td>3772</td>\n",
       "      <td>Imaginary friend debate Hi i really enjoy deba...</td>\n",
       "      <td>atheism</td>\n",
       "      <td>t3_dgtbbs</td>\n",
       "    </tr>\n",
       "    <tr>\n",
       "      <td>3773</td>\n",
       "      <td>O'Rourke: Religious institutions should lose t...</td>\n",
       "      <td>atheism</td>\n",
       "      <td>t3_dg9wtz</td>\n",
       "    </tr>\n",
       "  </tbody>\n",
       "</table>\n",
       "<p>3774 rows × 3 columns</p>\n",
       "</div>"
      ],
      "text/plain": [
       "                                                content         topic  \\\n",
       "0     Mere Disagreement is Not a Personal Attack Thi...  Christianity   \n",
       "1     Chinese authorities raided church, forcibly re...  Christianity   \n",
       "2     Just learned that a prominent atheist redditor...  Christianity   \n",
       "3     Jesus loves you and wants you to be joyful Joh...  Christianity   \n",
       "4     I’m an atheist, but want to be a Christian. Ca...  Christianity   \n",
       "...                                                 ...           ...   \n",
       "3769  $1,425 Jesus Shoes Sell Out in One Minute But ...       atheism   \n",
       "3770  Living with religious parents and afraid of be...       atheism   \n",
       "3771  Street Epistemology: Talking about why it's im...       atheism   \n",
       "3772  Imaginary friend debate Hi i really enjoy deba...       atheism   \n",
       "3773  O'Rourke: Religious institutions should lose t...       atheism   \n",
       "\n",
       "             id  \n",
       "0     t3_dl986s  \n",
       "1     t3_dl0lgm  \n",
       "2     t3_dla8rq  \n",
       "3     t3_dl7z2c  \n",
       "4     t3_dl8rp2  \n",
       "...         ...  \n",
       "3769  t3_dgphwd  \n",
       "3770  t3_dgmqgl  \n",
       "3771  t3_dgo2yg  \n",
       "3772  t3_dgtbbs  \n",
       "3773  t3_dg9wtz  \n",
       "\n",
       "[3774 rows x 3 columns]"
      ]
     },
     "execution_count": 7,
     "metadata": {},
     "output_type": "execute_result"
    }
   ],
   "source": [
    "reddit_df"
   ]
  },
  {
   "cell_type": "code",
   "execution_count": 8,
   "metadata": {},
   "outputs": [],
   "source": [
    "# Remove any duplicates if there are any\n",
    "reddit_df = reddit_df[~reddit_df.duplicated(subset='id')]"
   ]
  },
  {
   "cell_type": "code",
   "execution_count": 9,
   "metadata": {},
   "outputs": [],
   "source": [
    "# Remove id column\n",
    "reddit_df = reddit_df[['content','topic']]"
   ]
  },
  {
   "cell_type": "code",
   "execution_count": 10,
   "metadata": {},
   "outputs": [
    {
     "data": {
      "text/plain": [
       "(2223, 2)"
      ]
     },
     "execution_count": 10,
     "metadata": {},
     "output_type": "execute_result"
    }
   ],
   "source": [
    "# Get the shape of the dataframe\n",
    "reddit_df.shape"
   ]
  },
  {
   "cell_type": "code",
   "execution_count": 11,
   "metadata": {},
   "outputs": [
    {
     "data": {
      "text/html": [
       "<div>\n",
       "<style scoped>\n",
       "    .dataframe tbody tr th:only-of-type {\n",
       "        vertical-align: middle;\n",
       "    }\n",
       "\n",
       "    .dataframe tbody tr th {\n",
       "        vertical-align: top;\n",
       "    }\n",
       "\n",
       "    .dataframe thead th {\n",
       "        text-align: right;\n",
       "    }\n",
       "</style>\n",
       "<table border=\"1\" class=\"dataframe\">\n",
       "  <thead>\n",
       "    <tr style=\"text-align: right;\">\n",
       "      <th></th>\n",
       "      <th>content</th>\n",
       "    </tr>\n",
       "    <tr>\n",
       "      <th>topic</th>\n",
       "      <th></th>\n",
       "    </tr>\n",
       "  </thead>\n",
       "  <tbody>\n",
       "    <tr>\n",
       "      <td>Christianity</td>\n",
       "      <td>1162</td>\n",
       "    </tr>\n",
       "    <tr>\n",
       "      <td>atheism</td>\n",
       "      <td>1061</td>\n",
       "    </tr>\n",
       "  </tbody>\n",
       "</table>\n",
       "</div>"
      ],
      "text/plain": [
       "              content\n",
       "topic                \n",
       "Christianity     1162\n",
       "atheism          1061"
      ]
     },
     "execution_count": 11,
     "metadata": {},
     "output_type": "execute_result"
    }
   ],
   "source": [
    "# Show data from each class\n",
    "reddit_df.groupby(by='topic').count()"
   ]
  },
  {
   "cell_type": "markdown",
   "metadata": {},
   "source": [
    "There is a slight imbalance of the observations between the two classes, thus we will stratify the topic when splitting the data."
   ]
  },
  {
   "cell_type": "markdown",
   "metadata": {},
   "source": [
    "## EDA: Exploring the dataset"
   ]
  },
  {
   "cell_type": "code",
   "execution_count": 18,
   "metadata": {},
   "outputs": [],
   "source": [
    "from skimage import color\n",
    "from skimage import io\n",
    "from PIL import Image\n",
    "from wordcloud import WordCloud, STOPWORDS, ImageColorGenerator\n",
    "from matplotlib import pyplot as plt\n",
    "import nltk\n",
    "# nltk.download('punkt')\n",
    "from nltk.corpus import stopwords\n",
    "# Buid a WordNetLemmatizer class to be fed into the CountVectorizer's pipeline\n",
    "\n",
    "def get_wordcloud(series,max_words=30, mask_img='jesus_2.jpg'):\n",
    "    mask = color.rgb2gray(io.imread(mask_img))\n",
    "    transformed_mask = np.array([ [ 0 if x < 1 else 255 for x in row ] for row in mask  ], dtype=int)\n",
    "    \n",
    "    wcloud = WordCloud(stopwords= set(stopwords.words(\"english\")), max_words=max_words, background_color='white' , mask = transformed_mask\n",
    "                  ).generate(series.str.cat(sep=' '))\n",
    "\n",
    "    fig, ax = plt.subplots(figsize=(12, 12))\n",
    "    ax.imshow(wcloud, interpolation='bilinear')\n",
    "    plt.axis('off');\n",
    "    "
   ]
  },
  {
   "cell_type": "markdown",
   "metadata": {},
   "source": [
    "### Word cloud for first category"
   ]
  },
  {
   "cell_type": "code",
   "execution_count": 19,
   "metadata": {
    "scrolled": false
   },
   "outputs": [
    {
     "data": {
      "image/png": "[encoded data removed]",
      "text/plain": [
       "<Figure size 864x864 with 1 Axes>"
      ]
     },
     "metadata": {
      "needs_background": "light"
     },
     "output_type": "display_data"
    }
   ],
   "source": [
    "get_wordcloud(reddit_df[reddit_df['topic'] == reddit_df['topic'].unique()[0]]['content'],max_words=25)"
   ]
  },
  {
   "cell_type": "markdown",
   "metadata": {},
   "source": [
    "### Word cloud for second category"
   ]
  },
  {
   "cell_type": "code",
   "execution_count": 20,
   "metadata": {},
   "outputs": [
    {
     "data": {
      "image/png": "[encoded data removed]",
      "text/plain": [
       "<Figure size 864x864 with 1 Axes>"
      ]
     },
     "metadata": {
      "needs_background": "light"
     },
     "output_type": "display_data"
    }
   ],
   "source": [
    "get_wordcloud(reddit_df[reddit_df['topic'] == reddit_df['topic'].unique()[1]]['content'])"
   ]
  },
  {
   "cell_type": "markdown",
   "metadata": {},
   "source": [
    "## Feature Engineering : Train test split"
   ]
  },
  {
   "cell_type": "markdown",
   "metadata": {},
   "source": [
    "### Creating X and y"
   ]
  },
  {
   "cell_type": "code",
   "execution_count": 12,
   "metadata": {},
   "outputs": [],
   "source": [
    "# One hot encode the target class\n",
    "if filename=='reddit_scrape_docs_legal.csv':\n",
    "    y = reddit_df['topic'].map(lambda x : 1 if x == 'AskDocs' else 0 )\n",
    "if filename == 'reddit_atheism_christianity.csv':\n",
    "    y = reddit_df['topic'].map(lambda x : 1 if x == 'Christianity' else 0 )\n"
   ]
  },
  {
   "cell_type": "code",
   "execution_count": 13,
   "metadata": {},
   "outputs": [],
   "source": [
    "# Create X\n",
    "X = reddit_df['content']"
   ]
  },
  {
   "cell_type": "code",
   "execution_count": 14,
   "metadata": {},
   "outputs": [],
   "source": [
    "from sklearn.model_selection import train_test_split\n",
    "X_train_1, X_test, y_train_1, y_test = train_test_split(X, y, test_size=0.2, random_state=42, stratify=y)"
   ]
  },
  {
   "cell_type": "code",
   "execution_count": 15,
   "metadata": {},
   "outputs": [
    {
     "name": "stdout",
     "output_type": "stream",
     "text": [
      "X_train_1:(1778,) y_train:(1778,) X_test:(445,) y_test:(445,)\n"
     ]
    }
   ],
   "source": [
    "print(f'X_train_1:{X_train_1.shape} y_train:{y_train_1.shape} X_test:{X_test.shape} y_test:{y_test.shape}')"
   ]
  },
  {
   "cell_type": "code",
   "execution_count": 16,
   "metadata": {},
   "outputs": [
    {
     "name": "stdout",
     "output_type": "stream",
     "text": [
      "X_train:(1422,) y_train:(1422,)\n",
      "X_val:(356,) y_val:(356,) \n",
      "X_test:(445,) y_test:(445,)\n"
     ]
    }
   ],
   "source": [
    "# Futher split X_train to obtain validation set\n",
    "from sklearn.model_selection import train_test_split\n",
    "X_train, X_val, y_train, y_val = train_test_split(X_train_1, y_train_1, test_size=0.2, random_state=42, stratify=y_train_1)\n",
    "print(f'X_train:{X_train.shape} y_train:{y_train.shape}\\nX_val:{X_val.shape} y_val:{y_val.shape} \\\n",
    "\\nX_test:{X_test.shape} y_test:{y_test.shape}')"
   ]
  },
  {
   "cell_type": "code",
   "execution_count": 17,
   "metadata": {
    "scrolled": false
   },
   "outputs": [
    {
     "name": "stdout",
     "output_type": "stream",
     "text": [
      "y_train distribution:\n",
      "1    0.522504\n",
      "0    0.477496\n",
      "Name: topic, dtype: float64\n",
      "y_val distribution:\n",
      "1    0.522472\n",
      "0    0.477528\n",
      "Name: topic, dtype: float64\n",
      "y_test distribution:\n",
      "1    0.523596\n",
      "0    0.476404\n",
      "Name: topic, dtype: float64\n"
     ]
    }
   ],
   "source": [
    "# Check the distributions of y_train, y_val, y_test\n",
    "print(f'y_train distribution:\\n{y_train.value_counts(normalize=True)}')\n",
    "print(f'y_val distribution:\\n{y_val.value_counts(normalize=True)}')\n",
    "print(f'y_test distribution:\\n{y_test.value_counts(normalize=True)}')\n",
    "# It appears that the distribution of target classes are equal in all three classes"
   ]
  },
  {
   "cell_type": "markdown",
   "metadata": {},
   "source": [
    "### Baseline accuracy"
   ]
  },
  {
   "cell_type": "code",
   "execution_count": 21,
   "metadata": {
    "scrolled": false
   },
   "outputs": [
    {
     "data": {
      "text/plain": [
       "Christianity    0.522717\n",
       "atheism         0.477283\n",
       "Name: topic, dtype: float64"
      ]
     },
     "execution_count": 21,
     "metadata": {},
     "output_type": "execute_result"
    }
   ],
   "source": [
    "reddit_df['topic'].value_counts(normalize=True)"
   ]
  },
  {
   "cell_type": "markdown",
   "metadata": {},
   "source": [
    "## NLP Pipeline"
   ]
  },
  {
   "cell_type": "markdown",
   "metadata": {},
   "source": [
    "### Tokenizing, Stemming/Lemming and Vectorization"
   ]
  },
  {
   "cell_type": "markdown",
   "metadata": {},
   "source": [
    "We will embed the NLP pre-processing steps right into sklearn's count vectorizer and ti-df vectorizer"
   ]
  },
  {
   "cell_type": "code",
   "execution_count": 22,
   "metadata": {},
   "outputs": [],
   "source": [
    "from sklearn.pipeline import Pipeline\n",
    "from sklearn.feature_extraction.text import CountVectorizer, TfidfVectorizer\n",
    "cvec = CountVectorizer()\n",
    "\n",
    "from sklearn.linear_model import LogisticRegression\n",
    "logreg = LogisticRegression()\n",
    "\n",
    "from sklearn.model_selection import GridSearchCV"
   ]
  },
  {
   "cell_type": "code",
   "execution_count": 23,
   "metadata": {},
   "outputs": [],
   "source": [
    "# Create an array that will keep track of all models created in this notebook\n",
    "models_collection = dict()"
   ]
  },
  {
   "cell_type": "code",
   "execution_count": 68,
   "metadata": {},
   "outputs": [],
   "source": [
    "from sklearn.metrics import confusion_matrix\n",
    "from sklearn.metrics import roc_auc_score, roc_curve\n",
    "from matplotlib import pyplot as plt\n",
    "from sklearn.metrics import roc_auc_score\n",
    "\n",
    "def add_model_to_scoreboard(model_name, model):\n",
    "#     models_collection.add((model_name, model))\n",
    "    if models_collection.get(model_name):\n",
    "        print(f\"Warning, {model_name} is replaced.\")\n",
    "    models_collection[model_name] = model\n",
    "\n",
    "    \n",
    "def get_f1(conf):\n",
    "    tn, fp, fn, tp = conf.ravel()\n",
    "    precision= tp/(tp+fp)\n",
    "    sensitivity = tp/(tp+fn)\n",
    "    return 2*((precision*sensitivity)/(precision+sensitivity))\n",
    "    \n",
    "def get_precision(conf):\n",
    "    tn, fp, fn, tp = conf.ravel()\n",
    "    return tp/(tp+fp)\n",
    "\n",
    "def get_sensitivity(conf):\n",
    "    tn, fp, fn, tp = conf.ravel()\n",
    "    return tp / ( tp + fn )\n",
    "    \n",
    "def get_model_scoreboard(optimize_by='F1'):\n",
    "    training_scores =[]\n",
    "    val_scores=[]\n",
    "    model_names = []\n",
    "    auc_roc_scores = [] \n",
    "    f1_scores = []\n",
    "    precision_scores = []\n",
    "    sensitivity_scores = []\n",
    "    \n",
    "    for model_name, model in models_collection.items():\n",
    "        training_scores.append(model.score(X_train,y_train))\n",
    "        val_scores.append(model.score(X_val,y_val))\n",
    "        model_names.append(model_name)\n",
    "        \n",
    "        \n",
    "        # ROC Scores\n",
    "        pos_preds = model.predict_proba(X_val)[:,1]\n",
    "        roc_auc = roc_auc_score(y_val, pos_preds)\n",
    "        auc_roc_scores.append(roc_auc)\n",
    "        \n",
    "        # F1 Scores\n",
    "        #Confusion Matrix\n",
    "        conf = confusion_matrix(y_val, model.predict(X_val))\n",
    "        f1_scores.append(get_f1(conf))\n",
    "        \n",
    "        precision_scores.append(get_precision(conf))\n",
    "        sensitivity_scores.append(get_sensitivity(conf))\n",
    "        \n",
    "    models = pd.DataFrame({'Model': model_names, 'Training Score': training_scores, 'Validation Score': val_scores,\n",
    "                          'Auc Roc': auc_roc_scores, 'Sensitivity/Recall': sensitivity_scores, \n",
    "                           'Precision': precision_scores , 'F1': f1_scores  })\n",
    "    models.sort_values(by=optimize_by, ascending=False, inplace=True)\n",
    "    best_estimator_name = models.iloc[0]['Model']\n",
    "    return {'df':models, 'best_estimator_': models_collection[best_estimator_name] }\n",
    "\n",
    "\n",
    "\n",
    "\n",
    "\n",
    "def get_scores(model):\n",
    "    train_score = model.score(X_train,y_train)\n",
    "    val_score = model.score(X_val,y_val)\n",
    "    print(f'Training Score: {train_score}')\n",
    "    print(f'Validation Score: {val_score}')\n",
    "    \n",
    "    #Confusion Matrix\n",
    "    conf = confusion_matrix(y_val, model.predict(X_val))\n",
    "    print(f\"Confusion Matrix:\\n{conf}\")\n",
    "    tn, fp , fn , tp = conf.ravel()\n",
    "    specificity = tn / (tn + fp)\n",
    "    sensitivity = tp / (tp + fn)\n",
    "    print(f\"Specificity: {specificity}\")\n",
    "    print(f\"Sensitivity: {sensitivity}\")\n",
    "    \n",
    "    precision = tp/(tp+fp)\n",
    "    print(f\"Precision: {precision}\")\n",
    "    \n",
    "    preds = model.predict_proba(X_val)\n",
    "    preds = [ x[1] for x in preds]\n",
    "\n",
    "    scores_df = pd.DataFrame({'y': y_val , 'y_pred': preds })\n",
    "    \n",
    "    \n",
    "    roc_auc = roc_auc_score(y_val, scores_df['y_pred'])\n",
    "    print(f\"Area under ROC curve: {roc_auc}\")\n",
    "    \n",
    "    #f1 score\n",
    "    f1 = get_f1(conf)\n",
    "    print(f\"F1 score: {f1}\")\n",
    "    \n",
    "    return {'confusion':conf, 'train':train_score,'val':val_score, 'specificity': specificity, 'sensitivity' : sensitivity,\n",
    "            'precision':precision, 'roc_auc_score': roc_auc, 'f1': f1}\n",
    "    "
   ]
  },
  {
   "cell_type": "code",
   "execution_count": 25,
   "metadata": {},
   "outputs": [],
   "source": [
    "from sklearn.metrics import roc_curve\n",
    "def get_roc_curve(model):\n",
    "    pos_preds = model.predict_proba(X_val)[:,1]\n",
    "    fpr, tpr, thresholds = roc_curve(y_val, pos_preds, pos_label=1)\n",
    "    \n",
    "    plt.figure(figsize=(14,8))\n",
    "    # Plot ROC curve\n",
    "    plt.plot(fpr,tpr, label='ROC Curve')\n",
    "    plt.plot([0,1],[0,1], linestyle='--', label='baseline')\n",
    "\n",
    "    # Label axes.\n",
    "    plt.title(f\"ROC Curve with AUC = {round(roc_auc_score(y_val, pos_preds),3)}\", fontsize=22)\n",
    "    plt.ylabel('Sensitivity (True Positive Rate)', fontsize=18)\n",
    "    plt.xlabel('1 - Specificity (False Positive Rate)', fontsize=18)\n",
    "\n",
    "    # Create legend.\n",
    "    plt.legend(fontsize=16);\n"
   ]
  },
  {
   "cell_type": "code",
   "execution_count": 26,
   "metadata": {},
   "outputs": [],
   "source": [
    "def get_probability_dist(model):\n",
    "    preds = model.predict_proba(X_val)\n",
    "    preds = [ x[1] for x in preds]\n",
    "\n",
    "    scores_df = pd.DataFrame({'y': y_val , 'y_pred': preds })\n",
    "    # Showing the distribution of y_pred when y == 1\n",
    "    scores_df[scores_df['y'] == 1]\n",
    "\n",
    "    fig,ax = plt.subplots(figsize=(15,9))\n",
    "    # When outcome = 1 \n",
    "    ax.hist(data=scores_df[scores_df['y'] == 1], x='y_pred', color='g', alpha=0.5, label=\"Outcome = 1\", bins=25);\n",
    "\n",
    "    #When outcome = 0\n",
    "    ax.hist(data=scores_df[scores_df['y'] == 0], x='y_pred', color='r', alpha=0.5, label=\"Outcome = 0\", bins=25);\n",
    "    ax.legend(fontsize=20)\n",
    "    \n",
    "    ax.vlines(x=0.5, ymin=0, ymax = scores_df.shape[0]*0.15, color='b',linestyle ='--')\n",
    "    \n",
    "    \n",
    "    ax.set_title(\"Distribution of Probalities\")\n",
    "    ax.set_xlabel(\"Predicted Probabilities \")\n",
    "    ax.set_ylabel(\"Frequency\")\n",
    "    return ax"
   ]
  },
  {
   "cell_type": "code",
   "execution_count": 150,
   "metadata": {},
   "outputs": [],
   "source": [
    "# Instantiate stemmer.\n",
    "from nltk.stem.porter import PorterStemmer\n",
    "\n",
    "from nltk import word_tokenize\n",
    "from nltk.stem import WordNetLemmatizer\n",
    "\n",
    "\n",
    "class LemmaTokenizer(object):\n",
    "    def __init__(self):\n",
    "        self.wnl = WordNetLemmatizer()\n",
    "    def __call__(self, doc):\n",
    "        return [ self.wnl.lemmatize(t) for t in word_tokenize(doc) if t.isalpha()]\n",
    "    \n",
    "class PorterTokenizer(object):\n",
    "    def __init__(self):\n",
    "        self.porter = PorterStemmer()\n",
    "    def __call__(self, doc):\n",
    "        return [ self.porter.stem(t) for t in word_tokenize(doc) if t.isalpha() ]"
   ]
  },
  {
   "cell_type": "code",
   "execution_count": 152,
   "metadata": {},
   "outputs": [
    {
     "data": {
      "text/plain": [
       "['hello', 'test']"
      ]
     },
     "execution_count": 152,
     "metadata": {},
     "output_type": "execute_result"
    }
   ],
   "source": [
    "test_text = \"!@!, hello test\"\n",
    "porter_t = PorterTokenizer()\n",
    "porter_t.__call__(test_text)\n",
    "\n",
    "\n",
    "lemma_t = LemmaTokenizer()\n",
    "lemma_t.__call__(test_text)"
   ]
  },
  {
   "cell_type": "code",
   "execution_count": 87,
   "metadata": {},
   "outputs": [],
   "source": [
    "def get_best_params(model, param_filter=None ):\n",
    "    if not param_filter:\n",
    "        param_filter = [ param for param in model.best_params_.keys() if param != 'cvec__stop_words']\n",
    "    return [  f\"{k} : {v}\" for k,v in  model.best_params_.items() if k in param_filter ]"
   ]
  },
  {
   "cell_type": "code",
   "execution_count": 29,
   "metadata": {},
   "outputs": [],
   "source": [
    "# Create porter tokenized stop words\n",
    "pt = PorterTokenizer()\n",
    "porter_tokenized_stopwords = list(set(pt.__call__(\" \".join([s for s in stopwords.words(\"english\") + reddit_topics ])))) \n",
    "\n",
    "# Obtain the list of stopwords from NLTK english corpora and also include the words in the topic itself as a stopword.\n",
    "# The stopwords will be tokenized and stemmed (including the two topic words) and removed before training "
   ]
  },
  {
   "cell_type": "code",
   "execution_count": 30,
   "metadata": {},
   "outputs": [],
   "source": [
    "# Create lemma tokenized stop words\n",
    "lt = LemmaTokenizer()\n",
    "lemma_tokenized_stopwords = list(set([pt.__call__(x)[0] for x in stopwords.words(\"english\") + reddit_topics ] )) \n",
    "# The stopwords will be tokenized and lemmatized (including the two topic words) and removed before training "
   ]
  },
  {
   "cell_type": "markdown",
   "metadata": {},
   "source": [
    "### Model 1 : Count Vectorizer - Lemmatizer - Logistic Regression"
   ]
  },
  {
   "cell_type": "code",
   "execution_count": 31,
   "metadata": {},
   "outputs": [],
   "source": [
    "cvec_logreg_pipeline = Pipeline(steps=[('cvec', cvec),('logreg',logreg)])\n",
    "# Show the parameters\n",
    "# cvec_logreg_pipeline.get_params()"
   ]
  },
  {
   "cell_type": "code",
   "execution_count": 32,
   "metadata": {},
   "outputs": [],
   "source": [
    "cvec_lemma_logreg_params = {'cvec__tokenizer': [LemmaTokenizer()],\n",
    "    'cvec__stop_words':[lemma_tokenized_stopwords], 'cvec__max_df':[0.7, 1.0], 'cvec__ngram_range':[(1,3)],\n",
    "                      'logreg__solver':['liblinear'],'logreg__C':[1,10], 'logreg__penalty':['l1','l2']\n",
    "}\n",
    "\n",
    "cvec_lemma_logreg_gscv = GridSearchCV(cvec_logreg_pipeline, cvec_lemma_logreg_params, cv=5)\n",
    "cvec_lemma_logreg_gscv.fit(X_train,y_train);\n",
    "\n",
    "add_model_to_scoreboard('Count Vectorizer- Lemmatizer - Logistic Regression Model', cvec_lemma_logreg_gscv)"
   ]
  },
  {
   "cell_type": "markdown",
   "metadata": {},
   "source": [
    "#### Scores and best parameters obtained from Grid Search based on this dataset is:"
   ]
  },
  {
   "cell_type": "code",
   "execution_count": 33,
   "metadata": {
    "scrolled": false
   },
   "outputs": [
    {
     "name": "stdout",
     "output_type": "stream",
     "text": [
      "Training Score: 0.9985935302390999\n",
      "Validation Score: 0.8117977528089888\n",
      "Confusion Matrix:\n",
      "[[135  35]\n",
      " [ 32 154]]\n",
      "Specificity: 0.7941176470588235\n",
      "Sensitivity: 0.8279569892473119\n",
      "Area under ROC curve: 0.8728810879190386\n",
      "F1 score: 0.8213333333333332\n"
     ]
    },
    {
     "data": {
      "text/plain": [
       "{'confusion': array([[135,  35],\n",
       "        [ 32, 154]], dtype=int64),\n",
       " 'train': 0.9985935302390999,\n",
       " 'val': 0.8117977528089888,\n",
       " 'specificity': 0.7941176470588235,\n",
       " 'sensitivity': 0.8279569892473119,\n",
       " 'roc_auc_score': 0.8728810879190386,\n",
       " 'f1': 0.8213333333333332}"
      ]
     },
     "execution_count": 33,
     "metadata": {},
     "output_type": "execute_result"
    }
   ],
   "source": [
    "get_scores(cvec_lemma_logreg_gscv)"
   ]
  },
  {
   "cell_type": "markdown",
   "metadata": {},
   "source": [
    "### Model 2 : Count Vectorizer - Porter Stemmer - Logistic Regression"
   ]
  },
  {
   "cell_type": "code",
   "execution_count": 36,
   "metadata": {},
   "outputs": [
    {
     "name": "stderr",
     "output_type": "stream",
     "text": [
      "C:\\Users\\User\\Anaconda3\\envs\\dsi\\lib\\site-packages\\sklearn\\feature_extraction\\text.py:300: UserWarning: Your stop_words may be inconsistent with your preprocessing. Tokenizing the stop words generated tokens ['becau'] not in stop_words.\n",
      "  'stop_words.' % sorted(inconsistent))\n",
      "C:\\Users\\User\\Anaconda3\\envs\\dsi\\lib\\site-packages\\sklearn\\feature_extraction\\text.py:300: UserWarning: Your stop_words may be inconsistent with your preprocessing. Tokenizing the stop words generated tokens ['becau'] not in stop_words.\n",
      "  'stop_words.' % sorted(inconsistent))\n",
      "C:\\Users\\User\\Anaconda3\\envs\\dsi\\lib\\site-packages\\sklearn\\feature_extraction\\text.py:300: UserWarning: Your stop_words may be inconsistent with your preprocessing. Tokenizing the stop words generated tokens ['becau'] not in stop_words.\n",
      "  'stop_words.' % sorted(inconsistent))\n",
      "C:\\Users\\User\\Anaconda3\\envs\\dsi\\lib\\site-packages\\sklearn\\feature_extraction\\text.py:300: UserWarning: Your stop_words may be inconsistent with your preprocessing. Tokenizing the stop words generated tokens ['becau'] not in stop_words.\n",
      "  'stop_words.' % sorted(inconsistent))\n",
      "C:\\Users\\User\\Anaconda3\\envs\\dsi\\lib\\site-packages\\sklearn\\feature_extraction\\text.py:300: UserWarning: Your stop_words may be inconsistent with your preprocessing. Tokenizing the stop words generated tokens ['becau'] not in stop_words.\n",
      "  'stop_words.' % sorted(inconsistent))\n",
      "C:\\Users\\User\\Anaconda3\\envs\\dsi\\lib\\site-packages\\sklearn\\feature_extraction\\text.py:300: UserWarning: Your stop_words may be inconsistent with your preprocessing. Tokenizing the stop words generated tokens ['becau'] not in stop_words.\n",
      "  'stop_words.' % sorted(inconsistent))\n",
      "C:\\Users\\User\\Anaconda3\\envs\\dsi\\lib\\site-packages\\sklearn\\feature_extraction\\text.py:300: UserWarning: Your stop_words may be inconsistent with your preprocessing. Tokenizing the stop words generated tokens ['becau'] not in stop_words.\n",
      "  'stop_words.' % sorted(inconsistent))\n",
      "C:\\Users\\User\\Anaconda3\\envs\\dsi\\lib\\site-packages\\sklearn\\feature_extraction\\text.py:300: UserWarning: Your stop_words may be inconsistent with your preprocessing. Tokenizing the stop words generated tokens ['becau'] not in stop_words.\n",
      "  'stop_words.' % sorted(inconsistent))\n",
      "C:\\Users\\User\\Anaconda3\\envs\\dsi\\lib\\site-packages\\sklearn\\feature_extraction\\text.py:300: UserWarning: Your stop_words may be inconsistent with your preprocessing. Tokenizing the stop words generated tokens ['becau'] not in stop_words.\n",
      "  'stop_words.' % sorted(inconsistent))\n",
      "C:\\Users\\User\\Anaconda3\\envs\\dsi\\lib\\site-packages\\sklearn\\feature_extraction\\text.py:300: UserWarning: Your stop_words may be inconsistent with your preprocessing. Tokenizing the stop words generated tokens ['becau'] not in stop_words.\n",
      "  'stop_words.' % sorted(inconsistent))\n",
      "C:\\Users\\User\\Anaconda3\\envs\\dsi\\lib\\site-packages\\sklearn\\feature_extraction\\text.py:300: UserWarning: Your stop_words may be inconsistent with your preprocessing. Tokenizing the stop words generated tokens ['becau'] not in stop_words.\n",
      "  'stop_words.' % sorted(inconsistent))\n"
     ]
    }
   ],
   "source": [
    "cvec_logreg_params = { 'cvec__tokenizer' : [PorterTokenizer()],\n",
    "    'cvec__stop_words':[porter_tokenized_stopwords] + ['becau'], 'cvec__max_df':[0.7, 1.0], 'cvec__ngram_range':[(1,3)],\n",
    "                      'logreg__solver':['liblinear']\n",
    "}\n",
    "\n",
    "\n",
    "cvec_logreg_gscv = GridSearchCV(cvec_logreg_pipeline, cvec_logreg_params, cv=5)\n",
    "cvec_logreg_gscv.fit(X_train,y_train);\n",
    "\n",
    "add_model_to_scoreboard('Count Vectorizer- PorterStemmer - Logistic Regression Model', cvec_logreg_gscv)"
   ]
  },
  {
   "cell_type": "code",
   "execution_count": 37,
   "metadata": {},
   "outputs": [
    {
     "name": "stdout",
     "output_type": "stream",
     "text": [
      "Training Score: 0.9985935302390999\n",
      "Validation Score: 0.8202247191011236\n",
      "Confusion Matrix:\n",
      "[[136  34]\n",
      " [ 30 156]]\n",
      "Specificity: 0.8\n",
      "Sensitivity: 0.8387096774193549\n",
      "Area under ROC curve: 0.8799968374446552\n",
      "F1 score: 0.8297872340425532\n"
     ]
    },
    {
     "data": {
      "text/plain": [
       "{'confusion': array([[136,  34],\n",
       "        [ 30, 156]], dtype=int64),\n",
       " 'train': 0.9985935302390999,\n",
       " 'val': 0.8202247191011236,\n",
       " 'specificity': 0.8,\n",
       " 'sensitivity': 0.8387096774193549,\n",
       " 'roc_auc_score': 0.8799968374446552,\n",
       " 'f1': 0.8297872340425532}"
      ]
     },
     "execution_count": 37,
     "metadata": {},
     "output_type": "execute_result"
    }
   ],
   "source": [
    "get_scores(cvec_logreg_gscv)"
   ]
  },
  {
   "cell_type": "markdown",
   "metadata": {},
   "source": [
    "### Model 3 : Count Vectorizer - Lemmatizer - Multinomial Naive Bayes"
   ]
  },
  {
   "cell_type": "code",
   "execution_count": 38,
   "metadata": {},
   "outputs": [],
   "source": [
    "from sklearn.naive_bayes import MultinomialNB\n",
    "mnb = MultinomialNB()"
   ]
  },
  {
   "cell_type": "code",
   "execution_count": 39,
   "metadata": {},
   "outputs": [],
   "source": [
    "cvec_nb_pipeline = Pipeline(steps=[('cvec', cvec),('mnb',mnb)])\n",
    "# Show the parameters\n",
    "# cvec_nb_pipeline.get_params()"
   ]
  },
  {
   "cell_type": "code",
   "execution_count": 40,
   "metadata": {},
   "outputs": [],
   "source": [
    "cvec_lemma_nb_params = { 'cvec__tokenizer':[LemmaTokenizer()], 'cvec__stop_words':[lemma_tokenized_stopwords],\n",
    "     'cvec__max_df':[0.7, 1.0 ], 'cvec__ngram_range':[(1,3)]           \n",
    "}\n",
    "\n",
    "cvec_lemma_nb_gs = GridSearchCV(cvec_nb_pipeline, cvec_lemma_nb_params, cv=5 )\n",
    "cvec_lemma_nb_gs.fit(X_train,y_train)\n",
    "\n",
    "add_model_to_scoreboard('Count Vectorizer - Lemmatizer - MultinomialNB', cvec_lemma_nb_gs)"
   ]
  },
  {
   "cell_type": "markdown",
   "metadata": {},
   "source": [
    "### Model 4 : TF-IDF - Lemmatizer - Multinomial Naive Bayes"
   ]
  },
  {
   "cell_type": "code",
   "execution_count": 43,
   "metadata": {},
   "outputs": [],
   "source": [
    "# Instantiate tf-idf vectorizer\n",
    "tvec = TfidfVectorizer()"
   ]
  },
  {
   "cell_type": "code",
   "execution_count": 75,
   "metadata": {},
   "outputs": [
    {
     "data": {
      "text/plain": [
       "{'memory': None,\n",
       " 'steps': [('tvec',\n",
       "   TfidfVectorizer(analyzer='word', binary=False, decode_error='strict',\n",
       "                   dtype=<class 'numpy.float64'>, encoding='utf-8',\n",
       "                   input='content', lowercase=True, max_df=1.0, max_features=90,\n",
       "                   min_df=1, ngram_range=(1, 1), norm='l2', preprocessor=None,\n",
       "                   smooth_idf=True, stop_words=None, strip_accents=None,\n",
       "                   sublinear_tf=False, token_pattern='(?u)\\\\b\\\\w\\\\w+\\\\b',\n",
       "                   tokenizer=None, use_idf=True, vocabulary=None)),\n",
       "  ('mnb', MultinomialNB(alpha=1.0, class_prior=None, fit_prior=True))],\n",
       " 'verbose': False,\n",
       " 'tvec': TfidfVectorizer(analyzer='word', binary=False, decode_error='strict',\n",
       "                 dtype=<class 'numpy.float64'>, encoding='utf-8',\n",
       "                 input='content', lowercase=True, max_df=1.0, max_features=90,\n",
       "                 min_df=1, ngram_range=(1, 1), norm='l2', preprocessor=None,\n",
       "                 smooth_idf=True, stop_words=None, strip_accents=None,\n",
       "                 sublinear_tf=False, token_pattern='(?u)\\\\b\\\\w\\\\w+\\\\b',\n",
       "                 tokenizer=None, use_idf=True, vocabulary=None),\n",
       " 'mnb': MultinomialNB(alpha=1.0, class_prior=None, fit_prior=True),\n",
       " 'tvec__analyzer': 'word',\n",
       " 'tvec__binary': False,\n",
       " 'tvec__decode_error': 'strict',\n",
       " 'tvec__dtype': numpy.float64,\n",
       " 'tvec__encoding': 'utf-8',\n",
       " 'tvec__input': 'content',\n",
       " 'tvec__lowercase': True,\n",
       " 'tvec__max_df': 1.0,\n",
       " 'tvec__max_features': 90,\n",
       " 'tvec__min_df': 1,\n",
       " 'tvec__ngram_range': (1, 1),\n",
       " 'tvec__norm': 'l2',\n",
       " 'tvec__preprocessor': None,\n",
       " 'tvec__smooth_idf': True,\n",
       " 'tvec__stop_words': None,\n",
       " 'tvec__strip_accents': None,\n",
       " 'tvec__sublinear_tf': False,\n",
       " 'tvec__token_pattern': '(?u)\\\\b\\\\w\\\\w+\\\\b',\n",
       " 'tvec__tokenizer': None,\n",
       " 'tvec__use_idf': True,\n",
       " 'tvec__vocabulary': None,\n",
       " 'mnb__alpha': 1.0,\n",
       " 'mnb__class_prior': None,\n",
       " 'mnb__fit_prior': True}"
      ]
     },
     "execution_count": 75,
     "metadata": {},
     "output_type": "execute_result"
    }
   ],
   "source": [
    "tfidf_lemmatizer_nb_pipeline = Pipeline(steps=[('tvec', tvec),('mnb',mnb)])\n",
    "tfidf_lemmatizer_nb_pipeline.get_params()"
   ]
  },
  {
   "cell_type": "code",
   "execution_count": 45,
   "metadata": {},
   "outputs": [],
   "source": [
    "# Create grid search parameters\n",
    "tfidf_lemmatizer_nb_params = {\n",
    "    'tvec__tokenizer':[LemmaTokenizer()], 'tvec__stop_words': [lemma_tokenized_stopwords],\n",
    "    'tvec__min_df':[1, 10 ], 'tvec__max_df':[0.7, 1.0],'tvec__ngram_range':[(1,2)], \n",
    "    'tvec__max_features':[1000, 3000]\n",
    "}\n",
    "\n",
    "# Create grid search for tfidf lemmatizer\n",
    "tfidf_lemmatizer_nb_gs = GridSearchCV(tfidf_lemmatizer_nb_pipeline, tfidf_lemmatizer_nb_params, cv=5 )\n",
    "tfidf_lemmatizer_nb_gs.fit(X_train,y_train)\n",
    "add_model_to_scoreboard('Tf-Idf - Lemmatizer - MultinomialNB', tfidf_lemmatizer_nb_gs)"
   ]
  },
  {
   "cell_type": "markdown",
   "metadata": {},
   "source": [
    "Notes:\n",
    "- tvec_max_features \n",
    "    - 8000 > None , 5000\n",
    "    - 3000 > 1000\n",
    "- tvec__min_df\n",
    "    - 1 > 50, 10\n",
    "- tvec__max_df\n",
    "    - 1.0 > 0.7\n",
    "- tvec__ngrams:\n",
    "    - (1,2) > (1,3)"
   ]
  },
  {
   "cell_type": "code",
   "execution_count": 76,
   "metadata": {},
   "outputs": [
    {
     "name": "stderr",
     "output_type": "stream",
     "text": [
      "C:\\Users\\User\\Anaconda3\\envs\\dsi\\lib\\site-packages\\sklearn\\naive_bayes.py:485: UserWarning: alpha too small will result in numeric errors, setting alpha = 1.0e-10\n",
      "  'setting alpha = %.1e' % _ALPHA_MIN)\n",
      "C:\\Users\\User\\Anaconda3\\envs\\dsi\\lib\\site-packages\\sklearn\\naive_bayes.py:485: UserWarning: alpha too small will result in numeric errors, setting alpha = 1.0e-10\n",
      "  'setting alpha = %.1e' % _ALPHA_MIN)\n",
      "C:\\Users\\User\\Anaconda3\\envs\\dsi\\lib\\site-packages\\sklearn\\naive_bayes.py:485: UserWarning: alpha too small will result in numeric errors, setting alpha = 1.0e-10\n",
      "  'setting alpha = %.1e' % _ALPHA_MIN)\n",
      "C:\\Users\\User\\Anaconda3\\envs\\dsi\\lib\\site-packages\\sklearn\\naive_bayes.py:485: UserWarning: alpha too small will result in numeric errors, setting alpha = 1.0e-10\n",
      "  'setting alpha = %.1e' % _ALPHA_MIN)\n",
      "C:\\Users\\User\\Anaconda3\\envs\\dsi\\lib\\site-packages\\sklearn\\naive_bayes.py:485: UserWarning: alpha too small will result in numeric errors, setting alpha = 1.0e-10\n",
      "  'setting alpha = %.1e' % _ALPHA_MIN)\n",
      "C:\\Users\\User\\Anaconda3\\envs\\dsi\\lib\\site-packages\\sklearn\\naive_bayes.py:485: UserWarning: alpha too small will result in numeric errors, setting alpha = 1.0e-10\n",
      "  'setting alpha = %.1e' % _ALPHA_MIN)\n",
      "C:\\Users\\User\\Anaconda3\\envs\\dsi\\lib\\site-packages\\sklearn\\naive_bayes.py:485: UserWarning: alpha too small will result in numeric errors, setting alpha = 1.0e-10\n",
      "  'setting alpha = %.1e' % _ALPHA_MIN)\n",
      "C:\\Users\\User\\Anaconda3\\envs\\dsi\\lib\\site-packages\\sklearn\\naive_bayes.py:485: UserWarning: alpha too small will result in numeric errors, setting alpha = 1.0e-10\n",
      "  'setting alpha = %.1e' % _ALPHA_MIN)\n",
      "C:\\Users\\User\\Anaconda3\\envs\\dsi\\lib\\site-packages\\sklearn\\naive_bayes.py:485: UserWarning: alpha too small will result in numeric errors, setting alpha = 1.0e-10\n",
      "  'setting alpha = %.1e' % _ALPHA_MIN)\n",
      "C:\\Users\\User\\Anaconda3\\envs\\dsi\\lib\\site-packages\\sklearn\\naive_bayes.py:485: UserWarning: alpha too small will result in numeric errors, setting alpha = 1.0e-10\n",
      "  'setting alpha = %.1e' % _ALPHA_MIN)\n"
     ]
    },
    {
     "name": "stdout",
     "output_type": "stream",
     "text": [
      "Warning, Tf-Idf - Lemmatizer - MultinomialNB - 2  is replaced.\n"
     ]
    }
   ],
   "source": [
    "# Create grid search parameters\n",
    "tfidf_lemmatizer_nb_params2 = {\n",
    "    'tvec__tokenizer':[LemmaTokenizer()], 'tvec__stop_words': [lemma_tokenized_stopwords],\n",
    "    'tvec__min_df':[3, 5 ], 'tvec__max_df':[ 0.8 ],'tvec__ngram_range':[(1,2)], \n",
    "    'tvec__max_features':[3000], 'mnb__alpha': [0, 0.5 ,1.0, 2 ]\n",
    "}\n",
    "\n",
    "# Create grid search for tfidf lemmatizer\n",
    "tfidf_lemmatizer_nb_gs2 = GridSearchCV(tfidf_lemmatizer_nb_pipeline, tfidf_lemmatizer_nb_params2, cv=5 )\n",
    "tfidf_lemmatizer_nb_gs2.fit(X_train,y_train)\n",
    "add_model_to_scoreboard('Tf-Idf - Lemmatizer - MultinomialNB - 2 ', tfidf_lemmatizer_nb_gs2)"
   ]
  },
  {
   "cell_type": "markdown",
   "metadata": {},
   "source": [
    "#### Intepreting Model 4"
   ]
  },
  {
   "cell_type": "code",
   "execution_count": 74,
   "metadata": {},
   "outputs": [
    {
     "data": {
      "text/plain": [
       "Pipeline(memory=None,\n",
       "         steps=[('tvec',\n",
       "                 TfidfVectorizer(analyzer='word', binary=False,\n",
       "                                 decode_error='strict',\n",
       "                                 dtype=<class 'numpy.float64'>,\n",
       "                                 encoding='utf-8', input='content',\n",
       "                                 lowercase=True, max_df=0.8, max_features=3000,\n",
       "                                 min_df=5, ngram_range=(1, 2), norm='l2',\n",
       "                                 preprocessor=None, smooth_idf=True,\n",
       "                                 stop_words=['sha', 'might', 'who', 'as',\n",
       "                                             'with', 'her', 'until', 'he', 'd',\n",
       "                                             'of...\n",
       "                                             'wasn', 'christian', 'whi', 'all',\n",
       "                                             'your', 'from', 'ourselv', 'then',\n",
       "                                             't', 'mustn', 'been', 'didn',\n",
       "                                             'befor', 'are', 'i', 'atheism', ...],\n",
       "                                 strip_accents=None, sublinear_tf=False,\n",
       "                                 token_pattern='(?u)\\\\b\\\\w\\\\w+\\\\b',\n",
       "                                 tokenizer=<__main__.LemmaTokenizer object at 0x000001F2A8DB16C8>,\n",
       "                                 use_idf=True, vocabulary=None)),\n",
       "                ('mnb',\n",
       "                 MultinomialNB(alpha=1.0, class_prior=None, fit_prior=True))],\n",
       "         verbose=False)"
      ]
     },
     "execution_count": 74,
     "metadata": {},
     "output_type": "execute_result"
    }
   ],
   "source": [
    "tfidf_lemmatizer_nb_gs2.best_estimator_"
   ]
  },
  {
   "cell_type": "markdown",
   "metadata": {},
   "source": [
    "### Model 5 : Gradient Boosting Classifier"
   ]
  },
  {
   "cell_type": "code",
   "execution_count": 48,
   "metadata": {},
   "outputs": [],
   "source": [
    "# Try a Boosting model\n",
    "from sklearn.ensemble import GradientBoostingClassifier\n",
    "gboost = GradientBoostingClassifier()\n",
    "tfidf_lemmatizer_gb_pipeline = Pipeline(steps=[('tvec', tvec),('gb', gboost)])\n",
    "# tfidf_lemmatizer_gb_pipeline.get_params()"
   ]
  },
  {
   "cell_type": "code",
   "execution_count": null,
   "metadata": {},
   "outputs": [],
   "source": [
    "tfidf_lemmatizer_gb_params={\n",
    "    'tvec__tokenizer':[LemmaTokenizer()], 'tvec__stop_words': [lemma_tokenized_stopwords],\n",
    "    'tvec__min_df':[3 ], 'tvec__max_df':[ 0.8 ],'tvec__ngram_range':[(1,2)], \n",
    "    'tvec__max_features':[3000],\n",
    "    'gb__learning_rate':[0.1], 'gb__n_estimators':[200], 'gb__max_leaf_nodes': [None], 'gb__min_samples_leaf':[10,50]\n",
    "}\n",
    "\n",
    "tfidf_lemmatizer_gb_gs = GridSearchCV(tfidf_lemmatizer_gb_pipeline, tfidf_lemmatizer_gb_params, cv=5 ).fit(X_train,y_train)\n",
    "add_model_to_scoreboard('Tf-Idf - Lemmatizer - GradientBoosting', tfidf_lemmatizer_gb_gs)"
   ]
  },
  {
   "cell_type": "markdown",
   "metadata": {},
   "source": [
    "## Model Benchmarks"
   ]
  },
  {
   "cell_type": "code",
   "execution_count": 77,
   "metadata": {},
   "outputs": [],
   "source": [
    "scoreboard= get_model_scoreboard()"
   ]
  },
  {
   "cell_type": "code",
   "execution_count": 78,
   "metadata": {},
   "outputs": [
    {
     "data": {
      "text/html": [
       "<div>\n",
       "<style scoped>\n",
       "    .dataframe tbody tr th:only-of-type {\n",
       "        vertical-align: middle;\n",
       "    }\n",
       "\n",
       "    .dataframe tbody tr th {\n",
       "        vertical-align: top;\n",
       "    }\n",
       "\n",
       "    .dataframe thead th {\n",
       "        text-align: right;\n",
       "    }\n",
       "</style>\n",
       "<table border=\"1\" class=\"dataframe\">\n",
       "  <thead>\n",
       "    <tr style=\"text-align: right;\">\n",
       "      <th></th>\n",
       "      <th>Model</th>\n",
       "      <th>Training Score</th>\n",
       "      <th>Validation Score</th>\n",
       "      <th>Auc Roc</th>\n",
       "      <th>Sensitivity/Recall</th>\n",
       "      <th>Precision</th>\n",
       "      <th>F1</th>\n",
       "    </tr>\n",
       "  </thead>\n",
       "  <tbody>\n",
       "    <tr>\n",
       "      <td>1</td>\n",
       "      <td>Count Vectorizer- PorterStemmer - Logistic Reg...</td>\n",
       "      <td>0.998594</td>\n",
       "      <td>0.820225</td>\n",
       "      <td>0.879997</td>\n",
       "      <td>0.838710</td>\n",
       "      <td>0.821053</td>\n",
       "      <td>0.829787</td>\n",
       "    </tr>\n",
       "    <tr>\n",
       "      <td>0</td>\n",
       "      <td>Count Vectorizer- Lemmatizer - Logistic Regres...</td>\n",
       "      <td>0.998594</td>\n",
       "      <td>0.811798</td>\n",
       "      <td>0.872881</td>\n",
       "      <td>0.827957</td>\n",
       "      <td>0.814815</td>\n",
       "      <td>0.821333</td>\n",
       "    </tr>\n",
       "    <tr>\n",
       "      <td>4</td>\n",
       "      <td>Tf-Idf - Lemmatizer - MultinomialNB - 2</td>\n",
       "      <td>0.910689</td>\n",
       "      <td>0.803371</td>\n",
       "      <td>0.877087</td>\n",
       "      <td>0.838710</td>\n",
       "      <td>0.795918</td>\n",
       "      <td>0.816754</td>\n",
       "    </tr>\n",
       "    <tr>\n",
       "      <td>2</td>\n",
       "      <td>Count Vectorizer - Lemmatizer - MultinomialNB</td>\n",
       "      <td>0.997187</td>\n",
       "      <td>0.780899</td>\n",
       "      <td>0.836259</td>\n",
       "      <td>0.908602</td>\n",
       "      <td>0.734783</td>\n",
       "      <td>0.812500</td>\n",
       "    </tr>\n",
       "    <tr>\n",
       "      <td>5</td>\n",
       "      <td>Tf-Idf - Lemmatizer - GradientBoosting</td>\n",
       "      <td>0.913502</td>\n",
       "      <td>0.794944</td>\n",
       "      <td>0.884330</td>\n",
       "      <td>0.806452</td>\n",
       "      <td>0.802139</td>\n",
       "      <td>0.804290</td>\n",
       "    </tr>\n",
       "    <tr>\n",
       "      <td>3</td>\n",
       "      <td>Tf-Idf - Lemmatizer - MultinomialNB</td>\n",
       "      <td>0.914205</td>\n",
       "      <td>0.792135</td>\n",
       "      <td>0.874905</td>\n",
       "      <td>0.817204</td>\n",
       "      <td>0.791667</td>\n",
       "      <td>0.804233</td>\n",
       "    </tr>\n",
       "  </tbody>\n",
       "</table>\n",
       "</div>"
      ],
      "text/plain": [
       "                                               Model  Training Score  \\\n",
       "1  Count Vectorizer- PorterStemmer - Logistic Reg...        0.998594   \n",
       "0  Count Vectorizer- Lemmatizer - Logistic Regres...        0.998594   \n",
       "4           Tf-Idf - Lemmatizer - MultinomialNB - 2         0.910689   \n",
       "2      Count Vectorizer - Lemmatizer - MultinomialNB        0.997187   \n",
       "5             Tf-Idf - Lemmatizer - GradientBoosting        0.913502   \n",
       "3                Tf-Idf - Lemmatizer - MultinomialNB        0.914205   \n",
       "\n",
       "   Validation Score   Auc Roc  Sensitivity/Recall  Precision        F1  \n",
       "1          0.820225  0.879997            0.838710   0.821053  0.829787  \n",
       "0          0.811798  0.872881            0.827957   0.814815  0.821333  \n",
       "4          0.803371  0.877087            0.838710   0.795918  0.816754  \n",
       "2          0.780899  0.836259            0.908602   0.734783  0.812500  \n",
       "5          0.794944  0.884330            0.806452   0.802139  0.804290  \n",
       "3          0.792135  0.874905            0.817204   0.791667  0.804233  "
      ]
     },
     "execution_count": 78,
     "metadata": {},
     "output_type": "execute_result"
    }
   ],
   "source": [
    "scoreboard['df']"
   ]
  },
  {
   "cell_type": "code",
   "execution_count": 88,
   "metadata": {},
   "outputs": [
    {
     "data": {
      "text/plain": [
       "['cvec__max_df : 0.7',\n",
       " 'cvec__ngram_range : (1, 3)',\n",
       " 'cvec__tokenizer : <__main__.PorterTokenizer object at 0x000001F2A5A45588>',\n",
       " 'logreg__solver : liblinear']"
      ]
     },
     "execution_count": 88,
     "metadata": {},
     "output_type": "execute_result"
    }
   ],
   "source": [
    "get_best_params(scoreboard['best_estimator_'])"
   ]
  },
  {
   "cell_type": "markdown",
   "metadata": {},
   "source": [
    "### Plotting the AUC ROC Curve of the best model"
   ]
  },
  {
   "cell_type": "code",
   "execution_count": 79,
   "metadata": {
    "scrolled": false
   },
   "outputs": [
    {
     "data": {
      "image/png": "[encoded data removed]",
      "text/plain": [
       "<Figure size 1008x576 with 1 Axes>"
      ]
     },
     "metadata": {
      "needs_background": "light"
     },
     "output_type": "display_data"
    }
   ],
   "source": [
    "get_roc_curve(scoreboard['best_estimator_'])"
   ]
  },
  {
   "cell_type": "markdown",
   "metadata": {},
   "source": [
    "### Plotting the distribution of probabilities"
   ]
  },
  {
   "cell_type": "code",
   "execution_count": 80,
   "metadata": {
    "scrolled": false
   },
   "outputs": [
    {
     "data": {
      "text/plain": [
       "<matplotlib.axes._subplots.AxesSubplot at 0x1f2a3683048>"
      ]
     },
     "execution_count": 80,
     "metadata": {},
     "output_type": "execute_result"
    },
    {
     "data": {
      "image/png": "[encoded data removed]",
      "text/plain": [
       "<Figure size 1080x648 with 1 Axes>"
      ]
     },
     "metadata": {
      "needs_background": "light"
     },
     "output_type": "display_data"
    }
   ],
   "source": [
    "get_probability_dist(scoreboard['best_estimator_'])"
   ]
  },
  {
   "cell_type": "code",
   "execution_count": 59,
   "metadata": {},
   "outputs": [
    {
     "name": "stdout",
     "output_type": "stream",
     "text": [
      "Training Score: 0.9985935302390999\n",
      "Validation Score: 0.8202247191011236\n",
      "Confusion Matrix:\n",
      "[[136  34]\n",
      " [ 30 156]]\n",
      "Specificity: 0.8\n",
      "Sensitivity: 0.8387096774193549\n",
      "Precision: 0.8210526315789474\n",
      "Area under ROC curve: 0.8799968374446552\n",
      "F1 score: 0.8297872340425532\n"
     ]
    },
    {
     "data": {
      "text/plain": [
       "{'confusion': array([[136,  34],\n",
       "        [ 30, 156]], dtype=int64),\n",
       " 'train': 0.9985935302390999,\n",
       " 'val': 0.8202247191011236,\n",
       " 'specificity': 0.8,\n",
       " 'sensitivity': 0.8387096774193549,\n",
       " 'precision': 0.8210526315789474,\n",
       " 'roc_auc_score': 0.8799968374446552,\n",
       " 'f1': 0.8297872340425532}"
      ]
     },
     "execution_count": 59,
     "metadata": {},
     "output_type": "execute_result"
    }
   ],
   "source": [
    "get_scores(scoreboard['best_estimator_'])"
   ]
  },
  {
   "cell_type": "code",
   "execution_count": null,
   "metadata": {},
   "outputs": [],
   "source": [
    "cvec_logreg_params = { 'cvec__tokenizer' : [PorterTokenizer()],\n",
    "    'cvec__stop_words':[porter_tokenized_stopwords] + ['becau'], 'cvec__max_df':[0.7, 1.0], 'cvec__ngram_range':[(1,3)],\n",
    "                      'logreg__solver':['liblinear']\n",
    "}"
   ]
  },
  {
   "cell_type": "code",
   "execution_count": 88,
   "metadata": {},
   "outputs": [
    {
     "data": {
      "text/plain": [
       "['cvec__max_df : 0.7',\n",
       " 'cvec__ngram_range : (1, 3)',\n",
       " 'cvec__tokenizer : <__main__.PorterTokenizer object at 0x000001F2A5A45588>',\n",
       " 'logreg__solver : liblinear']"
      ]
     },
     "execution_count": 88,
     "metadata": {},
     "output_type": "execute_result"
    }
   ],
   "source": [
    "get_best_params(scoreboard['best_estimator_'])"
   ]
  },
  {
   "cell_type": "markdown",
   "metadata": {},
   "source": [
    "## Visualizing the tokens"
   ]
  },
  {
   "cell_type": "code",
   "execution_count": 189,
   "metadata": {},
   "outputs": [
    {
     "data": {
      "image/png": "[encoded data removed]",
      "text/plain": [
       "<Figure size 936x504 with 1 Axes>"
      ]
     },
     "metadata": {
      "needs_background": "light"
     },
     "output_type": "display_data"
    }
   ],
   "source": [
    "# To visualize the Count Vectorizer\n",
    "cvec = CountVectorizer(tokenizer=PorterTokenizer(), stop_words= porter_tokenized_stopwords + ['becau'], max_df=0.7, max_features=80)\n",
    "X_train_cvec_transformed = cvec.fit_transform(X_train)\n",
    "X_train_cvec_pd = pd.DataFrame(X_train_cvec_transformed.toarray(), columns=cvec.get_feature_names())\n",
    "X_train_cvec_pd = X_train_cvec_pd[[col for col in X_train_cvec_pd.columns if col not in set(stopwords.words(\"english\")) ]]\n",
    "X_train_cvec_pd = X_train_cvec_pd[X_train_cvec_pd.sum().sort_values(ascending=False).index]\n",
    "\n",
    "plt.figure(figsize=(13,7))\n",
    "X_train_cvec_pd.iloc[:,:15].sum().plot.bar()\n",
    "plt.title('Token Frequency Chart')\n",
    "plt.xlabel(\"Word Token\")\n",
    "plt.ylabel(\"Frequency\");"
   ]
  },
  {
   "cell_type": "markdown",
   "metadata": {},
   "source": [
    "## Conclusion"
   ]
  },
  {
   "cell_type": "code",
   "execution_count": null,
   "metadata": {},
   "outputs": [],
   "source": []
  }
 ],
 "metadata": {
  "kernelspec": {
   "display_name": "Python 3",
   "language": "python",
   "name": "python3"
  },
  "language_info": {
   "codemirror_mode": {
    "name": "ipython",
    "version": 3
   },
   "file_extension": ".py",
   "mimetype": "text/x-python",
   "name": "python",
   "nbconvert_exporter": "python",
   "pygments_lexer": "ipython3",
   "version": "3.7.4"
  },
  "toc": {
   "base_numbering": 1,
   "nav_menu": {},
   "number_sections": true,
   "sideBar": true,
   "skip_h1_title": true,
   "title_cell": "Contents",
   "title_sidebar": "Contents",
   "toc_cell": true,
   "toc_position": {
    "height": "calc(100% - 180px)",
    "left": "10px",
    "top": "150px",
    "width": "347px"
   },
   "toc_section_display": true,
   "toc_window_display": true
  },
  "varInspector": {
   "cols": {
    "lenName": 16,
    "lenType": 16,
    "lenVar": 40
   },
   "kernels_config": {
    "python": {
     "delete_cmd_postfix": "",
     "delete_cmd_prefix": "del ",
     "library": "var_list.py",
     "varRefreshCmd": "print(var_dic_list())"
    },
    "r": {
     "delete_cmd_postfix": ") ",
     "delete_cmd_prefix": "rm(",
     "library": "var_list.r",
     "varRefreshCmd": "cat(var_dic_list()) "
    }
   },
   "oldHeight": 193.20000000000002,
   "position": {
    "height": "40px",
    "left": "1024px",
    "right": "20px",
    "top": "78px",
    "width": "417.8px"
   },
   "types_to_exclude": [
    "module",
    "function",
    "builtin_function_or_method",
    "instance",
    "_Feature"
   ],
   "varInspector_section_display": "none",
   "window_display": true
  }
 },
 "nbformat": 4,
 "nbformat_minor": 2
}
