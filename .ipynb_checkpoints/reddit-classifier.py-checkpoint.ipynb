{
 "cells": [
  {
   "cell_type": "markdown",
   "metadata": {},
   "source": [
    "# Reddit Classifier"
   ]
  },
  {
   "cell_type": "markdown",
   "metadata": {
    "toc": true
   },
   "source": [
    "<h1>Contents<span class=\"tocSkip\"></span></h1>\n",
    "<div class=\"toc\"><ul class=\"toc-item\"><li><span><a href=\"#Scraping-for-data\" data-toc-modified-id=\"Scraping-for-data-1\"><span class=\"toc-item-num\">1&nbsp;&nbsp;</span>Scraping for data</a></span></li></ul></div>"
   ]
  },
  {
   "cell_type": "markdown",
   "metadata": {},
   "source": [
    "## Scraping for data"
   ]
  },
  {
   "cell_type": "code",
   "execution_count": 99,
   "metadata": {},
   "outputs": [],
   "source": [
    "import requests\n",
    "import pandas as pd\n",
    "import numpy as np"
   ]
  },
  {
   "cell_type": "code",
   "execution_count": 100,
   "metadata": {},
   "outputs": [],
   "source": [
    "url = 'https://www.reddit.com/r/atheism.json'\n",
    "base_url = 'https://www.reddit.com/r/'"
   ]
  },
  {
   "cell_type": "code",
   "execution_count": 187,
   "metadata": {},
   "outputs": [],
   "source": [
    "res = requests.get(url, headers={'User-agent': 'Pony Inc 1.0'})"
   ]
  },
  {
   "cell_type": "code",
   "execution_count": 188,
   "metadata": {},
   "outputs": [
    {
     "data": {
      "text/plain": [
       "dict_keys(['modhash', 'dist', 'children', 'after', 'before'])"
      ]
     },
     "execution_count": 188,
     "metadata": {},
     "output_type": "execute_result"
    }
   ],
   "source": [
    "res.json()['data'].keys()"
   ]
  },
  {
   "cell_type": "code",
   "execution_count": 189,
   "metadata": {},
   "outputs": [],
   "source": [
    "posts = res.json()['data']['children']"
   ]
  },
  {
   "cell_type": "code",
   "execution_count": 190,
   "metadata": {},
   "outputs": [
    {
     "data": {
      "text/plain": [
       "'In U.S., Decline of Christianity Continues at Rapid Pace (PEW)'"
      ]
     },
     "execution_count": 190,
     "metadata": {},
     "output_type": "execute_result"
    }
   ],
   "source": [
    "posts[0]['data']['title']"
   ]
  },
  {
   "cell_type": "code",
   "execution_count": 191,
   "metadata": {},
   "outputs": [
    {
     "data": {
      "text/plain": [
       "[{'selftext': '',\n",
       "  'title': 'In U.S., Decline of Christianity Continues at Rapid Pace (PEW)'},\n",
       " {'selftext': 'The “church people”, as she calls them, has been harassing my daughter to try to get her to come to church.  She wants them to stop.  I was shocked to learn that this is happening.    How can a public school do this?  Granted, it is the Bible Belt (US).  \\n\\nI want to get them kicked out of the school but I don’t know how to go about it since I work for the school and would probably be fired in retaliation.   Again, it’s the Bible Belt. \\n\\nI sent a message to the Freedom From Religion foundation.  I hope the contact me back.',\n",
       "  'title': 'My daughter’s public high school allows pastors from the local mega church to come inside the school and proselytize to students during lunch.'},\n",
       " {'selftext': '',\n",
       "  'title': 'Americans becoming less Christian as over a quarter follow no religion | World news | The Guardian'},\n",
       " {'selftext': 'I freaking love the Pew Forum.\\nhttps://www.pewforum.org/2019/10/17/in-u-s-decline-of-christianity-continues-at-rapid-pace/',\n",
       "  'title': 'Percentage of atheists in the US increased from 2% in 2009 to 4% in 2019 - a 100% increase. Almost 1 in 20 Americans now identify as atheists.'},\n",
       " {'selftext': 'So the new Ohio license has a banner that reads \"With God, all things are possible\" which happens to also be the state motto (1959). Whether you like it or not, I think we should all agree that this should be a personal option as it\\'s a personal opinion.\\n\\nIt\\'s bad enough that on every other street corner is a church, kingdom hall, mosque, temple, etc telling you how to live on a sign; all the while millions of dollars are wasted on these extravagant buildings where that money would otherwise be put to better use. Then you have handouts (litter) scattered at your door inviting you to such and such congregation and don\\'t forget about people knocking on the door.\\n\\nGenerally the moral thing to do is just ignore it if it\\'s not your bag, and that\\'s pretty much what I do and I\\'m sure most others who don\\'t participate do too. But every now and then it\\'s hard to ignore; because it is literally EVERYWHERE.\\n\\nIf a religion is what you choose to practice to get through life then hey what ever floats your boat. Honestly, who am I too judge? Life ain\\'t easy and we all have our ways of leading it the best we can - as individuals. The same cannot be said for most religions. It\\'s not fun having it jammed in your face all the time and being judged for not believing in something, leave me alone.\\n\\nMorality isn\\'t found in a book or other entity. It\\'s found in your heart.',\n",
       "  'title': 'What can we do to get God out of the U.S. Government? Seriously'},\n",
       " {'selftext': '',\n",
       "  'title': 'Utah woman to sue LDS Church using California law that helps child sex assault survivors. Unlike Utah law, which allows adults who were victimized as children to sue perpetrators as individuals, the California law also allows victims to sue entities &amp; institutions that covered up the sexual assault.'},\n",
       " {'selftext': '',\n",
       "  'title': 'Older US Christians being quickly replaced by young ‘nones’ | The number of Americans who say they have no religion — sometimes called nones — has risen to 26%, up from 17% a decade ago.'},\n",
       " {'selftext': \"... because I wouldn't even wish this upon Hitler (yes, Godwins Law, blah blah blah).\\n\\nAre theists like yourself really serious in thinking this kind of retributive justice based on cruelty and suffering is a good thing? If so, it reaffirms how inferior Christianity and Islam and so on are to humanism and how much they're holding back human progress.\\n\\nThe conversation ended at this point.\",\n",
       "  'title': 'I was \"reassured\" by a theist: atheists shouldn\\'t worry because only very bad people are sent to hell. I asked: wait, so you believe there\\'s at least some people who deserve to be —tortured in fire— FOREVER when they die!? This is why primitive religions like yours have no place in the 21st century.'},\n",
       " {'selftext': '',\n",
       "  'title': '500 shackled children freed from third Islamic boarding school in north Nigeria'},\n",
       " {'selftext': '',\n",
       "  'title': '300 young men are freed from a SECOND Nigerian Islamic school where they were chained up and raped'}]"
      ]
     },
     "execution_count": 191,
     "metadata": {},
     "output_type": "execute_result"
    }
   ],
   "source": [
    "[ {key:post['data'][key]  for key in ['selftext','title']}   for post in res.json()['data']['children'][:10]]"
   ]
  },
  {
   "cell_type": "code",
   "execution_count": 186,
   "metadata": {},
   "outputs": [
    {
     "ename": "AttributeError",
     "evalue": "'dict' object has no attribute 'json'",
     "output_type": "error",
     "traceback": [
      "\u001b[1;31m---------------------------------------------------------------------------\u001b[0m",
      "\u001b[1;31mAttributeError\u001b[0m                            Traceback (most recent call last)",
      "\u001b[1;32m<ipython-input-186-c79ab0034349>\u001b[0m in \u001b[0;36m<module>\u001b[1;34m\u001b[0m\n\u001b[1;32m----> 1\u001b[1;33m \u001b[1;33m[\u001b[0m \u001b[0mpost\u001b[0m\u001b[1;33m[\u001b[0m\u001b[1;34m'data'\u001b[0m\u001b[1;33m]\u001b[0m\u001b[1;33m[\u001b[0m\u001b[1;34m'title'\u001b[0m\u001b[1;33m]\u001b[0m \u001b[1;33m+\u001b[0m \u001b[0mpost\u001b[0m\u001b[1;33m[\u001b[0m\u001b[1;34m'data'\u001b[0m\u001b[1;33m]\u001b[0m\u001b[1;33m[\u001b[0m\u001b[1;34m'selftext'\u001b[0m\u001b[1;33m]\u001b[0m \u001b[1;32mfor\u001b[0m \u001b[0mpost\u001b[0m \u001b[1;32min\u001b[0m \u001b[0mres\u001b[0m\u001b[1;33m.\u001b[0m\u001b[0mjson\u001b[0m\u001b[1;33m(\u001b[0m\u001b[1;33m)\u001b[0m\u001b[1;33m[\u001b[0m\u001b[1;34m'data'\u001b[0m\u001b[1;33m]\u001b[0m\u001b[1;33m[\u001b[0m\u001b[1;34m'children'\u001b[0m\u001b[1;33m]\u001b[0m\u001b[1;33m[\u001b[0m\u001b[1;33m:\u001b[0m\u001b[1;36m10\u001b[0m\u001b[1;33m]\u001b[0m \u001b[1;33m]\u001b[0m\u001b[1;33m\u001b[0m\u001b[1;33m\u001b[0m\u001b[0m\n\u001b[0m",
      "\u001b[1;31mAttributeError\u001b[0m: 'dict' object has no attribute 'json'"
     ]
    }
   ],
   "source": [
    "[ post['data']['title'] + post['data']['selftext'] for post in res.json()['data']['children'][:10] ]"
   ]
  },
  {
   "cell_type": "code",
   "execution_count": 192,
   "metadata": {},
   "outputs": [
    {
     "data": {
      "text/plain": [
       "['In U.S., Decline of Christianity Continues at Rapid Pace (PEW)',\n",
       " 'My daughter’s public high school allows pastors from the local mega church to come inside the school and proselytize to students during lunch.The “church people”, as she calls them, has been harassing my daughter to try to get her to come to church.  She wants them to stop.  I was shocked to learn that this is happening.    How can a public school do this?  Granted, it is the Bible Belt (US).  \\n\\nI want to get them kicked out of the school but I don’t know how to go about it since I work for the school and would probably be fired in retaliation.   Again, it’s the Bible Belt. \\n\\nI sent a message to the Freedom From Religion foundation.  I hope the contact me back.']"
      ]
     },
     "execution_count": 192,
     "metadata": {},
     "output_type": "execute_result"
    }
   ],
   "source": [
    "[ post['data']['title'] + post['data']['selftext'] for post in res.json()['data']['children'][:2] ]"
   ]
  },
  {
   "cell_type": "code",
   "execution_count": 115,
   "metadata": {},
   "outputs": [],
   "source": [
    "def extract_content(response):\n",
    "    \n",
    "    return [ post['data']['title'] + post['data']['selftext'] for post in response.json()['data']['children'][:10] ]"
   ]
  },
  {
   "cell_type": "code",
   "execution_count": 73,
   "metadata": {},
   "outputs": [
    {
     "name": "stdout",
     "output_type": "stream",
     "text": [
      "dict_keys(['approved_at_utc', 'subreddit', 'selftext', 'author_fullname', 'saved', 'mod_reason_title', 'gilded', 'clicked', 'title', 'link_flair_richtext', 'subreddit_name_prefixed', 'hidden', 'pwls', 'link_flair_css_class', 'downs', 'thumbnail_height', 'hide_score', 'name', 'quarantine', 'link_flair_text_color', 'author_flair_background_color', 'subreddit_type', 'ups', 'total_awards_received', 'media_embed', 'thumbnail_width', 'author_flair_template_id', 'is_original_content', 'user_reports', 'secure_media', 'is_reddit_media_domain', 'is_meta', 'category', 'secure_media_embed', 'link_flair_text', 'can_mod_post', 'score', 'approved_by', 'thumbnail', 'edited', 'author_flair_css_class', 'steward_reports', 'author_flair_richtext', 'gildings', 'post_hint', 'content_categories', 'is_self', 'mod_note', 'created', 'link_flair_type', 'wls', 'banned_by', 'author_flair_type', 'domain', 'allow_live_comments', 'selftext_html', 'likes', 'suggested_sort', 'banned_at_utc', 'view_count', 'archived', 'no_follow', 'is_crosspostable', 'pinned', 'over_18', 'preview', 'all_awardings', 'awarders', 'media_only', 'link_flair_template_id', 'can_gild', 'spoiler', 'locked', 'author_flair_text', 'visited', 'num_reports', 'distinguished', 'subreddit_id', 'mod_reason_by', 'removal_reason', 'link_flair_background_color', 'id', 'is_robot_indexable', 'report_reasons', 'author', 'discussion_type', 'num_comments', 'send_replies', 'whitelist_status', 'contest_mode', 'mod_reports', 'author_patreon_flair', 'author_flair_text_color', 'permalink', 'parent_whitelist_status', 'stickied', 'url', 'subreddit_subscribers', 'created_utc', 'num_crossposts', 'media', 'is_video'])\n",
      "dict_keys(['approved_at_utc', 'subreddit', 'selftext', 'author_fullname', 'saved', 'mod_reason_title', 'gilded', 'clicked', 'title', 'link_flair_richtext', 'subreddit_name_prefixed', 'hidden', 'pwls', 'link_flair_css_class', 'downs', 'thumbnail_height', 'hide_score', 'name', 'quarantine', 'link_flair_text_color', 'author_flair_background_color', 'subreddit_type', 'ups', 'total_awards_received', 'media_embed', 'thumbnail_width', 'author_flair_template_id', 'is_original_content', 'user_reports', 'secure_media', 'is_reddit_media_domain', 'is_meta', 'category', 'secure_media_embed', 'link_flair_text', 'can_mod_post', 'score', 'approved_by', 'thumbnail', 'edited', 'author_flair_css_class', 'steward_reports', 'author_flair_richtext', 'gildings', 'post_hint', 'content_categories', 'is_self', 'mod_note', 'crosspost_parent_list', 'created', 'link_flair_type', 'wls', 'banned_by', 'author_flair_type', 'domain', 'allow_live_comments', 'selftext_html', 'likes', 'suggested_sort', 'banned_at_utc', 'view_count', 'archived', 'no_follow', 'is_crosspostable', 'pinned', 'over_18', 'preview', 'all_awardings', 'awarders', 'media_only', 'can_gild', 'spoiler', 'locked', 'author_flair_text', 'visited', 'num_reports', 'distinguished', 'subreddit_id', 'mod_reason_by', 'removal_reason', 'link_flair_background_color', 'id', 'is_robot_indexable', 'stickied', 'author', 'discussion_type', 'num_comments', 'send_replies', 'whitelist_status', 'contest_mode', 'mod_reports', 'author_patreon_flair', 'crosspost_parent', 'author_flair_text_color', 'permalink', 'parent_whitelist_status', 'report_reasons', 'url', 'subreddit_subscribers', 'created_utc', 'num_crossposts', 'media', 'is_video'])\n"
     ]
    }
   ],
   "source": [
    "reddits = []\n",
    "for post in res.json()['data']['children'][:2]:\n",
    "    reddit={ }\n",
    "    p = post['data']['selftext']\n",
    "    print(post['data'].keys())"
   ]
  },
  {
   "cell_type": "raw",
   "metadata": {},
   "source": [
    "def extract_content(response):\n",
    "    return [ post['data']['title'] + post['data']['selftext'] for post in response.json()['data']['children'] ]\n",
    "\n",
    "def scrape_topic(topic):\n",
    "    '''\n",
    "    Scrape the reddit topic for all the posts\n",
    "    \n",
    "    '''\n",
    "    \n",
    "    url = base_url + topic + '.json'\n",
    "    \n",
    "    \n",
    "    \n",
    "    res = requests.get(url, headers={'User-agent': 'Pony Inc 1.0'})\n",
    "    last_entry_name = res.json()['data']['after']\n",
    "    \n",
    "    \n",
    "    \n",
    "    data_arr = extract_content(res)\n",
    "    \n",
    "    return {'topic': topic, 'data':data_arr}\n",
    "    "
   ]
  },
  {
   "cell_type": "code",
   "execution_count": 211,
   "metadata": {},
   "outputs": [
    {
     "name": "stdout",
     "output_type": "stream",
     "text": [
      "[1, 2]\n",
      "[3, 4]\n"
     ]
    }
   ],
   "source": [
    "a = {'a':[1,2],'b':[3,4]}\n",
    "for i,val in a.items():\n",
    "    print(val)"
   ]
  },
  {
   "cell_type": "code",
   "execution_count": 264,
   "metadata": {},
   "outputs": [],
   "source": [
    "from collections import defaultdict\n",
    "\n",
    "def extract_content(response, topic):\n",
    "    # 0th index refers to title appended with selftext\n",
    "#     return [  post['data']['title'] + post['data']['selftext'] for post in response.json()['data']['children'] ]\n",
    "#     return {'content': [  post['data']['title'] + post['data']['selftext'],'topic': topic for post in response.json()['data']['children'] ] }\n",
    "#     {'content': [  post['data']['title'] + post['data']['selftext'],'topic': topic for post in response.json()['data']['children'] ] }\n",
    "#     rslt= {}\n",
    "    rslt = defaultdict(list)\n",
    "    for post in response.json()['data']['children']:\n",
    "        rslt['content'].append(post['data']['title'] + post['data']['selftext'])\n",
    "        rslt['topic'].append(topic)\n",
    "    return rslt\n",
    "\n",
    "def scrape_topic(topic,depth=5):\n",
    "    '''\n",
    "    Scrape the reddit topic for all the posts\n",
    "    \n",
    "    '''\n",
    "    \n",
    "    url = base_url + topic + '.json'\n",
    "    last_entry_name = ''\n",
    "    payload = None\n",
    "    \n",
    "    \n",
    "    for i in range(depth):\n",
    "        if last_entry_name:\n",
    "            url = url + '?after=' + last_entry_name\n",
    "    \n",
    "        res = requests.get(url, headers={'User-agent': 'Pony Inc 1.0'})\n",
    "        \n",
    "        last_entry_name = res.json()['data']['after']\n",
    "        content = extract_content(res,topic)\n",
    "        \n",
    "#         pages_data+= page_data\n",
    "        if not payload:\n",
    "            payload = content\n",
    "        else:\n",
    "            for k,v in payload.items():\n",
    "                payload[k] += content[k]\n",
    "        if i < depth-1:\n",
    "            sleep_duration = random.randint(2,20)\n",
    "            print(sleep_duration)\n",
    "            time.sleep(sleep_duration)\n",
    "        \n",
    "    return {'topic': topic, 'data': payload }\n",
    "    "
   ]
  },
  {
   "cell_type": "code",
   "execution_count": null,
   "metadata": {},
   "outputs": [],
   "source": [
    "import concurrent.futures as cf\n",
    "import random, time\n",
    "\n",
    "test_arr= []\n",
    "\n",
    "def get_reddit_data(topics,depth=2):\n",
    "    '''\n",
    "    Main function to scrape reddit data into a pandas dataframe.\n",
    "    Args: topics\n",
    "     - An array object of topics in reddit to scrape from\n",
    "    '''\n",
    "    rdf = pd.DataFrame()\n",
    "    with cf.ThreadPoolExecutor(max_workers=5) as executor:\n",
    "        \n",
    "#     rdf = pd.DataFrame(columns=['topic','data'])\n",
    "        \n",
    "    \n",
    "    \n",
    "        for future in executor.map(scrape_topic, topics):\n",
    "    #         topic = future['topic']\n",
    "    #         print(\"future[data]:\",future['data'])\n",
    "    #         data_arr = future['data']['content'] # 0th index refers to combined content\n",
    "\n",
    "    #         rows = [[topic, x] for x in data_arr ]\n",
    "    #         new = pd.DataFrame(rows, columns=['topic','data'])\n",
    "    #         rdf = pd.concat([rdf,new])\n",
    "    #         test_arr.append(data_arr)\n",
    "\n",
    "    #         columns = [ col for col in future['data']]\n",
    "            if rdf.empty:\n",
    "                rdf = pd.DataFrame(future['data'])\n",
    "            else:\n",
    "                new = pd.DataFrame(future['data'])\n",
    "                rdf = pd.concat([rdf,new],ignore_index=True)\n",
    "            \n",
    "    return rdf\n",
    "        \n",
    "      "
   ]
  },
  {
   "cell_type": "code",
   "execution_count": 284,
   "metadata": {
    "scrolled": true
   },
   "outputs": [
    {
     "name": "stdout",
     "output_type": "stream",
     "text": [
      "10\n",
      "16\n",
      "17\n",
      "11\n",
      "2\n",
      "18\n",
      "4\n",
      "3\n"
     ]
    }
   ],
   "source": [
    " \n",
    "rdf = get_reddit_data(['boardgames','atheism'])\n",
    "rdf.groupby(by='topic').count()"
   ]
  },
  {
   "cell_type": "code",
   "execution_count": 287,
   "metadata": {
    "scrolled": false
   },
   "outputs": [
    {
     "data": {
      "text/html": [
       "<div>\n",
       "<style scoped>\n",
       "    .dataframe tbody tr th:only-of-type {\n",
       "        vertical-align: middle;\n",
       "    }\n",
       "\n",
       "    .dataframe tbody tr th {\n",
       "        vertical-align: top;\n",
       "    }\n",
       "\n",
       "    .dataframe thead th {\n",
       "        text-align: right;\n",
       "    }\n",
       "</style>\n",
       "<table border=\"1\" class=\"dataframe\">\n",
       "  <thead>\n",
       "    <tr style=\"text-align: right;\">\n",
       "      <th></th>\n",
       "      <th>content</th>\n",
       "    </tr>\n",
       "    <tr>\n",
       "      <th>topic</th>\n",
       "      <th></th>\n",
       "    </tr>\n",
       "  </thead>\n",
       "  <tbody>\n",
       "    <tr>\n",
       "      <td>atheism</td>\n",
       "      <td>125</td>\n",
       "    </tr>\n",
       "    <tr>\n",
       "      <td>boardgames</td>\n",
       "      <td>129</td>\n",
       "    </tr>\n",
       "  </tbody>\n",
       "</table>\n",
       "</div>"
      ],
      "text/plain": [
       "            content\n",
       "topic              \n",
       "atheism         125\n",
       "boardgames      129"
      ]
     },
     "execution_count": 287,
     "metadata": {},
     "output_type": "execute_result"
    }
   ],
   "source": []
  },
  {
   "cell_type": "code",
   "execution_count": 148,
   "metadata": {},
   "outputs": [
    {
     "name": "stdout",
     "output_type": "stream",
     "text": [
      "result: <generator object Executor.map.<locals>.result_iterator at 0x0000019F8A451F48>\n"
     ]
    }
   ],
   "source": [
    "import concurrent.futures as cf\n",
    "# result = {}\n",
    "result=[]\n",
    "with cf.ThreadPoolExecutor(max_workers=5) as executor:\n",
    "#     result = { top :executor.map(scrape_topic, top)  for top in ['boardgames','atheism'] }\n",
    "    futures = executor.map(scrape_topic, ['boardgames','atheism'])\n",
    "#     print(result)\n",
    "print(\"result:\",futures)"
   ]
  },
  {
   "cell_type": "code",
   "execution_count": 122,
   "metadata": {},
   "outputs": [
    {
     "data": {
      "text/plain": [
       "(26, 1)"
      ]
     },
     "execution_count": 122,
     "metadata": {},
     "output_type": "execute_result"
    }
   ],
   "source": [
    "rdf.shape"
   ]
  },
  {
   "cell_type": "code",
   "execution_count": 123,
   "metadata": {},
   "outputs": [
    {
     "data": {
      "text/html": [
       "<div>\n",
       "<style scoped>\n",
       "    .dataframe tbody tr th:only-of-type {\n",
       "        vertical-align: middle;\n",
       "    }\n",
       "\n",
       "    .dataframe tbody tr th {\n",
       "        vertical-align: top;\n",
       "    }\n",
       "\n",
       "    .dataframe thead th {\n",
       "        text-align: right;\n",
       "    }\n",
       "</style>\n",
       "<table border=\"1\" class=\"dataframe\">\n",
       "  <thead>\n",
       "    <tr style=\"text-align: right;\">\n",
       "      <th></th>\n",
       "      <th>boardgames</th>\n",
       "    </tr>\n",
       "  </thead>\n",
       "  <tbody>\n",
       "    <tr>\n",
       "      <td>0</td>\n",
       "      <td>/r/boardgames Daily Discussion and Game Recomm...</td>\n",
       "    </tr>\n",
       "    <tr>\n",
       "      <td>1</td>\n",
       "      <td>The Board Game at the Heart of Viking Culture&amp;...</td>\n",
       "    </tr>\n",
       "    <tr>\n",
       "      <td>2</td>\n",
       "      <td>What's your go-to player colour, and why?Since...</td>\n",
       "    </tr>\n",
       "    <tr>\n",
       "      <td>3</td>\n",
       "      <td>Board Game Atlas Acquires Board Game Prices</td>\n",
       "    </tr>\n",
       "    <tr>\n",
       "      <td>4</td>\n",
       "      <td>TIL that according to Graham Nash, Jimi Hendri...</td>\n",
       "    </tr>\n",
       "    <tr>\n",
       "      <td>5</td>\n",
       "      <td>Are there any upcoming board game secret santa...</td>\n",
       "    </tr>\n",
       "    <tr>\n",
       "      <td>6</td>\n",
       "      <td>Designer Diary 2: Origins, Expanded | Oath: Ch...</td>\n",
       "    </tr>\n",
       "    <tr>\n",
       "      <td>7</td>\n",
       "      <td>Mage Knight Ultimate Edition first play charac...</td>\n",
       "    </tr>\n",
       "    <tr>\n",
       "      <td>8</td>\n",
       "      <td>Artemis Project vs other dice placement gamesA...</td>\n",
       "    </tr>\n",
       "    <tr>\n",
       "      <td>9</td>\n",
       "      <td>Pandemic: Rapid Response - A lesson in persona...</td>\n",
       "    </tr>\n",
       "    <tr>\n",
       "      <td>10</td>\n",
       "      <td>The Game of Carrom - A Fun Game for the Weeken...</td>\n",
       "    </tr>\n",
       "    <tr>\n",
       "      <td>11</td>\n",
       "      <td>North Sea Runesaga...any good?I just picked up...</td>\n",
       "    </tr>\n",
       "    <tr>\n",
       "      <td>12</td>\n",
       "      <td>/r/boardgames Daily Discussion and Game Recomm...</td>\n",
       "    </tr>\n",
       "    <tr>\n",
       "      <td>13</td>\n",
       "      <td>Anyone have any recent experience with Daedalu...</td>\n",
       "    </tr>\n",
       "    <tr>\n",
       "      <td>14</td>\n",
       "      <td>Anyone else excited for the new upcoming Scena...</td>\n",
       "    </tr>\n",
       "    <tr>\n",
       "      <td>15</td>\n",
       "      <td>Question about Coup challenges.So I play Coup ...</td>\n",
       "    </tr>\n",
       "    <tr>\n",
       "      <td>16</td>\n",
       "      <td>Where to get custom cards made?Hello Boardgame...</td>\n",
       "    </tr>\n",
       "    <tr>\n",
       "      <td>17</td>\n",
       "      <td>Thursdays at War! - October 17th, 2019Spanning...</td>\n",
       "    </tr>\n",
       "    <tr>\n",
       "      <td>18</td>\n",
       "      <td>COMC - a recent convert to the wonderful world...</td>\n",
       "    </tr>\n",
       "    <tr>\n",
       "      <td>19</td>\n",
       "      <td>What is a good single player RPG game please?I...</td>\n",
       "    </tr>\n",
       "    <tr>\n",
       "      <td>20</td>\n",
       "      <td>I bought this die from my FLGS and we didn't k...</td>\n",
       "    </tr>\n",
       "    <tr>\n",
       "      <td>21</td>\n",
       "      <td>Architects of the West Kingdom: Age of Artisan...</td>\n",
       "    </tr>\n",
       "    <tr>\n",
       "      <td>22</td>\n",
       "      <td>There is currently a project on Kickstarter - ...</td>\n",
       "    </tr>\n",
       "    <tr>\n",
       "      <td>23</td>\n",
       "      <td>What boardgame that you were excited for disap...</td>\n",
       "    </tr>\n",
       "    <tr>\n",
       "      <td>24</td>\n",
       "      <td>How to combine postage on Kickstarter games?Wo...</td>\n",
       "    </tr>\n",
       "    <tr>\n",
       "      <td>25</td>\n",
       "      <td>The 7th ContinentI have been dying to try this...</td>\n",
       "    </tr>\n",
       "  </tbody>\n",
       "</table>\n",
       "</div>"
      ],
      "text/plain": [
       "                                           boardgames\n",
       "0   /r/boardgames Daily Discussion and Game Recomm...\n",
       "1   The Board Game at the Heart of Viking Culture&...\n",
       "2   What's your go-to player colour, and why?Since...\n",
       "3         Board Game Atlas Acquires Board Game Prices\n",
       "4   TIL that according to Graham Nash, Jimi Hendri...\n",
       "5   Are there any upcoming board game secret santa...\n",
       "6   Designer Diary 2: Origins, Expanded | Oath: Ch...\n",
       "7   Mage Knight Ultimate Edition first play charac...\n",
       "8   Artemis Project vs other dice placement gamesA...\n",
       "9   Pandemic: Rapid Response - A lesson in persona...\n",
       "10  The Game of Carrom - A Fun Game for the Weeken...\n",
       "11  North Sea Runesaga...any good?I just picked up...\n",
       "12  /r/boardgames Daily Discussion and Game Recomm...\n",
       "13  Anyone have any recent experience with Daedalu...\n",
       "14  Anyone else excited for the new upcoming Scena...\n",
       "15  Question about Coup challenges.So I play Coup ...\n",
       "16  Where to get custom cards made?Hello Boardgame...\n",
       "17  Thursdays at War! - October 17th, 2019Spanning...\n",
       "18  COMC - a recent convert to the wonderful world...\n",
       "19  What is a good single player RPG game please?I...\n",
       "20  I bought this die from my FLGS and we didn't k...\n",
       "21  Architects of the West Kingdom: Age of Artisan...\n",
       "22  There is currently a project on Kickstarter - ...\n",
       "23  What boardgame that you were excited for disap...\n",
       "24  How to combine postage on Kickstarter games?Wo...\n",
       "25  The 7th ContinentI have been dying to try this..."
      ]
     },
     "execution_count": 123,
     "metadata": {},
     "output_type": "execute_result"
    }
   ],
   "source": [
    "rdf"
   ]
  }
 ],
 "metadata": {
  "kernelspec": {
   "display_name": "Python 3",
   "language": "python",
   "name": "python3"
  },
  "language_info": {
   "codemirror_mode": {
    "name": "ipython",
    "version": 3
   },
   "file_extension": ".py",
   "mimetype": "text/x-python",
   "name": "python",
   "nbconvert_exporter": "python",
   "pygments_lexer": "ipython3",
   "version": "3.7.4"
  },
  "toc": {
   "base_numbering": 1,
   "nav_menu": {},
   "number_sections": true,
   "sideBar": true,
   "skip_h1_title": true,
   "title_cell": "Contents",
   "title_sidebar": "Contents",
   "toc_cell": true,
   "toc_position": {
    "height": "calc(100% - 180px)",
    "left": "10px",
    "top": "150px",
    "width": "321.4px"
   },
   "toc_section_display": true,
   "toc_window_display": true
  },
  "varInspector": {
   "cols": {
    "lenName": 16,
    "lenType": 16,
    "lenVar": 40
   },
   "kernels_config": {
    "python": {
     "delete_cmd_postfix": "",
     "delete_cmd_prefix": "del ",
     "library": "var_list.py",
     "varRefreshCmd": "print(var_dic_list())"
    },
    "r": {
     "delete_cmd_postfix": ") ",
     "delete_cmd_prefix": "rm(",
     "library": "var_list.r",
     "varRefreshCmd": "cat(var_dic_list()) "
    }
   },
   "oldHeight": 193.20000000000002,
   "position": {
    "height": "40px",
    "left": "1087px",
    "right": "20px",
    "top": "84px",
    "width": "417.8px"
   },
   "types_to_exclude": [
    "module",
    "function",
    "builtin_function_or_method",
    "instance",
    "_Feature"
   ],
   "varInspector_section_display": "none",
   "window_display": true
  }
 },
 "nbformat": 4,
 "nbformat_minor": 2
}
